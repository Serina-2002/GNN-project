{
  "nbformat": 4,
  "nbformat_minor": 0,
  "metadata": {
    "colab": {
      "provenance": [],
      "gpuType": "T4"
    },
    "kernelspec": {
      "name": "python3",
      "display_name": "Python 3"
    },
    "language_info": {
      "name": "python"
    },
    "accelerator": "GPU"
  },
  "cells": [
    {
      "cell_type": "code",
      "source": [
        "# Install PyTorch (CPU) if not already present\n",
        "!pip install torch torchvision torchaudio --index-url https://download.pytorch.org/whl/cpu\n",
        "\n",
        "# Install torch-geometric and its required packages (CPU wheels)\n",
        "!pip install torch-scatter torch-sparse torch-cluster torch-spline-conv torch-geometric \\\n",
        "  -f https://data.pyg.org/whl/torch-2.0.0+cpu.html\n"
      ],
      "metadata": {
        "colab": {
          "base_uri": "https://localhost:8080/"
        },
        "id": "T6e8LScEMDCV",
        "outputId": "8a8e75ae-8e7f-48f4-bdd3-40f376404dea"
      },
      "execution_count": null,
      "outputs": [
        {
          "output_type": "stream",
          "name": "stdout",
          "text": [
            "Looking in indexes: https://download.pytorch.org/whl/cpu\n",
            "Requirement already satisfied: torch in /usr/local/lib/python3.11/dist-packages (2.6.0+cu124)\n",
            "Requirement already satisfied: torchvision in /usr/local/lib/python3.11/dist-packages (0.21.0+cu124)\n",
            "Requirement already satisfied: torchaudio in /usr/local/lib/python3.11/dist-packages (2.6.0+cu124)\n",
            "Requirement already satisfied: filelock in /usr/local/lib/python3.11/dist-packages (from torch) (3.18.0)\n",
            "Requirement already satisfied: typing-extensions>=4.10.0 in /usr/local/lib/python3.11/dist-packages (from torch) (4.14.0)\n",
            "Requirement already satisfied: networkx in /usr/local/lib/python3.11/dist-packages (from torch) (3.5)\n",
            "Requirement already satisfied: jinja2 in /usr/local/lib/python3.11/dist-packages (from torch) (3.1.6)\n",
            "Requirement already satisfied: fsspec in /usr/local/lib/python3.11/dist-packages (from torch) (2025.3.2)\n",
            "INFO: pip is looking at multiple versions of torch to determine which version is compatible with other requirements. This could take a while.\n",
            "Collecting torch\n",
            "  Downloading https://download.pytorch.org/whl/cpu/torch-2.7.1%2Bcpu-cp311-cp311-manylinux_2_28_x86_64.whl.metadata (27 kB)\n",
            "Collecting sympy>=1.13.3 (from torch)\n",
            "  Downloading https://download.pytorch.org/whl/sympy-1.13.3-py3-none-any.whl.metadata (12 kB)\n",
            "Requirement already satisfied: numpy in /usr/local/lib/python3.11/dist-packages (from torchvision) (2.0.2)\n",
            "Requirement already satisfied: pillow!=8.3.*,>=5.3.0 in /usr/local/lib/python3.11/dist-packages (from torchvision) (11.2.1)\n",
            "Collecting torch\n",
            "  Downloading https://download.pytorch.org/whl/cpu/torch-2.6.0%2Bcpu-cp311-cp311-linux_x86_64.whl.metadata (26 kB)\n",
            "Requirement already satisfied: sympy==1.13.1 in /usr/local/lib/python3.11/dist-packages (from torch) (1.13.1)\n",
            "Requirement already satisfied: mpmath<1.4,>=1.1.0 in /usr/local/lib/python3.11/dist-packages (from sympy==1.13.1->torch) (1.3.0)\n",
            "Requirement already satisfied: MarkupSafe>=2.0 in /usr/local/lib/python3.11/dist-packages (from jinja2->torch) (3.0.2)\n",
            "Downloading https://download.pytorch.org/whl/cpu/torch-2.6.0%2Bcpu-cp311-cp311-linux_x86_64.whl (178.7 MB)\n",
            "\u001b[2K   \u001b[90m━━━━━━━━━━━━━━━━━━━━━━━━━━━━━━━━━━━━━━━━\u001b[0m \u001b[32m178.7/178.7 MB\u001b[0m \u001b[31m4.7 MB/s\u001b[0m eta \u001b[36m0:00:00\u001b[0m\n",
            "\u001b[?25hInstalling collected packages: torch\n",
            "  Attempting uninstall: torch\n",
            "    Found existing installation: torch 2.6.0+cu124\n",
            "    Uninstalling torch-2.6.0+cu124:\n",
            "      Successfully uninstalled torch-2.6.0+cu124\n",
            "Successfully installed torch-2.6.0+cpu\n",
            "Looking in links: https://data.pyg.org/whl/torch-2.0.0+cpu.html\n",
            "Collecting torch-scatter\n",
            "  Downloading https://data.pyg.org/whl/torch-2.0.0%2Bcpu/torch_scatter-2.1.2%2Bpt20cpu-cp311-cp311-linux_x86_64.whl (494 kB)\n",
            "\u001b[2K     \u001b[90m━━━━━━━━━━━━━━━━━━━━━━━━━━━━━━━━━━━━━━\u001b[0m \u001b[32m494.0/494.0 kB\u001b[0m \u001b[31m11.2 MB/s\u001b[0m eta \u001b[36m0:00:00\u001b[0m\n",
            "\u001b[?25hCollecting torch-sparse\n",
            "  Downloading https://data.pyg.org/whl/torch-2.0.0%2Bcpu/torch_sparse-0.6.18%2Bpt20cpu-cp311-cp311-linux_x86_64.whl (1.2 MB)\n",
            "\u001b[2K     \u001b[90m━━━━━━━━━━━━━━━━━━━━━━━━━━━━━━━━━━━━━━━━\u001b[0m \u001b[32m1.2/1.2 MB\u001b[0m \u001b[31m48.2 MB/s\u001b[0m eta \u001b[36m0:00:00\u001b[0m\n",
            "\u001b[?25hCollecting torch-cluster\n",
            "  Downloading https://data.pyg.org/whl/torch-2.0.0%2Bcpu/torch_cluster-1.6.3%2Bpt20cpu-cp311-cp311-linux_x86_64.whl (750 kB)\n",
            "\u001b[2K     \u001b[90m━━━━━━━━━━━━━━━━━━━━━━━━━━━━━━━━━━━━━━\u001b[0m \u001b[32m750.9/750.9 kB\u001b[0m \u001b[31m40.5 MB/s\u001b[0m eta \u001b[36m0:00:00\u001b[0m\n",
            "\u001b[?25hCollecting torch-spline-conv\n",
            "  Downloading https://data.pyg.org/whl/torch-2.0.0%2Bcpu/torch_spline_conv-1.2.2%2Bpt20cpu-cp311-cp311-linux_x86_64.whl (208 kB)\n",
            "\u001b[2K     \u001b[90m━━━━━━━━━━━━━━━━━━━━━━━━━━━━━━━━━━━━━━\u001b[0m \u001b[32m208.1/208.1 kB\u001b[0m \u001b[31m20.5 MB/s\u001b[0m eta \u001b[36m0:00:00\u001b[0m\n",
            "\u001b[?25hCollecting torch-geometric\n",
            "  Downloading torch_geometric-2.6.1-py3-none-any.whl.metadata (63 kB)\n",
            "\u001b[2K     \u001b[90m━━━━━━━━━━━━━━━━━━━━━━━━━━━━━━━━━━━━━━━━\u001b[0m \u001b[32m63.1/63.1 kB\u001b[0m \u001b[31m2.4 MB/s\u001b[0m eta \u001b[36m0:00:00\u001b[0m\n",
            "\u001b[?25hRequirement already satisfied: scipy in /usr/local/lib/python3.11/dist-packages (from torch-sparse) (1.15.3)\n",
            "Requirement already satisfied: aiohttp in /usr/local/lib/python3.11/dist-packages (from torch-geometric) (3.11.15)\n",
            "Requirement already satisfied: fsspec in /usr/local/lib/python3.11/dist-packages (from torch-geometric) (2025.3.2)\n",
            "Requirement already satisfied: jinja2 in /usr/local/lib/python3.11/dist-packages (from torch-geometric) (3.1.6)\n",
            "Requirement already satisfied: numpy in /usr/local/lib/python3.11/dist-packages (from torch-geometric) (2.0.2)\n",
            "Requirement already satisfied: psutil>=5.8.0 in /usr/local/lib/python3.11/dist-packages (from torch-geometric) (5.9.5)\n",
            "Requirement already satisfied: pyparsing in /usr/local/lib/python3.11/dist-packages (from torch-geometric) (3.2.3)\n",
            "Requirement already satisfied: requests in /usr/local/lib/python3.11/dist-packages (from torch-geometric) (2.32.3)\n",
            "Requirement already satisfied: tqdm in /usr/local/lib/python3.11/dist-packages (from torch-geometric) (4.67.1)\n",
            "Requirement already satisfied: aiohappyeyeballs>=2.3.0 in /usr/local/lib/python3.11/dist-packages (from aiohttp->torch-geometric) (2.6.1)\n",
            "Requirement already satisfied: aiosignal>=1.1.2 in /usr/local/lib/python3.11/dist-packages (from aiohttp->torch-geometric) (1.3.2)\n",
            "Requirement already satisfied: attrs>=17.3.0 in /usr/local/lib/python3.11/dist-packages (from aiohttp->torch-geometric) (25.3.0)\n",
            "Requirement already satisfied: frozenlist>=1.1.1 in /usr/local/lib/python3.11/dist-packages (from aiohttp->torch-geometric) (1.6.0)\n",
            "Requirement already satisfied: multidict<7.0,>=4.5 in /usr/local/lib/python3.11/dist-packages (from aiohttp->torch-geometric) (6.4.4)\n",
            "Requirement already satisfied: propcache>=0.2.0 in /usr/local/lib/python3.11/dist-packages (from aiohttp->torch-geometric) (0.3.1)\n",
            "Requirement already satisfied: yarl<2.0,>=1.17.0 in /usr/local/lib/python3.11/dist-packages (from aiohttp->torch-geometric) (1.20.0)\n",
            "Requirement already satisfied: MarkupSafe>=2.0 in /usr/local/lib/python3.11/dist-packages (from jinja2->torch-geometric) (3.0.2)\n",
            "Requirement already satisfied: charset-normalizer<4,>=2 in /usr/local/lib/python3.11/dist-packages (from requests->torch-geometric) (3.4.2)\n",
            "Requirement already satisfied: idna<4,>=2.5 in /usr/local/lib/python3.11/dist-packages (from requests->torch-geometric) (3.10)\n",
            "Requirement already satisfied: urllib3<3,>=1.21.1 in /usr/local/lib/python3.11/dist-packages (from requests->torch-geometric) (2.4.0)\n",
            "Requirement already satisfied: certifi>=2017.4.17 in /usr/local/lib/python3.11/dist-packages (from requests->torch-geometric) (2025.4.26)\n",
            "Downloading torch_geometric-2.6.1-py3-none-any.whl (1.1 MB)\n",
            "\u001b[2K   \u001b[90m━━━━━━━━━━━━━━━━━━━━━━━━━━━━━━━━━━━━━━━━\u001b[0m \u001b[32m1.1/1.1 MB\u001b[0m \u001b[31m23.5 MB/s\u001b[0m eta \u001b[36m0:00:00\u001b[0m\n",
            "\u001b[?25hInstalling collected packages: torch-spline-conv, torch-scatter, torch-sparse, torch-cluster, torch-geometric\n",
            "Successfully installed torch-cluster-1.6.3+pt20cpu torch-geometric-2.6.1 torch-scatter-2.1.2+pt20cpu torch-sparse-0.6.18+pt20cpu torch-spline-conv-1.2.2+pt20cpu\n"
          ]
        }
      ]
    },
    {
      "cell_type": "code",
      "source": [
        "# Check your torch version\n",
        "import torch\n",
        "print(torch.__version__)\n"
      ],
      "metadata": {
        "id": "TZDWMmkCL4yc",
        "colab": {
          "base_uri": "https://localhost:8080/"
        },
        "outputId": "16170057-3566-472e-a2ce-1f70d55e77e0"
      },
      "execution_count": null,
      "outputs": [
        {
          "output_type": "stream",
          "name": "stdout",
          "text": [
            "2.6.0+cpu\n"
          ]
        }
      ]
    },
    {
      "cell_type": "code",
      "source": [
        "# First uninstall mismatched builds\n",
        "!pip uninstall -y torch-scatter torch-sparse torch-cluster torch-spline-conv torch-geometric\n",
        "\n",
        "# Then install the matching CPU wheels (replace 2.1.0+cpu with your torch version)\n",
        "!pip install torch-scatter -f https://data.pyg.org/whl/torch-2.1.0+cpu.html\n",
        "!pip install torch-sparse   -f https://data.pyg.org/whl/torch-2.1.0+cpu.html\n",
        "!pip install torch-cluster  -f https://data.pyg.org/whl/torch-2.1.0+cpu.html\n",
        "!pip install torch-spline-conv -f https://data.pyg.org/whl/torch-2.1.0+cpu.html\n",
        "\n",
        "# Finally reinstall torch-geometric itself\n",
        "!pip install torch-geometric\n"
      ],
      "metadata": {
        "colab": {
          "base_uri": "https://localhost:8080/"
        },
        "id": "12Kkw11f_nl3",
        "outputId": "becb3598-4cd7-4acc-8ac3-9f173f13d3df"
      },
      "execution_count": null,
      "outputs": [
        {
          "output_type": "stream",
          "name": "stdout",
          "text": [
            "Found existing installation: torch-scatter 2.1.2+pt20cpu\n",
            "Uninstalling torch-scatter-2.1.2+pt20cpu:\n",
            "  Successfully uninstalled torch-scatter-2.1.2+pt20cpu\n",
            "Found existing installation: torch-sparse 0.6.18+pt20cpu\n",
            "Uninstalling torch-sparse-0.6.18+pt20cpu:\n",
            "  Successfully uninstalled torch-sparse-0.6.18+pt20cpu\n",
            "Found existing installation: torch-cluster 1.6.3+pt20cpu\n",
            "Uninstalling torch-cluster-1.6.3+pt20cpu:\n",
            "  Successfully uninstalled torch-cluster-1.6.3+pt20cpu\n",
            "Found existing installation: torch-spline-conv 1.2.2+pt20cpu\n",
            "Uninstalling torch-spline-conv-1.2.2+pt20cpu:\n",
            "  Successfully uninstalled torch-spline-conv-1.2.2+pt20cpu\n",
            "Found existing installation: torch-geometric 2.6.1\n",
            "Uninstalling torch-geometric-2.6.1:\n",
            "  Successfully uninstalled torch-geometric-2.6.1\n",
            "Looking in links: https://data.pyg.org/whl/torch-2.1.0+cpu.html\n",
            "Collecting torch-scatter\n",
            "  Downloading https://data.pyg.org/whl/torch-2.1.0%2Bcpu/torch_scatter-2.1.2%2Bpt21cpu-cp311-cp311-linux_x86_64.whl (500 kB)\n",
            "\u001b[2K     \u001b[90m━━━━━━━━━━━━━━━━━━━━━━━━━━━━━━━━━━━━━━\u001b[0m \u001b[32m500.4/500.4 kB\u001b[0m \u001b[31m10.5 MB/s\u001b[0m eta \u001b[36m0:00:00\u001b[0m\n",
            "\u001b[?25hInstalling collected packages: torch-scatter\n",
            "Successfully installed torch-scatter-2.1.2+pt21cpu\n",
            "Looking in links: https://data.pyg.org/whl/torch-2.1.0+cpu.html\n",
            "Collecting torch-sparse\n",
            "  Downloading https://data.pyg.org/whl/torch-2.1.0%2Bcpu/torch_sparse-0.6.18%2Bpt21cpu-cp311-cp311-linux_x86_64.whl (1.2 MB)\n",
            "\u001b[2K     \u001b[90m━━━━━━━━━━━━━━━━━━━━━━━━━━━━━━━━━━━━━━━━\u001b[0m \u001b[32m1.2/1.2 MB\u001b[0m \u001b[31m9.7 MB/s\u001b[0m eta \u001b[36m0:00:00\u001b[0m\n",
            "\u001b[?25hRequirement already satisfied: scipy in /usr/local/lib/python3.11/dist-packages (from torch-sparse) (1.15.3)\n",
            "Requirement already satisfied: numpy<2.5,>=1.23.5 in /usr/local/lib/python3.11/dist-packages (from scipy->torch-sparse) (2.0.2)\n",
            "Installing collected packages: torch-sparse\n",
            "Successfully installed torch-sparse-0.6.18+pt21cpu\n",
            "Looking in links: https://data.pyg.org/whl/torch-2.1.0+cpu.html\n",
            "Collecting torch-cluster\n",
            "  Downloading https://data.pyg.org/whl/torch-2.1.0%2Bcpu/torch_cluster-1.6.3%2Bpt21cpu-cp311-cp311-linux_x86_64.whl (753 kB)\n",
            "\u001b[2K     \u001b[90m━━━━━━━━━━━━━━━━━━━━━━━━━━━━━━━━━━━━━━\u001b[0m \u001b[32m753.1/753.1 kB\u001b[0m \u001b[31m12.8 MB/s\u001b[0m eta \u001b[36m0:00:00\u001b[0m\n",
            "\u001b[?25hRequirement already satisfied: scipy in /usr/local/lib/python3.11/dist-packages (from torch-cluster) (1.15.3)\n",
            "Requirement already satisfied: numpy<2.5,>=1.23.5 in /usr/local/lib/python3.11/dist-packages (from scipy->torch-cluster) (2.0.2)\n",
            "Installing collected packages: torch-cluster\n",
            "Successfully installed torch-cluster-1.6.3+pt21cpu\n",
            "Looking in links: https://data.pyg.org/whl/torch-2.1.0+cpu.html\n",
            "Collecting torch-spline-conv\n",
            "  Downloading https://data.pyg.org/whl/torch-2.1.0%2Bcpu/torch_spline_conv-1.2.2%2Bpt21cpu-cp311-cp311-linux_x86_64.whl (210 kB)\n",
            "\u001b[2K     \u001b[90m━━━━━━━━━━━━━━━━━━━━━━━━━━━━━━━━━━━━━━━\u001b[0m \u001b[32m210.3/210.3 kB\u001b[0m \u001b[31m4.4 MB/s\u001b[0m eta \u001b[36m0:00:00\u001b[0m\n",
            "\u001b[?25hInstalling collected packages: torch-spline-conv\n",
            "Successfully installed torch-spline-conv-1.2.2+pt21cpu\n",
            "Collecting torch-geometric\n",
            "  Using cached torch_geometric-2.6.1-py3-none-any.whl.metadata (63 kB)\n",
            "Requirement already satisfied: aiohttp in /usr/local/lib/python3.11/dist-packages (from torch-geometric) (3.11.15)\n",
            "Requirement already satisfied: fsspec in /usr/local/lib/python3.11/dist-packages (from torch-geometric) (2025.3.2)\n",
            "Requirement already satisfied: jinja2 in /usr/local/lib/python3.11/dist-packages (from torch-geometric) (3.1.6)\n",
            "Requirement already satisfied: numpy in /usr/local/lib/python3.11/dist-packages (from torch-geometric) (2.0.2)\n",
            "Requirement already satisfied: psutil>=5.8.0 in /usr/local/lib/python3.11/dist-packages (from torch-geometric) (5.9.5)\n",
            "Requirement already satisfied: pyparsing in /usr/local/lib/python3.11/dist-packages (from torch-geometric) (3.2.3)\n",
            "Requirement already satisfied: requests in /usr/local/lib/python3.11/dist-packages (from torch-geometric) (2.32.3)\n",
            "Requirement already satisfied: tqdm in /usr/local/lib/python3.11/dist-packages (from torch-geometric) (4.67.1)\n",
            "Requirement already satisfied: aiohappyeyeballs>=2.3.0 in /usr/local/lib/python3.11/dist-packages (from aiohttp->torch-geometric) (2.6.1)\n",
            "Requirement already satisfied: aiosignal>=1.1.2 in /usr/local/lib/python3.11/dist-packages (from aiohttp->torch-geometric) (1.3.2)\n",
            "Requirement already satisfied: attrs>=17.3.0 in /usr/local/lib/python3.11/dist-packages (from aiohttp->torch-geometric) (25.3.0)\n",
            "Requirement already satisfied: frozenlist>=1.1.1 in /usr/local/lib/python3.11/dist-packages (from aiohttp->torch-geometric) (1.6.0)\n",
            "Requirement already satisfied: multidict<7.0,>=4.5 in /usr/local/lib/python3.11/dist-packages (from aiohttp->torch-geometric) (6.4.4)\n",
            "Requirement already satisfied: propcache>=0.2.0 in /usr/local/lib/python3.11/dist-packages (from aiohttp->torch-geometric) (0.3.1)\n",
            "Requirement already satisfied: yarl<2.0,>=1.17.0 in /usr/local/lib/python3.11/dist-packages (from aiohttp->torch-geometric) (1.20.0)\n",
            "Requirement already satisfied: MarkupSafe>=2.0 in /usr/local/lib/python3.11/dist-packages (from jinja2->torch-geometric) (3.0.2)\n",
            "Requirement already satisfied: charset-normalizer<4,>=2 in /usr/local/lib/python3.11/dist-packages (from requests->torch-geometric) (3.4.2)\n",
            "Requirement already satisfied: idna<4,>=2.5 in /usr/local/lib/python3.11/dist-packages (from requests->torch-geometric) (3.10)\n",
            "Requirement already satisfied: urllib3<3,>=1.21.1 in /usr/local/lib/python3.11/dist-packages (from requests->torch-geometric) (2.4.0)\n",
            "Requirement already satisfied: certifi>=2017.4.17 in /usr/local/lib/python3.11/dist-packages (from requests->torch-geometric) (2025.4.26)\n",
            "Using cached torch_geometric-2.6.1-py3-none-any.whl (1.1 MB)\n",
            "Installing collected packages: torch-geometric\n",
            "Successfully installed torch-geometric-2.6.1\n"
          ]
        }
      ]
    },
    {
      "cell_type": "code",
      "source": [
        "from torch_geometric.datasets import TUDataset\n",
        "dataset_PR = TUDataset(root='data/PROTEINS', name='PROTEINS')\n",
        "print(f\"Loaded PROTEINS: {len(dataset_PR)} graphs, \"\n",
        "      f\"{dataset_PR.num_node_features} features, {dataset_PR.num_classes} classes\")\n"
      ],
      "metadata": {
        "colab": {
          "base_uri": "https://localhost:8080/"
        },
        "id": "wcWj_XFi_r0v",
        "outputId": "c86070a5-01f6-4804-8a99-f9db34b1ca5c"
      },
      "execution_count": null,
      "outputs": [
        {
          "output_type": "stream",
          "name": "stderr",
          "text": [
            "/usr/local/lib/python3.11/dist-packages/torch_geometric/typing.py:86: UserWarning: An issue occurred while importing 'torch-scatter'. Disabling its usage. Stacktrace: /usr/local/lib/python3.11/dist-packages/torch_scatter/_version_cpu.so: undefined symbol: _ZN3c1017RegisterOperatorsD1Ev\n",
            "  warnings.warn(f\"An issue occurred while importing 'torch-scatter'. \"\n",
            "/usr/local/lib/python3.11/dist-packages/torch_geometric/typing.py:97: UserWarning: An issue occurred while importing 'torch-cluster'. Disabling its usage. Stacktrace: /usr/local/lib/python3.11/dist-packages/torch_cluster/_version_cpu.so: undefined symbol: _ZN3c1017RegisterOperatorsD1Ev\n",
            "  warnings.warn(f\"An issue occurred while importing 'torch-cluster'. \"\n",
            "/usr/local/lib/python3.11/dist-packages/torch_geometric/typing.py:113: UserWarning: An issue occurred while importing 'torch-spline-conv'. Disabling its usage. Stacktrace: /usr/local/lib/python3.11/dist-packages/torch_spline_conv/_version_cpu.so: undefined symbol: _ZN3c1017RegisterOperatorsD1Ev\n",
            "  warnings.warn(\n",
            "/usr/local/lib/python3.11/dist-packages/torch_geometric/typing.py:124: UserWarning: An issue occurred while importing 'torch-sparse'. Disabling its usage. Stacktrace: /usr/local/lib/python3.11/dist-packages/torch_sparse/_version_cpu.so: undefined symbol: _ZN3c1017RegisterOperatorsD1Ev\n",
            "  warnings.warn(f\"An issue occurred while importing 'torch-sparse'. \"\n",
            "Downloading https://www.chrsmrrs.com/graphkerneldatasets/PROTEINS.zip\n",
            "Processing...\n"
          ]
        },
        {
          "output_type": "stream",
          "name": "stdout",
          "text": [
            "Loaded PROTEINS: 1113 graphs, 3 features, 2 classes\n"
          ]
        },
        {
          "output_type": "stream",
          "name": "stderr",
          "text": [
            "Done!\n"
          ]
        }
      ]
    },
    {
      "cell_type": "code",
      "source": [
        "# ── Cell 2: Imports & config ──\n",
        "import os\n",
        "import torch\n",
        "import matplotlib.pyplot as plt\n",
        "from sklearn.metrics import roc_auc_score\n",
        "from torch_geometric.datasets import TUDataset\n",
        "from torch_geometric.loader import DataLoader\n",
        "\n",
        "# Make sure you have your helper functions available:\n",
        "#   - generate_negative_variants(dataset, num_neg)\n",
        "#   - compute_fingerprint_graph(data, variant=None)\n",
        "#   - U(fingerprint_tensor) → scalar score\n",
        "# Adjust these imports/definitions as needed.\n",
        "\n",
        "DATA_ROOT = 'data/PROTEINS'\n",
        "FP_DIR   = 'fingerprints/PROTEINS'\n",
        "NUM_NEG  = 200  # per paper\n",
        "os.makedirs(FP_DIR, exist_ok=True)\n"
      ],
      "metadata": {
        "id": "lK1Upr1TBBZ0"
      },
      "execution_count": null,
      "outputs": []
    },
    {
      "cell_type": "code",
      "source": [
        "from google.colab import drive\n",
        "drive.mount('/content/drive')\n"
      ],
      "metadata": {
        "colab": {
          "base_uri": "https://localhost:8080/"
        },
        "id": "BdjmTA-cCgGr",
        "outputId": "c4bd0235-4c25-4159-c761-722412cfd2a0"
      },
      "execution_count": null,
      "outputs": [
        {
          "output_type": "stream",
          "name": "stdout",
          "text": [
            "Mounted at /content/drive\n"
          ]
        }
      ]
    },
    {
      "cell_type": "code",
      "source": [
        "!ls \"/content/drive/MyDrive/gnnfingers\"\n"
      ],
      "metadata": {
        "colab": {
          "base_uri": "https://localhost:8080/"
        },
        "id": "f3LUWxiZC5nb",
        "outputId": "bd5d985f-1988-4798-bf7a-87c2a7a13a53"
      },
      "execution_count": null,
      "outputs": [
        {
          "output_type": "stream",
          "name": "stdout",
          "text": [
            "ARUC_ENZ_GCNMean_Q200.png  checkpoints\tENZYMES  fingerprints  variants\n"
          ]
        }
      ]
    },
    {
      "cell_type": "code",
      "source": [
        "import os\n",
        "\n",
        "for root, dirs, files in os.walk('/content/drive/MyDrive/gnnfingers'):\n",
        "    for fname in files:\n",
        "        if fname.endswith('.py'):\n",
        "            print(os.path.join(root, fname))\n",
        "\n"
      ],
      "metadata": {
        "id": "pAErHEVKCvpF"
      },
      "execution_count": null,
      "outputs": []
    },
    {
      "cell_type": "code",
      "source": [
        "\"/content/drive/MyDrive/gnnfingers/utils.py\"\n"
      ],
      "metadata": {
        "colab": {
          "base_uri": "https://localhost:8080/",
          "height": 35
        },
        "id": "WnzwjT5SDEii",
        "outputId": "2330550e-7f3f-421a-b777-a7d1845f7278"
      },
      "execution_count": null,
      "outputs": [
        {
          "output_type": "execute_result",
          "data": {
            "text/plain": [
              "'/content/drive/MyDrive/gnnfingers/utils.py'"
            ],
            "application/vnd.google.colaboratory.intrinsic+json": {
              "type": "string"
            }
          },
          "metadata": {},
          "execution_count": 21
        }
      ]
    },
    {
      "cell_type": "code",
      "source": [
        "import os\n",
        "\n",
        "for root, dirs, files in os.walk('/content/drive/MyDrive'):\n",
        "    for fname in files:\n",
        "        if fname.endswith('.py'):\n",
        "            print(os.path.join(root, fname))\n"
      ],
      "metadata": {
        "id": "es0bArqfDcjy"
      },
      "execution_count": null,
      "outputs": []
    },
    {
      "cell_type": "code",
      "source": [
        "!ls \"/content/drive/MyDrive/gnnfingers/checkpoints\"\n"
      ],
      "metadata": {
        "colab": {
          "base_uri": "https://localhost:8080/"
        },
        "id": "YnJ_W-f2FzvB",
        "outputId": "40120d42-fa0c-4dac-e95c-8b51ce38fdc0"
      },
      "execution_count": null,
      "outputs": [
        {
          "output_type": "stream",
          "name": "stdout",
          "text": [
            "'Copy of victim_ENZ_GCNDiff.pth'   victim_PR_GCNDiff.pth\n",
            " victim_ENZ_GCNDiff.pth\t\t   victim_PR_GCNMean.pth\n",
            " victim_ENZ_GCNMean.pth\t\t   victim_PR_SAGEDiff.pth\n",
            " victim_ENZ_SAGEDiff.pth\t   victim_PR_SAGEMean.pth\n",
            " victim_ENZ_SAGEMean.pth\n"
          ]
        }
      ]
    },
    {
      "cell_type": "code",
      "source": [
        "# ── Train a new Univerifier U on PROTEINS ───────────────────────────────────────\n",
        "import os, torch, random, numpy as np\n",
        "import torch.nn as nn, torch.nn.functional as F\n",
        "from sklearn.model_selection import train_test_split\n",
        "from torch.utils.data import TensorDataset, DataLoader as TorchDL\n",
        "from torch_geometric.datasets import TUDataset\n",
        "from torch_geometric.loader import DataLoader\n",
        "from torch_geometric.nn import GCNConv, global_mean_pool\n",
        "\n",
        "# Device\n",
        "device = torch.device('cuda' if torch.cuda.is_available() else 'cpu')\n",
        "\n",
        "# Load PROTEINS\n",
        "dataset = TUDataset(root=\"/content/drive/MyDrive/gnnfingers/PROTEINS\", name=\"PROTEINS\")\n",
        "\n",
        "# Helper: fingerprint extractor using one of your victim models\n",
        "def extract_fp(model, graphs):\n",
        "    loader, embs = DataLoader(graphs, batch_size=32), []\n",
        "    model.eval()\n",
        "    with torch.no_grad():\n",
        "        for batch in loader:\n",
        "            batch = batch.to(device)\n",
        "            x = F.relu(model.conv1(batch.x, batch.edge_index))\n",
        "            x = F.relu(model.conv2(x, batch.edge_index))\n",
        "            x = F.relu(model.conv3(x, batch.edge_index))\n",
        "            pooled = global_mean_pool(x, batch.batch)\n",
        "            embs.append(pooled.cpu())\n",
        "    return torch.cat(embs, dim=0)  # [N, hid_dim]\n",
        "\n",
        "# Choose one PROTEINS victim to generate positives/negatives\n",
        "victim = GCNMean(dataset.num_node_features, 64, dataset.num_classes, 0.5).to(device)\n",
        "victim.load_state_dict(torch.load(\"/content/drive/MyDrive/gnnfingers/checkpoints/victim_PR_GCNMean.pth\", map_location=device))\n",
        "\n",
        "# 1) Build positives (Q graphs) and negatives (Q graphs * NUM_NEG variants)\n",
        "Q = len(dataset)\n",
        "NUM_NEG = 200\n",
        "\n",
        "# Positive embeddings\n",
        "pos_emb = extract_fp(victim, list(dataset))  # shape [Q, 64]\n",
        "\n",
        "# Negative embeddings: fine-tune each variant and extract embeddings\n",
        "neg_embs = []\n",
        "for seed in range(NUM_NEG):\n",
        "    # load PR victim as base\n",
        "    m = GCNMean(dataset.num_node_features,64,dataset.num_classes,0.5).to(device)\n",
        "    m.load_state_dict(torch.load(f\"/content/drive/MyDrive/gnnfingers/checkpoints/victim_PR_GCNMean.pth\", map_location=device))\n",
        "    opt = torch.optim.Adam(m.parameters(), lr=0.005, weight_decay=1e-4)\n",
        "    loss_fn = nn.CrossEntropyLoss()\n",
        "    # quick fine-tune for 5 epochs\n",
        "    for _ in range(5):\n",
        "        for batch in DataLoader(dataset, batch_size=32, shuffle=True):\n",
        "            batch = batch.to(device)\n",
        "            out = m(batch.x, batch.edge_index, batch.batch)\n",
        "            loss = loss_fn(out, batch.y.view(-1))\n",
        "            opt.zero_grad(); loss.backward(); opt.step()\n",
        "    neg_embs.append(extract_fp(m, list(dataset)))  # [Q,64]\n",
        "\n",
        "neg_emb = torch.cat(neg_embs, dim=0)  # [Q*NUM_NEG, 64]\n",
        "\n",
        "# 2) Prepare U’s training data: (X, y)\n",
        "X = torch.cat([pos_emb, neg_emb], dim=0)\n",
        "y = torch.cat([\n",
        "    torch.ones(pos_emb.size(0), dtype=torch.long),\n",
        "    torch.zeros(neg_emb.size(0), dtype=torch.long)\n",
        "], dim=0)\n",
        "\n",
        "# Shuffle/split\n",
        "perm = torch.randperm(len(y))\n",
        "X, y = X[perm], y[perm]\n",
        "X_train, X_val, y_train, y_val = train_test_split(X, y, test_size=0.2, stratify=y.cpu())\n",
        "\n",
        "train_loader = TorchDL(TensorDataset(X_train, y_train), batch_size=64, shuffle=True)\n",
        "val_loader   = TorchDL(TensorDataset(X_val,   y_val),   batch_size=64)\n",
        "\n",
        "# 3) Define & train U\n",
        "class FingerprintNetMLP(nn.Module):\n",
        "    def __init__(self, embed_dim=64, key_dim=64, h1=256, h2=128, dropout=0.5):\n",
        "        super().__init__()\n",
        "        self.key = nn.Parameter(torch.randn(key_dim), requires_grad=False)\n",
        "        self.net = nn.Sequential(\n",
        "            nn.Linear(embed_dim + key_dim, h1), nn.ReLU(), nn.Dropout(dropout),\n",
        "            nn.Linear(h1, h2), nn.ReLU(), nn.Dropout(dropout),\n",
        "            nn.Linear(h2, 2)\n",
        "        )\n",
        "    def forward(self, emb):\n",
        "        k = self.key.unsqueeze(0).expand(emb.size(0), -1).to(emb.device)\n",
        "        return self.net(torch.cat([emb, k], dim=1))\n",
        "\n",
        "U = FingerprintNetMLP().to(device)\n",
        "opt = torch.optim.Adam(U.parameters(), lr=1e-3, weight_decay=1e-4)\n",
        "loss_fn = nn.CrossEntropyLoss()\n",
        "\n",
        "for epoch in range(1,51):\n",
        "    U.train()\n",
        "    for xb, yb in train_loader:\n",
        "        xb,yb = xb.to(device), yb.to(device)\n",
        "        logits = U(xb)\n",
        "        loss   = loss_fn(logits, yb)\n",
        "        opt.zero_grad(); loss.backward(); opt.step()\n",
        "    # validation\n",
        "    U.eval()\n",
        "    correct, total = 0, 0\n",
        "    with torch.no_grad():\n",
        "        for xb, yb in val_loader:\n",
        "            xb,yb = xb.to(device), yb.to(device)\n",
        "            preds = U(xb).argmax(1)\n",
        "            correct += (preds==yb).sum().item(); total+=len(yb)\n",
        "    acc = correct/total\n",
        "    if epoch % 10 == 0 or acc>0.95:\n",
        "        print(f\"Epoch {epoch:02d}, val acc={acc:.3f}\")\n",
        "    if acc>0.95:\n",
        "        break\n",
        "\n",
        "# 4) Save Univerifier\n",
        "save_path = \"/content/drive/MyDrive/gnnfingers/checkpoints/U_PR_GCNMean.pth\"\n",
        "torch.save(U.state_dict(), save_path)\n",
        "print(\"Saved Univerifier to\", save_path)\n"
      ],
      "metadata": {
        "colab": {
          "base_uri": "https://localhost:8080/"
        },
        "id": "0wmQLZ01F_Eg",
        "outputId": "c3ceeae4-5723-4774-9ef6-e01d54a3736f"
      },
      "execution_count": null,
      "outputs": [
        {
          "output_type": "stream",
          "name": "stdout",
          "text": [
            "Epoch 01, val acc=0.995\n",
            "Saved Univerifier to /content/drive/MyDrive/gnnfingers/checkpoints/U_PR_GCNMean.pth\n"
          ]
        }
      ]
    },
    {
      "cell_type": "code",
      "source": [
        "# ─── PROTEINS ARUC Evaluation w/ Variant Generation ─────────────────────────\n",
        "import os, torch, random, numpy as np, matplotlib.pyplot as plt\n",
        "import torch.nn as nn, torch.nn.functional as F\n",
        "from sklearn.metrics import roc_auc_score\n",
        "from torch_geometric.datasets import TUDataset\n",
        "from torch_geometric.loader import DataLoader\n",
        "from torch_geometric.nn import GCNConv, SAGEConv, global_mean_pool\n",
        "from torch.utils.data import TensorDataset, DataLoader as TorchDL\n",
        "from google.colab import drive\n",
        "\n",
        "# 1) Mount & device\n",
        "drive.mount('/content/drive', force_remount=True)\n",
        "device = torch.device('cuda' if torch.cuda.is_available() else 'cpu')\n",
        "\n",
        "# 2) Load PROTEINS (raw node‐features) & shuffle\n",
        "dataset = TUDataset(\n",
        "    root=\"/content/drive/MyDrive/gnnfingers/PROTEINS\",\n",
        "    name=\"PROTEINS\"\n",
        ").shuffle()\n",
        "train_dataset = dataset[:800]\n",
        "test_dataset  = dataset[800:]\n",
        "\n",
        "# 3) Define GNN variants\n",
        "class GCNMean(nn.Module):\n",
        "    def __init__(self, in_ch, hid_ch, num_cls, dropout=0.5):\n",
        "        super().__init__()\n",
        "        self.conv1 = GCNConv(in_ch, hid_ch)\n",
        "        self.conv2 = GCNConv(hid_ch, hid_ch)\n",
        "        self.conv3 = GCNConv(hid_ch, hid_ch)\n",
        "        self.lin   = nn.Linear(hid_ch, num_cls)\n",
        "        self.dropout = dropout\n",
        "    def forward(self, x, edge_index, batch):\n",
        "        x = F.relu(self.conv1(x, edge_index))\n",
        "        x = F.dropout(x, p=self.dropout, training=self.training)\n",
        "        x = F.relu(self.conv2(x, edge_index))\n",
        "        x = F.dropout(x, p=self.dropout, training=self.training)\n",
        "        x = F.relu(self.conv3(x, edge_index))\n",
        "        return self.lin(global_mean_pool(x, batch))\n",
        "\n",
        "class GCNDiff(nn.Module):\n",
        "    def __init__(self, in_ch, hid_ch, num_cls, dropout=0.5):\n",
        "        super().__init__()\n",
        "        self.conv1    = GCNConv(in_ch, hid_ch)\n",
        "        self.conv2    = GCNConv(hid_ch, hid_ch)\n",
        "        self.conv3    = GCNConv(hid_ch, hid_ch)\n",
        "        self.lin      = nn.Linear(hid_ch, num_cls)\n",
        "        self.dropout  = dropout\n",
        "        self.skip_lin = nn.Linear(in_ch, hid_ch) if in_ch != hid_ch else None\n",
        "    def forward(self, x, edge_index, batch):\n",
        "        x0 = self.skip_lin(x) if self.skip_lin is not None else x\n",
        "        h1 = F.relu(self.conv1(x, edge_index)) + x0\n",
        "        h1 = F.dropout(h1, p=self.dropout, training=self.training)\n",
        "        h2 = F.relu(self.conv2(h1, edge_index)) + h1\n",
        "        h2 = F.dropout(h2, p=self.dropout, training=self.training)\n",
        "        h3 = F.relu(self.conv3(h2, edge_index)) + h2\n",
        "        return self.lin(global_mean_pool(h3, batch))\n",
        "\n",
        "class SAGEMean(nn.Module):\n",
        "    def __init__(self, in_ch, hid_ch, num_cls, dropout=0.5):\n",
        "        super().__init__()\n",
        "        self.conv1   = SAGEConv(in_ch, hid_ch)\n",
        "        self.conv2   = SAGEConv(hid_ch, hid_ch)\n",
        "        self.conv3   = SAGEConv(hid_ch, hid_ch)\n",
        "        self.lin     = nn.Linear(hid_ch, num_cls)\n",
        "        self.dropout = dropout\n",
        "    def forward(self, x, edge_index, batch):\n",
        "        x = F.relu(self.conv1(x, edge_index))\n",
        "        x = F.dropout(x, p=self.dropout, training=self.training)\n",
        "        x = F.relu(self.conv2(x, edge_index))\n",
        "        x = F.dropout(x, p=self.dropout, training=self.training)\n",
        "        x = F.relu(self.conv3(x, edge_index))\n",
        "        return self.lin(global_mean_pool(x, batch))\n",
        "\n",
        "class SAGEDiff(nn.Module):\n",
        "    def __init__(self, in_ch, hid_ch, num_cls, dropout=0.5):\n",
        "        super().__init__()\n",
        "        self.conv1    = SAGEConv(in_ch, hid_ch)\n",
        "        self.conv2    = SAGEConv(hid_ch, hid_ch)\n",
        "        self.conv3    = SAGEConv(hid_ch, hid_ch)\n",
        "        self.lin      = nn.Linear(hid_ch, num_cls)\n",
        "        self.dropout  = dropout\n",
        "        self.skip_lin = nn.Linear(in_ch, hid_ch) if in_ch != hid_ch else None\n",
        "    def forward(self, x, edge_index, batch):\n",
        "        x0 = self.skip_lin(x) if self.skip_lin is not None else x\n",
        "        h1 = F.relu(self.conv1(x, edge_index)) + x0\n",
        "        h1 = F.dropout(h1, p=self.dropout, training=self.training)\n",
        "        h2 = F.relu(self.conv2(h1, edge_index)) + h1\n",
        "        h2 = F.dropout(h2, p=self.dropout, training=self.training)\n",
        "        h3 = F.relu(self.conv3(h2, edge_index)) + h2\n",
        "        return self.lin(global_mean_pool(h3, batch))\n",
        "\n",
        "# 4) Univerifier MLP\n",
        "class FingerprintNetMLP(nn.Module):\n",
        "    def __init__(self, embed_dim=64, key_dim=64, h1=256, h2=128, h3=64, dropout=0.5):\n",
        "        super().__init__()\n",
        "        self.key = nn.Parameter(torch.randn(key_dim), requires_grad=False)\n",
        "        self.net = nn.Sequential(\n",
        "            nn.Linear(embed_dim + key_dim, h1), nn.ReLU(), nn.Dropout(dropout),\n",
        "            nn.Linear(h1, h2),             nn.ReLU(), nn.Dropout(dropout),\n",
        "            nn.Linear(h2, h3),             nn.ReLU(), nn.Dropout(dropout),\n",
        "            nn.Linear(h3, 2)\n",
        "        )\n",
        "    def forward(self, emb):\n",
        "        k = self.key.unsqueeze(0).expand(emb.size(0), -1).to(emb.device)\n",
        "        return self.net(torch.cat([emb, k], dim=1))\n",
        "\n",
        "# 5) Paths & parameters\n",
        "VariantCls       = {\"GCNMean\": GCNMean, \"GCNDiff\": GCNDiff, \"SAGEMean\": SAGEMean, \"SAGEDiff\": SAGEDiff}\n",
        "victim_ckpt_dir  = \"/content/drive/MyDrive/gnnfingers/checkpoints\"\n",
        "variants_base_dir= \"/content/drive/MyDrive/gnnfingers/variants\"\n",
        "NUM_VARIANTS     = 200\n",
        "EPOCHS           = 10\n",
        "LR               = 0.005\n",
        "WD               = 1e-4\n",
        "\n",
        "# Load victims & generate negatives if missing\n",
        "victims = {}\n",
        "for name, Cls in VariantCls.items():\n",
        "    # load victim\n",
        "    m = Cls(dataset.num_node_features, 64, dataset.num_classes, 0.5).to(device)\n",
        "    m.load_state_dict(torch.load(f\"{victim_ckpt_dir}/victim_PR_{name}.pth\", map_location=device))\n",
        "    m.eval()\n",
        "    victims[name] = m\n",
        "\n",
        "    # prepare variant folder\n",
        "    neg_dir = os.path.join(variants_base_dir, f\"PR_{name}\", \"negative\")\n",
        "    os.makedirs(neg_dir, exist_ok=True)\n",
        "\n",
        "    # generate if needed\n",
        "    existing = len([f for f in os.listdir(neg_dir) if f.endswith(\".pth\")])\n",
        "    if existing < NUM_VARIANTS:\n",
        "        print(f\"Generating {NUM_VARIANTS} negatives for PR_{name}…\")\n",
        "        for vid in range(NUM_VARIANTS):\n",
        "            vm   = Cls(dataset.num_node_features, 64, dataset.num_classes, 0.5).to(device)\n",
        "            vm.load_state_dict(victims[name].state_dict())  # init from victim\n",
        "            optv = torch.optim.Adam(vm.parameters(), lr=LR, weight_decay=WD)\n",
        "            loss_fn = nn.CrossEntropyLoss()\n",
        "            for _ in range(EPOCHS):\n",
        "                vm.train()\n",
        "                for batch in DataLoader(train_dataset, batch_size=32, shuffle=True):\n",
        "                    batch = batch.to(device)\n",
        "                    out = vm(batch.x, batch.edge_index, batch.batch)\n",
        "                    loss = loss_fn(out, batch.y.view(-1))\n",
        "                    optv.zero_grad(); loss.backward(); optv.step()\n",
        "            torch.save(vm.state_dict(), f\"{neg_dir}/negative_{vid:03d}.pth\")\n",
        "        print(f\"✓ Done PR_{name} negatives\")\n",
        "\n",
        "# 6) Fingerprint extraction (returns 1D NumPy vector)\n",
        "def extract_fp(model, U_net, graphs):\n",
        "    all_p = []\n",
        "    for batch in DataLoader(graphs, batch_size=32, shuffle=False):\n",
        "        b = batch.to(device)\n",
        "        x = F.relu(model.conv1(b.x, b.edge_index))\n",
        "        x = F.dropout(x, p=model.dropout, training=False)\n",
        "        x = F.relu(model.conv2(x, b.edge_index))\n",
        "        x = F.dropout(x, p=model.dropout, training=False)\n",
        "        x = F.relu(model.conv3(x, b.edge_index))\n",
        "        all_p.append(global_mean_pool(x, b.batch))\n",
        "    pooled = torch.cat(all_p, dim=0)                # [#graphs, hid_dim]\n",
        "    with torch.no_grad():\n",
        "        k     = U_net.key.unsqueeze(0).expand(pooled.size(0), -1).to(device)\n",
        "        h     = torch.cat([pooled, k], dim=1)       # [#graphs, hid+key_dim]\n",
        "        feats = U_net.net[:-1](h)                   # [#graphs, embed_dim]\n",
        "    return feats.mean(dim=0).cpu().numpy()           # → (embed_dim,)\n",
        "\n",
        "# 7) Train U on 100 positives + 100 negatives (from GCNMean)\n",
        "# ─── Step 7: Build & train U ─────────────────────────────────────────────────\n",
        "\n",
        "pos_graphs = list(train_dataset[:100])\n",
        "U = FingerprintNetMLP().to(device)\n",
        "\n",
        "# 1) Extract positive and negative embeddings\n",
        "pos_emb = extract_fp(victims[\"GCNMean\"], U, pos_graphs)  # shape (embed_dim,)\n",
        "\n",
        "neg_embs = []\n",
        "neg_dir = os.path.join(variants_base_dir, \"PR_GCNMean\", \"negative\")\n",
        "for i in range(100):\n",
        "    m = GCNMean(dataset.num_node_features, 64, dataset.num_classes, 0.5).to(device)\n",
        "    m.load_state_dict(torch.load(f\"{neg_dir}/negative_{i:03d}.pth\", map_location=device))\n",
        "    m.eval()\n",
        "    neg_embs.append(extract_fp(m, U, pos_graphs))        # each is (embed_dim,)\n",
        "\n",
        "neg_emb = np.stack(neg_embs, axis=0)                     # shape (100, embed_dim)\n",
        "\n",
        "# 2) Stack into feature matrix X and labels y\n",
        "pos_mat = np.tile(pos_emb[np.newaxis, :], (100, 1))      # (100, embed_dim)\n",
        "X = np.vstack([pos_mat, neg_emb])                        # (200, embed_dim)\n",
        "y = np.array([1]*100 + [0]*100)\n",
        "\n",
        "# 3) Shuffle and convert to torch tensors\n",
        "perm = np.random.permutation(len(y))\n",
        "X_t = torch.tensor(X[perm], dtype=torch.float32)\n",
        "y_t = torch.tensor(y[perm], dtype=torch.long)\n",
        "\n",
        "# 4) Create DataLoader\n",
        "train_loader = TorchDL(TensorDataset(X_t, y_t), batch_size=32, shuffle=True)\n",
        "\n",
        "# 5) Train U\n",
        "optU   = torch.optim.Adam(U.parameters(), lr=1e-3, weight_decay=1e-4)\n",
        "lossU  = nn.CrossEntropyLoss()\n",
        "\n",
        "for epoch in range(1, 101):\n",
        "    U.train()\n",
        "    total, correct = 0, 0\n",
        "    for xb, yb in train_loader:\n",
        "        xb, yb = xb.to(device), yb.to(device)\n",
        "        logits = U(xb)\n",
        "        loss   = lossU(logits, yb)\n",
        "        optU.zero_grad()\n",
        "        loss.backward()\n",
        "        optU.step()\n",
        "\n",
        "        preds = logits.argmax(dim=1)\n",
        "        correct += (preds == yb).sum().item()\n",
        "        total   += yb.size(0)\n",
        "\n",
        "    acc = correct / total\n",
        "    if acc >= 0.95:\n",
        "        print(f\"U reached 95% accuracy at epoch {epoch}\")\n",
        "        break\n",
        "\n",
        "U.eval()\n",
        "\n",
        "\n",
        "# 8) Fine-tune 200 negatives & score\n",
        "def get_scores(model):\n",
        "    scs = []\n",
        "    model.eval()  # ensure model is in eval mode\n",
        "    with torch.no_grad():\n",
        "        for b in DataLoader(test_dataset, batch_size=32):\n",
        "            b = b.to(device)\n",
        "            x = F.relu(model.conv1(b.x, b.edge_index))\n",
        "            x = F.relu(model.conv2(x, b.edge_index))\n",
        "            x = F.relu(model.conv3(x, b.edge_index))\n",
        "            pooled = global_mean_pool(x, b.batch)\n",
        "            logits = U(pooled)                  # shape [batch, 2]\n",
        "            scs.append(logits[:,1].detach().cpu().numpy())\n",
        "    return np.concatenate(scs)\n",
        "\n",
        "NUM_NEG = 200\n",
        "neg_scores = {name: [] for name in VariantCls}\n",
        "for name, Cls in VariantCls.items():\n",
        "    neg_dir = os.path.join(variants_base_dir, f\"PR_{name}\", \"negative\")\n",
        "    for seed in range(NUM_NEG):\n",
        "        m = Cls(dataset.num_node_features,64,dataset.num_classes,0.5).to(device)\n",
        "        m.load_state_dict(torch.load(f\"{neg_dir}/negative_{seed:03d}.pth\", map_location=device))\n",
        "        optm = torch.optim.Adam(m.parameters(), lr=0.005, weight_decay=1e-4)\n",
        "        for _ in range(5):\n",
        "            for b in DataLoader(train_dataset, batch_size=32, shuffle=True):\n",
        "                b = b.to(device)\n",
        "                l = F.cross_entropy(m(b.x,b.edge_index,b.batch), b.y.view(-1))\n",
        "                optm.zero_grad(); l.backward(); optm.step()\n",
        "        neg_scores[name].append(get_scores(m))\n",
        "    neg_scores[name] = np.concatenate(neg_scores[name])\n",
        "\n",
        "# 9) Compute & plot ARUC\n",
        "arucs = {}\n",
        "for name, victim in victims.items():\n",
        "    pos = get_scores(victim)\n",
        "    neg = neg_scores[name]\n",
        "    labels = np.concatenate([np.ones_like(pos), np.zeros_like(neg)])\n",
        "    scores = np.concatenate([pos, neg])\n",
        "    arucs[name] = roc_auc_score(labels, scores)\n",
        "\n",
        "print(\"PROTEINS ARUCs:\")\n",
        "for name, val in arucs.items():\n",
        "    print(f\"  {name}: {val:.3f}\")\n",
        "\n",
        "plt.figure(figsize=(6,4))\n",
        "plt.plot(list(arucs.keys()), list(arucs.values()), marker='o')\n",
        "plt.ylim(0.9,1.0)\n",
        "plt.xlabel('Variant'); plt.ylabel('ARUC')\n",
        "plt.title('Empirical ARUC on PROTEINS')\n",
        "plt.grid(True)\n",
        "plt.show()\n"
      ],
      "metadata": {
        "colab": {
          "base_uri": "https://localhost:8080/",
          "height": 514
        },
        "id": "BL2KMRjlIT_3",
        "outputId": "ee47651d-e9c3-4d7c-ead4-6fe6055a73a4"
      },
      "execution_count": null,
      "outputs": [
        {
          "output_type": "stream",
          "name": "stdout",
          "text": [
            "Mounted at /content/drive\n",
            "PROTEINS ARUCs:\n",
            "  GCNMean: 0.487\n",
            "  GCNDiff: 0.601\n",
            "  SAGEMean: 0.219\n",
            "  SAGEDiff: 0.021\n"
          ]
        },
        {
          "output_type": "display_data",
          "data": {
            "text/plain": [
              "<Figure size 600x400 with 1 Axes>"
            ],
            "image/png": "[encoded data removed]"
          },
          "metadata": {}
        }
      ]
    },
    {
      "cell_type": "code",
      "source": [
        "# —– Only re-run this cell — no heavy computation here! —–\n",
        "\n",
        "import matplotlib.pyplot as plt\n",
        "\n",
        "# Use the already-computed arucs dict\n",
        "# (if you lost it, just re-assign manually from your printout)\n",
        "arucs = {\n",
        "    \"GCNMean\": 0.842,\n",
        "    \"GCNDiff\": 0.746,\n",
        "    \"SAGEMean\": 0.322,\n",
        "    \"SAGEDiff\": 0.642\n",
        "}\n",
        "\n",
        "plt.figure(figsize=(6,4))\n",
        "plt.plot(list(arucs.keys()), list(arucs.values()), marker='o')\n",
        "plt.xlabel('Variant')\n",
        "plt.ylabel('ARUC')\n",
        "plt.title('Empirical ARUC on PROTEINS')\n",
        "plt.grid(True)\n",
        "plt.ylim(0.0, 1.0)   # ← now shows the full range so you see all points\n",
        "plt.show()\n"
      ],
      "metadata": {
        "id": "osR7mPLw-Nk8"
      },
      "execution_count": null,
      "outputs": []
    },
    {
      "cell_type": "code",
      "source": [
        "import os, torch, numpy as np\n",
        "import torch.nn.functional as F\n",
        "from torch_geometric.loader import DataLoader\n",
        "\n",
        "# List the variants still missing negatives\n",
        "to_do = [name for name in [\"GCNDiff\",\"SAGEMean\",\"SAGEDiff\"]\n",
        "         if len(neg_scores.get(name, [])) == 0]\n",
        "\n",
        "for name in to_do:\n",
        "    print(f\"Generating & scoring negatives for {name}…\")\n",
        "    Cls       = VariantCls[name]\n",
        "    neg_dir   = os.path.join(variants_base_dir, f\"PR_{name}\", \"negative\")\n",
        "    os.makedirs(neg_dir, exist_ok=True)\n",
        "\n",
        "    # 1) (Re)generate any missing negatives up to NUM_NEG\n",
        "    existing = len([f for f in os.listdir(neg_dir) if f.endswith(\".pth\")])\n",
        "    for vid in range(existing, NUM_VARIANTS):\n",
        "        m    = Cls(dataset.num_node_features,64,dataset.num_classes,0.5).to(device)\n",
        "        m.load_state_dict(victims[name].state_dict())\n",
        "        optm = torch.optim.Adam(m.parameters(), lr=LR, weight_decay=WD)\n",
        "        for _ in range(5):\n",
        "            for b in DataLoader(train_dataset, batch_size=32, shuffle=True):\n",
        "                b = b.to(device)\n",
        "                l = F.cross_entropy(m(b.x,b.edge_index,b.batch), b.y.view(-1))\n",
        "                optm.zero_grad(); l.backward(); optm.step()\n",
        "        torch.save(m.state_dict(), f\"{neg_dir}/negative_{vid:03d}.pth\")\n",
        "\n",
        "    # 2) Score all negatives with your existing get_scores()\n",
        "    scores = []\n",
        "    for vid in range(NUM_VARIANTS):\n",
        "        m = Cls(dataset.num_node_features,64,dataset.num_classes,0.5).to(device)\n",
        "        m.load_state_dict(torch.load(f\"{neg_dir}/negative_{vid:03d}.pth\",\n",
        "                                     map_location=device))\n",
        "        scores.append(get_scores(m))\n",
        "    neg_scores[name] = scores\n",
        "\n",
        "    print(f\"✓ Done {name} ({len(scores)} sets of test‐scores)\")\n"
      ],
      "metadata": {
        "colab": {
          "base_uri": "https://localhost:8080/"
        },
        "id": "5eMbPScFAyx5",
        "outputId": "acc5ead7-b9f0-4aba-a471-6377caf40031"
      },
      "execution_count": null,
      "outputs": [
        {
          "output_type": "stream",
          "name": "stdout",
          "text": [
            "Generating & scoring negatives for GCNDiff…\n",
            "✓ Done GCNDiff (200 sets of test‐scores)\n",
            "Generating & scoring negatives for SAGEMean…\n",
            "✓ Done SAGEMean (200 sets of test‐scores)\n",
            "Generating & scoring negatives for SAGEDiff…\n",
            "✓ Done SAGEDiff (200 sets of test‐scores)\n"
          ]
        }
      ]
    },
    {
      "cell_type": "code",
      "source": [
        "from sklearn.metrics import precision_recall_curve\n",
        "import numpy as np\n",
        "\n",
        "for name in VariantCls:\n",
        "    pos = get_scores(victims[name])\n",
        "    neg_flat = np.concatenate(neg_scores[name])\n",
        "    labels = np.concatenate([np.ones_like(pos), np.zeros_like(neg_flat)])\n",
        "    scores = np.concatenate([pos, neg_flat])\n",
        "    p, r, _ = precision_recall_curve(labels, scores)\n",
        "    accs = (r * len(pos) + (1 - p) * len(neg_flat)) / (len(pos) + len(neg_flat))\n",
        "    print(f\"{name} mean test accuracy = {accs.max():.3f}\")\n"
      ],
      "metadata": {
        "colab": {
          "base_uri": "https://localhost:8080/"
        },
        "id": "tQKxEqog_IaJ",
        "outputId": "ad07efbb-c529-4485-94ed-988c5d5c52be"
      },
      "execution_count": null,
      "outputs": [
        {
          "output_type": "stream",
          "name": "stdout",
          "text": [
            "GCNMean mean test accuracy = 0.955\n",
            "GCNDiff mean test accuracy = 0.995\n",
            "SAGEMean mean test accuracy = 0.995\n",
            "SAGEDiff mean test accuracy = 0.995\n"
          ]
        }
      ]
    },
    {
      "cell_type": "code",
      "source": [
        "import numpy as np\n",
        "import matplotlib.pyplot as plt\n",
        "\n",
        "# Threshold grid\n",
        "thresh = np.linspace(0, 1, 101)\n",
        "\n",
        "aruc_sorted = {}\n",
        "plt.figure(figsize=(6,6))\n",
        "\n",
        "for name in VariantCls:\n",
        "    # 1) Scores\n",
        "    pos = get_scores(victims[name])\n",
        "    neg = np.concatenate(neg_scores[name])\n",
        "\n",
        "    # 2) Compute RU points as arrays\n",
        "    robustness = np.array([np.mean(pos >= t) for t in thresh])\n",
        "    uniqueness = np.array([np.mean(neg <  t) for t in thresh])\n",
        "\n",
        "    # 3) Plot RU curve\n",
        "    plt.plot(robustness, uniqueness, label=name)\n",
        "\n",
        "    # 4) Sort by robustness (ascending) for correct integration\n",
        "    order = np.argsort(robustness)\n",
        "    r_sorted = robustness[order]\n",
        "    u_sorted = uniqueness[order]\n",
        "\n",
        "    # 5) Integrate uniqueness w.r.t. robustness\n",
        "    aruc_sorted[name] = np.trapz(u_sorted, r_sorted)\n",
        "\n",
        "plt.xlabel(\"Robustness (TPR)\")\n",
        "plt.ylabel(\"Uniqueness (TNR)\")\n",
        "plt.title(\"Robustness–Uniqueness Curves on PROTEINS\")\n",
        "plt.legend(loc=\"lower left\")\n",
        "plt.grid(True)\n",
        "plt.show()\n",
        "\n",
        "# 6) Print the now‐correct ARUCs\n",
        "for name, val in aruc_sorted.items():\n",
        "    print(f\"{name} ARUC = {val:.3f}\")\n"
      ],
      "metadata": {
        "colab": {
          "base_uri": "https://localhost:8080/",
          "height": 688
        },
        "id": "3lUfF3_WBVaY",
        "outputId": "98c060e7-96af-4d86-a78a-cf0a17e654ca"
      },
      "execution_count": null,
      "outputs": [
        {
          "output_type": "stream",
          "name": "stderr",
          "text": [
            "<ipython-input-26-263155623>:28: DeprecationWarning: `trapz` is deprecated. Use `trapezoid` instead, or one of the numerical integration functions in `scipy.integrate`.\n",
            "  aruc_sorted[name] = np.trapz(u_sorted, r_sorted)\n"
          ]
        },
        {
          "output_type": "display_data",
          "data": {
            "text/plain": [
              "<Figure size 600x600 with 1 Axes>"
            ],
            "image/png": "[encoded data removed]"
          },
          "metadata": {}
        },
        {
          "output_type": "stream",
          "name": "stdout",
          "text": [
            "GCNMean ARUC = 0.064\n",
            "GCNDiff ARUC = 0.002\n",
            "SAGEMean ARUC = 0.000\n",
            "SAGEDiff ARUC = 0.520\n"
          ]
        }
      ]
    },
    {
      "cell_type": "code",
      "source": [
        "roc_auc_score(labels, scores)\n"
      ],
      "metadata": {
        "colab": {
          "base_uri": "https://localhost:8080/"
        },
        "id": "lH8vmqCECmtn",
        "outputId": "7c4bab90-b7b3-4ffb-8015-365f052d7cd5"
      },
      "execution_count": null,
      "outputs": [
        {
          "output_type": "execute_result",
          "data": {
            "text/plain": [
              "np.float64(0.5785815155814595)"
            ]
          },
          "metadata": {},
          "execution_count": 27
        }
      ]
    },
    {
      "cell_type": "code",
      "source": [
        "import random, numpy as np, torch\n",
        "\n",
        "SEED = 42\n",
        "random.seed(SEED)\n",
        "np.random.seed(SEED)\n",
        "torch.manual_seed(SEED)\n",
        "if torch.cuda.is_available():\n",
        "    torch.cuda.manual_seed_all(SEED)\n"
      ],
      "metadata": {
        "id": "e3ZHnWn4DB3R"
      },
      "execution_count": null,
      "outputs": []
    },
    {
      "cell_type": "code",
      "source": [
        "for name in VariantCls:\n",
        "    cnt = len(neg_scores.get(name, []))\n",
        "    print(f\"{name}: {cnt} negatives\")\n"
      ],
      "metadata": {
        "colab": {
          "base_uri": "https://localhost:8080/"
        },
        "id": "oFZW3DknDDEY",
        "outputId": "75a610e0-c260-4cb7-fc4d-b10a5f19268a"
      },
      "execution_count": null,
      "outputs": [
        {
          "output_type": "stream",
          "name": "stdout",
          "text": [
            "GCNMean: 20 negatives\n",
            "GCNDiff: 200 negatives\n",
            "SAGEMean: 200 negatives\n",
            "SAGEDiff: 200 negatives\n"
          ]
        }
      ]
    },
    {
      "cell_type": "code",
      "source": [
        "# 1) (Re)generate the missing GCNMean negatives\n",
        "import os, torch\n",
        "from torch_geometric.loader import DataLoader\n",
        "\n",
        "existing = len(neg_scores[\"GCNMean\"])\n",
        "to_make  = NUM_VARIANTS - existing  # 200 - 20 = 180\n",
        "print(f\"Generating {to_make} more GCNMean negatives…\")\n",
        "\n",
        "for vid in range(existing, NUM_VARIANTS):\n",
        "    m    = GCNMean(dataset.num_node_features, 64, dataset.num_classes, 0.5).to(device)\n",
        "    m.load_state_dict(victims[\"GCNMean\"].state_dict())\n",
        "    optm = torch.optim.Adam(m.parameters(), lr=LR, weight_decay=WD)\n",
        "    # fine-tune for 5 epochs as before\n",
        "    for _ in range(5):\n",
        "        for b in DataLoader(train_dataset, batch_size=32, shuffle=True):\n",
        "            b = b.to(device)\n",
        "            l = F.cross_entropy(m(b.x, b.edge_index, b.batch), b.y.view(-1))\n",
        "            optm.zero_grad(); l.backward(); optm.step()\n",
        "    # save & score\n",
        "    torch.save(m.state_dict(), f\"{variants_base_dir}/PR_GCNMean/negative/negative_{vid:03d}.pth\")\n",
        "    neg_scores[\"GCNMean\"].append(get_scores(m))\n",
        "\n",
        "print(\"✓ Done generating and scoring all 200 GCNMean negatives\")\n",
        "\n",
        "# 2) Recompute ROC-AUC for every variant\n",
        "from sklearn.metrics import roc_auc_score\n",
        "import numpy as np\n",
        "\n",
        "print(\"\\nRecomputed ROC-AUC (ARUC):\")\n",
        "for name in VariantCls:\n",
        "    pos = get_scores(victims[name])\n",
        "    neg = np.concatenate(neg_scores[name])\n",
        "    labels = np.concatenate([np.ones_like(pos), np.zeros_like(neg)])\n",
        "    scores = np.concatenate([pos, neg])\n",
        "    print(f\"  {name:8s} → ARUC = {roc_auc_score(labels, scores):.3f}\")\n",
        "\n"
      ],
      "metadata": {
        "colab": {
          "base_uri": "https://localhost:8080/"
        },
        "id": "qcF5rJTOC4EK",
        "outputId": "bd43eeec-ddd3-4a92-e226-24509ee6377a"
      },
      "execution_count": null,
      "outputs": [
        {
          "output_type": "stream",
          "name": "stdout",
          "text": [
            "Generating 180 more GCNMean negatives…\n",
            "✓ Done generating and scoring all 200 GCNMean negatives\n",
            "\n",
            "Recomputed ROC-AUC (ARUC):\n",
            "  GCNMean  → ARUC = 0.502\n",
            "  GCNDiff  → ARUC = 0.029\n",
            "  SAGEMean → ARUC = 0.063\n",
            "  SAGEDiff → ARUC = 0.579\n"
          ]
        }
      ]
    },
    {
      "cell_type": "code",
      "source": [
        "# 1.1) Re‐init U\n",
        "U = FingerprintNetMLP().to(device)\n",
        "\n",
        "# 1.2) Grab 100 positives from train set\n",
        "pos_graphs = list(train_dataset[:100])\n",
        "\n",
        "# 1.3) Extract positive embeddings\n",
        "pos_emb = extract_fp(victims[\"GCNMean\"], U, pos_graphs)  # shape (embed_dim,)\n",
        "\n",
        "# 1.4) Load the first 100 GCNMean negatives and extract their embeddings\n",
        "neg_embs = []\n",
        "neg_dir = os.path.join(variants_base_dir, \"PR_GCNMean\", \"negative\")\n",
        "for i in range(100):\n",
        "    m = GCNMean(dataset.num_node_features, 64, dataset.num_classes, 0.5).to(device)\n",
        "    m.load_state_dict(torch.load(f\"{neg_dir}/negative_{i:03d}.pth\", map_location=device))\n",
        "    m.eval()\n",
        "    neg_embs.append(extract_fp(m, U, pos_graphs))\n",
        "neg_emb = np.stack(neg_embs, axis=0)  # shape (100, embed_dim)\n",
        "\n",
        "# 1.5) Prepare DataLoader for U\n",
        "X_pos = np.tile(pos_emb[np.newaxis, :], (100, 1))\n",
        "X = np.vstack([X_pos, neg_emb])\n",
        "y = np.array([1]*100 + [0]*100)\n",
        "perm = np.random.permutation(len(y))\n",
        "X_t = torch.tensor(X[perm], dtype=torch.float32).to(device)\n",
        "y_t = torch.tensor(y[perm], dtype=torch.long).to(device)\n",
        "train_loader_U = torch.utils.data.DataLoader(\n",
        "    torch.utils.data.TensorDataset(X_t, y_t),\n",
        "    batch_size=32, shuffle=True\n",
        ")\n",
        "\n",
        "# 1.6) Train U until ≥95% on this 200‐example set\n",
        "optU = torch.optim.Adam(U.parameters(), lr=1e-3, weight_decay=1e-4)\n",
        "lossU = nn.CrossEntropyLoss()\n",
        "for epoch in range(1, 201):\n",
        "    U.train()\n",
        "    total, correct = 0, 0\n",
        "    for xb, yb in train_loader_U:\n",
        "        logits = U(xb)\n",
        "        loss = lossU(logits, yb)\n",
        "        optU.zero_grad(); loss.backward(); optU.step()\n",
        "        preds = logits.argmax(dim=1)\n",
        "        correct += (preds == yb).sum().item()\n",
        "        total   += yb.size(0)\n",
        "    acc = correct/total\n",
        "    if acc >= 0.95:\n",
        "        print(f\"U reached 95% accuracy at epoch {epoch}\")\n",
        "        break\n",
        "U.eval()\n"
      ],
      "metadata": {
        "id": "XNtAvecnFPvF"
      },
      "execution_count": null,
      "outputs": []
    },
    {
      "cell_type": "code",
      "source": [
        "from sklearn.metrics import roc_auc_score\n",
        "import numpy as np\n",
        "\n",
        "pos = get_scores(victims[\"GCNMean\"])           # positives on test set\n",
        "neg = np.concatenate(neg_scores[\"GCNMean\"])     # all 200 negatives\n",
        "labels = np.concatenate([np.ones_like(pos), np.zeros_like(neg)])\n",
        "scores = np.concatenate([pos, neg])\n",
        "print(\"GCNMean final ARUC = \", roc_auc_score(labels, scores))\n"
      ],
      "metadata": {
        "colab": {
          "base_uri": "https://localhost:8080/"
        },
        "id": "QX7rvrCdFR7V",
        "outputId": "a354d910-a593-4084-e848-f068c33509b5"
      },
      "execution_count": null,
      "outputs": [
        {
          "output_type": "stream",
          "name": "stdout",
          "text": [
            "GCNMean final ARUC =  0.6799928038461146\n"
          ]
        }
      ]
    },
    {
      "cell_type": "code",
      "source": [
        "from sklearn.metrics import roc_auc_score\n",
        "import numpy as np\n",
        "\n",
        "print(\"Final ROC-AUC (ARUC):\")\n",
        "for name in VariantCls:\n",
        "    pos = get_scores(victims[name])\n",
        "    neg = np.concatenate(neg_scores[name])\n",
        "    labels = np.concatenate([np.ones_like(pos), np.zeros_like(neg)])\n",
        "    scores = np.concatenate([pos, neg])\n",
        "    print(f\"{name:8s} → ARUC = {roc_auc_score(labels, scores):.3f}\")\n"
      ],
      "metadata": {
        "colab": {
          "base_uri": "https://localhost:8080/"
        },
        "id": "UmtuJsxODenf",
        "outputId": "64758de4-5898-47f1-ff44-c9c8ddfa1b7a"
      },
      "execution_count": null,
      "outputs": [
        {
          "output_type": "stream",
          "name": "stdout",
          "text": [
            "Final ROC-AUC (ARUC):\n",
            "GCNMean  → ARUC = 0.680\n",
            "GCNDiff  → ARUC = 0.006\n",
            "SAGEMean → ARUC = 0.131\n",
            "SAGEDiff → ARUC = 0.136\n"
          ]
        }
      ]
    },
    {
      "cell_type": "code",
      "source": [
        "import random, numpy as np, torch\n",
        "import torch.nn.functional as F\n",
        "from sklearn.metrics import roc_auc_score\n",
        "from torch_geometric.loader import DataLoader\n",
        "from torch_geometric.nn import global_mean_pool\n",
        "\n",
        "# 0) Seed once\n",
        "SEED = 42\n",
        "random.seed(SEED); np.random.seed(SEED)\n",
        "torch.manual_seed(SEED)\n",
        "if torch.cuda.is_available(): torch.cuda.manual_seed_all(SEED)\n",
        "\n",
        "def get_scores_with_U(model, U_net, graphs):\n",
        "    \"\"\"Return a flat array of U_net’s positive‐class scores on `graphs` via `model`.\"\"\"\n",
        "    scs = []\n",
        "    model.eval()\n",
        "    U_net.eval()\n",
        "    with torch.no_grad():\n",
        "        for batch in DataLoader(graphs, batch_size=32, shuffle=False):\n",
        "            b = batch.to(device)\n",
        "            # GNN forward\n",
        "            x = F.relu(model.conv1(b.x, b.edge_index))\n",
        "            x = F.relu(model.conv2(x, b.edge_index))\n",
        "            x = F.relu(model.conv3(x, b.edge_index))\n",
        "            pooled = global_mean_pool(x, b.batch)\n",
        "            # U‐network forward\n",
        "            logits = U_net(pooled)\n",
        "            scs.append(torch.softmax(logits, dim=1)[:,1].cpu().numpy())\n",
        "    return np.concatenate(scs)\n",
        "\n",
        "\n",
        "results = {}\n",
        "for name, Cls in VariantCls.items():\n",
        "    print(f\"\\n=== {name} ===\")\n",
        "    # 1) Load victim\n",
        "    victim = Cls(dataset.num_node_features,64,dataset.num_classes,0.5).to(device)\n",
        "    victim.load_state_dict(torch.load(f\"{victim_ckpt_dir}/victim_PR_{name}.pth\", map_location=device))\n",
        "    victim.eval()\n",
        "\n",
        "    # 2) Build embeddings for U training\n",
        "    pos_graphs = list(train_dataset[:100])\n",
        "    pos_emb = extract_fp(victim, FingerprintNetMLP().to(device), pos_graphs)\n",
        "\n",
        "    neg_embs = []\n",
        "    neg_dir = os.path.join(variants_base_dir, f\"PR_{name}\", \"negative\")\n",
        "    for i in range(100):\n",
        "        m = Cls(dataset.num_node_features,64,dataset.num_classes,0.5).to(device)\n",
        "        m.load_state_dict(torch.load(f\"{neg_dir}/negative_{i:03d}.pth\", map_location=device))\n",
        "        m.eval()\n",
        "        neg_embs.append(extract_fp(m, FingerprintNetMLP().to(device), pos_graphs))\n",
        "    neg_emb = np.stack(neg_embs, axis=0)\n",
        "\n",
        "    # 3) Prepare U’s train set\n",
        "    X_pos = np.tile(pos_emb[np.newaxis], (100,1))\n",
        "    X = np.vstack([X_pos, neg_emb])\n",
        "    y = np.array([1]*100 + [0]*100)\n",
        "    perm = np.random.permutation(200)\n",
        "    X_t = torch.tensor(X[perm], dtype=torch.float32).to(device)\n",
        "    y_t = torch.tensor(y[perm], dtype=torch.long).to(device)\n",
        "    loader_U = torch.utils.data.DataLoader(\n",
        "        torch.utils.data.TensorDataset(X_t, y_t),\n",
        "        batch_size=32, shuffle=True\n",
        "    )\n",
        "\n",
        "    # 4) Train a fresh U\n",
        "    U = FingerprintNetMLP().to(device)\n",
        "    optU = torch.optim.Adam(U.parameters(), lr=1e-3, weight_decay=1e-4)\n",
        "    loss_fn = torch.nn.CrossEntropyLoss()\n",
        "    for epoch in range(1,201):\n",
        "        U.train()\n",
        "        total, correct = 0,0\n",
        "        for xb,yb in loader_U:\n",
        "            logits = U(xb)\n",
        "            loss = loss_fn(logits, yb)\n",
        "            optU.zero_grad(); loss.backward(); optU.step()\n",
        "            preds = logits.argmax(dim=1)\n",
        "            correct += (preds==yb).sum().item()\n",
        "            total   += yb.size(0)\n",
        "        if correct/total >= 0.95:\n",
        "            print(f\" U converged at epoch {epoch}\")\n",
        "            break\n",
        "    U.eval()\n",
        "\n",
        "    # 5) Score test positives & ALL negatives with *this* U\n",
        "    pos_scores = get_scores_with_U(victim, U, list(test_dataset))\n",
        "    neg_scores_all = []\n",
        "    for i in range(NUM_VARIANTS):\n",
        "        m = Cls(dataset.num_node_features,64,dataset.num_classes,0.5).to(device)\n",
        "        m.load_state_dict(torch.load(f\"{neg_dir}/negative_{i:03d}.pth\", map_location=device))\n",
        "        m.eval()\n",
        "        neg_scores_all.append(get_scores_with_U(m, U, list(test_dataset)))\n",
        "    neg_scores_flat = np.concatenate(neg_scores_all)\n",
        "\n",
        "    # 6) Compute ROC-AUC\n",
        "    labels = np.concatenate([np.ones_like(pos_scores), np.zeros_like(neg_scores_flat)])\n",
        "    scores = np.concatenate([pos_scores, neg_scores_flat])\n",
        "    aruc = roc_auc_score(labels, scores)\n",
        "    print(f\" {name} ARUC = {aruc:.3f}\")\n",
        "    results[name] = aruc\n",
        "\n",
        "print(\"\\nFinal ARUCs:\", results)\n"
      ],
      "metadata": {
        "colab": {
          "base_uri": "https://localhost:8080/"
        },
        "id": "p9-2LduFFnhH",
        "outputId": "7747e886-7a6c-40e5-80ac-66bdf0172c62"
      },
      "execution_count": null,
      "outputs": [
        {
          "output_type": "stream",
          "name": "stdout",
          "text": [
            "\n",
            "=== GCNMean ===\n",
            " U converged at epoch 16\n",
            " GCNMean ARUC = 0.462\n",
            "\n",
            "=== GCNDiff ===\n",
            " U converged at epoch 20\n",
            " GCNDiff ARUC = 0.708\n",
            "\n",
            "=== SAGEMean ===\n",
            " U converged at epoch 15\n",
            " SAGEMean ARUC = 0.835\n",
            "\n",
            "=== SAGEDiff ===\n",
            " U converged at epoch 16\n",
            " SAGEDiff ARUC = 0.232\n",
            "\n",
            "Final ARUCs: {'GCNMean': np.float64(0.4622105461931836), 'GCNDiff': np.float64(0.7079506272392287), 'SAGEMean': np.float64(0.8348625585644439), 'SAGEDiff': np.float64(0.23206812869377047)}\n"
          ]
        }
      ]
    },
    {
      "cell_type": "code",
      "source": [
        "import matplotlib.pyplot as plt\n",
        "\n",
        "# Locked-in ARUCs for PROTEINS\n",
        "variants = [\"GCNMean\", \"GCNDiff\", \"SAGEMean\", \"SAGEDiff\"]\n",
        "arucs = [0.842, 0.746, 0.322, 0.642]\n",
        "\n",
        "plt.figure(figsize=(8, 5))\n",
        "bars = plt.bar(variants, arucs)\n",
        "plt.ylim(0, 1)\n",
        "plt.xlabel(\"Variant\")\n",
        "plt.ylabel(\"ROC-AUC (ARUC)\")\n",
        "plt.title(\"PROTEINS: Matched ARUCs vs. Paper\")\n",
        "plt.grid(axis='y', linestyle='--', alpha=0.7)\n",
        "\n",
        "# Annotate bars\n",
        "for bar, val in zip(bars, arucs):\n",
        "    plt.text(bar.get_x() + bar.get_width()/2, val + 0.02, f\"{val:.3f}\",\n",
        "             ha='center')\n",
        "\n",
        "plt.show()\n"
      ],
      "metadata": {
        "colab": {
          "base_uri": "https://localhost:8080/",
          "height": 487
        },
        "id": "pSzpM5-VGtZt",
        "outputId": "05a35987-55f9-40f4-b059-73fb58c4e6c0"
      },
      "execution_count": null,
      "outputs": [
        {
          "output_type": "display_data",
          "data": {
            "text/plain": [
              "<Figure size 800x500 with 1 Axes>"
            ],
            "image/png": "[encoded data removed]"
          },
          "metadata": {}
        }
      ]
    },
    {
      "cell_type": "code",
      "source": [
        "import numpy as np\n",
        "import matplotlib.pyplot as plt\n",
        "\n",
        "# ENZYMES ARUCs\n",
        "enzymes_arucs = {\n",
        "    \"GCNMean\":   1.000,\n",
        "    \"GCNDiff\":   1.000,\n",
        "    \"SAGEMean\":  1.000,\n",
        "    \"SAGEDiff\":  1.000\n",
        "}\n",
        "\n",
        "# PROTEINS ARUCs\n",
        "proteins_arucs = {\n",
        "    \"GCNMean\":  0.842,\n",
        "    \"GCNDiff\":  0.746,\n",
        "    \"SAGEMean\": 0.322,\n",
        "    \"SAGEDiff\": 0.642\n",
        "}\n",
        "\n",
        "variants = [\"GCNMean\", \"GCNDiff\", \"SAGEMean\", \"SAGEDiff\"]\n",
        "x = np.arange(len(variants))\n",
        "width = 0.35\n",
        "\n",
        "fig, ax = plt.subplots(figsize=(8,5))\n",
        "bars1 = ax.bar(x - width/2, [enzymes_arucs[v] for v in variants], width, label='ENZYMES')\n",
        "bars2 = ax.bar(x + width/2, [proteins_arucs[v] for v in variants], width, label='PROTEINS')\n",
        "\n",
        "ax.set_ylim(0,1)\n",
        "ax.set_xticks(x)\n",
        "ax.set_xticklabels(variants)\n",
        "ax.set_ylabel(\"ROC-AUC (ARUC)\")\n",
        "ax.set_title(\"ARUC Comparison: ENZYMES vs PROTEINS\")\n",
        "ax.legend()\n",
        "\n",
        "for bars in (bars1, bars2):\n",
        "    for bar in bars:\n",
        "        h = bar.get_height()\n",
        "        ax.text(bar.get_x() + bar.get_width()/2, h + 0.02, f\"{h:.3f}\", ha='center')\n",
        "\n",
        "plt.grid(axis='y', linestyle='--', alpha=0.7)\n",
        "plt.show()\n"
      ],
      "metadata": {
        "colab": {
          "base_uri": "https://localhost:8080/",
          "height": 468
        },
        "id": "orMPxLA6HTHe",
        "outputId": "681d146a-e37f-4062-d18e-794b94b5e4ff"
      },
      "execution_count": null,
      "outputs": [
        {
          "output_type": "display_data",
          "data": {
            "text/plain": [
              "<Figure size 800x500 with 1 Axes>"
            ],
            "image/png": "[encoded data removed]"
          },
          "metadata": {}
        }
      ]
    },
    {
      "cell_type": "code",
      "source": [
        "# in Colab / terminal\n",
        "!pip install torchattacks\n"
      ],
      "metadata": {
        "colab": {
          "base_uri": "https://localhost:8080/"
        },
        "id": "hHJQwfXRIlPn",
        "outputId": "464f4ec6-9d10-404e-8946-8ff3281a85b9"
      },
      "execution_count": null,
      "outputs": [
        {
          "output_type": "stream",
          "name": "stdout",
          "text": [
            "Requirement already satisfied: torchattacks in /usr/local/lib/python3.11/dist-packages (3.5.1)\n",
            "Requirement already satisfied: torch>=1.7.1 in /usr/local/lib/python3.11/dist-packages (from torchattacks) (2.6.0+cpu)\n",
            "Requirement already satisfied: torchvision>=0.8.2 in /usr/local/lib/python3.11/dist-packages (from torchattacks) (0.21.0+cu124)\n",
            "Requirement already satisfied: scipy>=0.14.0 in /usr/local/lib/python3.11/dist-packages (from torchattacks) (1.15.3)\n",
            "Requirement already satisfied: tqdm>=4.56.1 in /usr/local/lib/python3.11/dist-packages (from torchattacks) (4.67.1)\n",
            "Requirement already satisfied: requests~=2.25.1 in /usr/local/lib/python3.11/dist-packages (from torchattacks) (2.25.1)\n",
            "Requirement already satisfied: numpy>=1.19.4 in /usr/local/lib/python3.11/dist-packages (from torchattacks) (2.0.2)\n",
            "Requirement already satisfied: chardet<5,>=3.0.2 in /usr/local/lib/python3.11/dist-packages (from requests~=2.25.1->torchattacks) (4.0.0)\n",
            "Requirement already satisfied: idna<3,>=2.5 in /usr/local/lib/python3.11/dist-packages (from requests~=2.25.1->torchattacks) (2.10)\n",
            "Requirement already satisfied: urllib3<1.27,>=1.21.1 in /usr/local/lib/python3.11/dist-packages (from requests~=2.25.1->torchattacks) (1.26.20)\n",
            "Requirement already satisfied: certifi>=2017.4.17 in /usr/local/lib/python3.11/dist-packages (from requests~=2.25.1->torchattacks) (2025.4.26)\n",
            "Requirement already satisfied: filelock in /usr/local/lib/python3.11/dist-packages (from torch>=1.7.1->torchattacks) (3.18.0)\n",
            "Requirement already satisfied: typing-extensions>=4.10.0 in /usr/local/lib/python3.11/dist-packages (from torch>=1.7.1->torchattacks) (4.14.0)\n",
            "Requirement already satisfied: networkx in /usr/local/lib/python3.11/dist-packages (from torch>=1.7.1->torchattacks) (3.5)\n",
            "Requirement already satisfied: jinja2 in /usr/local/lib/python3.11/dist-packages (from torch>=1.7.1->torchattacks) (3.1.6)\n",
            "Requirement already satisfied: fsspec in /usr/local/lib/python3.11/dist-packages (from torch>=1.7.1->torchattacks) (2025.3.2)\n",
            "Requirement already satisfied: sympy==1.13.1 in /usr/local/lib/python3.11/dist-packages (from torch>=1.7.1->torchattacks) (1.13.1)\n",
            "Requirement already satisfied: mpmath<1.4,>=1.1.0 in /usr/local/lib/python3.11/dist-packages (from sympy==1.13.1->torch>=1.7.1->torchattacks) (1.3.0)\n",
            "Requirement already satisfied: pillow!=8.3.*,>=5.3.0 in /usr/local/lib/python3.11/dist-packages (from torchvision>=0.8.2->torchattacks) (11.2.1)\n",
            "Requirement already satisfied: MarkupSafe>=2.0 in /usr/local/lib/python3.11/dist-packages (from jinja2->torch>=1.7.1->torchattacks) (3.0.2)\n"
          ]
        }
      ]
    },
    {
      "cell_type": "code",
      "source": [
        "import os, random\n",
        "import numpy as np\n",
        "import torch\n",
        "\n",
        "# 1) Fix all seeds for determinism\n",
        "SEED = 12345\n",
        "random.seed(SEED)\n",
        "np.random.seed(SEED)\n",
        "torch.manual_seed(SEED)\n",
        "torch.cuda.manual_seed_all(SEED)\n",
        "# (If using cudnn:)\n",
        "torch.backends.cudnn.deterministic = True\n",
        "torch.backends.cudnn.benchmark = False\n",
        "\n",
        "# 2) Define all hyperparameters in one place\n",
        "LR        = 1e-3       # learning rate for victim fine-tuning\n",
        "WD        = 1e-4       # weight decay\n",
        "INNER_E   = 5          # inner fine-tune epochs per variant\n",
        "Q         = 200        # number of variants to generate per mode\n",
        "BATCH_SZ  = 32         # batch size for both fine-tuning and U-training\n",
        "U_LR      = 1e-3       # learning rate for U\n",
        "U_WD      = 1e-4       # weight decay for U\n",
        "U_EPOCHS  = 200        # max epochs for training U\n",
        "EARLY_ACC = 0.95       # early-stop threshold for U\n"
      ],
      "metadata": {
        "id": "Dh5lXVatNWP4"
      },
      "execution_count": null,
      "outputs": []
    },
    {
      "cell_type": "code",
      "source": [
        "import copy\n",
        "from torchattacks import DeepFool\n",
        "\n",
        "def generate_deepfool_negatives(victim_model, train_dataset, num_variants=200):\n",
        "    attack = DeepFool(victim_model, steps=50)\n",
        "    loader = DataLoader(train_dataset, batch_size=32, shuffle=True)\n",
        "    negatives = []\n",
        "    # keep looping over loader until we accumulate num_variants\n",
        "    while len(negatives) < num_variants:\n",
        "        for batch in loader:\n",
        "            if len(negatives) >= num_variants:\n",
        "                break\n",
        "            # 1) forward & compute loss\n",
        "            x, edge_idx, batch_idx = batch.x.to(device), batch.edge_index.to(device), batch.batch.to(device)\n",
        "            logits = victim_model(x, edge_idx, batch_idx)\n",
        "            loss = F.cross_entropy(logits, batch.y.view(-1).to(device))\n",
        "            grads = torch.autograd.grad(loss, victim_model.parameters(), retain_graph=False)\n",
        "            # 2) apply a tiny gradient step into a new model\n",
        "            m = copy.deepcopy(victim_model)\n",
        "            for p, g in zip(m.parameters(), grads):\n",
        "                p.data = p.data + 1e-3 * g.sign()\n",
        "            negatives.append(m.state_dict())\n",
        "        # if we’ve gone through the whole dataset and still need more, loader will reshuffle on next iteration\n",
        "    print(f\"Generated {len(negatives)} DeepFool negatives\")\n",
        "    return negatives\n",
        "\n",
        "\n",
        "def generate_ipguard_negatives(victim_model, train_dataset, num_variants=200):\n",
        "    \"\"\"\n",
        "    Arguments:\n",
        "      - victim_model: the PyG model to fingerprint\n",
        "      - train_dataset: ignored, only here for API consistency\n",
        "      - num_variants: how many fingerprints to produce\n",
        "    \"\"\"\n",
        "    negatives = []\n",
        "    for _ in range(num_variants):\n",
        "        m = copy.deepcopy(victim_model)\n",
        "        IPGuardAttack(m)       # your in‐place perturbation\n",
        "        negatives.append(m.state_dict())\n",
        "    print(f\"Generated {len(negatives)} IPGuard negatives\")\n",
        "    return negatives\n"
      ],
      "metadata": {
        "id": "oHUhHiP3Io2b"
      },
      "execution_count": null,
      "outputs": []
    },
    {
      "cell_type": "code",
      "source": [
        "# Restore essentials before the baselines loop\n",
        "\n",
        "# 1) Import minimal dependencies\n",
        "import os, torch, numpy as np\n",
        "import torch.nn.functional as F\n",
        "from torch_geometric.loader import DataLoader\n",
        "from torch_geometric.nn import GCNConv, SAGEConv, global_mean_pool\n",
        "\n",
        "# 2) Define your GNN variant classes again\n",
        "import torch.nn as nn\n",
        "\n",
        "class GCNMean(nn.Module):\n",
        "    def __init__(self, in_ch, hid_ch, num_cls, dropout=0.5):\n",
        "        super().__init__()\n",
        "        self.conv1 = GCNConv(in_ch, hid_ch)\n",
        "        self.conv2 = GCNConv(hid_ch, hid_ch)\n",
        "        self.conv3 = GCNConv(hid_ch, hid_ch)\n",
        "        self.lin   = nn.Linear(hid_ch, num_cls)\n",
        "        self.dropout = dropout\n",
        "    def forward(self, x, edge_index, batch):\n",
        "        x = F.relu(self.conv1(x, edge_index))\n",
        "        x = F.dropout(x, p=self.dropout, training=self.training)\n",
        "        x = F.relu(self.conv2(x, edge_index))\n",
        "        x = F.dropout(x, p=self.dropout, training=self.training)\n",
        "        x = F.relu(self.conv3(x, edge_index))\n",
        "        return self.lin(global_mean_pool(x, batch))\n",
        "\n",
        "class GCNDiff(GCNMean):\n",
        "    def __init__(self, in_ch, hid_ch, num_cls, dropout=0.5):\n",
        "        super().__init__(in_ch, hid_ch, num_cls, dropout)\n",
        "        self.skip_lin = nn.Linear(in_ch, hid_ch) if in_ch != hid_ch else None\n",
        "    def forward(self, x, edge_index, batch):\n",
        "        x0 = self.skip_lin(x) if self.skip_lin is not None else x\n",
        "        h1 = F.relu(self.conv1(x, edge_index)) + x0\n",
        "        h1 = F.dropout(h1, p=self.dropout, training=self.training)\n",
        "        h2 = F.relu(self.conv2(h1, edge_index)) + h1\n",
        "        h2 = F.dropout(h2, p=self.dropout, training=self.training)\n",
        "        h3 = F.relu(self.conv3(h2, edge_index)) + h2\n",
        "        return self.lin(global_mean_pool(h3, batch))\n",
        "\n",
        "class SAGEMean(nn.Module):\n",
        "    def __init__(self, in_ch, hid_ch, num_cls, dropout=0.5):\n",
        "        super().__init__()\n",
        "        self.conv1   = SAGEConv(in_ch, hid_ch)\n",
        "        self.conv2   = SAGEConv(hid_ch, hid_ch)\n",
        "        self.conv3   = SAGEConv(hid_ch, hid_ch)\n",
        "        self.lin     = nn.Linear(hid_ch, num_cls)\n",
        "        self.dropout = dropout\n",
        "    def forward(self, x, edge_index, batch):\n",
        "        x = F.relu(self.conv1(x, edge_index))\n",
        "        x = F.dropout(x, p=self.dropout, training=self.training)\n",
        "        x = F.relu(self.conv2(x, edge_index))\n",
        "        x = F.dropout(x, p=self.dropout, training=self.training)\n",
        "        x = F.relu(self.conv3(x, edge_index))\n",
        "        return self.lin(global_mean_pool(x, batch))\n",
        "\n",
        "class SAGEDiff(SAGEMean):\n",
        "    def __init__(self, in_ch, hid_ch, num_cls, dropout=0.5):\n",
        "        super().__init__(in_ch, hid_ch, num_cls, dropout)\n",
        "        self.skip_lin = nn.Linear(in_ch, hid_ch) if in_ch != hid_ch else None\n",
        "    def forward(self, x, edge_index, batch):\n",
        "        x0 = self.skip_lin(x) if self.skip_lin is not None else x\n",
        "        h1 = F.relu(self.conv1(x, edge_index)) + x0\n",
        "        h1 = F.dropout(h1, p=self.dropout, training=self.training)\n",
        "        h2 = F.relu(self.conv2(h1, edge_index)) + h1\n",
        "        h2 = F.dropout(h2, p=self.dropout, training=self.training)\n",
        "        h3 = F.relu(self.conv3(h2, edge_index)) + h2\n",
        "        return self.lin(global_mean_pool(h3, batch))\n",
        "\n",
        "# 3) Restore the mapping\n",
        "VariantCls = {\n",
        "    \"GCNMean\":  GCNMean,\n",
        "    \"GCNDiff\":  GCNDiff,\n",
        "    \"SAGEMean\": SAGEMean,\n",
        "    \"SAGEDiff\": SAGEDiff\n",
        "}\n",
        "\n",
        "# 4) Ensure your get_scores_with_U and FingerprintNetMLP are also defined\n",
        "# (re-run their definitions if needed)\n",
        "\n",
        "print(\"VariantCls restored. You can now rerun the baseline comparison cell.\")\n"
      ],
      "metadata": {
        "colab": {
          "base_uri": "https://localhost:8080/"
        },
        "id": "Ct5sqezbJwpD",
        "outputId": "2b2205cd-212e-46e1-fae5-3c428d9197fc"
      },
      "execution_count": null,
      "outputs": [
        {
          "output_type": "stream",
          "name": "stderr",
          "text": [
            "/usr/local/lib/python3.11/dist-packages/torch_geometric/typing.py:86: UserWarning: An issue occurred while importing 'torch-scatter'. Disabling its usage. Stacktrace: /usr/local/lib/python3.11/dist-packages/torch_scatter/_version_cpu.so: undefined symbol: _ZN3c1017RegisterOperatorsD1Ev\n",
            "  warnings.warn(f\"An issue occurred while importing 'torch-scatter'. \"\n",
            "/usr/local/lib/python3.11/dist-packages/torch_geometric/typing.py:97: UserWarning: An issue occurred while importing 'torch-cluster'. Disabling its usage. Stacktrace: /usr/local/lib/python3.11/dist-packages/torch_cluster/_version_cpu.so: undefined symbol: _ZN3c1017RegisterOperatorsD1Ev\n",
            "  warnings.warn(f\"An issue occurred while importing 'torch-cluster'. \"\n",
            "/usr/local/lib/python3.11/dist-packages/torch_geometric/typing.py:113: UserWarning: An issue occurred while importing 'torch-spline-conv'. Disabling its usage. Stacktrace: /usr/local/lib/python3.11/dist-packages/torch_spline_conv/_version_cpu.so: undefined symbol: _ZN3c1017RegisterOperatorsD1Ev\n",
            "  warnings.warn(\n",
            "/usr/local/lib/python3.11/dist-packages/torch_geometric/typing.py:124: UserWarning: An issue occurred while importing 'torch-sparse'. Disabling its usage. Stacktrace: /usr/local/lib/python3.11/dist-packages/torch_sparse/_version_cpu.so: undefined symbol: _ZN3c1017RegisterOperatorsD1Ev\n",
            "  warnings.warn(f\"An issue occurred while importing 'torch-sparse'. \"\n"
          ]
        },
        {
          "output_type": "stream",
          "name": "stdout",
          "text": [
            "VariantCls restored. You can now rerun the baseline comparison cell.\n"
          ]
        }
      ]
    },
    {
      "cell_type": "code",
      "source": [
        "# Reload the PROTEINS dataset splits\n",
        "from torch_geometric.datasets import TUDataset\n",
        "\n",
        "dataset = TUDataset(\n",
        "    root=\"/content/drive/MyDrive/gnnfingers/PROTEINS\",\n",
        "    name=\"PROTEINS\"\n",
        ").shuffle()\n",
        "train_dataset = dataset[:800]\n",
        "test_dataset  = dataset[800:]\n",
        "\n",
        "print(f\"Datasets restored: {len(train_dataset)} train graphs, {len(test_dataset)} test graphs.\")\n"
      ],
      "metadata": {
        "colab": {
          "base_uri": "https://localhost:8080/"
        },
        "id": "G3YJRFCTJ8hT",
        "outputId": "ca628dee-d3c2-4426-9ff1-09f933f6749f"
      },
      "execution_count": null,
      "outputs": [
        {
          "output_type": "stream",
          "name": "stdout",
          "text": [
            "Datasets restored: 800 train graphs, 313 test graphs.\n"
          ]
        }
      ]
    },
    {
      "cell_type": "code",
      "source": [
        "# 1) Mount drive and set device\n",
        "from google.colab import drive\n",
        "drive.mount('/content/drive', force_remount=True)\n",
        "import torch\n",
        "device = torch.device('cuda' if torch.cuda.is_available() else 'cpu')\n",
        "print(\"Using device:\", device)\n",
        "\n",
        "# 2) Reload PROTEINS dataset and splits\n",
        "from torch_geometric.datasets import TUDataset\n",
        "dataset = TUDataset(\n",
        "    root=\"/content/drive/MyDrive/gnnfingers/PROTEINS\",\n",
        "    name=\"PROTEINS\"\n",
        ").shuffle()\n",
        "train_dataset = dataset[:800]\n",
        "test_dataset  = dataset[800:]\n",
        "print(f\"Loaded PROTEINS: {len(train_dataset)} train, {len(test_dataset)} test graphs.\")\n"
      ],
      "metadata": {
        "colab": {
          "base_uri": "https://localhost:8080/"
        },
        "id": "M_toPZ_JKGVC",
        "outputId": "1ca31f89-2087-426f-cf93-ff9f0b3c366c"
      },
      "execution_count": null,
      "outputs": [
        {
          "output_type": "stream",
          "name": "stdout",
          "text": [
            "Mounted at /content/drive\n",
            "Using device: cpu\n",
            "Loaded PROTEINS: 800 train, 313 test graphs.\n"
          ]
        }
      ]
    },
    {
      "cell_type": "code",
      "source": [
        "# ─── Complete Environment Setup ────────────────────────────────────────────────\n",
        "import os, copy, random, torch, numpy as np\n",
        "import torch.nn as nn, torch.nn.functional as F\n",
        "from torch_geometric.datasets import TUDataset\n",
        "from torch_geometric.loader import DataLoader\n",
        "from torch_geometric.nn import GCNConv, SAGEConv, global_mean_pool\n",
        "from torchattacks import DeepFool\n",
        "# from ipguard import IPGuardAttack  # if available\n",
        "\n",
        "# 1) Mount & Device\n",
        "from google.colab import drive\n",
        "drive.mount('/content/drive', force_remount=True)\n",
        "device = torch.device('cuda' if torch.cuda.is_available() else 'cpu')\n",
        "\n",
        "# 2) Dataset splits\n",
        "dataset = TUDataset(root=\"/content/drive/MyDrive/gnnfingers/PROTEINS\", name=\"PROTEINS\").shuffle()\n",
        "train_dataset = dataset[:800]\n",
        "test_dataset  = dataset[800:]\n",
        "\n",
        "# 3) Model definitions\n",
        "class GCNMean(nn.Module):\n",
        "    def __init__(self, in_ch, hid_ch, num_cls, dropout=0.5):\n",
        "        super().__init__()\n",
        "        self.conv1 = GCNConv(in_ch, hid_ch)\n",
        "        self.conv2 = GCNConv(hid_ch, hid_ch)\n",
        "        self.conv3 = GCNConv(hid_ch, hid_ch)\n",
        "        self.lin   = nn.Linear(hid_ch, num_cls)\n",
        "        self.dropout = dropout\n",
        "    def forward(self, x, edge_index, batch):\n",
        "        x = F.relu(self.conv1(x, edge_index))\n",
        "        x = F.dropout(x, p=self.dropout, training=self.training)\n",
        "        x = F.relu(self.conv2(x, edge_index))\n",
        "        x = F.dropout(x, p=self.dropout, training=self.training)\n",
        "        x = F.relu(self.conv3(x, edge_index))\n",
        "        return self.lin(global_mean_pool(x, batch))\n",
        "\n",
        "class GCNDiff(GCNMean):\n",
        "    def __init__(self, in_ch, hid_ch, num_cls, dropout=0.5):\n",
        "        super().__init__(in_ch, hid_ch, num_cls, dropout)\n",
        "        self.skip_lin = nn.Linear(in_ch, hid_ch) if in_ch != hid_ch else None\n",
        "    def forward(self, x, edge_index, batch):\n",
        "        x0 = self.skip_lin(x) if self.skip_lin is not None else x\n",
        "        h1 = F.relu(self.conv1(x, edge_index)) + x0\n",
        "        h1 = F.dropout(h1, p=self.dropout, training=self.training)\n",
        "        h2 = F.relu(self.conv2(h1, edge_index)) + h1\n",
        "        h2 = F.dropout(h2, p=self.dropout, training=self.training)\n",
        "        h3 = F.relu(self.conv3(h2, edge_index)) + h2\n",
        "        return self.lin(global_mean_pool(h3, batch))\n",
        "\n",
        "class SAGEMean(nn.Module):\n",
        "    def __init__(self, in_ch, hid_ch, num_cls, dropout=0.5):\n",
        "        super().__init__()\n",
        "        self.conv1   = SAGEConv(in_ch, hid_ch)\n",
        "        self.conv2   = SAGEConv(hid_ch, hid_ch)\n",
        "        self.conv3   = SAGEConv(hid_ch, hid_ch)\n",
        "        self.lin     = nn.Linear(hid_ch, num_cls)\n",
        "        self.dropout = dropout\n",
        "    def forward(self, x, edge_index, batch):\n",
        "        x = F.relu(self.conv1(x, edge_index))\n",
        "        x = F.dropout(x, p=self.dropout, training=self.training)\n",
        "        x = F.relu(self.conv2(x, edge_index))\n",
        "        x = F.dropout(x, p=self.dropout, training=self.training)\n",
        "        x = F.relu(self.conv3(x, edge_index))\n",
        "        return self.lin(global_mean_pool(x, batch))\n",
        "\n",
        "class SAGEDiff(SAGEMean):\n",
        "    def __init__(self, in_ch, hid_ch, num_cls, dropout=0.5):\n",
        "        super().__init__(in_ch, hid_ch, num_cls, dropout)\n",
        "        self.skip_lin = nn.Linear(in_ch, hid_ch) if in_ch != hid_ch else None\n",
        "    def forward(self, x, edge_index, batch):\n",
        "        x0 = self.skip_lin(x) if self.skip_lin is not None else x\n",
        "        h1 = F.relu(self.conv1(x, edge_index)) + x0\n",
        "        h1 = F.dropout(h1, p=self.dropout, training=self.training)\n",
        "        h2 = F.relu(self.conv2(h1, edge_index)) + h1\n",
        "        h2 = F.dropout(h2, p=self.dropout, training=self.training)\n",
        "        h3 = F.relu(self.conv3(h2, edge_index)) + h2\n",
        "        return self.lin(global_mean_pool(h3, batch))\n",
        "\n",
        "VariantCls = {\"GCNMean\": GCNMean, \"GCNDiff\": GCNDiff, \"SAGEMean\": SAGEMean, \"SAGEDiff\": SAGEDiff}\n",
        "\n",
        "# 4) Paths & hyperparams\n",
        "victim_ckpt_dir   = \"/content/drive/MyDrive/gnnfingers/checkpoints\"\n",
        "variants_base_dir = \"/content/drive/MyDrive/gnnfingers/variants\"\n",
        "NUM_VARIANTS      = 200\n",
        "LR                = 0.005\n",
        "WD                = 1e-4\n",
        "\n",
        "# 5) Utility functions (redefine these if lost)\n",
        "# - extract_fp(model, U, graphs)\n",
        "# - FingerprintNetMLP\n",
        "# - get_scores_with_U\n",
        "# - generate_deepfool_negatives\n",
        "# - generate_ipguard_negatives\n",
        "\n",
        "print(\"✔ Environment fully restored.\")\n"
      ],
      "metadata": {
        "colab": {
          "base_uri": "https://localhost:8080/",
          "height": 383
        },
        "id": "fwQJmoR2KWT6",
        "outputId": "3bafa5a2-b77f-4be1-d1ee-6f1afe33a921"
      },
      "execution_count": null,
      "outputs": [
        {
          "output_type": "error",
          "ename": "ModuleNotFoundError",
          "evalue": "No module named 'torchattacks'",
          "traceback": [
            "\u001b[0;31m---------------------------------------------------------------------------\u001b[0m",
            "\u001b[0;31mModuleNotFoundError\u001b[0m                       Traceback (most recent call last)",
            "\u001b[0;32m<ipython-input-10-4230233707>\u001b[0m in \u001b[0;36m<cell line: 0>\u001b[0;34m()\u001b[0m\n\u001b[1;32m      5\u001b[0m \u001b[0;32mfrom\u001b[0m \u001b[0mtorch_geometric\u001b[0m\u001b[0;34m.\u001b[0m\u001b[0mloader\u001b[0m \u001b[0;32mimport\u001b[0m \u001b[0mDataLoader\u001b[0m\u001b[0;34m\u001b[0m\u001b[0;34m\u001b[0m\u001b[0m\n\u001b[1;32m      6\u001b[0m \u001b[0;32mfrom\u001b[0m \u001b[0mtorch_geometric\u001b[0m\u001b[0;34m.\u001b[0m\u001b[0mnn\u001b[0m \u001b[0;32mimport\u001b[0m \u001b[0mGCNConv\u001b[0m\u001b[0;34m,\u001b[0m \u001b[0mSAGEConv\u001b[0m\u001b[0;34m,\u001b[0m \u001b[0mglobal_mean_pool\u001b[0m\u001b[0;34m\u001b[0m\u001b[0;34m\u001b[0m\u001b[0m\n\u001b[0;32m----> 7\u001b[0;31m \u001b[0;32mfrom\u001b[0m \u001b[0mtorchattacks\u001b[0m \u001b[0;32mimport\u001b[0m \u001b[0mDeepFool\u001b[0m\u001b[0;34m\u001b[0m\u001b[0;34m\u001b[0m\u001b[0m\n\u001b[0m\u001b[1;32m      8\u001b[0m \u001b[0;31m# from ipguard import IPGuardAttack  # if available\u001b[0m\u001b[0;34m\u001b[0m\u001b[0;34m\u001b[0m\u001b[0m\n\u001b[1;32m      9\u001b[0m \u001b[0;34m\u001b[0m\u001b[0m\n",
            "\u001b[0;31mModuleNotFoundError\u001b[0m: No module named 'torchattacks'",
            "",
            "\u001b[0;31m---------------------------------------------------------------------------\u001b[0;32m\nNOTE: If your import is failing due to a missing package, you can\nmanually install dependencies using either !pip or !apt.\n\nTo view examples of installing some common dependencies, click the\n\"Open Examples\" button below.\n\u001b[0;31m---------------------------------------------------------------------------\u001b[0m\n"
          ],
          "errorDetails": {
            "actions": [
              {
                "action": "open_url",
                "actionText": "Open Examples",
                "url": "/notebooks/snippets/importing_libraries.ipynb"
              }
            ]
          }
        }
      ]
    },
    {
      "cell_type": "code",
      "source": [
        "# --- 1) FingerprintNetMLP ---\n",
        "import torch.nn as nn\n",
        "class FingerprintNetMLP(nn.Module):\n",
        "    def __init__(self, embed_dim=64, key_dim=64, h1=256, h2=128, h3=64, dropout=0.5):\n",
        "        super().__init__()\n",
        "        self.key = nn.Parameter(torch.randn(key_dim), requires_grad=False)\n",
        "        self.net = nn.Sequential(\n",
        "            nn.Linear(embed_dim + key_dim, h1), nn.ReLU(), nn.Dropout(dropout),\n",
        "            nn.Linear(h1, h2),                nn.ReLU(), nn.Dropout(dropout),\n",
        "            nn.Linear(h2, h3),                nn.ReLU(), nn.Dropout(dropout),\n",
        "            nn.Linear(h3, 2)\n",
        "        )\n",
        "    def forward(self, emb):\n",
        "        k = self.key.unsqueeze(0).expand(emb.size(0), -1).to(emb.device)\n",
        "        return self.net(torch.cat([emb, k], dim=1))\n"
      ],
      "metadata": {
        "id": "y1lVi2e4KlT6"
      },
      "execution_count": null,
      "outputs": []
    },
    {
      "cell_type": "code",
      "source": [
        "# --- 2) extract_fp ---\n",
        "import torch.nn.functional as F\n",
        "from torch_geometric.loader import DataLoader\n",
        "from torch_geometric.nn import global_mean_pool\n",
        "\n",
        "def extract_fp(model, U_net, graphs):\n",
        "    all_p = []\n",
        "    for batch in DataLoader(graphs, batch_size=32, shuffle=False):\n",
        "        b = batch.to(device)\n",
        "        x = F.relu(model.conv1(b.x, b.edge_index))\n",
        "        x = F.dropout(x, p=model.dropout, training=False)\n",
        "        x = F.relu(model.conv2(x, b.edge_index))\n",
        "        x = F.dropout(x, p=model.dropout, training=False)\n",
        "        x = F.relu(model.conv3(x, b.edge_index))\n",
        "        all_p.append(global_mean_pool(x, b.batch))\n",
        "    pooled = torch.cat(all_p, dim=0)\n",
        "    with torch.no_grad():\n",
        "        k = U_net.key.unsqueeze(0).expand(pooled.size(0), -1).to(device)\n",
        "        h = torch.cat([pooled, k], dim=1)\n",
        "        feats = U_net.net[:-1](h)\n",
        "    return feats.mean(dim=0).cpu().numpy()\n"
      ],
      "metadata": {
        "id": "hVps28V3Km57"
      },
      "execution_count": null,
      "outputs": []
    },
    {
      "cell_type": "code",
      "source": [
        "# --- 3) get_scores_with_U ---\n",
        "import torch\n",
        "import numpy as np\n",
        "\n",
        "def get_scores_with_U(model, U_net, graphs):\n",
        "    scs = []\n",
        "    model.eval(); U_net.eval()\n",
        "    for batch in DataLoader(graphs, batch_size=32, shuffle=False):\n",
        "        b = batch.to(device)\n",
        "        x = F.relu(model.conv1(b.x, b.edge_index))\n",
        "        x = F.relu(model.conv2(x, b.edge_index))\n",
        "        x = F.relu(model.conv3(x, b.edge_index))\n",
        "        pooled = global_mean_pool(x, b.batch)\n",
        "        logits = U_net(pooled)\n",
        "        scs.append(torch.softmax(logits, dim=1)[:,1].cpu().numpy())\n",
        "    return np.concatenate(scs)\n"
      ],
      "metadata": {
        "id": "t4QF2pZjKory"
      },
      "execution_count": null,
      "outputs": []
    },
    {
      "cell_type": "code",
      "source": [
        "def get_scores_with_U(model, U_net, graphs):\n",
        "    scs = []\n",
        "    model.eval(); U_net.eval()\n",
        "    with torch.no_grad():\n",
        "        for batch in DataLoader(graphs, batch_size=32, shuffle=False):\n",
        "            b = batch.to(device)\n",
        "            x = F.relu(model.conv1(b.x, b.edge_index))\n",
        "            x = F.relu(model.conv2(x, b.edge_index))\n",
        "            x = F.relu(model.conv3(x, b.edge_index))\n",
        "            pooled = global_mean_pool(x, b.batch)\n",
        "            logits = U_net(pooled)\n",
        "            probs = torch.softmax(logits, dim=1)[:, 1]\n",
        "            scs.append(probs.detach().cpu().numpy())\n",
        "    return np.concatenate(scs)\n"
      ],
      "metadata": {
        "id": "8yJGi4owLTbk"
      },
      "execution_count": null,
      "outputs": []
    },
    {
      "cell_type": "code",
      "source": [
        "# Stub for IPGuardAttack when the real implementation isn't available\n",
        "def IPGuardAttack(model):\n",
        "    # No-op: in the real implementation, this would perturb model weights\n",
        "    pass\n"
      ],
      "metadata": {
        "id": "Kreq-j3dPG4Y"
      },
      "execution_count": null,
      "outputs": []
    },
    {
      "cell_type": "code",
      "source": [
        "def generate_ipguard_negatives(victim_model, train_dataset, num_variants=200):\n",
        "    negatives = []\n",
        "    for _ in range(num_variants):\n",
        "        m = copy.deepcopy(victim_model)\n",
        "        IPGuardAttack(m)       # now a harmless stub\n",
        "        negatives.append(m.state_dict())\n",
        "    print(f\"Generated {len(negatives)} IPGuard negatives\")\n",
        "    return negatives\n"
      ],
      "metadata": {
        "id": "hVK0zag9PVYg"
      },
      "execution_count": null,
      "outputs": []
    },
    {
      "cell_type": "code",
      "source": [
        "from sklearn.metrics import precision_recall_curve\n",
        "import numpy as np\n",
        "\n",
        "import numpy as np\n",
        "\n",
        "def mean_test_acc(labels, scores):\n",
        "    ts = np.linspace(0, 1, 101)\n",
        "    accs = []\n",
        "    for t in ts:\n",
        "        tpr = np.mean(scores[labels == 1] >= t)\n",
        "        tnr = np.mean(scores[labels == 0] <  t)\n",
        "        accs.append((tpr + tnr) / 2)\n",
        "    return np.mean(accs)\n",
        "\n",
        "\n"
      ],
      "metadata": {
        "id": "xEmXjZj-RKV3"
      },
      "execution_count": null,
      "outputs": []
    },
    {
      "cell_type": "code",
      "source": [
        "SEED = 42\n",
        "import random, numpy as np, torch\n",
        "random.seed(SEED); np.random.seed(SEED)\n",
        "torch.manual_seed(SEED)\n",
        "if torch.cuda.is_available(): torch.cuda.manual_seed_all(SEED)\n"
      ],
      "metadata": {
        "id": "dlLp93OgRNAn"
      },
      "execution_count": null,
      "outputs": []
    },
    {
      "cell_type": "code",
      "source": [
        "from sklearn.metrics import roc_auc_score\n",
        "import numpy as np\n",
        "import torch.nn.functional as F\n",
        "\n",
        "# Methods to compare\n",
        "methods = {\n",
        "    \"GNNFingers\": None,           # will load from disk as before\n",
        "    \"DeepFool\":  generate_deepfool_negatives,\n",
        "    \"IPGuard\":   generate_ipguard_negatives\n",
        "}\n",
        "\n",
        "results = []  # will collect dicts: {\"Dataset\",\"Variant\",\"Method\",\"ARUC\",\"Acc\"}\n",
        "\n",
        "for method_name, generator in methods.items():\n",
        "    print(f\"\\n=== Method: {method_name} ===\")\n",
        "\n",
        "    for name, Cls in VariantCls.items():\n",
        "        print(f\"  Variant: {name}\")\n",
        "        # 1) Load victim\n",
        "        victim = Cls(dataset.num_node_features,64,dataset.num_classes,0.5).to(device)\n",
        "        victim.load_state_dict(torch.load(f\"{victim_ckpt_dir}/victim_PR_{name}.pth\", map_location=device))\n",
        "        victim.eval()\n",
        "\n",
        "        # 2) Generate negatives\n",
        "        if method_name == \"GNNFingers\":\n",
        "            # Load pre-generated negatives from disk\n",
        "            neg_states = sorted(\n",
        "                [os.path.join(variants_base_dir, f\"PR_{name}/negative\", fn)\n",
        "                 for fn in os.listdir(os.path.join(variants_base_dir, f\"PR_{name}/negative\"))\n",
        "                 if fn.endswith(\".pth\")]\n",
        "            )\n",
        "            neg_states = neg_states[:NUM_VARIANTS]\n",
        "        else:\n",
        "            # Call the appropriate generator\n",
        "            neg_states = generator(victim, train_dataset, NUM_VARIANTS)\n",
        "\n",
        "        # 3) Train U on 100 pos + 100 neg of this method\n",
        "        # 3a) Positive embeddings\n",
        "        pos_graphs = list(train_dataset[:100])\n",
        "        pos_emb = extract_fp(victim, FingerprintNetMLP().to(device), pos_graphs)\n",
        "        # 3b) Negative embeddings\n",
        "        neg_embs = []\n",
        "        for i in range(100):\n",
        "            m = Cls(dataset.num_node_features,64,dataset.num_classes,0.5).to(device)\n",
        "            if method_name == \"GNNFingers\":\n",
        "                m.load_state_dict(torch.load(neg_states[i], map_location=device))\n",
        "            else:\n",
        "                m.load_state_dict(neg_states[i])\n",
        "            m.eval()\n",
        "            neg_embs.append(extract_fp(m, FingerprintNetMLP().to(device), pos_graphs))\n",
        "        neg_emb = np.stack(neg_embs, axis=0)\n",
        "\n",
        "        # 3c) Prepare U’s training set\n",
        "        X_pos = np.tile(pos_emb[np.newaxis], (100,1))\n",
        "        X = np.vstack([X_pos, neg_emb])\n",
        "        y = np.array([1]*100 + [0]*100)\n",
        "        perm = np.random.permutation(200)\n",
        "        X_t = torch.tensor(X[perm], dtype=torch.float32).to(device)\n",
        "        y_t = torch.tensor(y[perm], dtype=torch.long).to(device)\n",
        "        loader_U = torch.utils.data.DataLoader(\n",
        "            torch.utils.data.TensorDataset(X_t, y_t),\n",
        "            batch_size=32, shuffle=True\n",
        "        )\n",
        "\n",
        "        # 3d) Train U\n",
        "        U = FingerprintNetMLP().to(device)\n",
        "        optU = torch.optim.Adam(U.parameters(), lr=1e-3, weight_decay=1e-4)\n",
        "        loss_fn = torch.nn.CrossEntropyLoss()\n",
        "        for epoch in range(1,201):\n",
        "            U.train()\n",
        "            total, correct = 0,0\n",
        "            for xb,yb in loader_U:\n",
        "                logits = U(xb)\n",
        "                loss = loss_fn(logits, yb)\n",
        "                optU.zero_grad(); loss.backward(); optU.step()\n",
        "                preds = logits.argmax(dim=1)\n",
        "                correct += (preds==yb).sum().item()\n",
        "                total   += yb.size(0)\n",
        "            if correct/total >= 0.95:\n",
        "                break\n",
        "        U.eval()\n",
        "\n",
        "        # 4) Score on test set: positives and all negatives\n",
        "        pos_scores = get_scores_with_U(victim, U, list(test_dataset))\n",
        "        neg_scores_all = []\n",
        "        for i in range(NUM_VARIANTS):\n",
        "            m = Cls(dataset.num_node_features,64,dataset.num_classes,0.5).to(device)\n",
        "            if method_name == \"GNNFingers\":\n",
        "                m.load_state_dict(torch.load(neg_states[i], map_location=device))\n",
        "            else:\n",
        "                m.load_state_dict(neg_states[i])\n",
        "            m.eval()\n",
        "            neg_scores_all.append(get_scores_with_U(m, U, list(test_dataset)))\n",
        "        neg_flat = np.concatenate(neg_scores_all)\n",
        "\n",
        "        # 5) Compute metrics\n",
        "        labels = np.concatenate([np.ones_like(pos_scores), np.zeros_like(neg_flat)])\n",
        "        scores = np.concatenate([pos_scores, neg_flat])\n",
        "        aruc = roc_auc_score(labels, scores)\n",
        "        acc = mean_test_acc(\n",
        "            np.concatenate([np.ones_like(pos_scores), np.zeros_like(neg_flat)]),\n",
        "            np.concatenate([pos_scores,neg_flat]))\n",
        "\n",
        "        results.append({\n",
        "            \"Dataset\": \"PROTEINS\",\n",
        "            \"Variant\": name,\n",
        "            \"Method\":  method_name,\n",
        "            \"ARUC\":    aruc,\n",
        "            \"Acc\":     acc\n",
        "        })\n",
        "        print(f\"    {method_name}-{name} → ARUC={aruc:.3f}, Acc={acc:.3f}\")\n",
        "\n",
        "# Convert to Pandas and display\n",
        "import pandas as pd\n",
        "df = pd.DataFrame(results)\n",
        "df_pivot = df.pivot_table(index=[\"Dataset\",\"Variant\"], columns=\"Method\", values=[\"ARUC\",\"Acc\"])\n",
        "print(df_pivot)\n"
      ],
      "metadata": {
        "colab": {
          "base_uri": "https://localhost:8080/"
        },
        "id": "zED54PLKJnID",
        "outputId": "a6784bf5-6432-4f1f-f2d3-d535b0e0b9b0"
      },
      "execution_count": null,
      "outputs": [
        {
          "output_type": "stream",
          "name": "stdout",
          "text": [
            "\n",
            "=== Method: GNNFingers ===\n",
            "  Variant: GCNMean\n",
            "    GNNFingers-GCNMean → ARUC=0.452, Acc=0.497\n",
            "  Variant: GCNDiff\n",
            "    GNNFingers-GCNDiff → ARUC=0.179, Acc=0.398\n",
            "  Variant: SAGEMean\n",
            "    GNNFingers-SAGEMean → ARUC=0.421, Acc=0.493\n",
            "  Variant: SAGEDiff\n",
            "    GNNFingers-SAGEDiff → ARUC=0.724, Acc=0.521\n",
            "\n",
            "=== Method: DeepFool ===\n",
            "  Variant: GCNMean\n",
            "Generated 200 DeepFool negatives\n",
            "    DeepFool-GCNMean → ARUC=0.505, Acc=0.500\n",
            "  Variant: GCNDiff\n",
            "Generated 200 DeepFool negatives\n",
            "    DeepFool-GCNDiff → ARUC=0.498, Acc=0.500\n",
            "  Variant: SAGEMean\n",
            "Generated 200 DeepFool negatives\n",
            "    DeepFool-SAGEMean → ARUC=0.496, Acc=0.500\n",
            "  Variant: SAGEDiff\n",
            "Generated 200 DeepFool negatives\n",
            "    DeepFool-SAGEDiff → ARUC=0.508, Acc=0.500\n",
            "\n",
            "=== Method: IPGuard ===\n",
            "  Variant: GCNMean\n",
            "Generated 200 IPGuard negatives\n",
            "    IPGuard-GCNMean → ARUC=0.500, Acc=0.500\n",
            "  Variant: GCNDiff\n",
            "Generated 200 IPGuard negatives\n",
            "    IPGuard-GCNDiff → ARUC=0.500, Acc=0.500\n",
            "  Variant: SAGEMean\n",
            "Generated 200 IPGuard negatives\n",
            "    IPGuard-SAGEMean → ARUC=0.500, Acc=0.500\n",
            "  Variant: SAGEDiff\n",
            "Generated 200 IPGuard negatives\n",
            "    IPGuard-SAGEDiff → ARUC=0.500, Acc=0.500\n",
            "                       ARUC                          Acc                   \n",
            "Method             DeepFool GNNFingers IPGuard  DeepFool GNNFingers IPGuard\n",
            "Dataset  Variant                                                           \n",
            "PROTEINS GCNDiff   0.498462   0.178801     0.5  0.499928   0.397823     0.5\n",
            "         GCNMean   0.505212   0.452327     0.5  0.500304   0.497437     0.5\n",
            "         SAGEDiff  0.507528   0.724303     0.5  0.500177   0.520600     0.5\n",
            "         SAGEMean  0.496412   0.420780     0.5  0.499869   0.493363     0.5\n"
          ]
        }
      ]
    },
    {
      "cell_type": "code",
      "source": [
        "def generate_ablation_negatives(mode, victim, num_variants=200):\n",
        "    negatives = []\n",
        "    for vid in range(num_variants):\n",
        "        m = copy.deepcopy(victim)\n",
        "        # Freeze/unfreeze parameters:\n",
        "        for name, p in m.named_parameters():\n",
        "            if mode == \"A_only\":\n",
        "                # assume conv layers are adjacency-based; freeze their parameters\n",
        "                if \"conv\" in name:\n",
        "                    p.requires_grad = False\n",
        "            elif mode == \"X_only\":\n",
        "                # assume feature-readout linear layers handle node features; freeze others\n",
        "                if \"lin\" not in name:\n",
        "                    p.requires_grad = False\n",
        "        # Fine-tune on train_dataset for a few epochs\n",
        "        opt = torch.optim.Adam(filter(lambda p: p.requires_grad, m.parameters()), lr=LR, weight_decay=WD)\n",
        "        loss_fn = nn.CrossEntropyLoss()\n",
        "        for _ in range(5):  # 5 epochs as in paper\n",
        "            for batch in DataLoader(train_dataset, batch_size=32, shuffle=True):\n",
        "                batch = batch.to(device)\n",
        "                logits = m(batch.x, batch.edge_index, batch.batch)\n",
        "                loss = loss_fn(logits, batch.y.view(-1))\n",
        "                opt.zero_grad(); loss.backward(); opt.step()\n",
        "        negatives.append(m.state_dict())\n",
        "    return negatives\n"
      ],
      "metadata": {
        "id": "RU68zJ1_X27b"
      },
      "execution_count": null,
      "outputs": []
    },
    {
      "cell_type": "code",
      "source": [
        "# ─── Cell 1: Seeding & Hyperparameters ───\n",
        "SEED = 12345\n",
        "random.seed(SEED)\n",
        "np.random.seed(SEED)\n",
        "torch.manual_seed(SEED)\n",
        "torch.cuda.manual_seed_all(SEED)\n",
        "torch.backends.cudnn.deterministic = True\n",
        "torch.backends.cudnn.benchmark     = False\n",
        "\n",
        "LR        = 1e-3    # victim fine-tuning LR\n",
        "WD        = 1e-4\n",
        "INNER_E   = 5       # inner fine-tune epochs per variant\n",
        "Q         = NUM_VARIANTS\n",
        "BATCH_SZ  = 32\n",
        "U_LR      = 1e-3\n",
        "U_WD      = 1e-4\n",
        "U_EPOCHS  = 200\n",
        "EARLY_ACC = 0.95\n"
      ],
      "metadata": {
        "id": "P5R-kJw7OyKG"
      },
      "execution_count": null,
      "outputs": []
    },
    {
      "cell_type": "code",
      "source": [
        "# ─── Cell 2: Wrapper Functions ───\n",
        "def generate_ablation_states(mode, victim, num_variants=Q):\n",
        "    states = []\n",
        "    for _ in range(num_variants):\n",
        "        m = copy.deepcopy(victim)\n",
        "        # Freeze/unfreeze properly:\n",
        "        for name, p in m.named_parameters():\n",
        "            if mode == \"A_only\" and \"lin\" in name:\n",
        "                # freeze feature layer\n",
        "                p.requires_grad = False\n",
        "            if mode == \"X_only\" and \"conv\" in name:\n",
        "                # freeze adjacency layer\n",
        "                p.requires_grad = False\n",
        "\n",
        "        opt = torch.optim.Adam(\n",
        "            filter(lambda p: p.requires_grad, m.parameters()),\n",
        "            lr=LR, weight_decay=WD\n",
        "        )\n",
        "        loss_fn = nn.CrossEntropyLoss()\n",
        "        for _ in range(INNER_E):\n",
        "            for batch in DataLoader(train_dataset, batch_size=BATCH_SZ, shuffle=True):\n",
        "                batch = batch.to(device)\n",
        "                out = m(batch.x, batch.edge_index, batch.batch)\n",
        "                loss = loss_fn(out, batch.y.view(-1))\n",
        "                opt.zero_grad(); loss.backward(); opt.step()\n",
        "        states.append(m.state_dict())\n",
        "    return states\n",
        "\n",
        "def get_variant_states(mode, victim, Q=Q):\n",
        "    if mode == \"Both\":\n",
        "        # load the first Q checkpoints from the \"negative\" folder\n",
        "        neg_dir = os.path.join(variants_base_dir, \"PR_GCNMean\", \"negative\")\n",
        "        ckpts   = sorted(os.listdir(neg_dir))[:Q]\n",
        "        states  = [\n",
        "            torch.load(os.path.join(neg_dir, ckpt), map_location=device)\n",
        "            for ckpt in ckpts\n",
        "        ]\n",
        "        return states\n",
        "    else:\n",
        "        # A_only or X_only\n",
        "        return generate_ablation_states(mode, victim, num_variants=Q)\n",
        "\n",
        "\n",
        "def extract_graph_embeddings(states, graphs, fp_extractor):\n",
        "    embs = []\n",
        "    for st in states:\n",
        "        m = GCNMean(dataset.num_node_features,64,dataset.num_classes,0.5).to(device)\n",
        "        m.load_state_dict(st); m.eval()\n",
        "        # build fresh U_net just for signature (not trained here)\n",
        "        U_net = FingerprintNetMLP().to(device)\n",
        "        emb = fp_extractor(m, U_net, graphs)  # returns (batch_size, hidden)\n",
        "        embs.append(emb.reshape(1, -1))        # flatten per-state\n",
        "    return np.vstack(embs)                    # shape (Q, hidden)\n"
      ],
      "metadata": {
        "id": "Is5Nr2G6OyAG"
      },
      "execution_count": null,
      "outputs": []
    },
    {
      "cell_type": "code",
      "source": [
        "# ─── Cell 0: Imports, Models, Helpers, Data ───\n",
        "import os, random, copy\n",
        "import numpy as np\n",
        "import torch\n",
        "import torch.nn as nn\n",
        "import torch.nn.functional as F\n",
        "from sklearn.metrics import roc_auc_score\n",
        "from torch_geometric.datasets import TUDataset\n",
        "from torch_geometric.loader import DataLoader\n",
        "from torch_geometric.nn import GCNConv, global_mean_pool\n",
        "\n",
        "# 1) Three-layer GCN victim\n",
        "class GCNMean(nn.Module):\n",
        "    def __init__(self, in_feats, hidden, num_classes, dropout):\n",
        "        super().__init__()\n",
        "        self.conv1 = GCNConv(in_feats, hidden)\n",
        "        self.conv2 = GCNConv(hidden, hidden)\n",
        "        self.conv3 = GCNConv(hidden, hidden)\n",
        "        self.lin   = nn.Linear(hidden, num_classes)\n",
        "        self.dropout = dropout\n",
        "\n",
        "    def forward(self, x, edge_index, batch):\n",
        "        x = F.relu(self.conv1(x, edge_index))\n",
        "        x = F.dropout(x, p=self.dropout, training=self.training)\n",
        "        x = F.relu(self.conv2(x, edge_index))\n",
        "        x = F.dropout(x, p=self.dropout, training=self.training)\n",
        "        x = F.relu(self.conv3(x, edge_index))\n",
        "        x = global_mean_pool(x, batch)\n",
        "        return self.lin(x)\n",
        "\n",
        "# 2) U-network for classification/fingerprints\n",
        "class FingerprintNetMLP(nn.Module):\n",
        "    def __init__(self, inp_dim=64, hidden=128, out_dim=2):\n",
        "        super().__init__()\n",
        "        self.net = nn.Sequential(\n",
        "            nn.Linear(inp_dim, hidden),\n",
        "            nn.ReLU(),\n",
        "            nn.Linear(hidden, out_dim)\n",
        "        )\n",
        "    def forward(self, x):\n",
        "        return self.net(x)\n",
        "\n",
        "# 3) Fingerprint extraction\n",
        "def extract_fp(victim_model, U_net, graph_list):\n",
        "    \"\"\"\n",
        "    Runs victim_model on each graph in graph_list to get per-graph embeddings,\n",
        "    then averages them into one global fingerprint vector of shape (hidden,).\n",
        "    \"\"\"\n",
        "    victim_model.eval()\n",
        "    loader = DataLoader(graph_list, batch_size=len(graph_list), shuffle=False)\n",
        "    for batch in loader:\n",
        "        batch = batch.to(device)\n",
        "        with torch.no_grad():\n",
        "            x = F.relu(victim_model.conv1(batch.x, batch.edge_index))\n",
        "            x = F.dropout(x, p=victim_model.dropout, training=False)\n",
        "            x = F.relu(victim_model.conv2(x, batch.edge_index))\n",
        "            x = F.dropout(x, p=victim_model.dropout, training=False)\n",
        "            x = F.relu(victim_model.conv3(x, batch.edge_index))\n",
        "            pooled = global_mean_pool(x, batch.batch)   # (num_graphs, hidden)\n",
        "        # average across graphs → (hidden,)\n",
        "        fingerprint = pooled.mean(dim=0)\n",
        "        return fingerprint.cpu().numpy()\n",
        "\n",
        "# 4) Scoring function for ARUC\n",
        "def get_scores_with_U(model, U_net, graph_list):\n",
        "    \"\"\"\n",
        "    Computes U_net probabilities for the positive class (index=1) on model(graphs).\n",
        "    Returns a numpy array of shape (len(graph_list),).\n",
        "    \"\"\"\n",
        "    model.eval(); U_net.eval()\n",
        "    loader = DataLoader(graph_list, batch_size=len(graph_list), shuffle=False)\n",
        "    for batch in loader:\n",
        "        batch = batch.to(device)\n",
        "        with torch.no_grad():\n",
        "            # get GCN pooled features\n",
        "            x = F.relu(model.conv1(batch.x, batch.edge_index))\n",
        "            x = F.dropout(x, p=model.dropout, training=False)\n",
        "            x = F.relu(model.conv2(x, batch.edge_index))\n",
        "            x = F.dropout(x, p=model.dropout, training=False)\n",
        "            x = F.relu(model.conv3(x, batch.edge_index))\n",
        "            pooled = global_mean_pool(x, batch.batch)\n",
        "            # U_net logits → probabilities\n",
        "            logits = U_net(pooled)\n",
        "            probs  = F.softmax(logits, dim=1)[:,1]\n",
        "        return probs.cpu().numpy()\n",
        "\n",
        "# 5) Load PROTEINS dataset & split\n",
        "dataset = TUDataset(root='data/PROTEINS', name='PROTEINS')\n",
        "num_train = int(0.8 * len(dataset))\n",
        "train_dataset = dataset[:num_train]\n",
        "test_dataset  = dataset[num_train:]\n",
        "\n",
        "device = torch.device('cuda' if torch.cuda.is_available() else 'cpu')\n",
        "\n",
        "# 6) Checkpoint paths\n",
        "victim_ckpt_dir   = \"/content/drive/MyDrive/gnnfingers/checkpoints\"\n",
        "variants_base_dir = \"/content/drive/MyDrive/gnnfingers/variants\"\n",
        "NUM_VARIANTS      = 200\n"
      ],
      "metadata": {
        "id": "hiITySTU_A7B"
      },
      "execution_count": null,
      "outputs": []
    },
    {
      "cell_type": "code",
      "source": [
        "# ─── Cell 3: Dry-Run Sanity Check ───\n",
        "\n",
        "# 1) Reload victim\n",
        "victim = GCNMean(dataset.num_node_features,64,dataset.num_classes,0.5).to(device)\n",
        "victim.load_state_dict(torch.load(f\"{victim_ckpt_dir}/victim_PR_GCNMean.pth\", map_location=device))\n",
        "victim.eval()\n",
        "\n",
        "# 2) Single-graph batch\n",
        "graph = train_dataset[0:1]\n",
        "\n",
        "# 3) Generate 10 ablated variants\n",
        "test_states = get_variant_states(\"A_only\", victim, Q=10)\n",
        "\n",
        "# 4) Extract negative embeddings\n",
        "neg_embs = extract_graph_embeddings(test_states, graph, extract_fp)\n",
        "print(\"neg_embs.shape:\", neg_embs.shape)  # expect (10, hidden_dim)\n",
        "\n",
        "# 5) Positive embedding\n",
        "pos_fp   = extract_fp(victim, FingerprintNetMLP().to(device), graph)\n",
        "pos_flat = pos_fp.reshape(-1)\n",
        "pos_rep  = np.tile(pos_flat, (neg_embs.shape[0], 1))\n",
        "print(\"pos_rep.shape:\", pos_rep.shape)    # expect (10, hidden_dim)\n",
        "\n",
        "# 6) Train U and report\n",
        "U_net, acc, epochs = train_U(pos_rep, neg_embs)\n",
        "print(f\"Dry-run U accuracy: {acc:.3f} after {epochs} epochs\")\n"
      ],
      "metadata": {
        "colab": {
          "base_uri": "https://localhost:8080/"
        },
        "id": "eh5hEsnM_CJJ",
        "outputId": "0fb3ab89-3a32-4ddf-b00e-0d3583b03300"
      },
      "execution_count": null,
      "outputs": [
        {
          "output_type": "stream",
          "name": "stdout",
          "text": [
            "neg_embs.shape: (10, 64)\n",
            "pos_rep.shape: (10, 64)\n",
            "Dry-run U accuracy: 1.000 after 4 epochs\n"
          ]
        }
      ]
    },
    {
      "cell_type": "code",
      "source": [
        "# ─── Full Ablation Sweep (fixed 100-graph subset) ───\n",
        "results_ablation = {}\n",
        "pos_graphs = list(train_dataset[:100])  # FIXED subset of 100 graphs\n",
        "\n",
        "for mode in [\"A_only\", \"X_only\", \"Both\"]:\n",
        "    print(f\"\\n=== Mode: {mode} ===\")\n",
        "\n",
        "    # 1) Generate or load variants\n",
        "    variants = get_variant_states(mode, victim, Q=Q)\n",
        "\n",
        "    # 2) Extract negative embeddings on the 100 graphs\n",
        "    neg_embs = extract_graph_embeddings(variants, pos_graphs, extract_fp)\n",
        "\n",
        "    # 3) Extract positive fingerprint (one vector) on the same 100 graphs\n",
        "    pos_fp   = extract_fp(victim, FingerprintNetMLP().to(device), pos_graphs)\n",
        "    pos_flat = pos_fp.reshape(-1)\n",
        "    # tile to (Q, hidden)\n",
        "    pos_rep  = np.tile(pos_flat, (Q, 1))\n",
        "\n",
        "    # 4) Train U on these 100-graph embeddings\n",
        "    U_net, train_acc, epochs_used = train_U(pos_rep, neg_embs)\n",
        "    print(f\"Trained U → acc={train_acc:.4f}, epochs={epochs_used}\")\n",
        "\n",
        "    # 5) Score positives on full test set\n",
        "    pos_scores = get_scores_with_U(victim, U_net, list(test_dataset))\n",
        "\n",
        "    # 6) Score negatives on full test set\n",
        "    neg_scores_list = []\n",
        "    for st in variants:\n",
        "        m = GCNMean(dataset.num_node_features,64,dataset.num_classes,0.5).to(device)\n",
        "        m.load_state_dict(st); m.eval()\n",
        "        neg_scores_list.append(get_scores_with_U(m, U_net, list(test_dataset)))\n",
        "    neg_flat = np.concatenate(neg_scores_list)\n",
        "\n",
        "    # 7) Compute ARUC\n",
        "    labels = np.concatenate([np.ones_like(pos_scores), np.zeros_like(neg_flat)])\n",
        "    scores = np.concatenate([pos_scores, neg_flat])\n",
        "    aruc   = roc_auc_score(labels, scores)\n",
        "    results_ablation[mode] = aruc\n",
        "    print(f\"{mode} ARUC = {aruc:.4f}\")\n",
        "\n",
        "print(\"\\nFinal A-vs-X Ablation results:\", results_ablation)\n"
      ],
      "metadata": {
        "colab": {
          "base_uri": "https://localhost:8080/"
        },
        "id": "CiqIStqsW0S0",
        "outputId": "96597a63-9a12-4f20-de2b-93686f2c8d3b"
      },
      "execution_count": null,
      "outputs": [
        {
          "output_type": "stream",
          "name": "stdout",
          "text": [
            "\n",
            "=== Mode: A_only ===\n",
            "Trained U → acc=1.0000, epochs=5\n",
            "A_only ARUC = 0.6342\n",
            "\n",
            "=== Mode: X_only ===\n",
            "Trained U → acc=0.5000, epochs=200\n",
            "X_only ARUC = 0.5000\n",
            "\n",
            "=== Mode: Both ===\n",
            "Trained U → acc=0.9500, epochs=12\n",
            "Both ARUC = 0.6132\n",
            "\n",
            "Final A-vs-X Ablation results: {'A_only': np.float64(0.6341504956866214), 'X_only': np.float64(0.5), 'Both': np.float64(0.6131564077298961)}\n"
          ]
        }
      ]
    },
    {
      "cell_type": "code",
      "source": [
        "# ─── Cell 0: Imports, Model Definitions, and Paths ───\n",
        "import os, random, copy\n",
        "import numpy as np\n",
        "import torch\n",
        "import torch.nn as nn\n",
        "import torch.nn.functional as F\n",
        "from sklearn.linear_model import LogisticRegression\n",
        "from sklearn.metrics     import accuracy_score, roc_auc_score\n",
        "from torch.optim         import Adam\n",
        "from torch_geometric.datasets import TUDataset, Planetoid\n",
        "from torch_geometric.loader   import DataLoader\n",
        "from torch_geometric.nn       import GCNConv, global_mean_pool\n",
        "\n",
        "device = torch.device('cuda' if torch.cuda.is_available() else 'cpu')\n",
        "\n",
        "# Victim GCN (3 layers) and Fingerprint MLP\n",
        "class GCNMean(nn.Module):\n",
        "    def __init__(self, in_feats, hidden, num_classes, dropout):\n",
        "        super().__init__()\n",
        "        self.conv1 = GCNConv(in_feats, hidden)\n",
        "        self.conv2 = GCNConv(hidden, hidden)\n",
        "        self.conv3 = GCNConv(hidden, hidden)\n",
        "        self.lin   = nn.Linear(hidden, num_classes)\n",
        "        self.dropout = dropout\n",
        "    def forward(self, x, edge_index, batch):\n",
        "        x = F.relu(self.conv1(x, edge_index))\n",
        "        x = F.dropout(x, p=self.dropout, training=self.training)\n",
        "        x = F.relu(self.conv2(x, edge_index))\n",
        "        x = F.dropout(x, p=self.dropout, training=self.training)\n",
        "        x = F.relu(self.conv3(x, edge_index))\n",
        "        x = global_mean_pool(x, batch)\n",
        "        return self.lin(x)\n",
        "\n",
        "class FingerprintNetMLP(nn.Module):\n",
        "    def __init__(self, inp_dim=64, hidden=128, out_dim=2):\n",
        "        super().__init__()\n",
        "        self.net = nn.Sequential(\n",
        "            nn.Linear(inp_dim, hidden),\n",
        "            nn.ReLU(),\n",
        "            nn.Linear(hidden, out_dim)\n",
        "        )\n",
        "    def forward(self, x):\n",
        "        return self.net(x)\n",
        "\n",
        "# Paths & dataset\n",
        "victim_ckpt_dir   = \"/content/drive/MyDrive/gnnfingers/checkpoints\"\n",
        "variants_base_dir = \"/content/drive/MyDrive/gnnfingers/variants\"\n",
        "NUM_VARIANTS      = 200\n",
        "\n",
        "# PROTEINS graph-dataset\n",
        "dataset = TUDataset(root='data/PROTEINS', name='PROTEINS')\n",
        "num_train   = int(0.8 * len(dataset))\n",
        "train_dataset = dataset[:num_train]\n",
        "test_dataset  = dataset[num_train:]\n"
      ],
      "metadata": {
        "id": "Ui-CiwyoDz-s"
      },
      "execution_count": null,
      "outputs": []
    },
    {
      "cell_type": "code",
      "source": [
        "# ─── Cell 1: Seeding & Hyper-parameters ───\n",
        "SEED       = 12345\n",
        "random.seed(SEED); np.random.seed(SEED)\n",
        "torch.manual_seed(SEED); torch.cuda.manual_seed_all(SEED)\n",
        "torch.backends.cudnn.deterministic = True\n",
        "torch.backends.cudnn.benchmark     = False\n",
        "\n",
        "LR        = 1e-3    # victim fine-tuning LR\n",
        "WD        = 1e-4\n",
        "INNER_E   = 5       # inner fine-tune epochs per variant\n",
        "Q         = NUM_VARIANTS\n",
        "BATCH_SZ  = 32\n",
        "U_LR      = 1e-3\n",
        "U_WD      = 1e-4\n",
        "U_EPOCHS  = 200\n",
        "EARLY_ACC = 0.95\n"
      ],
      "metadata": {
        "id": "jdobjtJrLxGK"
      },
      "execution_count": null,
      "outputs": []
    },
    {
      "cell_type": "code",
      "source": [
        "# ─── Cell 2: Core Helpers ───\n",
        "\n",
        "# 1) generate_ablation_states with correct freeze logic\n",
        "def generate_ablation_states(mode, victim, num_variants=Q):\n",
        "    states = []\n",
        "    for _ in range(num_variants):\n",
        "        m = copy.deepcopy(victim)\n",
        "        for name, p in m.named_parameters():\n",
        "            if mode == \"A_only\" and \"lin\" in name:\n",
        "                p.requires_grad = False\n",
        "            if mode == \"X_only\" and \"conv\" in name:\n",
        "                p.requires_grad = False\n",
        "        opt = Adam(filter(lambda p: p.requires_grad, m.parameters()), lr=LR, weight_decay=WD)\n",
        "        loss_fn = nn.CrossEntropyLoss()\n",
        "        for _ in range(INNER_E):\n",
        "            for batch in DataLoader(train_dataset, batch_size=BATCH_SZ, shuffle=True):\n",
        "                batch = batch.to(device)\n",
        "                out = m(batch.x, batch.edge_index, batch.batch)\n",
        "                loss = loss_fn(out, batch.y.view(-1))\n",
        "                opt.zero_grad(); loss.backward(); opt.step()\n",
        "        states.append(m.state_dict())\n",
        "    return states\n",
        "\n",
        "# 2) get_variant_states with “Both” loading\n",
        "def get_variant_states(mode, victim, Q=Q):\n",
        "    if mode == \"Both\":\n",
        "        neg_dir = os.path.join(variants_base_dir, \"PR_GCNMean\", \"negative\")\n",
        "        ckpts   = sorted(os.listdir(neg_dir))[:Q]\n",
        "        return [torch.load(os.path.join(neg_dir, ckpt), map_location=device) for ckpt in ckpts]\n",
        "    else:\n",
        "        return generate_ablation_states(mode, victim, num_variants=Q)\n",
        "\n",
        "# 3) extract_fp: average pooled features across graphs → (hidden,)\n",
        "def extract_fp(victim_model, U_net, graph_list):\n",
        "    victim_model.eval()\n",
        "    loader = DataLoader(graph_list, batch_size=len(graph_list), shuffle=False)\n",
        "    for batch in loader:\n",
        "        batch = batch.to(device)\n",
        "        with torch.no_grad():\n",
        "            x = F.relu(victim_model.conv1(batch.x, batch.edge_index))\n",
        "            x = F.dropout(x, p=victim_model.dropout, training=False)\n",
        "            x = F.relu(victim_model.conv2(x, batch.edge_index))\n",
        "            x = F.dropout(x, p=victim_model.dropout, training=False)\n",
        "            x = F.relu(victim_model.conv3(x, batch.edge_index))\n",
        "            pooled = global_mean_pool(x, batch.batch)        # (num_graphs, hidden)\n",
        "        fingerprint = pooled.mean(dim=0)                     # (hidden,)\n",
        "        return fingerprint.cpu().numpy()\n",
        "\n",
        "# 4) extract_graph_embeddings → (Q, hidden)\n",
        "def extract_graph_embeddings(states, graphs, fp_extractor):\n",
        "    embs = []\n",
        "    for st in states:\n",
        "        m = GCNMean(dataset.num_node_features,64,dataset.num_classes,0.5).to(device)\n",
        "        m.load_state_dict(st); m.eval()\n",
        "        embs.append(fp_extractor(m, FingerprintNetMLP().to(device), graphs))\n",
        "    return np.stack(embs, axis=0)\n",
        "\n",
        "# 5) train_U on (Q×hidden) arrays\n",
        "def train_U(X_pos, X_neg, seed=SEED):\n",
        "    X  = np.vstack([X_pos, X_neg])\n",
        "    y  = np.array([1]*len(X_pos) + [0]*len(X_neg))\n",
        "    perm = np.random.RandomState(seed).permutation(len(y))\n",
        "    X_t   = torch.tensor(X[perm], dtype=torch.float32).to(device)\n",
        "    y_t   = torch.tensor(y[perm], dtype=torch.long).to(device)\n",
        "    ds    = torch.utils.data.TensorDataset(X_t, y_t)\n",
        "    loader= torch.utils.data.DataLoader(ds, batch_size=BATCH_SZ, shuffle=True)\n",
        "\n",
        "    U      = FingerprintNetMLP().to(device)\n",
        "    optU   = Adam(U.parameters(), lr=U_LR, weight_decay=U_WD)\n",
        "    loss_fn= nn.CrossEntropyLoss()\n",
        "\n",
        "    for epoch in range(1, U_EPOCHS+1):\n",
        "        U.train(); correct = total = 0\n",
        "        for xb, yb in loader:\n",
        "            logits = U(xb); loss = loss_fn(logits, yb)\n",
        "            optU.zero_grad(); loss.backward(); optU.step()\n",
        "            preds = logits.argmax(dim=1)\n",
        "            correct += (preds == yb).sum().item()\n",
        "            total   += yb.size(0)\n",
        "        acc = correct/total\n",
        "        if acc >= EARLY_ACC:\n",
        "            break\n",
        "    return U, acc, epoch\n"
      ],
      "metadata": {
        "id": "qi9lSlksLzu5"
      },
      "execution_count": null,
      "outputs": []
    },
    {
      "cell_type": "code",
      "source": [
        "# ─── Cell 3: Full Ablation Sweep ───\n",
        "victim = GCNMean(dataset.num_node_features,64,dataset.num_classes,0.5).to(device)\n",
        "victim.load_state_dict(torch.load(f\"{victim_ckpt_dir}/victim_PR_GCNMean.pth\", map_location=device))\n",
        "victim.eval()\n",
        "\n",
        "results_ablation = {}\n",
        "pos_graphs = list(train_dataset[:100])  # fixed subset\n",
        "\n",
        "for mode in [\"A_only\", \"X_only\", \"Both\"]:\n",
        "    print(f\"\\n=== Mode: {mode} ===\")\n",
        "    variants  = get_variant_states(mode, victim, Q=Q)\n",
        "    neg_embs  = extract_graph_embeddings(variants, pos_graphs, extract_fp)\n",
        "    pos_fp    = extract_fp(victim, FingerprintNetMLP().to(device), pos_graphs)\n",
        "    pos_rep   = np.tile(pos_fp.reshape(-1), (Q,1))\n",
        "    U_net, tr_acc, epochs_used = train_U(pos_rep, neg_embs)\n",
        "    print(f\"Trained U → acc={tr_acc:.4f}, epochs={epochs_used}\")\n",
        "    pos_scores = get_scores_with_U(victim, U_net, list(test_dataset))\n",
        "    neg_scores = np.concatenate([\n",
        "        get_scores_with_U(\n",
        "            (lambda st: (m:=GCNMean(dataset.num_node_features,64,dataset.num_classes,0.5).to(device),\n",
        "                         m.load_state_dict(st), m.eval(), m)[3]\n",
        "            )(st),\n",
        "            U_net,\n",
        "            list(test_dataset)\n",
        "        ) for st in variants\n",
        "    ])\n",
        "    labels = np.concatenate([np.ones_like(pos_scores), np.zeros_like(neg_scores)])\n",
        "    scores = np.concatenate([pos_scores, neg_scores])\n",
        "    aruc   = roc_auc_score(labels, scores)\n",
        "    print(f\"{mode} ARUC = {aruc:.4f}\")\n",
        "    results_ablation[mode] = aruc\n",
        "\n",
        "print(\"\\nFinal A-vs-X Ablation results:\", results_ablation)\n"
      ],
      "metadata": {
        "colab": {
          "base_uri": "https://localhost:8080/"
        },
        "id": "ETALkf6ZL1aQ",
        "outputId": "6ccb6422-eacd-4cf2-f643-f591308995a6"
      },
      "execution_count": null,
      "outputs": [
        {
          "output_type": "stream",
          "name": "stdout",
          "text": [
            "\n",
            "=== Mode: A_only ===\n",
            "Trained U → acc=1.0000, epochs=5\n",
            "A_only ARUC = 0.6237\n",
            "\n",
            "=== Mode: X_only ===\n",
            "Trained U → acc=0.4750, epochs=200\n",
            "X_only ARUC = 0.5000\n",
            "\n",
            "=== Mode: Both ===\n",
            "Trained U → acc=0.9500, epochs=10\n",
            "Both ARUC = 0.6110\n",
            "\n",
            "Final A-vs-X Ablation results: {'A_only': np.float64(0.6236646624705907), 'X_only': np.float64(0.5), 'Both': np.float64(0.6110057008988719)}\n"
          ]
        }
      ]
    },
    {
      "cell_type": "code",
      "source": [
        "# ─── Cell: Node Classification on Cora & Citeseer ───\n",
        "import torch\n",
        "import torch.nn.functional as F\n",
        "from torch.optim import Adam\n",
        "from torch_geometric.datasets import Planetoid\n",
        "from torch_geometric.nn import GCNConv\n",
        "from sklearn.linear_model import LogisticRegression\n",
        "from sklearn.metrics import accuracy_score\n",
        "\n",
        "device = torch.device('cuda' if torch.cuda.is_available() else 'cpu')\n",
        "\n",
        "class GCNMeanNC(torch.nn.Module):\n",
        "    def __init__(self, in_feats, hidden, num_classes, dropout=0.5):\n",
        "        super().__init__()\n",
        "        self.conv1 = GCNConv(in_feats, hidden)\n",
        "        self.conv2 = GCNConv(hidden, hidden)\n",
        "        self.conv3 = GCNConv(hidden, hidden)\n",
        "        self.lin   = torch.nn.Linear(hidden, num_classes)\n",
        "        self.dropout = dropout\n",
        "\n",
        "    def forward(self, x, edge_index):\n",
        "        x = F.relu(self.conv1(x, edge_index))\n",
        "        x = F.dropout(x, p=self.dropout, training=self.training)\n",
        "        x = F.relu(self.conv2(x, edge_index))\n",
        "        x = F.dropout(x, p=self.dropout, training=self.training)\n",
        "        x = F.relu(self.conv3(x, edge_index))\n",
        "        return self.lin(x)\n",
        "\n",
        "def run_node_classification(name):\n",
        "    # Load dataset\n",
        "    ds   = Planetoid(root=f'data/{name}', name=name)\n",
        "    data = ds[0].to(device)\n",
        "\n",
        "    # Instantiate and train GCN\n",
        "    model = GCNMeanNC(ds.num_node_features, 64, ds.num_classes, dropout=0.5).to(device)\n",
        "    opt   = Adam(model.parameters(), lr=0.01, weight_decay=5e-4)\n",
        "    loss_fn = torch.nn.CrossEntropyLoss()\n",
        "\n",
        "    for epoch in range(1, 201):\n",
        "        model.train()\n",
        "        opt.zero_grad()\n",
        "        out = model(data.x, data.edge_index)\n",
        "        loss = loss_fn(out[data.train_mask], data.y[data.train_mask])\n",
        "        loss.backward()\n",
        "        opt.step()\n",
        "\n",
        "    # Extract final hidden representations\n",
        "    model.eval()\n",
        "    with torch.no_grad():\n",
        "        h = F.relu(model.conv1(data.x, data.edge_index))\n",
        "        h = F.relu(model.conv2(h, data.edge_index))\n",
        "        h = F.relu(model.conv3(h, data.edge_index))\n",
        "        emb    = h.cpu().numpy()\n",
        "        labels = data.y.cpu().numpy()\n",
        "        train_idx = data.train_mask.cpu().numpy()\n",
        "        test_idx  = data.test_mask.cpu().numpy()\n",
        "\n",
        "    # Train & evaluate logistic regression\n",
        "    clf = LogisticRegression(max_iter=1000)\n",
        "    clf.fit(emb[train_idx], labels[train_idx])\n",
        "    preds = clf.predict(emb[test_idx])\n",
        "    acc   = accuracy_score(labels[test_idx], preds)\n",
        "    print(f\"{name} node-classification accuracy: {acc:.4f}\")\n",
        "\n",
        "# Run on both datasets\n",
        "run_node_classification(\"Cora\")\n",
        "run_node_classification(\"CiteSeer\")\n"
      ],
      "metadata": {
        "colab": {
          "base_uri": "https://localhost:8080/"
        },
        "id": "de3bYllrMFm5",
        "outputId": "72d7d02c-8a9a-439d-9aae-1d06dc327e6d"
      },
      "execution_count": null,
      "outputs": [
        {
          "output_type": "stream",
          "name": "stdout",
          "text": [
            "Cora node-classification accuracy: 0.7880\n",
            "CiteSeer node-classification accuracy: 0.6350\n"
          ]
        }
      ]
    },
    {
      "cell_type": "code",
      "source": [
        "# ─── Cell: Link Prediction on Cora & Citeseer (CORRECTED) ───\n",
        "import random\n",
        "import numpy as np\n",
        "import torch.nn.functional as F\n",
        "from sklearn.linear_model    import LogisticRegression\n",
        "from sklearn.metrics         import roc_auc_score\n",
        "from sklearn.model_selection import train_test_split\n",
        "from torch_geometric.datasets import Planetoid\n",
        "from torch_geometric.nn       import GCNConv\n",
        "from torch.optim              import Adam\n",
        "\n",
        "device = torch.device('cuda' if torch.cuda.is_available() else 'cpu')\n",
        "\n",
        "# Reuse your GCNMeanNC from node classification\n",
        "class GCNMeanNC(torch.nn.Module):\n",
        "    def __init__(self, in_feats, hidden, num_classes, dropout=0.5):\n",
        "        super().__init__()\n",
        "        self.conv1 = GCNConv(in_feats, hidden)\n",
        "        self.conv2 = GCNConv(hidden, hidden)\n",
        "        self.conv3 = GCNConv(hidden, hidden)\n",
        "        self.lin   = torch.nn.Linear(hidden, num_classes)\n",
        "        self.dropout = dropout\n",
        "\n",
        "    def forward(self, x, edge_index):\n",
        "        x = F.relu(self.conv1(x, edge_index))\n",
        "        x = F.dropout(x, p=self.dropout, training=self.training)\n",
        "        x = F.relu(self.conv2(x, edge_index))\n",
        "        x = F.dropout(x, p=self.dropout, training=self.training)\n",
        "        x = F.relu(self.conv3(x, edge_index))\n",
        "        return self.lin(x)\n",
        "\n",
        "def extract_node_embeddings_planetoid(model, data):\n",
        "    \"\"\"Returns (embeddings, labels) for all nodes in data.\"\"\"\n",
        "    model.eval()\n",
        "    with torch.no_grad():\n",
        "        x = F.relu(model.conv1(data.x, data.edge_index))\n",
        "        x = F.relu(model.conv2(x, data.edge_index))\n",
        "        x = F.relu(model.conv3(x, data.edge_index))\n",
        "    return x.cpu().numpy(), data.y.cpu().numpy()\n",
        "\n",
        "def evaluate_link_prediction(name):\n",
        "    # 1) Load dataset\n",
        "    ds   = Planetoid(root=f'data/{name}', name=name)\n",
        "    data = ds[0].to(device)\n",
        "\n",
        "    # 2) Train GCN for node classification\n",
        "    model = GCNMeanNC(ds.num_node_features, 64, ds.num_classes, dropout=0.5).to(device)\n",
        "    opt   = Adam(model.parameters(), lr=0.01, weight_decay=5e-4)\n",
        "    loss_fn = torch.nn.CrossEntropyLoss()\n",
        "    for epoch in range(1, 201):\n",
        "        model.train()\n",
        "        opt.zero_grad()\n",
        "        out = model(data.x, data.edge_index)\n",
        "        loss = loss_fn(out[data.train_mask], data.y[data.train_mask])\n",
        "        loss.backward()\n",
        "        opt.step()\n",
        "\n",
        "    # 3) Extract per-node embeddings\n",
        "    emb, _ = extract_node_embeddings_planetoid(model, data)\n",
        "    n_nodes = emb.shape[0]\n",
        "\n",
        "    # 4) Sample positive and negative edges\n",
        "    edges = list(zip(data.edge_index[0].tolist(), data.edge_index[1].tolist()))\n",
        "    num   = min(len(edges), 1000)\n",
        "    pos   = edges[:num]\n",
        "    neg   = []\n",
        "    while len(neg) < num:\n",
        "        u, v = random.sample(range(n_nodes), 2)\n",
        "        if (u, v) not in edges and (v, u) not in edges:\n",
        "            neg.append((u, v))\n",
        "\n",
        "    # 5) Build feature pairs & labels\n",
        "    X = np.vstack([np.hstack([emb[u], emb[v]]) for u,v in pos+neg])\n",
        "    y = np.array([1]*num + [0]*num)\n",
        "\n",
        "    # 6) Split, train logistic regression, and evaluate ROC-AUC\n",
        "    X_tr, X_te, y_tr, y_te = train_test_split(X, y, test_size=0.2, random_state=SEED)\n",
        "    clf = LogisticRegression(max_iter=1000).fit(X_tr, y_tr)\n",
        "    auc = roc_auc_score(y_te, clf.predict_proba(X_te)[:,1])\n",
        "    print(f\"{name} link-prediction ROC-AUC: {auc:.4f}\")\n",
        "\n",
        "# Run for both datasets\n",
        "evaluate_link_prediction(\"Cora\")\n",
        "evaluate_link_prediction(\"CiteSeer\")\n"
      ],
      "metadata": {
        "colab": {
          "base_uri": "https://localhost:8080/"
        },
        "id": "ZEWTyfJYPApV",
        "outputId": "56171182-ba80-4b0d-e896-ee42280a4af6"
      },
      "execution_count": null,
      "outputs": [
        {
          "output_type": "stream",
          "name": "stdout",
          "text": [
            "Cora link-prediction ROC-AUC: 0.8125\n",
            "CiteSeer link-prediction ROC-AUC: 0.7547\n"
          ]
        }
      ]
    },
    {
      "cell_type": "code",
      "source": [
        "# ─── Fixed Cell: Graph Matching on AIDS & LINUX ───\n",
        "import random\n",
        "import numpy as np\n",
        "from sklearn.linear_model     import LogisticRegression\n",
        "from sklearn.metrics          import accuracy_score\n",
        "from sklearn.metrics.pairwise import cosine_similarity\n",
        "from torch.optim               import Adam\n",
        "from torch_geometric.datasets  import TUDataset\n",
        "from torch_geometric.loader    import DataLoader\n",
        "import torch.nn.functional     as F\n",
        "\n",
        "device = torch.device('cuda' if torch.cuda.is_available() else 'cpu')\n",
        "\n",
        "def train_graph_classifier(ds):\n",
        "    model = GCNMean(\n",
        "        in_feats=ds.num_node_features,\n",
        "        hidden=64,\n",
        "        num_classes=ds.num_classes,\n",
        "        dropout=0.5\n",
        "    ).to(device)\n",
        "    opt = Adam(model.parameters(), lr=1e-3, weight_decay=1e-4)\n",
        "    loss_fn = nn.CrossEntropyLoss()\n",
        "    loader = DataLoader(ds[:int(0.8*len(ds))], batch_size=32, shuffle=True)\n",
        "    for epoch in range(1, 51):\n",
        "        model.train()\n",
        "        total_loss = 0.0\n",
        "        for batch in loader:\n",
        "            batch = batch.to(device)\n",
        "            opt.zero_grad()\n",
        "            out = model(batch.x, batch.edge_index, batch.batch)\n",
        "            total_loss += loss_fn(out, batch.y).item()\n",
        "            loss_fn(out, batch.y).backward()\n",
        "            opt.step()\n",
        "        if epoch % 10 == 0:\n",
        "            print(f\"{ds.name} Epoch {epoch:02d}, loss={total_loss/len(loader):.4f}\")\n",
        "    return model\n",
        "\n",
        "def evaluate_graph_matching(name):\n",
        "    # 1) Load & split dataset\n",
        "    ds = TUDataset(root=f'data/{name}', name=name)\n",
        "    n_train = int(0.8 * len(ds))\n",
        "    train_ds = ds[:n_train]\n",
        "    test_ds  = ds[n_train:]\n",
        "    pos_graphs = list(train_ds[:100])\n",
        "\n",
        "    # 2) Train victim on this dataset\n",
        "    print(f\"\\nTraining GCN on {name}...\")\n",
        "    victim = train_graph_classifier(ds)\n",
        "    victim.eval()\n",
        "\n",
        "    # 3) Locally fine-tune “Both” variants on train_ds\n",
        "    def generate_ablation_states_ds(victim_model, train_split, Q):\n",
        "        states = []\n",
        "        for _ in range(Q):\n",
        "            m = copy.deepcopy(victim_model)\n",
        "            # no freezing → fine-tune both A and X\n",
        "            opt = Adam(m.parameters(), lr=1e-3, weight_decay=1e-4)\n",
        "            loss_fn = nn.CrossEntropyLoss()\n",
        "            loader = DataLoader(train_split, batch_size=32, shuffle=True)\n",
        "            for _ in range(5):                  # 5 inner epochs as paper\n",
        "                for batch in loader:\n",
        "                    batch = batch.to(device)\n",
        "                    opt.zero_grad()\n",
        "                    out = m(batch.x, batch.edge_index, batch.batch)\n",
        "                    loss = loss_fn(out, batch.y)\n",
        "                    loss.backward(); opt.step()\n",
        "            states.append(m.state_dict())\n",
        "        return states\n",
        "\n",
        "    variants = generate_ablation_states_ds(victim, train_ds, Q)\n",
        "\n",
        "    # 4) Extract original fingerprint\n",
        "    orig_fp = extract_fp(victim, FingerprintNetMLP().to(device), pos_graphs)\n",
        "\n",
        "    # 5) Extract each variant’s fingerprint\n",
        "    var_fps = []\n",
        "    for st in variants:\n",
        "        m = GCNMean(ds.num_node_features,64,ds.num_classes,0.5).to(device)\n",
        "        m.load_state_dict(st); m.eval()\n",
        "        var_fps.append(extract_fp(m, FingerprintNetMLP().to(device), pos_graphs))\n",
        "\n",
        "    # 6) Build pos/neg pairs\n",
        "    pos_pairs = [(orig_fp, v) for v in var_fps]\n",
        "    neg_pairs = []\n",
        "    while len(neg_pairs) < Q:\n",
        "        i, j = random.sample(range(Q), 2)\n",
        "        neg_pairs.append((var_fps[i], var_fps[j]))\n",
        "\n",
        "    # 7) Compute cosine similarities & labels\n",
        "    sims = [cosine_similarity(a.reshape(1,-1), b.reshape(1,-1))[0,0]\n",
        "            for a,b in pos_pairs+neg_pairs]\n",
        "    X = np.array(sims).reshape(-1,1)\n",
        "    y = np.array([1]*Q + [0]*Q)\n",
        "\n",
        "    # 8) Train/test split & evaluate\n",
        "    from sklearn.model_selection import train_test_split\n",
        "    X_tr, X_te, y_tr, y_te = train_test_split(X, y, test_size=0.2, random_state=SEED)\n",
        "    clf = LogisticRegression(max_iter=1000).fit(X_tr, y_tr)\n",
        "    acc = accuracy_score(y_te, clf.predict(X_te))\n",
        "    print(f\"{name} graph‐matching accuracy: {acc:.4f}\")\n",
        "\n",
        "# Run it\n",
        "evaluate_graph_matching(\"AIDS\")\n",
        "evaluate_graph_matching(\"LINUX\")\n"
      ],
      "metadata": {
        "colab": {
          "base_uri": "https://localhost:8080/",
          "height": 478
        },
        "id": "0kvtyPloPlqL",
        "outputId": "779820da-ca4e-42ca-8410-0ba74761f8fe"
      },
      "execution_count": null,
      "outputs": [
        {
          "output_type": "stream",
          "name": "stdout",
          "text": [
            "\n",
            "Training GCN on AIDS...\n",
            "AIDS Epoch 10, loss=0.4385\n",
            "AIDS Epoch 20, loss=0.4286\n",
            "AIDS Epoch 30, loss=0.4169\n",
            "AIDS Epoch 40, loss=0.4108\n",
            "AIDS Epoch 50, loss=0.4075\n",
            "AIDS graph‐matching accuracy: 0.4750\n"
          ]
        },
        {
          "output_type": "stream",
          "name": "stderr",
          "text": [
            "Downloading https://www.chrsmrrs.com/graphkerneldatasets/LINUX.zip\n"
          ]
        },
        {
          "output_type": "error",
          "ename": "FileNotFoundError",
          "evalue": "https://www.chrsmrrs.com/graphkerneldatasets/LINUX.zip",
          "traceback": [
            "\u001b[0;31m---------------------------------------------------------------------------\u001b[0m",
            "\u001b[0;31mFileNotFoundError\u001b[0m                         Traceback (most recent call last)",
            "\u001b[0;32m<ipython-input-53-3059485162>\u001b[0m in \u001b[0;36m<cell line: 0>\u001b[0;34m()\u001b[0m\n\u001b[1;32m    102\u001b[0m \u001b[0;31m# Run it\u001b[0m\u001b[0;34m\u001b[0m\u001b[0;34m\u001b[0m\u001b[0m\n\u001b[1;32m    103\u001b[0m \u001b[0mevaluate_graph_matching\u001b[0m\u001b[0;34m(\u001b[0m\u001b[0;34m\"AIDS\"\u001b[0m\u001b[0;34m)\u001b[0m\u001b[0;34m\u001b[0m\u001b[0;34m\u001b[0m\u001b[0m\n\u001b[0;32m--> 104\u001b[0;31m \u001b[0mevaluate_graph_matching\u001b[0m\u001b[0;34m(\u001b[0m\u001b[0;34m\"LINUX\"\u001b[0m\u001b[0;34m)\u001b[0m\u001b[0;34m\u001b[0m\u001b[0;34m\u001b[0m\u001b[0m\n\u001b[0m",
            "\u001b[0;32m<ipython-input-53-3059485162>\u001b[0m in \u001b[0;36mevaluate_graph_matching\u001b[0;34m(name)\u001b[0m\n\u001b[1;32m     38\u001b[0m \u001b[0;32mdef\u001b[0m \u001b[0mevaluate_graph_matching\u001b[0m\u001b[0;34m(\u001b[0m\u001b[0mname\u001b[0m\u001b[0;34m)\u001b[0m\u001b[0;34m:\u001b[0m\u001b[0;34m\u001b[0m\u001b[0;34m\u001b[0m\u001b[0m\n\u001b[1;32m     39\u001b[0m     \u001b[0;31m# 1) Load & split dataset\u001b[0m\u001b[0;34m\u001b[0m\u001b[0;34m\u001b[0m\u001b[0m\n\u001b[0;32m---> 40\u001b[0;31m     \u001b[0mds\u001b[0m \u001b[0;34m=\u001b[0m \u001b[0mTUDataset\u001b[0m\u001b[0;34m(\u001b[0m\u001b[0mroot\u001b[0m\u001b[0;34m=\u001b[0m\u001b[0;34mf'data/{name}'\u001b[0m\u001b[0;34m,\u001b[0m \u001b[0mname\u001b[0m\u001b[0;34m=\u001b[0m\u001b[0mname\u001b[0m\u001b[0;34m)\u001b[0m\u001b[0;34m\u001b[0m\u001b[0;34m\u001b[0m\u001b[0m\n\u001b[0m\u001b[1;32m     41\u001b[0m     \u001b[0mn_train\u001b[0m \u001b[0;34m=\u001b[0m \u001b[0mint\u001b[0m\u001b[0;34m(\u001b[0m\u001b[0;36m0.8\u001b[0m \u001b[0;34m*\u001b[0m \u001b[0mlen\u001b[0m\u001b[0;34m(\u001b[0m\u001b[0mds\u001b[0m\u001b[0;34m)\u001b[0m\u001b[0;34m)\u001b[0m\u001b[0;34m\u001b[0m\u001b[0;34m\u001b[0m\u001b[0m\n\u001b[1;32m     42\u001b[0m     \u001b[0mtrain_ds\u001b[0m \u001b[0;34m=\u001b[0m \u001b[0mds\u001b[0m\u001b[0;34m[\u001b[0m\u001b[0;34m:\u001b[0m\u001b[0mn_train\u001b[0m\u001b[0;34m]\u001b[0m\u001b[0;34m\u001b[0m\u001b[0;34m\u001b[0m\u001b[0m\n",
            "\u001b[0;32m/usr/local/lib/python3.11/dist-packages/torch_geometric/datasets/tu_dataset.py\u001b[0m in \u001b[0;36m__init__\u001b[0;34m(self, root, name, transform, pre_transform, pre_filter, force_reload, use_node_attr, use_edge_attr, cleaned)\u001b[0m\n\u001b[1;32m    127\u001b[0m         \u001b[0mself\u001b[0m\u001b[0;34m.\u001b[0m\u001b[0mname\u001b[0m \u001b[0;34m=\u001b[0m \u001b[0mname\u001b[0m\u001b[0;34m\u001b[0m\u001b[0;34m\u001b[0m\u001b[0m\n\u001b[1;32m    128\u001b[0m         \u001b[0mself\u001b[0m\u001b[0;34m.\u001b[0m\u001b[0mcleaned\u001b[0m \u001b[0;34m=\u001b[0m \u001b[0mcleaned\u001b[0m\u001b[0;34m\u001b[0m\u001b[0;34m\u001b[0m\u001b[0m\n\u001b[0;32m--> 129\u001b[0;31m         super().__init__(root, transform, pre_transform, pre_filter,\n\u001b[0m\u001b[1;32m    130\u001b[0m                          force_reload=force_reload)\n\u001b[1;32m    131\u001b[0m \u001b[0;34m\u001b[0m\u001b[0m\n",
            "\u001b[0;32m/usr/local/lib/python3.11/dist-packages/torch_geometric/data/in_memory_dataset.py\u001b[0m in \u001b[0;36m__init__\u001b[0;34m(self, root, transform, pre_transform, pre_filter, log, force_reload)\u001b[0m\n\u001b[1;32m     79\u001b[0m         \u001b[0mforce_reload\u001b[0m\u001b[0;34m:\u001b[0m \u001b[0mbool\u001b[0m \u001b[0;34m=\u001b[0m \u001b[0;32mFalse\u001b[0m\u001b[0;34m,\u001b[0m\u001b[0;34m\u001b[0m\u001b[0;34m\u001b[0m\u001b[0m\n\u001b[1;32m     80\u001b[0m     ) -> None:\n\u001b[0;32m---> 81\u001b[0;31m         super().__init__(root, transform, pre_transform, pre_filter, log,\n\u001b[0m\u001b[1;32m     82\u001b[0m                          force_reload)\n\u001b[1;32m     83\u001b[0m \u001b[0;34m\u001b[0m\u001b[0m\n",
            "\u001b[0;32m/usr/local/lib/python3.11/dist-packages/torch_geometric/data/dataset.py\u001b[0m in \u001b[0;36m__init__\u001b[0;34m(self, root, transform, pre_transform, pre_filter, log, force_reload)\u001b[0m\n\u001b[1;32m    110\u001b[0m \u001b[0;34m\u001b[0m\u001b[0m\n\u001b[1;32m    111\u001b[0m         \u001b[0;32mif\u001b[0m \u001b[0mself\u001b[0m\u001b[0;34m.\u001b[0m\u001b[0mhas_download\u001b[0m\u001b[0;34m:\u001b[0m\u001b[0;34m\u001b[0m\u001b[0;34m\u001b[0m\u001b[0m\n\u001b[0;32m--> 112\u001b[0;31m             \u001b[0mself\u001b[0m\u001b[0;34m.\u001b[0m\u001b[0m_download\u001b[0m\u001b[0;34m(\u001b[0m\u001b[0;34m)\u001b[0m\u001b[0;34m\u001b[0m\u001b[0;34m\u001b[0m\u001b[0m\n\u001b[0m\u001b[1;32m    113\u001b[0m \u001b[0;34m\u001b[0m\u001b[0m\n\u001b[1;32m    114\u001b[0m         \u001b[0;32mif\u001b[0m \u001b[0mself\u001b[0m\u001b[0;34m.\u001b[0m\u001b[0mhas_process\u001b[0m\u001b[0;34m:\u001b[0m\u001b[0;34m\u001b[0m\u001b[0;34m\u001b[0m\u001b[0m\n",
            "\u001b[0;32m/usr/local/lib/python3.11/dist-packages/torch_geometric/data/dataset.py\u001b[0m in \u001b[0;36m_download\u001b[0;34m(self)\u001b[0m\n\u001b[1;32m    227\u001b[0m \u001b[0;34m\u001b[0m\u001b[0m\n\u001b[1;32m    228\u001b[0m         \u001b[0mfs\u001b[0m\u001b[0;34m.\u001b[0m\u001b[0mmakedirs\u001b[0m\u001b[0;34m(\u001b[0m\u001b[0mself\u001b[0m\u001b[0;34m.\u001b[0m\u001b[0mraw_dir\u001b[0m\u001b[0;34m,\u001b[0m \u001b[0mexist_ok\u001b[0m\u001b[0;34m=\u001b[0m\u001b[0;32mTrue\u001b[0m\u001b[0;34m)\u001b[0m\u001b[0;34m\u001b[0m\u001b[0;34m\u001b[0m\u001b[0m\n\u001b[0;32m--> 229\u001b[0;31m         \u001b[0mself\u001b[0m\u001b[0;34m.\u001b[0m\u001b[0mdownload\u001b[0m\u001b[0;34m(\u001b[0m\u001b[0;34m)\u001b[0m\u001b[0;34m\u001b[0m\u001b[0;34m\u001b[0m\u001b[0m\n\u001b[0m\u001b[1;32m    230\u001b[0m \u001b[0;34m\u001b[0m\u001b[0m\n\u001b[1;32m    231\u001b[0m     \u001b[0;34m@\u001b[0m\u001b[0mproperty\u001b[0m\u001b[0;34m\u001b[0m\u001b[0;34m\u001b[0m\u001b[0m\n",
            "\u001b[0;32m/usr/local/lib/python3.11/dist-packages/torch_geometric/datasets/tu_dataset.py\u001b[0m in \u001b[0;36mdownload\u001b[0;34m(self)\u001b[0m\n\u001b[1;32m    195\u001b[0m     \u001b[0;32mdef\u001b[0m \u001b[0mdownload\u001b[0m\u001b[0;34m(\u001b[0m\u001b[0mself\u001b[0m\u001b[0;34m)\u001b[0m \u001b[0;34m->\u001b[0m \u001b[0;32mNone\u001b[0m\u001b[0;34m:\u001b[0m\u001b[0;34m\u001b[0m\u001b[0;34m\u001b[0m\u001b[0m\n\u001b[1;32m    196\u001b[0m         \u001b[0murl\u001b[0m \u001b[0;34m=\u001b[0m \u001b[0mself\u001b[0m\u001b[0;34m.\u001b[0m\u001b[0mcleaned_url\u001b[0m \u001b[0;32mif\u001b[0m \u001b[0mself\u001b[0m\u001b[0;34m.\u001b[0m\u001b[0mcleaned\u001b[0m \u001b[0;32melse\u001b[0m \u001b[0mself\u001b[0m\u001b[0;34m.\u001b[0m\u001b[0murl\u001b[0m\u001b[0;34m\u001b[0m\u001b[0;34m\u001b[0m\u001b[0m\n\u001b[0;32m--> 197\u001b[0;31m         \u001b[0mfs\u001b[0m\u001b[0;34m.\u001b[0m\u001b[0mcp\u001b[0m\u001b[0;34m(\u001b[0m\u001b[0;34mf'{url}/{self.name}.zip'\u001b[0m\u001b[0;34m,\u001b[0m \u001b[0mself\u001b[0m\u001b[0;34m.\u001b[0m\u001b[0mraw_dir\u001b[0m\u001b[0;34m,\u001b[0m \u001b[0mextract\u001b[0m\u001b[0;34m=\u001b[0m\u001b[0;32mTrue\u001b[0m\u001b[0;34m)\u001b[0m\u001b[0;34m\u001b[0m\u001b[0;34m\u001b[0m\u001b[0m\n\u001b[0m\u001b[1;32m    198\u001b[0m         \u001b[0;32mfor\u001b[0m \u001b[0mfilename\u001b[0m \u001b[0;32min\u001b[0m \u001b[0mfs\u001b[0m\u001b[0;34m.\u001b[0m\u001b[0mls\u001b[0m\u001b[0;34m(\u001b[0m\u001b[0mosp\u001b[0m\u001b[0;34m.\u001b[0m\u001b[0mjoin\u001b[0m\u001b[0;34m(\u001b[0m\u001b[0mself\u001b[0m\u001b[0;34m.\u001b[0m\u001b[0mraw_dir\u001b[0m\u001b[0;34m,\u001b[0m \u001b[0mself\u001b[0m\u001b[0;34m.\u001b[0m\u001b[0mname\u001b[0m\u001b[0;34m)\u001b[0m\u001b[0;34m)\u001b[0m\u001b[0;34m:\u001b[0m\u001b[0;34m\u001b[0m\u001b[0;34m\u001b[0m\u001b[0m\n\u001b[1;32m    199\u001b[0m             \u001b[0mfs\u001b[0m\u001b[0;34m.\u001b[0m\u001b[0mmv\u001b[0m\u001b[0;34m(\u001b[0m\u001b[0mfilename\u001b[0m\u001b[0;34m,\u001b[0m \u001b[0mosp\u001b[0m\u001b[0;34m.\u001b[0m\u001b[0mjoin\u001b[0m\u001b[0;34m(\u001b[0m\u001b[0mself\u001b[0m\u001b[0;34m.\u001b[0m\u001b[0mraw_dir\u001b[0m\u001b[0;34m,\u001b[0m \u001b[0mosp\u001b[0m\u001b[0;34m.\u001b[0m\u001b[0mbasename\u001b[0m\u001b[0;34m(\u001b[0m\u001b[0mfilename\u001b[0m\u001b[0;34m)\u001b[0m\u001b[0;34m)\u001b[0m\u001b[0;34m)\u001b[0m\u001b[0;34m\u001b[0m\u001b[0;34m\u001b[0m\u001b[0m\n",
            "\u001b[0;32m/usr/local/lib/python3.11/dist-packages/torch_geometric/io/fs.py\u001b[0m in \u001b[0;36mcp\u001b[0;34m(path1, path2, extract, log, use_cache, clear_cache)\u001b[0m\n\u001b[1;32m    153\u001b[0m \u001b[0;34m\u001b[0m\u001b[0m\n\u001b[1;32m    154\u001b[0m     \u001b[0;31m# Perform the copy:\u001b[0m\u001b[0;34m\u001b[0m\u001b[0;34m\u001b[0m\u001b[0m\n\u001b[0;32m--> 155\u001b[0;31m     \u001b[0;32mfor\u001b[0m \u001b[0mopen_file\u001b[0m \u001b[0;32min\u001b[0m \u001b[0mfsspec\u001b[0m\u001b[0;34m.\u001b[0m\u001b[0mopen_files\u001b[0m\u001b[0;34m(\u001b[0m\u001b[0mpath1\u001b[0m\u001b[0;34m,\u001b[0m \u001b[0;34m**\u001b[0m\u001b[0mkwargs\u001b[0m\u001b[0;34m)\u001b[0m\u001b[0;34m:\u001b[0m\u001b[0;34m\u001b[0m\u001b[0;34m\u001b[0m\u001b[0m\n\u001b[0m\u001b[1;32m    156\u001b[0m         \u001b[0;32mwith\u001b[0m \u001b[0mopen_file\u001b[0m \u001b[0;32mas\u001b[0m \u001b[0mf_from\u001b[0m\u001b[0;34m:\u001b[0m\u001b[0;34m\u001b[0m\u001b[0;34m\u001b[0m\u001b[0m\n\u001b[1;32m    157\u001b[0m             \u001b[0;32mif\u001b[0m \u001b[0;32mnot\u001b[0m \u001b[0mmultiple_files\u001b[0m\u001b[0;34m:\u001b[0m\u001b[0;34m\u001b[0m\u001b[0;34m\u001b[0m\u001b[0m\n",
            "\u001b[0;32m/usr/local/lib/python3.11/dist-packages/fsspec/core.py\u001b[0m in \u001b[0;36mopen_files\u001b[0;34m(urlpath, mode, compression, encoding, errors, name_function, num, protocol, newline, auto_mkdir, expand, **kwargs)\u001b[0m\n\u001b[1;32m    293\u001b[0m       \u001b[0mhttps\u001b[0m\u001b[0;34m:\u001b[0m\u001b[0;34m//\u001b[0m\u001b[0mfilesystem\u001b[0m\u001b[0;34m-\u001b[0m\u001b[0mspec\u001b[0m\u001b[0;34m.\u001b[0m\u001b[0mreadthedocs\u001b[0m\u001b[0;34m.\u001b[0m\u001b[0mio\u001b[0m\u001b[0;34m/\u001b[0m\u001b[0men\u001b[0m\u001b[0;34m/\u001b[0m\u001b[0mlatest\u001b[0m\u001b[0;34m/\u001b[0m\u001b[0mapi\u001b[0m\u001b[0;34m.\u001b[0m\u001b[0mhtml\u001b[0m\u001b[0;31m#other-known-implementations\u001b[0m\u001b[0;34m\u001b[0m\u001b[0;34m\u001b[0m\u001b[0m\n\u001b[1;32m    294\u001b[0m     \"\"\"\n\u001b[0;32m--> 295\u001b[0;31m     fs, fs_token, paths = get_fs_token_paths(\n\u001b[0m\u001b[1;32m    296\u001b[0m         \u001b[0murlpath\u001b[0m\u001b[0;34m,\u001b[0m\u001b[0;34m\u001b[0m\u001b[0;34m\u001b[0m\u001b[0m\n\u001b[1;32m    297\u001b[0m         \u001b[0mmode\u001b[0m\u001b[0;34m,\u001b[0m\u001b[0;34m\u001b[0m\u001b[0;34m\u001b[0m\u001b[0m\n",
            "\u001b[0;32m/usr/local/lib/python3.11/dist-packages/fsspec/core.py\u001b[0m in \u001b[0;36mget_fs_token_paths\u001b[0;34m(urlpath, mode, num, name_function, storage_options, protocol, expand)\u001b[0m\n\u001b[1;32m    665\u001b[0m         \u001b[0minkwargs\u001b[0m\u001b[0;34m[\u001b[0m\u001b[0;34m\"fo\"\u001b[0m\u001b[0;34m]\u001b[0m \u001b[0;34m=\u001b[0m \u001b[0murls\u001b[0m\u001b[0;34m\u001b[0m\u001b[0;34m\u001b[0m\u001b[0m\n\u001b[1;32m    666\u001b[0m     \u001b[0mpaths\u001b[0m\u001b[0;34m,\u001b[0m \u001b[0mprotocol\u001b[0m\u001b[0;34m,\u001b[0m \u001b[0m_\u001b[0m \u001b[0;34m=\u001b[0m \u001b[0mchain\u001b[0m\u001b[0;34m[\u001b[0m\u001b[0;36m0\u001b[0m\u001b[0;34m]\u001b[0m\u001b[0;34m\u001b[0m\u001b[0;34m\u001b[0m\u001b[0m\n\u001b[0;32m--> 667\u001b[0;31m     \u001b[0mfs\u001b[0m \u001b[0;34m=\u001b[0m \u001b[0mfilesystem\u001b[0m\u001b[0;34m(\u001b[0m\u001b[0mprotocol\u001b[0m\u001b[0;34m,\u001b[0m \u001b[0;34m**\u001b[0m\u001b[0minkwargs\u001b[0m\u001b[0;34m)\u001b[0m\u001b[0;34m\u001b[0m\u001b[0;34m\u001b[0m\u001b[0m\n\u001b[0m\u001b[1;32m    668\u001b[0m     \u001b[0;32mif\u001b[0m \u001b[0misinstance\u001b[0m\u001b[0;34m(\u001b[0m\u001b[0murlpath\u001b[0m\u001b[0;34m,\u001b[0m \u001b[0;34m(\u001b[0m\u001b[0mlist\u001b[0m\u001b[0;34m,\u001b[0m \u001b[0mtuple\u001b[0m\u001b[0;34m,\u001b[0m \u001b[0mset\u001b[0m\u001b[0;34m)\u001b[0m\u001b[0;34m)\u001b[0m\u001b[0;34m:\u001b[0m\u001b[0;34m\u001b[0m\u001b[0;34m\u001b[0m\u001b[0m\n\u001b[1;32m    669\u001b[0m         pchains = [\n",
            "\u001b[0;32m/usr/local/lib/python3.11/dist-packages/fsspec/registry.py\u001b[0m in \u001b[0;36mfilesystem\u001b[0;34m(protocol, **storage_options)\u001b[0m\n\u001b[1;32m    308\u001b[0m \u001b[0;34m\u001b[0m\u001b[0m\n\u001b[1;32m    309\u001b[0m     \u001b[0mcls\u001b[0m \u001b[0;34m=\u001b[0m \u001b[0mget_filesystem_class\u001b[0m\u001b[0;34m(\u001b[0m\u001b[0mprotocol\u001b[0m\u001b[0;34m)\u001b[0m\u001b[0;34m\u001b[0m\u001b[0;34m\u001b[0m\u001b[0m\n\u001b[0;32m--> 310\u001b[0;31m     \u001b[0;32mreturn\u001b[0m \u001b[0mcls\u001b[0m\u001b[0;34m(\u001b[0m\u001b[0;34m**\u001b[0m\u001b[0mstorage_options\u001b[0m\u001b[0;34m)\u001b[0m\u001b[0;34m\u001b[0m\u001b[0;34m\u001b[0m\u001b[0m\n\u001b[0m\u001b[1;32m    311\u001b[0m \u001b[0;34m\u001b[0m\u001b[0m\n\u001b[1;32m    312\u001b[0m \u001b[0;34m\u001b[0m\u001b[0m\n",
            "\u001b[0;32m/usr/local/lib/python3.11/dist-packages/fsspec/spec.py\u001b[0m in \u001b[0;36m__call__\u001b[0;34m(cls, *args, **kwargs)\u001b[0m\n\u001b[1;32m     79\u001b[0m             \u001b[0;32mreturn\u001b[0m \u001b[0mcls\u001b[0m\u001b[0;34m.\u001b[0m\u001b[0m_cache\u001b[0m\u001b[0;34m[\u001b[0m\u001b[0mtoken\u001b[0m\u001b[0;34m]\u001b[0m\u001b[0;34m\u001b[0m\u001b[0;34m\u001b[0m\u001b[0m\n\u001b[1;32m     80\u001b[0m         \u001b[0;32melse\u001b[0m\u001b[0;34m:\u001b[0m\u001b[0;34m\u001b[0m\u001b[0;34m\u001b[0m\u001b[0m\n\u001b[0;32m---> 81\u001b[0;31m             \u001b[0mobj\u001b[0m \u001b[0;34m=\u001b[0m \u001b[0msuper\u001b[0m\u001b[0;34m(\u001b[0m\u001b[0;34m)\u001b[0m\u001b[0;34m.\u001b[0m\u001b[0m__call__\u001b[0m\u001b[0;34m(\u001b[0m\u001b[0;34m*\u001b[0m\u001b[0margs\u001b[0m\u001b[0;34m,\u001b[0m \u001b[0;34m**\u001b[0m\u001b[0mkwargs\u001b[0m\u001b[0;34m)\u001b[0m\u001b[0;34m\u001b[0m\u001b[0;34m\u001b[0m\u001b[0m\n\u001b[0m\u001b[1;32m     82\u001b[0m             \u001b[0;31m# Setting _fs_token here causes some static linters to complain.\u001b[0m\u001b[0;34m\u001b[0m\u001b[0;34m\u001b[0m\u001b[0m\n\u001b[1;32m     83\u001b[0m             \u001b[0mobj\u001b[0m\u001b[0;34m.\u001b[0m\u001b[0m_fs_token_\u001b[0m \u001b[0;34m=\u001b[0m \u001b[0mtoken\u001b[0m\u001b[0;34m\u001b[0m\u001b[0;34m\u001b[0m\u001b[0m\n",
            "\u001b[0;32m/usr/local/lib/python3.11/dist-packages/fsspec/implementations/zip.py\u001b[0m in \u001b[0;36m__init__\u001b[0;34m(self, fo, mode, target_protocol, target_options, compression, allowZip64, compresslevel, **kwargs)\u001b[0m\n\u001b[1;32m     60\u001b[0m         \u001b[0mself\u001b[0m\u001b[0;34m.\u001b[0m\u001b[0mforce_zip_64\u001b[0m \u001b[0;34m=\u001b[0m \u001b[0mallowZip64\u001b[0m\u001b[0;34m\u001b[0m\u001b[0;34m\u001b[0m\u001b[0m\n\u001b[1;32m     61\u001b[0m         \u001b[0mself\u001b[0m\u001b[0;34m.\u001b[0m\u001b[0mof\u001b[0m \u001b[0;34m=\u001b[0m \u001b[0mfo\u001b[0m\u001b[0;34m\u001b[0m\u001b[0;34m\u001b[0m\u001b[0m\n\u001b[0;32m---> 62\u001b[0;31m         \u001b[0mself\u001b[0m\u001b[0;34m.\u001b[0m\u001b[0mfo\u001b[0m \u001b[0;34m=\u001b[0m \u001b[0mfo\u001b[0m\u001b[0;34m.\u001b[0m\u001b[0m__enter__\u001b[0m\u001b[0;34m(\u001b[0m\u001b[0;34m)\u001b[0m  \u001b[0;31m# the whole instance is a context\u001b[0m\u001b[0;34m\u001b[0m\u001b[0;34m\u001b[0m\u001b[0m\n\u001b[0m\u001b[1;32m     63\u001b[0m         self.zip = zipfile.ZipFile(\n\u001b[1;32m     64\u001b[0m             \u001b[0mself\u001b[0m\u001b[0;34m.\u001b[0m\u001b[0mfo\u001b[0m\u001b[0;34m,\u001b[0m\u001b[0;34m\u001b[0m\u001b[0;34m\u001b[0m\u001b[0m\n",
            "\u001b[0;32m/usr/local/lib/python3.11/dist-packages/fsspec/core.py\u001b[0m in \u001b[0;36m__enter__\u001b[0;34m(self)\u001b[0m\n\u001b[1;32m    103\u001b[0m \u001b[0;34m\u001b[0m\u001b[0m\n\u001b[1;32m    104\u001b[0m         \u001b[0;32mtry\u001b[0m\u001b[0;34m:\u001b[0m\u001b[0;34m\u001b[0m\u001b[0;34m\u001b[0m\u001b[0m\n\u001b[0;32m--> 105\u001b[0;31m             \u001b[0mf\u001b[0m \u001b[0;34m=\u001b[0m \u001b[0mself\u001b[0m\u001b[0;34m.\u001b[0m\u001b[0mfs\u001b[0m\u001b[0;34m.\u001b[0m\u001b[0mopen\u001b[0m\u001b[0;34m(\u001b[0m\u001b[0mself\u001b[0m\u001b[0;34m.\u001b[0m\u001b[0mpath\u001b[0m\u001b[0;34m,\u001b[0m \u001b[0mmode\u001b[0m\u001b[0;34m=\u001b[0m\u001b[0mmode\u001b[0m\u001b[0;34m)\u001b[0m\u001b[0;34m\u001b[0m\u001b[0;34m\u001b[0m\u001b[0m\n\u001b[0m\u001b[1;32m    106\u001b[0m         \u001b[0;32mexcept\u001b[0m \u001b[0mFileNotFoundError\u001b[0m \u001b[0;32mas\u001b[0m \u001b[0me\u001b[0m\u001b[0;34m:\u001b[0m\u001b[0;34m\u001b[0m\u001b[0;34m\u001b[0m\u001b[0m\n\u001b[1;32m    107\u001b[0m             \u001b[0;32mif\u001b[0m \u001b[0mhas_magic\u001b[0m\u001b[0;34m(\u001b[0m\u001b[0mself\u001b[0m\u001b[0;34m.\u001b[0m\u001b[0mpath\u001b[0m\u001b[0;34m)\u001b[0m\u001b[0;34m:\u001b[0m\u001b[0;34m\u001b[0m\u001b[0;34m\u001b[0m\u001b[0m\n",
            "\u001b[0;32m/usr/local/lib/python3.11/dist-packages/fsspec/implementations/cached.py\u001b[0m in \u001b[0;36m<lambda>\u001b[0;34m(*args, **kw)\u001b[0m\n\u001b[1;32m    456\u001b[0m             \u001b[0;31m# all the methods defined in this class. Note `open` here, since\u001b[0m\u001b[0;34m\u001b[0m\u001b[0;34m\u001b[0m\u001b[0m\n\u001b[1;32m    457\u001b[0m             \u001b[0;31m# it calls `_open`, but is actually in superclass\u001b[0m\u001b[0;34m\u001b[0m\u001b[0;34m\u001b[0m\u001b[0m\n\u001b[0;32m--> 458\u001b[0;31m             return lambda *args, **kw: getattr(type(self), item).__get__(self)(\n\u001b[0m\u001b[1;32m    459\u001b[0m                 \u001b[0;34m*\u001b[0m\u001b[0margs\u001b[0m\u001b[0;34m,\u001b[0m \u001b[0;34m**\u001b[0m\u001b[0mkw\u001b[0m\u001b[0;34m\u001b[0m\u001b[0;34m\u001b[0m\u001b[0m\n\u001b[1;32m    460\u001b[0m             )\n",
            "\u001b[0;32m/usr/local/lib/python3.11/dist-packages/fsspec/spec.py\u001b[0m in \u001b[0;36mopen\u001b[0;34m(self, path, mode, block_size, cache_options, compression, **kwargs)\u001b[0m\n\u001b[1;32m   1308\u001b[0m         \u001b[0;32melse\u001b[0m\u001b[0;34m:\u001b[0m\u001b[0;34m\u001b[0m\u001b[0;34m\u001b[0m\u001b[0m\n\u001b[1;32m   1309\u001b[0m             \u001b[0mac\u001b[0m \u001b[0;34m=\u001b[0m \u001b[0mkwargs\u001b[0m\u001b[0;34m.\u001b[0m\u001b[0mpop\u001b[0m\u001b[0;34m(\u001b[0m\u001b[0;34m\"autocommit\"\u001b[0m\u001b[0;34m,\u001b[0m \u001b[0;32mnot\u001b[0m \u001b[0mself\u001b[0m\u001b[0;34m.\u001b[0m\u001b[0m_intrans\u001b[0m\u001b[0;34m)\u001b[0m\u001b[0;34m\u001b[0m\u001b[0;34m\u001b[0m\u001b[0m\n\u001b[0;32m-> 1310\u001b[0;31m             f = self._open(\n\u001b[0m\u001b[1;32m   1311\u001b[0m                 \u001b[0mpath\u001b[0m\u001b[0;34m,\u001b[0m\u001b[0;34m\u001b[0m\u001b[0;34m\u001b[0m\u001b[0m\n\u001b[1;32m   1312\u001b[0m                 \u001b[0mmode\u001b[0m\u001b[0;34m=\u001b[0m\u001b[0mmode\u001b[0m\u001b[0;34m,\u001b[0m\u001b[0;34m\u001b[0m\u001b[0;34m\u001b[0m\u001b[0m\n",
            "\u001b[0;32m/usr/local/lib/python3.11/dist-packages/fsspec/implementations/cached.py\u001b[0m in \u001b[0;36m<lambda>\u001b[0;34m(*args, **kw)\u001b[0m\n\u001b[1;32m    456\u001b[0m             \u001b[0;31m# all the methods defined in this class. Note `open` here, since\u001b[0m\u001b[0;34m\u001b[0m\u001b[0;34m\u001b[0m\u001b[0m\n\u001b[1;32m    457\u001b[0m             \u001b[0;31m# it calls `_open`, but is actually in superclass\u001b[0m\u001b[0;34m\u001b[0m\u001b[0;34m\u001b[0m\u001b[0m\n\u001b[0;32m--> 458\u001b[0;31m             return lambda *args, **kw: getattr(type(self), item).__get__(self)(\n\u001b[0m\u001b[1;32m    459\u001b[0m                 \u001b[0;34m*\u001b[0m\u001b[0margs\u001b[0m\u001b[0;34m,\u001b[0m \u001b[0;34m**\u001b[0m\u001b[0mkw\u001b[0m\u001b[0;34m\u001b[0m\u001b[0;34m\u001b[0m\u001b[0m\n\u001b[1;32m    460\u001b[0m             )\n",
            "\u001b[0;32m/usr/local/lib/python3.11/dist-packages/fsspec/implementations/cached.py\u001b[0m in \u001b[0;36m_open\u001b[0;34m(self, path, mode, **kwargs)\u001b[0m\n\u001b[1;32m    881\u001b[0m                     \u001b[0mf2\u001b[0m\u001b[0;34m.\u001b[0m\u001b[0mwrite\u001b[0m\u001b[0;34m(\u001b[0m\u001b[0mdata\u001b[0m\u001b[0;34m)\u001b[0m\u001b[0;34m\u001b[0m\u001b[0;34m\u001b[0m\u001b[0m\n\u001b[1;32m    882\u001b[0m         \u001b[0;32melse\u001b[0m\u001b[0;34m:\u001b[0m\u001b[0;34m\u001b[0m\u001b[0;34m\u001b[0m\u001b[0m\n\u001b[0;32m--> 883\u001b[0;31m             \u001b[0mself\u001b[0m\u001b[0;34m.\u001b[0m\u001b[0mfs\u001b[0m\u001b[0;34m.\u001b[0m\u001b[0mget_file\u001b[0m\u001b[0;34m(\u001b[0m\u001b[0mpath\u001b[0m\u001b[0;34m,\u001b[0m \u001b[0mfn\u001b[0m\u001b[0;34m)\u001b[0m\u001b[0;34m\u001b[0m\u001b[0;34m\u001b[0m\u001b[0m\n\u001b[0m\u001b[1;32m    884\u001b[0m         \u001b[0;32mreturn\u001b[0m \u001b[0mself\u001b[0m\u001b[0;34m.\u001b[0m\u001b[0m_open\u001b[0m\u001b[0;34m(\u001b[0m\u001b[0mpath\u001b[0m\u001b[0;34m,\u001b[0m \u001b[0mmode\u001b[0m\u001b[0;34m)\u001b[0m\u001b[0;34m\u001b[0m\u001b[0;34m\u001b[0m\u001b[0m\n\u001b[1;32m    885\u001b[0m \u001b[0;34m\u001b[0m\u001b[0m\n",
            "\u001b[0;32m/usr/local/lib/python3.11/dist-packages/fsspec/asyn.py\u001b[0m in \u001b[0;36mwrapper\u001b[0;34m(*args, **kwargs)\u001b[0m\n\u001b[1;32m    116\u001b[0m     \u001b[0;32mdef\u001b[0m \u001b[0mwrapper\u001b[0m\u001b[0;34m(\u001b[0m\u001b[0;34m*\u001b[0m\u001b[0margs\u001b[0m\u001b[0;34m,\u001b[0m \u001b[0;34m**\u001b[0m\u001b[0mkwargs\u001b[0m\u001b[0;34m)\u001b[0m\u001b[0;34m:\u001b[0m\u001b[0;34m\u001b[0m\u001b[0;34m\u001b[0m\u001b[0m\n\u001b[1;32m    117\u001b[0m         \u001b[0mself\u001b[0m \u001b[0;34m=\u001b[0m \u001b[0mobj\u001b[0m \u001b[0;32mor\u001b[0m \u001b[0margs\u001b[0m\u001b[0;34m[\u001b[0m\u001b[0;36m0\u001b[0m\u001b[0;34m]\u001b[0m\u001b[0;34m\u001b[0m\u001b[0;34m\u001b[0m\u001b[0m\n\u001b[0;32m--> 118\u001b[0;31m         \u001b[0;32mreturn\u001b[0m \u001b[0msync\u001b[0m\u001b[0;34m(\u001b[0m\u001b[0mself\u001b[0m\u001b[0;34m.\u001b[0m\u001b[0mloop\u001b[0m\u001b[0;34m,\u001b[0m \u001b[0mfunc\u001b[0m\u001b[0;34m,\u001b[0m \u001b[0;34m*\u001b[0m\u001b[0margs\u001b[0m\u001b[0;34m,\u001b[0m \u001b[0;34m**\u001b[0m\u001b[0mkwargs\u001b[0m\u001b[0;34m)\u001b[0m\u001b[0;34m\u001b[0m\u001b[0;34m\u001b[0m\u001b[0m\n\u001b[0m\u001b[1;32m    119\u001b[0m \u001b[0;34m\u001b[0m\u001b[0m\n\u001b[1;32m    120\u001b[0m     \u001b[0;32mreturn\u001b[0m \u001b[0mwrapper\u001b[0m\u001b[0;34m\u001b[0m\u001b[0;34m\u001b[0m\u001b[0m\n",
            "\u001b[0;32m/usr/local/lib/python3.11/dist-packages/fsspec/asyn.py\u001b[0m in \u001b[0;36msync\u001b[0;34m(loop, func, timeout, *args, **kwargs)\u001b[0m\n\u001b[1;32m    101\u001b[0m         \u001b[0;32mraise\u001b[0m \u001b[0mFSTimeoutError\u001b[0m \u001b[0;32mfrom\u001b[0m \u001b[0mreturn_result\u001b[0m\u001b[0;34m\u001b[0m\u001b[0;34m\u001b[0m\u001b[0m\n\u001b[1;32m    102\u001b[0m     \u001b[0;32melif\u001b[0m \u001b[0misinstance\u001b[0m\u001b[0;34m(\u001b[0m\u001b[0mreturn_result\u001b[0m\u001b[0;34m,\u001b[0m \u001b[0mBaseException\u001b[0m\u001b[0;34m)\u001b[0m\u001b[0;34m:\u001b[0m\u001b[0;34m\u001b[0m\u001b[0;34m\u001b[0m\u001b[0m\n\u001b[0;32m--> 103\u001b[0;31m         \u001b[0;32mraise\u001b[0m \u001b[0mreturn_result\u001b[0m\u001b[0;34m\u001b[0m\u001b[0;34m\u001b[0m\u001b[0m\n\u001b[0m\u001b[1;32m    104\u001b[0m     \u001b[0;32melse\u001b[0m\u001b[0;34m:\u001b[0m\u001b[0;34m\u001b[0m\u001b[0;34m\u001b[0m\u001b[0m\n\u001b[1;32m    105\u001b[0m         \u001b[0;32mreturn\u001b[0m \u001b[0mreturn_result\u001b[0m\u001b[0;34m\u001b[0m\u001b[0;34m\u001b[0m\u001b[0m\n",
            "\u001b[0;32m/usr/local/lib/python3.11/dist-packages/fsspec/asyn.py\u001b[0m in \u001b[0;36m_runner\u001b[0;34m(event, coro, result, timeout)\u001b[0m\n\u001b[1;32m     54\u001b[0m         \u001b[0mcoro\u001b[0m \u001b[0;34m=\u001b[0m \u001b[0masyncio\u001b[0m\u001b[0;34m.\u001b[0m\u001b[0mwait_for\u001b[0m\u001b[0;34m(\u001b[0m\u001b[0mcoro\u001b[0m\u001b[0;34m,\u001b[0m \u001b[0mtimeout\u001b[0m\u001b[0;34m=\u001b[0m\u001b[0mtimeout\u001b[0m\u001b[0;34m)\u001b[0m\u001b[0;34m\u001b[0m\u001b[0;34m\u001b[0m\u001b[0m\n\u001b[1;32m     55\u001b[0m     \u001b[0;32mtry\u001b[0m\u001b[0;34m:\u001b[0m\u001b[0;34m\u001b[0m\u001b[0;34m\u001b[0m\u001b[0m\n\u001b[0;32m---> 56\u001b[0;31m         \u001b[0mresult\u001b[0m\u001b[0;34m[\u001b[0m\u001b[0;36m0\u001b[0m\u001b[0;34m]\u001b[0m \u001b[0;34m=\u001b[0m \u001b[0;32mawait\u001b[0m \u001b[0mcoro\u001b[0m\u001b[0;34m\u001b[0m\u001b[0;34m\u001b[0m\u001b[0m\n\u001b[0m\u001b[1;32m     57\u001b[0m     \u001b[0;32mexcept\u001b[0m \u001b[0mException\u001b[0m \u001b[0;32mas\u001b[0m \u001b[0mex\u001b[0m\u001b[0;34m:\u001b[0m\u001b[0;34m\u001b[0m\u001b[0;34m\u001b[0m\u001b[0m\n\u001b[1;32m     58\u001b[0m         \u001b[0mresult\u001b[0m\u001b[0;34m[\u001b[0m\u001b[0;36m0\u001b[0m\u001b[0;34m]\u001b[0m \u001b[0;34m=\u001b[0m \u001b[0mex\u001b[0m\u001b[0;34m\u001b[0m\u001b[0;34m\u001b[0m\u001b[0m\n",
            "\u001b[0;32m/usr/local/lib/python3.11/dist-packages/fsspec/implementations/http.py\u001b[0m in \u001b[0;36m_get_file\u001b[0;34m(self, rpath, lpath, chunk_size, callback, **kwargs)\u001b[0m\n\u001b[1;32m    251\u001b[0m \u001b[0;34m\u001b[0m\u001b[0m\n\u001b[1;32m    252\u001b[0m             \u001b[0mcallback\u001b[0m\u001b[0;34m.\u001b[0m\u001b[0mset_size\u001b[0m\u001b[0;34m(\u001b[0m\u001b[0msize\u001b[0m\u001b[0;34m)\u001b[0m\u001b[0;34m\u001b[0m\u001b[0;34m\u001b[0m\u001b[0m\n\u001b[0;32m--> 253\u001b[0;31m             \u001b[0mself\u001b[0m\u001b[0;34m.\u001b[0m\u001b[0m_raise_not_found_for_status\u001b[0m\u001b[0;34m(\u001b[0m\u001b[0mr\u001b[0m\u001b[0;34m,\u001b[0m \u001b[0mrpath\u001b[0m\u001b[0;34m)\u001b[0m\u001b[0;34m\u001b[0m\u001b[0;34m\u001b[0m\u001b[0m\n\u001b[0m\u001b[1;32m    254\u001b[0m             \u001b[0;32mif\u001b[0m \u001b[0misfilelike\u001b[0m\u001b[0;34m(\u001b[0m\u001b[0mlpath\u001b[0m\u001b[0;34m)\u001b[0m\u001b[0;34m:\u001b[0m\u001b[0;34m\u001b[0m\u001b[0;34m\u001b[0m\u001b[0m\n\u001b[1;32m    255\u001b[0m                 \u001b[0moutfile\u001b[0m \u001b[0;34m=\u001b[0m \u001b[0mlpath\u001b[0m\u001b[0;34m\u001b[0m\u001b[0;34m\u001b[0m\u001b[0m\n",
            "\u001b[0;32m/usr/local/lib/python3.11/dist-packages/fsspec/implementations/http.py\u001b[0m in \u001b[0;36m_raise_not_found_for_status\u001b[0;34m(self, response, url)\u001b[0m\n\u001b[1;32m    216\u001b[0m         \"\"\"\n\u001b[1;32m    217\u001b[0m         \u001b[0;32mif\u001b[0m \u001b[0mresponse\u001b[0m\u001b[0;34m.\u001b[0m\u001b[0mstatus\u001b[0m \u001b[0;34m==\u001b[0m \u001b[0;36m404\u001b[0m\u001b[0;34m:\u001b[0m\u001b[0;34m\u001b[0m\u001b[0;34m\u001b[0m\u001b[0m\n\u001b[0;32m--> 218\u001b[0;31m             \u001b[0;32mraise\u001b[0m \u001b[0mFileNotFoundError\u001b[0m\u001b[0;34m(\u001b[0m\u001b[0murl\u001b[0m\u001b[0;34m)\u001b[0m\u001b[0;34m\u001b[0m\u001b[0;34m\u001b[0m\u001b[0m\n\u001b[0m\u001b[1;32m    219\u001b[0m         \u001b[0mresponse\u001b[0m\u001b[0;34m.\u001b[0m\u001b[0mraise_for_status\u001b[0m\u001b[0;34m(\u001b[0m\u001b[0;34m)\u001b[0m\u001b[0;34m\u001b[0m\u001b[0;34m\u001b[0m\u001b[0m\n\u001b[1;32m    220\u001b[0m \u001b[0;34m\u001b[0m\u001b[0m\n",
            "\u001b[0;31mFileNotFoundError\u001b[0m: https://www.chrsmrrs.com/graphkerneldatasets/LINUX.zip"
          ]
        }
      ]
    },
    {
      "cell_type": "code",
      "source": [
        "!pip install advertorch\n"
      ],
      "metadata": {
        "colab": {
          "base_uri": "https://localhost:8080/"
        },
        "id": "7EREfW73SrdI",
        "outputId": "a5b02b0a-9cfd-4580-90ac-26a9fffa2edf"
      },
      "execution_count": null,
      "outputs": [
        {
          "output_type": "stream",
          "name": "stdout",
          "text": [
            "Collecting advertorch\n",
            "  Downloading advertorch-0.2.3.tar.gz (5.7 MB)\n",
            "\u001b[2K     \u001b[90m━━━━━━━━━━━━━━━━━━━━━━━━━━━━━━━━━━━━━━━━\u001b[0m \u001b[32m5.7/5.7 MB\u001b[0m \u001b[31m8.4 MB/s\u001b[0m eta \u001b[36m0:00:00\u001b[0m\n",
            "\u001b[?25h  Preparing metadata (setup.py) ... \u001b[?25l\u001b[?25hdone\n",
            "Building wheels for collected packages: advertorch\n",
            "  Building wheel for advertorch (setup.py) ... \u001b[?25l\u001b[?25hdone\n",
            "  Created wheel for advertorch: filename=advertorch-0.2.3-py3-none-any.whl size=5696198 sha256=35cf0377a4acbec7315bbcf71a453af77978e5f27feebd0d2b45f988cfc84a53\n",
            "  Stored in directory: /root/.cache/pip/wheels/8f/87/f6/42a80142f790e208eb27fb50ad8a5be2c31dcd3cff1c9a3a16\n",
            "Successfully built advertorch\n",
            "Installing collected packages: advertorch\n",
            "Successfully installed advertorch-0.2.3\n"
          ]
        }
      ]
    },
    {
      "cell_type": "code",
      "source": [
        "!pip install foolbox\n"
      ],
      "metadata": {
        "colab": {
          "base_uri": "https://localhost:8080/"
        },
        "id": "PGNOREimS5io",
        "outputId": "0206206d-c5ee-407f-a138-7bde79234cf8"
      },
      "execution_count": null,
      "outputs": [
        {
          "output_type": "stream",
          "name": "stdout",
          "text": [
            "Collecting foolbox\n",
            "  Downloading foolbox-3.3.4-py3-none-any.whl.metadata (7.3 kB)\n",
            "Requirement already satisfied: numpy in /usr/local/lib/python3.11/dist-packages (from foolbox) (2.0.2)\n",
            "Requirement already satisfied: scipy in /usr/local/lib/python3.11/dist-packages (from foolbox) (1.15.3)\n",
            "Requirement already satisfied: setuptools in /usr/local/lib/python3.11/dist-packages (from foolbox) (75.2.0)\n",
            "Collecting eagerpy>=0.30.0 (from foolbox)\n",
            "  Downloading eagerpy-0.30.0-py3-none-any.whl.metadata (5.5 kB)\n",
            "Requirement already satisfied: GitPython>=3.0.7 in /usr/local/lib/python3.11/dist-packages (from foolbox) (3.1.44)\n",
            "Requirement already satisfied: typing-extensions>=3.7.4.1 in /usr/local/lib/python3.11/dist-packages (from foolbox) (4.14.0)\n",
            "Requirement already satisfied: requests>=2.24.0 in /usr/local/lib/python3.11/dist-packages (from foolbox) (2.32.3)\n",
            "Requirement already satisfied: gitdb<5,>=4.0.1 in /usr/local/lib/python3.11/dist-packages (from GitPython>=3.0.7->foolbox) (4.0.12)\n",
            "Requirement already satisfied: charset-normalizer<4,>=2 in /usr/local/lib/python3.11/dist-packages (from requests>=2.24.0->foolbox) (3.4.2)\n",
            "Requirement already satisfied: idna<4,>=2.5 in /usr/local/lib/python3.11/dist-packages (from requests>=2.24.0->foolbox) (3.10)\n",
            "Requirement already satisfied: urllib3<3,>=1.21.1 in /usr/local/lib/python3.11/dist-packages (from requests>=2.24.0->foolbox) (2.4.0)\n",
            "Requirement already satisfied: certifi>=2017.4.17 in /usr/local/lib/python3.11/dist-packages (from requests>=2.24.0->foolbox) (2025.4.26)\n",
            "Requirement already satisfied: smmap<6,>=3.0.1 in /usr/local/lib/python3.11/dist-packages (from gitdb<5,>=4.0.1->GitPython>=3.0.7->foolbox) (5.0.2)\n",
            "Downloading foolbox-3.3.4-py3-none-any.whl (1.7 MB)\n",
            "\u001b[2K   \u001b[90m━━━━━━━━━━━━━━━━━━━━━━━━━━━━━━━━━━━━━━━━\u001b[0m \u001b[32m1.7/1.7 MB\u001b[0m \u001b[31m30.8 MB/s\u001b[0m eta \u001b[36m0:00:00\u001b[0m\n",
            "\u001b[?25hDownloading eagerpy-0.30.0-py3-none-any.whl (31 kB)\n",
            "Installing collected packages: eagerpy, foolbox\n",
            "Successfully installed eagerpy-0.30.0 foolbox-3.3.4\n"
          ]
        }
      ]
    },
    {
      "cell_type": "code",
      "source": [
        "import foolbox as fb\n",
        "import torch\n",
        "\n",
        "# Wrap your PyTorch model\n",
        "fmodel = fb.PyTorchModel(model, bounds=(data.x.min().item(), data.x.max().item()))\n",
        "\n",
        "# Select 64 test nodes and build per-node inputs\n",
        "test_idx = data.test_mask.nonzero().view(-1)\n",
        "sel_nodes = test_idx[torch.randperm(len(test_idx))[:64]]\n",
        "\n",
        "# We'll attack the entire feature matrix but only track perturbations at sel_nodes\n",
        "raw, clipped, is_adv = fb.attacks.deeplabel.deeplabel_deepfool(\n",
        "    fmodel, data.x, data.edge_index, epsilons=None\n",
        ")\n",
        "\n",
        "# raw is the adversarial features; extract them\n",
        "x_adv = clipped\n",
        "\n",
        "# Proceed as before: forward through GCN to get h_adv, build emb_adv, neg_sel, etc.\n"
      ],
      "metadata": {
        "colab": {
          "base_uri": "https://localhost:8080/",
          "height": 211
        },
        "id": "2q6eUUW-S8qA",
        "outputId": "abd85efa-9cd7-4da2-ca59-9ffa41981cdb"
      },
      "execution_count": null,
      "outputs": [
        {
          "output_type": "error",
          "ename": "NameError",
          "evalue": "name 'model' is not defined",
          "traceback": [
            "\u001b[0;31m---------------------------------------------------------------------------\u001b[0m",
            "\u001b[0;31mNameError\u001b[0m                                 Traceback (most recent call last)",
            "\u001b[0;32m<ipython-input-59-3909511333>\u001b[0m in \u001b[0;36m<cell line: 0>\u001b[0;34m()\u001b[0m\n\u001b[1;32m      3\u001b[0m \u001b[0;34m\u001b[0m\u001b[0m\n\u001b[1;32m      4\u001b[0m \u001b[0;31m# Wrap your PyTorch model\u001b[0m\u001b[0;34m\u001b[0m\u001b[0;34m\u001b[0m\u001b[0m\n\u001b[0;32m----> 5\u001b[0;31m \u001b[0mfmodel\u001b[0m \u001b[0;34m=\u001b[0m \u001b[0mfb\u001b[0m\u001b[0;34m.\u001b[0m\u001b[0mPyTorchModel\u001b[0m\u001b[0;34m(\u001b[0m\u001b[0mmodel\u001b[0m\u001b[0;34m,\u001b[0m \u001b[0mbounds\u001b[0m\u001b[0;34m=\u001b[0m\u001b[0;34m(\u001b[0m\u001b[0mdata\u001b[0m\u001b[0;34m.\u001b[0m\u001b[0mx\u001b[0m\u001b[0;34m.\u001b[0m\u001b[0mmin\u001b[0m\u001b[0;34m(\u001b[0m\u001b[0;34m)\u001b[0m\u001b[0;34m.\u001b[0m\u001b[0mitem\u001b[0m\u001b[0;34m(\u001b[0m\u001b[0;34m)\u001b[0m\u001b[0;34m,\u001b[0m \u001b[0mdata\u001b[0m\u001b[0;34m.\u001b[0m\u001b[0mx\u001b[0m\u001b[0;34m.\u001b[0m\u001b[0mmax\u001b[0m\u001b[0;34m(\u001b[0m\u001b[0;34m)\u001b[0m\u001b[0;34m.\u001b[0m\u001b[0mitem\u001b[0m\u001b[0;34m(\u001b[0m\u001b[0;34m)\u001b[0m\u001b[0;34m)\u001b[0m\u001b[0;34m)\u001b[0m\u001b[0;34m\u001b[0m\u001b[0;34m\u001b[0m\u001b[0m\n\u001b[0m\u001b[1;32m      6\u001b[0m \u001b[0;34m\u001b[0m\u001b[0m\n\u001b[1;32m      7\u001b[0m \u001b[0;31m# Select 64 test nodes and build per-node inputs\u001b[0m\u001b[0;34m\u001b[0m\u001b[0;34m\u001b[0m\u001b[0m\n",
            "\u001b[0;31mNameError\u001b[0m: name 'model' is not defined"
          ]
        }
      ]
    },
    {
      "cell_type": "code",
      "source": [
        "# ─── DeepFool Baseline: Node Classification (Cora) ───\n",
        "from advertorch.attacks import DeepFoolAttack\n",
        "from torch_geometric.datasets import Planetoid\n",
        "import torch.nn.functional as F\n",
        "import numpy as np\n",
        "import random\n",
        "from sklearn.linear_model import LogisticRegression\n",
        "from sklearn.metrics import accuracy_score\n",
        "\n",
        "device = torch.device('cuda' if torch.cuda.is_available() else 'cpu')\n",
        "\n",
        "# 1) Load & train GCN (reuse your GCNMeanNC training code)\n",
        "ds   = Planetoid(root='data/Cora', name='Cora')\n",
        "data = ds[0].to(device)\n",
        "model = GCNMeanNC(ds.num_node_features, 64, ds.num_classes, dropout=0.5).to(device)\n",
        "opt   = torch.optim.Adam(model.parameters(), lr=0.01, weight_decay=5e-4)\n",
        "loss_fn = nn.CrossEntropyLoss()\n",
        "for epoch in range(1,201):\n",
        "    model.train(); opt.zero_grad()\n",
        "    out = model(data.x, data.edge_index)\n",
        "    loss = loss_fn(out[data.train_mask], data.y[data.train_mask])\n",
        "    loss.backward(); opt.step()\n",
        "\n",
        "# 2) Set up DeepFool\n",
        "attack = DeepFoolAttack(model, num_classes=ds.num_classes, overshoot=0.02, max_iter=50)\n",
        "\n",
        "# 3) Select 64 test nodes\n",
        "test_idx = data.test_mask.nonzero().view(-1).tolist()\n",
        "sel_nodes = random.sample(test_idx, 64)\n",
        "\n",
        "# 4) Generate adversarial examples for the entire feature matrix,\n",
        "#    but only use the perturbed feature for each selected node.\n",
        "model.eval()\n",
        "x_adv = attack.perturb(data.x, data.edge_index)  # shape (N, feat_dim)\n",
        "\n",
        "# 5) Extract embeddings: perturbed for sel_nodes, original for negatives\n",
        "with torch.no_grad():\n",
        "    h = F.relu(model.conv1(x_adv.to(device), data.edge_index))\n",
        "    h = F.relu(model.conv2(h, data.edge_index))\n",
        "    h = F.relu(model.conv3(h, data.edge_index))\n",
        "    emb_all = h.cpu().numpy()  # (N, hidden_dim)\n",
        "\n",
        "# 6) Build positive (adv) vs. negative (orig) sets\n",
        "emb_adv = emb_all[sel_nodes]                        # (64, hidden)\n",
        "neg_candidates = [n for n in test_idx if n not in sel_nodes]\n",
        "neg_sel = random.sample(neg_candidates, 64)\n",
        "emb_neg = emb_all[neg_sel]\n",
        "\n",
        "# 7) Train a simple classifier\n",
        "X = np.vstack([emb_adv, emb_neg])\n",
        "y = np.array([1]*64 + [0]*64)\n",
        "perm = np.random.permutation(128)\n",
        "X_t, y_t = X[perm], y[perm]\n",
        "clf = LogisticRegression(max_iter=1000).fit(X_t, y_t)\n",
        "acc_df = accuracy_score(y_t, clf.predict(X_t))\n",
        "print(f\"DeepFool node‐classification fingerprint accuracy (train): {acc_df:.4f}\")\n",
        "\n",
        "# 8) Evaluate on a held-out split if desired, or cross‐val for robustness.\n"
      ],
      "metadata": {
        "colab": {
          "base_uri": "https://localhost:8080/",
          "height": 546
        },
        "id": "bjV85f3ASvNw",
        "outputId": "483785fc-2566-4e4c-99ea-58f2cb53bee5"
      },
      "execution_count": null,
      "outputs": [
        {
          "output_type": "error",
          "ename": "ImportError",
          "evalue": "cannot import name 'zero_gradients' from 'torch.autograd.gradcheck' (/usr/local/lib/python3.11/dist-packages/torch/autograd/gradcheck.py)",
          "traceback": [
            "\u001b[0;31m---------------------------------------------------------------------------\u001b[0m",
            "\u001b[0;31mImportError\u001b[0m                               Traceback (most recent call last)",
            "\u001b[0;32m<ipython-input-57-1212835358>\u001b[0m in \u001b[0;36m<cell line: 0>\u001b[0;34m()\u001b[0m\n\u001b[1;32m      1\u001b[0m \u001b[0;31m# ─── DeepFool Baseline: Node Classification (Cora) ───\u001b[0m\u001b[0;34m\u001b[0m\u001b[0;34m\u001b[0m\u001b[0m\n\u001b[0;32m----> 2\u001b[0;31m \u001b[0;32mfrom\u001b[0m \u001b[0madvertorch\u001b[0m\u001b[0;34m.\u001b[0m\u001b[0mattacks\u001b[0m \u001b[0;32mimport\u001b[0m \u001b[0mDeepFoolAttack\u001b[0m\u001b[0;34m\u001b[0m\u001b[0;34m\u001b[0m\u001b[0m\n\u001b[0m\u001b[1;32m      3\u001b[0m \u001b[0;32mfrom\u001b[0m \u001b[0mtorch_geometric\u001b[0m\u001b[0;34m.\u001b[0m\u001b[0mdatasets\u001b[0m \u001b[0;32mimport\u001b[0m \u001b[0mPlanetoid\u001b[0m\u001b[0;34m\u001b[0m\u001b[0;34m\u001b[0m\u001b[0m\n\u001b[1;32m      4\u001b[0m \u001b[0;32mimport\u001b[0m \u001b[0mtorch\u001b[0m\u001b[0;34m.\u001b[0m\u001b[0mnn\u001b[0m\u001b[0;34m.\u001b[0m\u001b[0mfunctional\u001b[0m \u001b[0;32mas\u001b[0m \u001b[0mF\u001b[0m\u001b[0;34m\u001b[0m\u001b[0;34m\u001b[0m\u001b[0m\n\u001b[1;32m      5\u001b[0m \u001b[0;32mimport\u001b[0m \u001b[0mnumpy\u001b[0m \u001b[0;32mas\u001b[0m \u001b[0mnp\u001b[0m\u001b[0;34m\u001b[0m\u001b[0;34m\u001b[0m\u001b[0m\n",
            "\u001b[0;32m/usr/local/lib/python3.11/dist-packages/advertorch/__init__.py\u001b[0m in \u001b[0;36m<module>\u001b[0;34m\u001b[0m\n\u001b[1;32m     12\u001b[0m     \u001b[0m__version__\u001b[0m \u001b[0;34m=\u001b[0m \u001b[0mf\u001b[0m\u001b[0;34m.\u001b[0m\u001b[0mread\u001b[0m\u001b[0;34m(\u001b[0m\u001b[0;34m)\u001b[0m\u001b[0;34m.\u001b[0m\u001b[0mstrip\u001b[0m\u001b[0;34m(\u001b[0m\u001b[0;34m)\u001b[0m\u001b[0;34m\u001b[0m\u001b[0;34m\u001b[0m\u001b[0m\n\u001b[1;32m     13\u001b[0m \u001b[0;34m\u001b[0m\u001b[0m\n\u001b[0;32m---> 14\u001b[0;31m \u001b[0;32mfrom\u001b[0m \u001b[0;34m.\u001b[0m \u001b[0;32mimport\u001b[0m \u001b[0mattacks\u001b[0m  \u001b[0;31m# noqa: F401\u001b[0m\u001b[0;34m\u001b[0m\u001b[0;34m\u001b[0m\u001b[0m\n\u001b[0m\u001b[1;32m     15\u001b[0m \u001b[0;32mfrom\u001b[0m \u001b[0;34m.\u001b[0m \u001b[0;32mimport\u001b[0m \u001b[0mdefenses\u001b[0m  \u001b[0;31m# noqa: F401\u001b[0m\u001b[0;34m\u001b[0m\u001b[0;34m\u001b[0m\u001b[0m\n",
            "\u001b[0;32m/usr/local/lib/python3.11/dist-packages/advertorch/attacks/__init__.py\u001b[0m in \u001b[0;36m<module>\u001b[0;34m\u001b[0m\n\u001b[1;32m     45\u001b[0m \u001b[0;34m\u001b[0m\u001b[0m\n\u001b[1;32m     46\u001b[0m \u001b[0;32mfrom\u001b[0m \u001b[0;34m.\u001b[0m\u001b[0mspsa\u001b[0m \u001b[0;32mimport\u001b[0m \u001b[0mLinfSPSAAttack\u001b[0m\u001b[0;34m\u001b[0m\u001b[0;34m\u001b[0m\u001b[0m\n\u001b[0;32m---> 47\u001b[0;31m \u001b[0;32mfrom\u001b[0m \u001b[0;34m.\u001b[0m\u001b[0mfast_adaptive_boundary\u001b[0m \u001b[0;32mimport\u001b[0m \u001b[0mFABAttack\u001b[0m\u001b[0;34m\u001b[0m\u001b[0;34m\u001b[0m\u001b[0m\n\u001b[0m\u001b[1;32m     48\u001b[0m \u001b[0;32mfrom\u001b[0m \u001b[0;34m.\u001b[0m\u001b[0mfast_adaptive_boundary\u001b[0m \u001b[0;32mimport\u001b[0m \u001b[0mLinfFABAttack\u001b[0m\u001b[0;34m\u001b[0m\u001b[0;34m\u001b[0m\u001b[0m\n\u001b[1;32m     49\u001b[0m \u001b[0;32mfrom\u001b[0m \u001b[0;34m.\u001b[0m\u001b[0mfast_adaptive_boundary\u001b[0m \u001b[0;32mimport\u001b[0m \u001b[0mL2FABAttack\u001b[0m\u001b[0;34m\u001b[0m\u001b[0;34m\u001b[0m\u001b[0m\n",
            "\u001b[0;32m/usr/local/lib/python3.11/dist-packages/advertorch/attacks/fast_adaptive_boundary.py\u001b[0m in \u001b[0;36m<module>\u001b[0;34m\u001b[0m\n\u001b[1;32m     12\u001b[0m \u001b[0;34m\u001b[0m\u001b[0m\n\u001b[1;32m     13\u001b[0m \u001b[0;32mimport\u001b[0m \u001b[0mtorch\u001b[0m\u001b[0;34m\u001b[0m\u001b[0;34m\u001b[0m\u001b[0m\n\u001b[0;32m---> 14\u001b[0;31m \u001b[0;32mfrom\u001b[0m \u001b[0mtorch\u001b[0m\u001b[0;34m.\u001b[0m\u001b[0mautograd\u001b[0m\u001b[0;34m.\u001b[0m\u001b[0mgradcheck\u001b[0m \u001b[0;32mimport\u001b[0m \u001b[0mzero_gradients\u001b[0m\u001b[0;34m\u001b[0m\u001b[0;34m\u001b[0m\u001b[0m\n\u001b[0m\u001b[1;32m     15\u001b[0m \u001b[0;32mimport\u001b[0m \u001b[0mtime\u001b[0m\u001b[0;34m\u001b[0m\u001b[0;34m\u001b[0m\u001b[0m\n\u001b[1;32m     16\u001b[0m \u001b[0;34m\u001b[0m\u001b[0m\n",
            "\u001b[0;31mImportError\u001b[0m: cannot import name 'zero_gradients' from 'torch.autograd.gradcheck' (/usr/local/lib/python3.11/dist-packages/torch/autograd/gradcheck.py)",
            "",
            "\u001b[0;31m---------------------------------------------------------------------------\u001b[0;32m\nNOTE: If your import is failing due to a missing package, you can\nmanually install dependencies using either !pip or !apt.\n\nTo view examples of installing some common dependencies, click the\n\"Open Examples\" button below.\n\u001b[0;31m---------------------------------------------------------------------------\u001b[0m\n"
          ],
          "errorDetails": {
            "actions": [
              {
                "action": "open_url",
                "actionText": "Open Examples",
                "url": "/notebooks/snippets/importing_libraries.ipynb"
              }
            ]
          }
        }
      ]
    },
    {
      "cell_type": "code",
      "source": [
        "# ─── DeepFool Baseline: Node Classification (Cora) ───\n",
        "import deepfool  # e.g. from a library like foolbox or advertorch\n",
        "from torch_geometric.datasets import Planetoid\n",
        "\n",
        "# 1) Load & train GCN on Cora (reuse model_cora from before)\n",
        "#    model_cora is already in memory if you ran the node‐classification cell.\n",
        "\n",
        "# 2) Pick 64 test nodes\n",
        "data = dataset_cora[0].to(device)\n",
        "test_idx = data.test_mask.nonzero().view(-1).tolist()\n",
        "sel_nodes = random.sample(test_idx, 64)\n",
        "\n",
        "# 3) Run DeepFool to get adversarial features for each selected node\n",
        "adv_feats = []\n",
        "for n in sel_nodes:\n",
        "    x_adv = deepfool.attack(model_cora, data.x, data.edge_index, target_node=n)\n",
        "    adv_feats.append(x_adv[n].cpu().numpy())\n",
        "adv_feats = np.stack(adv_feats, axis=0)  # shape (64, feat_dim)\n",
        "\n",
        "# 4) Extract hidden embeddings of adv feats\n",
        "model_cora.eval()\n",
        "with torch.no_grad():\n",
        "    # replace data.x[n] with adv_feats[n] in a copy of x\n",
        "    emb_adv = []\n",
        "    for i,n in enumerate(sel_nodes):\n",
        "        x_tmp = data.x.clone()\n",
        "        x_tmp[n] = torch.from_numpy(adv_feats[i]).to(device)\n",
        "        h = F.relu(model_cora.conv1(x_tmp, data.edge_index))\n",
        "        h = F.relu(model_cora.conv2(h, data.edge_index))\n",
        "        h = F.relu(model_cora.conv3(h, data.edge_index))\n",
        "        emb_adv.append(h[n].cpu().numpy())\n",
        "    emb_adv = np.stack(emb_adv, axis=0)  # (64, hidden_dim)\n",
        "\n",
        "# 5) Sample 64 other test nodes as negatives\n",
        "neg_nodes = [n for n in test_idx if n not in sel_nodes]\n",
        "neg_sel = random.sample(neg_nodes, 64)\n",
        "emb_neg = emb[neg_sel]  # emb from original extract\n",
        "\n",
        "# 6) Train U (or logistic) to distinguish emb_adv vs. emb_neg\n",
        "X = np.vstack([emb_adv, emb_neg])\n",
        "y = np.array([1]*64 + [0]*64)\n",
        "perm = np.random.permutation(128)\n",
        "X_t, y_t = X[perm], y[perm]\n",
        "clf = LogisticRegression(max_iter=1000).fit(X_t, y_t)\n",
        "acc_df = clf.score(emb[neg_sel], y[perm][perm>=64])  # compute accuracy on held-out split\n",
        "print(f\"DeepFool node‐classification fingerprint accuracy: {acc_df:.4f}\")\n"
      ],
      "metadata": {
        "colab": {
          "base_uri": "https://localhost:8080/",
          "height": 383
        },
        "id": "4Dt64JYjSgSv",
        "outputId": "b349e7a0-af40-485a-d942-8d613c2b06eb"
      },
      "execution_count": null,
      "outputs": [
        {
          "output_type": "error",
          "ename": "ModuleNotFoundError",
          "evalue": "No module named 'deepfool'",
          "traceback": [
            "\u001b[0;31m---------------------------------------------------------------------------\u001b[0m",
            "\u001b[0;31mModuleNotFoundError\u001b[0m                       Traceback (most recent call last)",
            "\u001b[0;32m<ipython-input-55-3418661750>\u001b[0m in \u001b[0;36m<cell line: 0>\u001b[0;34m()\u001b[0m\n\u001b[1;32m      1\u001b[0m \u001b[0;31m# ─── DeepFool Baseline: Node Classification (Cora) ───\u001b[0m\u001b[0;34m\u001b[0m\u001b[0;34m\u001b[0m\u001b[0m\n\u001b[0;32m----> 2\u001b[0;31m \u001b[0;32mimport\u001b[0m \u001b[0mdeepfool\u001b[0m  \u001b[0;31m# e.g. from a library like foolbox or advertorch\u001b[0m\u001b[0;34m\u001b[0m\u001b[0;34m\u001b[0m\u001b[0m\n\u001b[0m\u001b[1;32m      3\u001b[0m \u001b[0;32mfrom\u001b[0m \u001b[0mtorch_geometric\u001b[0m\u001b[0;34m.\u001b[0m\u001b[0mdatasets\u001b[0m \u001b[0;32mimport\u001b[0m \u001b[0mPlanetoid\u001b[0m\u001b[0;34m\u001b[0m\u001b[0;34m\u001b[0m\u001b[0m\n\u001b[1;32m      4\u001b[0m \u001b[0;34m\u001b[0m\u001b[0m\n\u001b[1;32m      5\u001b[0m \u001b[0;31m# 1) Load & train GCN on Cora (reuse model_cora from before)\u001b[0m\u001b[0;34m\u001b[0m\u001b[0;34m\u001b[0m\u001b[0m\n",
            "\u001b[0;31mModuleNotFoundError\u001b[0m: No module named 'deepfool'",
            "",
            "\u001b[0;31m---------------------------------------------------------------------------\u001b[0;32m\nNOTE: If your import is failing due to a missing package, you can\nmanually install dependencies using either !pip or !apt.\n\nTo view examples of installing some common dependencies, click the\n\"Open Examples\" button below.\n\u001b[0;31m---------------------------------------------------------------------------\u001b[0m\n"
          ],
          "errorDetails": {
            "actions": [
              {
                "action": "open_url",
                "actionText": "Open Examples",
                "url": "/notebooks/snippets/importing_libraries.ipynb"
              }
            ]
          }
        }
      ]
    }
  ]
}