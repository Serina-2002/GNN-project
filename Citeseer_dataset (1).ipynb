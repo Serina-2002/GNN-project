{
  "nbformat": 4,
  "nbformat_minor": 0,
  "metadata": {
    "colab": {
      "provenance": []
    },
    "kernelspec": {
      "name": "python3",
      "display_name": "Python 3"
    },
    "language_info": {
      "name": "python"
    }
  },
  "cells": [
    {
      "cell_type": "code",
      "source": [
        "# Install PyTorch and Torch Geometric dependencies\n",
        "!pip install torch torchvision torchaudio --index-url https://download.pytorch.org/whl/cpu\n",
        "!pip install torch-scatter torch-sparse torch-cluster torch-spline-conv torch-geometric -f https://data.pyg.org/whl/torch-2.0.0+cpu.html\n"
      ],
      "metadata": {
        "colab": {
          "base_uri": "https://localhost:8080/"
        },
        "id": "dNipHNqhoIHi",
        "outputId": "51c70215-0da6-4df9-8e48-fcac4b326c54"
      },
      "execution_count": null,
      "outputs": [
        {
          "output_type": "stream",
          "name": "stdout",
          "text": [
            "Looking in indexes: https://download.pytorch.org/whl/cpu\n",
            "Requirement already satisfied: torch in /usr/local/lib/python3.11/dist-packages (2.6.0+cu124)\n",
            "Requirement already satisfied: torchvision in /usr/local/lib/python3.11/dist-packages (0.21.0+cu124)\n",
            "Requirement already satisfied: torchaudio in /usr/local/lib/python3.11/dist-packages (2.6.0+cu124)\n",
            "Requirement already satisfied: filelock in /usr/local/lib/python3.11/dist-packages (from torch) (3.18.0)\n",
            "Requirement already satisfied: typing-extensions>=4.10.0 in /usr/local/lib/python3.11/dist-packages (from torch) (4.14.0)\n",
            "Requirement already satisfied: networkx in /usr/local/lib/python3.11/dist-packages (from torch) (3.5)\n",
            "Requirement already satisfied: jinja2 in /usr/local/lib/python3.11/dist-packages (from torch) (3.1.6)\n",
            "Requirement already satisfied: fsspec in /usr/local/lib/python3.11/dist-packages (from torch) (2025.3.2)\n",
            "INFO: pip is looking at multiple versions of torch to determine which version is compatible with other requirements. This could take a while.\n",
            "Collecting torch\n",
            "  Downloading https://download.pytorch.org/whl/cpu/torch-2.7.1%2Bcpu-cp311-cp311-manylinux_2_28_x86_64.whl.metadata (27 kB)\n",
            "Collecting sympy>=1.13.3 (from torch)\n",
            "  Downloading https://download.pytorch.org/whl/sympy-1.13.3-py3-none-any.whl.metadata (12 kB)\n",
            "Requirement already satisfied: numpy in /usr/local/lib/python3.11/dist-packages (from torchvision) (2.0.2)\n",
            "Requirement already satisfied: pillow!=8.3.*,>=5.3.0 in /usr/local/lib/python3.11/dist-packages (from torchvision) (11.2.1)\n",
            "Collecting torch\n",
            "  Downloading https://download.pytorch.org/whl/cpu/torch-2.6.0%2Bcpu-cp311-cp311-linux_x86_64.whl.metadata (26 kB)\n",
            "Requirement already satisfied: sympy==1.13.1 in /usr/local/lib/python3.11/dist-packages (from torch) (1.13.1)\n",
            "Requirement already satisfied: mpmath<1.4,>=1.1.0 in /usr/local/lib/python3.11/dist-packages (from sympy==1.13.1->torch) (1.3.0)\n",
            "Requirement already satisfied: MarkupSafe>=2.0 in /usr/local/lib/python3.11/dist-packages (from jinja2->torch) (3.0.2)\n",
            "Downloading https://download.pytorch.org/whl/cpu/torch-2.6.0%2Bcpu-cp311-cp311-linux_x86_64.whl (178.7 MB)\n",
            "\u001b[2K   \u001b[90m━━━━━━━━━━━━━━━━━━━━━━━━━━━━━━━━━━━━━━━━\u001b[0m \u001b[32m178.7/178.7 MB\u001b[0m \u001b[31m6.5 MB/s\u001b[0m eta \u001b[36m0:00:00\u001b[0m\n",
            "\u001b[?25hInstalling collected packages: torch\n",
            "  Attempting uninstall: torch\n",
            "    Found existing installation: torch 2.6.0+cu124\n",
            "    Uninstalling torch-2.6.0+cu124:\n",
            "      Successfully uninstalled torch-2.6.0+cu124\n",
            "Successfully installed torch-2.6.0+cpu\n",
            "Looking in links: https://data.pyg.org/whl/torch-2.0.0+cpu.html\n",
            "Collecting torch-scatter\n",
            "  Downloading https://data.pyg.org/whl/torch-2.0.0%2Bcpu/torch_scatter-2.1.2%2Bpt20cpu-cp311-cp311-linux_x86_64.whl (494 kB)\n",
            "\u001b[2K     \u001b[90m━━━━━━━━━━━━━━━━━━━━━━━━━━━━━━━━━━━━━━━\u001b[0m \u001b[32m494.0/494.0 kB\u001b[0m \u001b[31m5.9 MB/s\u001b[0m eta \u001b[36m0:00:00\u001b[0m\n",
            "\u001b[?25hCollecting torch-sparse\n",
            "  Downloading https://data.pyg.org/whl/torch-2.0.0%2Bcpu/torch_sparse-0.6.18%2Bpt20cpu-cp311-cp311-linux_x86_64.whl (1.2 MB)\n",
            "\u001b[2K     \u001b[90m━━━━━━━━━━━━━━━━━━━━━━━━━━━━━━━━━━━━━━━━\u001b[0m \u001b[32m1.2/1.2 MB\u001b[0m \u001b[31m29.4 MB/s\u001b[0m eta \u001b[36m0:00:00\u001b[0m\n",
            "\u001b[?25hCollecting torch-cluster\n",
            "  Downloading https://data.pyg.org/whl/torch-2.0.0%2Bcpu/torch_cluster-1.6.3%2Bpt20cpu-cp311-cp311-linux_x86_64.whl (750 kB)\n",
            "\u001b[2K     \u001b[90m━━━━━━━━━━━━━━━━━━━━━━━━━━━━━━━━━━━━━━\u001b[0m \u001b[32m750.9/750.9 kB\u001b[0m \u001b[31m34.2 MB/s\u001b[0m eta \u001b[36m0:00:00\u001b[0m\n",
            "\u001b[?25hCollecting torch-spline-conv\n",
            "  Downloading https://data.pyg.org/whl/torch-2.0.0%2Bcpu/torch_spline_conv-1.2.2%2Bpt20cpu-cp311-cp311-linux_x86_64.whl (208 kB)\n",
            "\u001b[2K     \u001b[90m━━━━━━━━━━━━━━━━━━━━━━━━━━━━━━━━━━━━━━━\u001b[0m \u001b[32m208.1/208.1 kB\u001b[0m \u001b[31m3.5 MB/s\u001b[0m eta \u001b[36m0:00:00\u001b[0m\n",
            "\u001b[?25hCollecting torch-geometric\n",
            "  Downloading torch_geometric-2.6.1-py3-none-any.whl.metadata (63 kB)\n",
            "\u001b[2K     \u001b[90m━━━━━━━━━━━━━━━━━━━━━━━━━━━━━━━━━━━━━━━━\u001b[0m \u001b[32m63.1/63.1 kB\u001b[0m \u001b[31m1.6 MB/s\u001b[0m eta \u001b[36m0:00:00\u001b[0m\n",
            "\u001b[?25hRequirement already satisfied: scipy in /usr/local/lib/python3.11/dist-packages (from torch-sparse) (1.15.3)\n",
            "Requirement already satisfied: aiohttp in /usr/local/lib/python3.11/dist-packages (from torch-geometric) (3.11.15)\n",
            "Requirement already satisfied: fsspec in /usr/local/lib/python3.11/dist-packages (from torch-geometric) (2025.3.2)\n",
            "Requirement already satisfied: jinja2 in /usr/local/lib/python3.11/dist-packages (from torch-geometric) (3.1.6)\n",
            "Requirement already satisfied: numpy in /usr/local/lib/python3.11/dist-packages (from torch-geometric) (2.0.2)\n",
            "Requirement already satisfied: psutil>=5.8.0 in /usr/local/lib/python3.11/dist-packages (from torch-geometric) (5.9.5)\n",
            "Requirement already satisfied: pyparsing in /usr/local/lib/python3.11/dist-packages (from torch-geometric) (3.2.3)\n",
            "Requirement already satisfied: requests in /usr/local/lib/python3.11/dist-packages (from torch-geometric) (2.32.3)\n",
            "Requirement already satisfied: tqdm in /usr/local/lib/python3.11/dist-packages (from torch-geometric) (4.67.1)\n",
            "Requirement already satisfied: aiohappyeyeballs>=2.3.0 in /usr/local/lib/python3.11/dist-packages (from aiohttp->torch-geometric) (2.6.1)\n",
            "Requirement already satisfied: aiosignal>=1.1.2 in /usr/local/lib/python3.11/dist-packages (from aiohttp->torch-geometric) (1.3.2)\n",
            "Requirement already satisfied: attrs>=17.3.0 in /usr/local/lib/python3.11/dist-packages (from aiohttp->torch-geometric) (25.3.0)\n",
            "Requirement already satisfied: frozenlist>=1.1.1 in /usr/local/lib/python3.11/dist-packages (from aiohttp->torch-geometric) (1.7.0)\n",
            "Requirement already satisfied: multidict<7.0,>=4.5 in /usr/local/lib/python3.11/dist-packages (from aiohttp->torch-geometric) (6.4.4)\n",
            "Requirement already satisfied: propcache>=0.2.0 in /usr/local/lib/python3.11/dist-packages (from aiohttp->torch-geometric) (0.3.2)\n",
            "Requirement already satisfied: yarl<2.0,>=1.17.0 in /usr/local/lib/python3.11/dist-packages (from aiohttp->torch-geometric) (1.20.1)\n",
            "Requirement already satisfied: MarkupSafe>=2.0 in /usr/local/lib/python3.11/dist-packages (from jinja2->torch-geometric) (3.0.2)\n",
            "Requirement already satisfied: charset-normalizer<4,>=2 in /usr/local/lib/python3.11/dist-packages (from requests->torch-geometric) (3.4.2)\n",
            "Requirement already satisfied: idna<4,>=2.5 in /usr/local/lib/python3.11/dist-packages (from requests->torch-geometric) (3.10)\n",
            "Requirement already satisfied: urllib3<3,>=1.21.1 in /usr/local/lib/python3.11/dist-packages (from requests->torch-geometric) (2.4.0)\n",
            "Requirement already satisfied: certifi>=2017.4.17 in /usr/local/lib/python3.11/dist-packages (from requests->torch-geometric) (2025.6.15)\n",
            "Downloading torch_geometric-2.6.1-py3-none-any.whl (1.1 MB)\n",
            "\u001b[2K   \u001b[90m━━━━━━━━━━━━━━━━━━━━━━━━━━━━━━━━━━━━━━━━\u001b[0m \u001b[32m1.1/1.1 MB\u001b[0m \u001b[31m17.0 MB/s\u001b[0m eta \u001b[36m0:00:00\u001b[0m\n",
            "\u001b[?25hInstalling collected packages: torch-spline-conv, torch-scatter, torch-sparse, torch-cluster, torch-geometric\n",
            "Successfully installed torch-cluster-1.6.3+pt20cpu torch-geometric-2.6.1 torch-scatter-2.1.2+pt20cpu torch-sparse-0.6.18+pt20cpu torch-spline-conv-1.2.2+pt20cpu\n"
          ]
        }
      ]
    },
    {
      "cell_type": "code",
      "source": [
        "from google.colab import drive\n",
        "drive.mount('/content/drive')\n"
      ],
      "metadata": {
        "colab": {
          "base_uri": "https://localhost:8080/"
        },
        "id": "hotWXtd-oict",
        "outputId": "f3c769b8-2bf6-4ca7-df2f-79b1c0420cfa"
      },
      "execution_count": null,
      "outputs": [
        {
          "output_type": "stream",
          "name": "stdout",
          "text": [
            "Mounted at /content/drive\n"
          ]
        }
      ]
    },
    {
      "cell_type": "code",
      "source": [
        "import torch\n",
        "import torch.nn.functional as F\n",
        "from torch_geometric.datasets import Planetoid\n",
        "from torch_geometric.nn import GCNConv\n",
        "\n"
      ],
      "metadata": {
        "colab": {
          "base_uri": "https://localhost:8080/"
        },
        "id": "M4c83MW-ov3o",
        "outputId": "b58bfcee-6b16-481f-fac5-4c75d9c83d4d"
      },
      "execution_count": null,
      "outputs": [
        {
          "output_type": "stream",
          "name": "stderr",
          "text": [
            "/usr/local/lib/python3.11/dist-packages/torch_geometric/typing.py:86: UserWarning: An issue occurred while importing 'torch-scatter'. Disabling its usage. Stacktrace: /usr/local/lib/python3.11/dist-packages/torch_scatter/_version_cpu.so: undefined symbol: _ZN3c1017RegisterOperatorsD1Ev\n",
            "  warnings.warn(f\"An issue occurred while importing 'torch-scatter'. \"\n",
            "/usr/local/lib/python3.11/dist-packages/torch_geometric/typing.py:97: UserWarning: An issue occurred while importing 'torch-cluster'. Disabling its usage. Stacktrace: /usr/local/lib/python3.11/dist-packages/torch_cluster/_version_cpu.so: undefined symbol: _ZN3c1017RegisterOperatorsD1Ev\n",
            "  warnings.warn(f\"An issue occurred while importing 'torch-cluster'. \"\n",
            "/usr/local/lib/python3.11/dist-packages/torch_geometric/typing.py:113: UserWarning: An issue occurred while importing 'torch-spline-conv'. Disabling its usage. Stacktrace: /usr/local/lib/python3.11/dist-packages/torch_spline_conv/_version_cpu.so: undefined symbol: _ZN3c1017RegisterOperatorsD1Ev\n",
            "  warnings.warn(\n",
            "/usr/local/lib/python3.11/dist-packages/torch_geometric/typing.py:124: UserWarning: An issue occurred while importing 'torch-sparse'. Disabling its usage. Stacktrace: /usr/local/lib/python3.11/dist-packages/torch_sparse/_version_cpu.so: undefined symbol: _ZN3c1017RegisterOperatorsD1Ev\n",
            "  warnings.warn(f\"An issue occurred while importing 'torch-sparse'. \"\n"
          ]
        }
      ]
    },
    {
      "cell_type": "code",
      "source": [
        "dataset = Planetoid(root='/tmp/Citeseer', name='Citeseer')\n",
        "data = dataset[0]\n"
      ],
      "metadata": {
        "colab": {
          "base_uri": "https://localhost:8080/"
        },
        "id": "PfmYgK3bpHXS",
        "outputId": "2fcdce3f-1739-45e7-d9a5-144cebd5e603"
      },
      "execution_count": null,
      "outputs": [
        {
          "output_type": "stream",
          "name": "stderr",
          "text": [
            "Downloading https://github.com/kimiyoung/planetoid/raw/master/data/ind.citeseer.x\n",
            "Downloading https://github.com/kimiyoung/planetoid/raw/master/data/ind.citeseer.tx\n",
            "Downloading https://github.com/kimiyoung/planetoid/raw/master/data/ind.citeseer.allx\n",
            "Downloading https://github.com/kimiyoung/planetoid/raw/master/data/ind.citeseer.y\n",
            "Downloading https://github.com/kimiyoung/planetoid/raw/master/data/ind.citeseer.ty\n",
            "Downloading https://github.com/kimiyoung/planetoid/raw/master/data/ind.citeseer.ally\n",
            "Downloading https://github.com/kimiyoung/planetoid/raw/master/data/ind.citeseer.graph\n",
            "Downloading https://github.com/kimiyoung/planetoid/raw/master/data/ind.citeseer.test.index\n",
            "Processing...\n",
            "Done!\n"
          ]
        }
      ]
    },
    {
      "cell_type": "code",
      "source": [
        "import torch.nn as nn\n",
        "\n",
        "class GCN(torch.nn.Module):\n",
        "    def __init__(self, in_channels, hidden_channels, out_channels):\n",
        "        super(GCN, self).__init__()\n",
        "        self.conv1 = GCNConv(in_channels, hidden_channels)\n",
        "        self.conv2 = GCNConv(hidden_channels, out_channels)\n",
        "\n",
        "    def forward(self, x, edge_index):\n",
        "        x = F.relu(self.conv1(x, edge_index))\n",
        "        x = F.dropout(x, training=self.training)\n",
        "        x = self.conv2(x, edge_index)\n",
        "        return x\n"
      ],
      "metadata": {
        "id": "jhCc7NwspKvM"
      },
      "execution_count": null,
      "outputs": []
    },
    {
      "cell_type": "code",
      "source": [
        "def train(model, data, epochs=200):\n",
        "    optimizer = torch.optim.Adam(model.parameters(), lr=0.01, weight_decay=5e-4)\n",
        "    model.train()\n",
        "    for epoch in range(epochs):\n",
        "        optimizer.zero_grad()\n",
        "        out = model(data.x, data.edge_index)\n",
        "        loss = F.cross_entropy(out[data.train_mask], data.y[data.train_mask])\n",
        "        loss.backward()\n",
        "        optimizer.step()\n",
        "    return model\n",
        "\n",
        "def test(model, data):\n",
        "    model.eval()\n",
        "    out = model(data.x, data.edge_index)\n",
        "    pred = out.argmax(dim=1)\n",
        "    acc = (pred[data.test_mask] == data.y[data.test_mask]).sum() / data.test_mask.sum()\n",
        "    return acc.item()\n"
      ],
      "metadata": {
        "id": "aGGhEmHwpMlD"
      },
      "execution_count": null,
      "outputs": []
    },
    {
      "cell_type": "code",
      "source": [
        "gcn_model = GCN(in_channels=dataset.num_node_features, hidden_channels=64, out_channels=dataset.num_classes)\n",
        "gcn_model = train(gcn_model, data)\n",
        "print(\"✅ GCN Test Accuracy:\", test(gcn_model, data))\n"
      ],
      "metadata": {
        "colab": {
          "base_uri": "https://localhost:8080/"
        },
        "id": "izfyxIPZpN3s",
        "outputId": "3f9cb851-03e9-42b3-d604-929c2bbca0c0"
      },
      "execution_count": null,
      "outputs": [
        {
          "output_type": "stream",
          "name": "stdout",
          "text": [
            "✅ GCN Test Accuracy: 0.6679999828338623\n"
          ]
        }
      ]
    },
    {
      "cell_type": "code",
      "source": [
        "import os\n",
        "os.makedirs('/content/drive/MyDrive/gnnfingers/models', exist_ok=True)\n"
      ],
      "metadata": {
        "id": "PAcGLtQCp2th"
      },
      "execution_count": null,
      "outputs": []
    },
    {
      "cell_type": "code",
      "source": [
        "torch.save(gcn_model.state_dict(), '/content/drive/MyDrive/gnnfingers/models/victim_Citeseer_GCN.pth')\n"
      ],
      "metadata": {
        "id": "734HQdUppPlL"
      },
      "execution_count": null,
      "outputs": []
    },
    {
      "cell_type": "code",
      "source": [
        "import torch\n",
        "import torch.nn.functional as F\n",
        "import os\n",
        "\n",
        "# Reload base model definition\n",
        "class GCN(torch.nn.Module):\n",
        "    def __init__(self, in_channels, hidden_channels, out_channels):\n",
        "        super(GCN, self).__init__()\n",
        "        self.conv1 = GCNConv(in_channels, hidden_channels)\n",
        "        self.conv2 = GCNConv(hidden_channels, out_channels)\n",
        "\n",
        "    def forward(self, x, edge_index):\n",
        "        x = F.relu(self.conv1(x, edge_index))\n",
        "        x = F.dropout(x, training=self.training)\n",
        "        x = self.conv2(x, edge_index)\n",
        "        return x\n",
        "\n",
        "# Directory to save positive variants\n",
        "pos_dir = '/content/drive/MyDrive/gnnfingers/variants/Citeseer_GCN_Positive'\n",
        "os.makedirs(pos_dir, exist_ok=True)\n",
        "\n",
        "# Load original victim model\n",
        "victim = GCN(dataset.num_node_features, 64, dataset.num_classes)\n",
        "victim.load_state_dict(torch.load('/content/drive/MyDrive/gnnfingers/models/victim_Citeseer_GCN.pth'))\n",
        "\n",
        "# Fine-tune 20 variants with small data perturbations\n",
        "for i in range(20):\n",
        "    variant = GCN(dataset.num_node_features, 64, dataset.num_classes)\n",
        "    variant.load_state_dict(torch.load('/content/drive/MyDrive/gnnfingers/models/victim_Citeseer_GCN.pth'))\n",
        "\n",
        "    optimizer = torch.optim.Adam(variant.parameters(), lr=0.001)\n",
        "    variant.train()\n",
        "    for epoch in range(5):  # small fine-tuning (5 epochs)\n",
        "        optimizer.zero_grad()\n",
        "        out = variant(data.x, data.edge_index)\n",
        "        loss = F.cross_entropy(out[data.train_mask], data.y[data.train_mask])\n",
        "        loss.backward()\n",
        "        optimizer.step()\n",
        "\n",
        "    torch.save(variant.state_dict(), f\"{pos_dir}/positive_{i}.pth\")\n",
        "    print(f\"✅ Saved Positive Variant {i+1}/20\")\n"
      ],
      "metadata": {
        "colab": {
          "base_uri": "https://localhost:8080/"
        },
        "id": "XR-iCjump9jR",
        "outputId": "9e5f02e9-1d20-4b2f-d998-0c203fffbdb6"
      },
      "execution_count": null,
      "outputs": [
        {
          "output_type": "stream",
          "name": "stdout",
          "text": [
            "✅ Saved Positive Variant 1/20\n",
            "✅ Saved Positive Variant 2/20\n",
            "✅ Saved Positive Variant 3/20\n",
            "✅ Saved Positive Variant 4/20\n",
            "✅ Saved Positive Variant 5/20\n",
            "✅ Saved Positive Variant 6/20\n",
            "✅ Saved Positive Variant 7/20\n",
            "✅ Saved Positive Variant 8/20\n",
            "✅ Saved Positive Variant 9/20\n",
            "✅ Saved Positive Variant 10/20\n",
            "✅ Saved Positive Variant 11/20\n",
            "✅ Saved Positive Variant 12/20\n",
            "✅ Saved Positive Variant 13/20\n",
            "✅ Saved Positive Variant 14/20\n",
            "✅ Saved Positive Variant 15/20\n",
            "✅ Saved Positive Variant 16/20\n",
            "✅ Saved Positive Variant 17/20\n",
            "✅ Saved Positive Variant 18/20\n",
            "✅ Saved Positive Variant 19/20\n",
            "✅ Saved Positive Variant 20/20\n"
          ]
        }
      ]
    },
    {
      "cell_type": "code",
      "source": [
        "import torch\n",
        "import torch.nn.functional as F\n",
        "import os\n",
        "import random\n",
        "\n",
        "# Directory to save negative variants\n",
        "neg_dir = '/content/drive/MyDrive/gnnfingers/variants/Citeseer_GCN_Negative'\n",
        "os.makedirs(neg_dir, exist_ok=True)\n",
        "\n",
        "# Generate 20 negative GCNs\n",
        "for i in range(20):\n",
        "    torch.manual_seed(i + 100)  # different seed\n",
        "    random.seed(i + 100)\n",
        "\n",
        "    model = GCN(dataset.num_node_features, 64, dataset.num_classes)\n",
        "    optimizer = torch.optim.Adam(model.parameters(), lr=0.01, weight_decay=5e-4)\n",
        "\n",
        "    model.train()\n",
        "    for epoch in range(20):  # train a bit longer than positive\n",
        "        optimizer.zero_grad()\n",
        "        out = model(data.x, data.edge_index)\n",
        "        loss = F.cross_entropy(out[data.train_mask], data.y[data.train_mask])\n",
        "        loss.backward()\n",
        "        optimizer.step()\n",
        "\n",
        "    torch.save(model.state_dict(), f\"{neg_dir}/negative_{i}.pth\")\n",
        "    print(f\"✅ Saved Negative Variant {i+1}/20\")\n"
      ],
      "metadata": {
        "colab": {
          "base_uri": "https://localhost:8080/"
        },
        "id": "-PuCaT17qEKL",
        "outputId": "087fecc9-614a-45d5-9bd0-bdb0dad156d4"
      },
      "execution_count": null,
      "outputs": [
        {
          "output_type": "stream",
          "name": "stdout",
          "text": [
            "✅ Saved Negative Variant 1/20\n",
            "✅ Saved Negative Variant 2/20\n",
            "✅ Saved Negative Variant 3/20\n",
            "✅ Saved Negative Variant 4/20\n",
            "✅ Saved Negative Variant 5/20\n",
            "✅ Saved Negative Variant 6/20\n",
            "✅ Saved Negative Variant 7/20\n",
            "✅ Saved Negative Variant 8/20\n",
            "✅ Saved Negative Variant 9/20\n",
            "✅ Saved Negative Variant 10/20\n",
            "✅ Saved Negative Variant 11/20\n",
            "✅ Saved Negative Variant 12/20\n",
            "✅ Saved Negative Variant 13/20\n",
            "✅ Saved Negative Variant 14/20\n",
            "✅ Saved Negative Variant 15/20\n",
            "✅ Saved Negative Variant 16/20\n",
            "✅ Saved Negative Variant 17/20\n",
            "✅ Saved Negative Variant 18/20\n",
            "✅ Saved Negative Variant 19/20\n",
            "✅ Saved Negative Variant 20/20\n"
          ]
        }
      ]
    },
    {
      "cell_type": "code",
      "source": [
        "import os\n",
        "os.makedirs('/content/drive/MyDrive/gnnfingers/fingerprint', exist_ok=True)\n"
      ],
      "metadata": {
        "id": "tC_VZcIhqfHm"
      },
      "execution_count": null,
      "outputs": []
    },
    {
      "cell_type": "code",
      "source": [
        "torch.save(fingerprint_graph, '/content/drive/MyDrive/gnnfingers/fingerprint/fingerprint_Citeseer.pt')\n",
        "print(\" Fingerprint graph saved.\")\n"
      ],
      "metadata": {
        "colab": {
          "base_uri": "https://localhost:8080/"
        },
        "id": "EZQRfeEAqgIf",
        "outputId": "863e0ef2-9986-4135-a45b-fc2cc0aa8070"
      },
      "execution_count": null,
      "outputs": [
        {
          "output_type": "stream",
          "name": "stdout",
          "text": [
            " Fingerprint graph saved.\n"
          ]
        }
      ]
    },
    {
      "cell_type": "code",
      "source": [
        "from torch.serialization import add_safe_globals\n",
        "from torch_geometric.data import Data\n",
        "add_safe_globals([Data])\n"
      ],
      "metadata": {
        "id": "iazUv9b7qvO5"
      },
      "execution_count": null,
      "outputs": []
    },
    {
      "cell_type": "code",
      "source": [
        "fingerprint_graph = torch.load('/content/drive/MyDrive/gnnfingers/fingerprint/fingerprint_Citeseer.pt', weights_only=False)\n",
        "fingerprint_graph.batch = torch.zeros(fingerprint_graph.num_nodes, dtype=torch.long)\n"
      ],
      "metadata": {
        "id": "uOUyi6K8qwcJ"
      },
      "execution_count": null,
      "outputs": []
    },
    {
      "cell_type": "code",
      "source": [
        "from torch_geometric.nn import global_mean_pool\n",
        "\n",
        "def extract_output(model, graph):\n",
        "    model.eval()\n",
        "    with torch.no_grad():\n",
        "        out = model(graph.x, graph.edge_index)\n",
        "        pooled = global_mean_pool(out, graph.batch)\n",
        "        return pooled.squeeze().cpu()\n"
      ],
      "metadata": {
        "id": "PVDiS2F_rKkt"
      },
      "execution_count": null,
      "outputs": []
    },
    {
      "cell_type": "code",
      "source": [
        "X = []\n",
        "y = []\n",
        "\n",
        "# Positive (label = 1)\n",
        "for i in range(20):\n",
        "    model = GCN(dataset.num_node_features, 64, dataset.num_classes)\n",
        "    model.load_state_dict(torch.load(f'/content/drive/MyDrive/gnnfingers/variants/Citeseer_GCN_Positive/positive_{i}.pth'))\n",
        "    X.append(extract_output(model, fingerprint_graph))\n",
        "    y.append(1)\n",
        "\n",
        "# Negative (label = 0)\n",
        "for i in range(20):\n",
        "    model = GCN(dataset.num_node_features, 64, dataset.num_classes)\n",
        "    model.load_state_dict(torch.load(f'/content/drive/MyDrive/gnnfingers/variants/Citeseer_GCN_Negative/negative_{i}.pth'))\n",
        "    X.append(extract_output(model, fingerprint_graph))\n",
        "    y.append(0)\n",
        "\n",
        "X = torch.stack(X)\n",
        "y = torch.tensor(y)\n",
        "print(f\"Feature Matrix: {X.shape}, Labels: {y.shape}\")\n"
      ],
      "metadata": {
        "colab": {
          "base_uri": "https://localhost:8080/"
        },
        "id": "WFcDU116rFNk",
        "outputId": "95e1e783-3975-44ca-8462-0439dc323c0d"
      },
      "execution_count": null,
      "outputs": [
        {
          "output_type": "stream",
          "name": "stdout",
          "text": [
            "Feature Matrix: torch.Size([40, 6]), Labels: torch.Size([40])\n"
          ]
        }
      ]
    },
    {
      "cell_type": "code",
      "source": [
        "import torch.nn as nn\n",
        "from sklearn.metrics import accuracy_score, roc_auc_score, confusion_matrix\n",
        "\n",
        "class Univerifier(nn.Module):\n",
        "    def __init__(self, input_dim):\n",
        "        super(Univerifier, self).__init__()\n",
        "        self.net = nn.Sequential(\n",
        "            nn.Linear(input_dim, 64),\n",
        "            nn.LeakyReLU(),\n",
        "            nn.Linear(64, 2)\n",
        "        )\n",
        "\n",
        "    def forward(self, x):\n",
        "        return self.net(x)\n",
        "\n",
        "# Instantiate and train\n",
        "model = Univerifier(input_dim=X.shape[1])\n",
        "optimizer = torch.optim.Adam(model.parameters(), lr=0.01)\n",
        "criterion = nn.CrossEntropyLoss()\n",
        "\n",
        "# Training loop\n",
        "for epoch in range(100):\n",
        "    model.train()\n",
        "    logits = model(X)\n",
        "    loss = criterion(logits, y)\n",
        "    optimizer.zero_grad()\n",
        "    loss.backward()\n",
        "    optimizer.step()\n",
        "\n",
        "# Evaluation\n",
        "model.eval()\n",
        "with torch.no_grad():\n",
        "    logits = model(X)\n",
        "    probs = torch.softmax(logits, dim=1)[:, 1]\n",
        "    preds = (probs > 0.5).int()\n",
        "\n",
        "acc = accuracy_score(y.numpy(), preds.numpy())\n",
        "auc = roc_auc_score(y.numpy(), probs.numpy())\n",
        "cm = confusion_matrix(y.numpy(), preds.numpy())\n",
        "\n",
        "print(f\" Accuracy: {acc:.4f}\")\n",
        "print(f\" Robustness (TPR): {cm[1,1] / cm[1].sum():.4f}\")\n",
        "print(f\" Uniqueness (TNR): {cm[0,0] / cm[0].sum():.4f}\")\n",
        "print(f\" AUROC: {auc:.4f}\")\n",
        "print(\" Confusion Matrix:\\n\", cm)\n"
      ],
      "metadata": {
        "colab": {
          "base_uri": "https://localhost:8080/"
        },
        "id": "GMpgUf8Eq76K",
        "outputId": "5b610b1c-ddd4-4a17-9535-c9673d94e355"
      },
      "execution_count": null,
      "outputs": [
        {
          "output_type": "stream",
          "name": "stdout",
          "text": [
            " Accuracy: 1.0000\n",
            " Robustness (TPR): 1.0000\n",
            " Uniqueness (TNR): 1.0000\n",
            " AUROC: 1.0000\n",
            " Confusion Matrix:\n",
            " [[20  0]\n",
            " [ 0 20]]\n"
          ]
        }
      ]
    },
    {
      "cell_type": "code",
      "source": [
        "#Section 3.4.2\n",
        "import torch.nn as nn\n",
        "import torch\n",
        "\n",
        "class FingerprintGraph(nn.Module):\n",
        "    def __init__(self, num_nodes=32, num_features=dataset.num_node_features, edge_prob=0.1):\n",
        "        super().__init__()\n",
        "        self.num_nodes = num_nodes\n",
        "        self.feat = nn.Parameter(torch.rand((num_nodes, num_features)))\n",
        "\n",
        "        # Soft edge weights initialized near 0 (will be projected)\n",
        "        self.adj_logits = nn.Parameter(torch.randn(num_nodes, num_nodes) * 0.01)\n",
        "\n",
        "    def get_edge_index(self):\n",
        "        # Turn soft adjacency logits into binary adjacency matrix\n",
        "        with torch.no_grad():\n",
        "            adj_matrix = torch.sigmoid(self.adj_logits)\n",
        "            adj_matrix = torch.triu(adj_matrix, diagonal=1)  # upper triangle\n",
        "            edge_index = (adj_matrix > 0.5).nonzero(as_tuple=False).t()\n",
        "            edge_index = torch.cat([edge_index, edge_index[[1, 0]]], dim=1)  # undirected\n",
        "        return edge_index\n",
        "\n",
        "    def to_pyg_data(self):\n",
        "        edge_index = self.get_edge_index()\n",
        "        return Data(x=self.feat, edge_index=edge_index, batch=torch.zeros(self.num_nodes, dtype=torch.long))\n",
        "\n"
      ],
      "metadata": {
        "id": "hFGliLIlsTNe"
      },
      "execution_count": null,
      "outputs": []
    },
    {
      "cell_type": "code",
      "source": [
        "\n",
        "class Univerifier(nn.Module):\n",
        "    def __init__(self, input_dim):\n",
        "        super(Univerifier, self).__init__()\n",
        "        self.net = nn.Sequential(\n",
        "            nn.Linear(input_dim, 64),\n",
        "            nn.LeakyReLU(),\n",
        "            nn.Linear(64, 2)\n",
        "        )\n",
        "\n",
        "    def forward(self, x):\n",
        "        return self.net(x)\n"
      ],
      "metadata": {
        "id": "21ltS1KZsb1D"
      },
      "execution_count": null,
      "outputs": []
    },
    {
      "cell_type": "code",
      "source": [
        "import torch.nn.functional as F\n",
        "\n",
        "# Initialize\n",
        "fp_graph = FingerprintGraph()\n",
        "verifier = Univerifier(input_dim=dataset.num_classes)  # output dim of GCN = 6 for Citeseer\n",
        "\n",
        "opt = torch.optim.Adam(list(fp_graph.parameters()) + list(verifier.parameters()), lr=0.01)\n",
        "\n",
        "# Load all 20 pos and 20 neg models\n",
        "positive_models = []\n",
        "negative_models = []\n",
        "\n",
        "for i in range(20):\n",
        "    m_pos = GCN(dataset.num_node_features, 64, dataset.num_classes)\n",
        "    m_pos.load_state_dict(torch.load(f'/content/drive/MyDrive/gnnfingers/variants/Citeseer_GCN_Positive/positive_{i}.pth'))\n",
        "    m_pos.eval()\n",
        "    positive_models.append(m_pos)\n",
        "\n",
        "    m_neg = GCN(dataset.num_node_features, 64, dataset.num_classes)\n",
        "    m_neg.load_state_dict(torch.load(f'/content/drive/MyDrive/gnnfingers/variants/Citeseer_GCN_Negative/negative_{i}.pth'))\n",
        "    m_neg.eval()\n",
        "    negative_models.append(m_neg)\n",
        "\n",
        "# Training loop\n",
        "for epoch in range(100):\n",
        "    opt.zero_grad()\n",
        "\n",
        "    # Convert graph to PyG format\n",
        "    pyg_data = fp_graph.to_pyg_data()\n",
        "\n",
        "    # Get outputs\n",
        "    outputs = []\n",
        "\n",
        "    with torch.no_grad():\n",
        "        outputs.append(victim(pyg_data.x, pyg_data.edge_index).mean(dim=0))\n",
        "        for m in positive_models:\n",
        "            outputs.append(m(pyg_data.x, pyg_data.edge_index).mean(dim=0))\n",
        "        for m in negative_models:\n",
        "            outputs.append(m(pyg_data.x, pyg_data.edge_index).mean(dim=0))\n",
        "\n",
        "    # Stack all\n",
        "    logits_input = torch.stack(outputs)\n",
        "    labels = torch.tensor([1]*21 + [0]*20)  # 1: victim + pos, 0: neg\n",
        "\n",
        "    # Train verifier\n",
        "    logits = verifier(logits_input)\n",
        "    loss = F.cross_entropy(logits, labels)\n",
        "    loss.backward()\n",
        "    opt.step()\n",
        "\n",
        "    if (epoch+1) % 10 == 0:\n",
        "        pred = logits.argmax(dim=1)\n",
        "        acc = (pred == labels).float().mean().item()\n",
        "        print(f\"Epoch {epoch+1:03d} | Loss: {loss.item():.4f} | Acc: {acc:.4f}\")\n"
      ],
      "metadata": {
        "colab": {
          "base_uri": "https://localhost:8080/"
        },
        "id": "iM4i-pv9slQk",
        "outputId": "a904ec66-fe5f-4eef-f9d2-12f33251af22"
      },
      "execution_count": null,
      "outputs": [
        {
          "output_type": "stream",
          "name": "stdout",
          "text": [
            "Epoch 010 | Loss: 0.0820 | Acc: 1.0000\n",
            "Epoch 020 | Loss: 0.0176 | Acc: 1.0000\n",
            "Epoch 030 | Loss: 0.0090 | Acc: 1.0000\n",
            "Epoch 040 | Loss: 0.0079 | Acc: 1.0000\n",
            "Epoch 050 | Loss: 0.0032 | Acc: 1.0000\n",
            "Epoch 060 | Loss: 0.0015 | Acc: 1.0000\n",
            "Epoch 070 | Loss: 0.0011 | Acc: 1.0000\n",
            "Epoch 080 | Loss: 0.0010 | Acc: 1.0000\n",
            "Epoch 090 | Loss: 0.0009 | Acc: 1.0000\n",
            "Epoch 100 | Loss: 0.0008 | Acc: 1.0000\n"
          ]
        }
      ]
    },
    {
      "cell_type": "code",
      "source": [
        "verifier.eval()\n",
        "fp_data = fp_graph.to_pyg_data()\n",
        "\n",
        "scores = []\n",
        "labels = []\n",
        "\n",
        "# Victim\n",
        "with torch.no_grad():\n",
        "    out = victim(fp_data.x, fp_data.edge_index).mean(dim=0)\n",
        "    score = torch.softmax(verifier(out.unsqueeze(0)), dim=1)[:,1].item()\n",
        "    scores.append(score)\n",
        "    labels.append(1)\n",
        "\n",
        "# Positives\n",
        "for m in positive_models:\n",
        "    with torch.no_grad():\n",
        "        out = m(fp_data.x, fp_data.edge_index).mean(dim=0)\n",
        "        score = torch.softmax(verifier(out.unsqueeze(0)), dim=1)[:,1].item()\n",
        "        scores.append(score)\n",
        "        labels.append(1)\n",
        "\n",
        "# Negatives\n",
        "for m in negative_models:\n",
        "    with torch.no_grad():\n",
        "        out = m(fp_data.x, fp_data.edge_index).mean(dim=0)\n",
        "        score = torch.softmax(verifier(out.unsqueeze(0)), dim=1)[:,1].item()\n",
        "        scores.append(score)\n",
        "        labels.append(0)\n",
        "\n",
        "scores = torch.tensor(scores)\n",
        "labels = torch.tensor(labels)\n"
      ],
      "metadata": {
        "id": "Fky0T8-MtHzb"
      },
      "execution_count": null,
      "outputs": []
    },
    {
      "cell_type": "code",
      "source": [
        "import numpy as np\n",
        "\n",
        "thresholds = np.linspace(0, 1, 100)\n",
        "tpr_list = []\n",
        "tnr_list = []\n",
        "\n",
        "for thresh in thresholds:\n",
        "    preds = (scores > thresh).int()\n",
        "    tp = ((preds == 1) & (labels == 1)).sum().item()\n",
        "    fn = ((preds == 0) & (labels == 1)).sum().item()\n",
        "    tn = ((preds == 0) & (labels == 0)).sum().item()\n",
        "    fp = ((preds == 1) & (labels == 0)).sum().item()\n",
        "\n",
        "    tpr = tp / (tp + fn + 1e-6)\n",
        "    tnr = tn / (tn + fp + 1e-6)\n",
        "\n",
        "    tpr_list.append(tpr)\n",
        "    tnr_list.append(tnr)\n"
      ],
      "metadata": {
        "id": "-yzGfhF4tWER"
      },
      "execution_count": null,
      "outputs": []
    },
    {
      "cell_type": "code",
      "source": [
        "import matplotlib.pyplot as plt\n",
        "from sklearn.metrics import auc\n",
        "\n",
        "plt.figure()\n",
        "plt.plot(tpr_list, tnr_list, label=\"ARUC Curve\")\n",
        "plt.xlabel(\"Robustness (TPR)\")\n",
        "plt.ylabel(\"Uniqueness (TNR)\")\n",
        "plt.title(\"ARUC Curve – Citeseer GCN\")\n",
        "plt.grid(True)\n",
        "plt.legend()\n",
        "plt.show()\n",
        "\n",
        "aruc_score = auc(tpr_list, tnr_list)\n",
        "print(f\" ARUC Score: {aruc_score:.4f}\")\n"
      ],
      "metadata": {
        "colab": {
          "base_uri": "https://localhost:8080/",
          "height": 489
        },
        "id": "Ti2mugW5tYXa",
        "outputId": "0958b884-1f1f-4403-c878-368ce05aa2b7"
      },
      "execution_count": null,
      "outputs": [
        {
          "output_type": "display_data",
          "data": {
            "text/plain": [
              "<Figure size 640x480 with 1 Axes>"
            ],
            "image/png": "[encoded data removed]"
          },
          "metadata": {}
        },
        {
          "output_type": "stream",
          "name": "stdout",
          "text": [
            " ARUC Score: 1.0000\n"
          ]
        }
      ]
    },
    {
      "cell_type": "code",
      "source": [
        "#Section-4.5\n",
        "def ablate_fp(fp_graph, mode='A+X'):\n",
        "    data = fp_graph.to_pyg_data()\n",
        "\n",
        "    if mode == 'A_only':\n",
        "        data.x = torch.randn_like(data.x)\n",
        "    elif mode == 'X_only':\n",
        "        data.edge_index = torch.empty((2, 0), dtype=torch.long)  # remove all edges\n",
        "\n",
        "    return data\n"
      ],
      "metadata": {
        "id": "nH6a5gretmhG"
      },
      "execution_count": null,
      "outputs": []
    },
    {
      "cell_type": "code",
      "source": [
        "def evaluate_ablation(fp_data):\n",
        "    scores = []\n",
        "    labels = []\n",
        "\n",
        "    with torch.no_grad():\n",
        "        out = victim(fp_data.x, fp_data.edge_index).mean(dim=0)\n",
        "        score = torch.softmax(verifier(out.unsqueeze(0)), dim=1)[:,1].item()\n",
        "        scores.append(score)\n",
        "        labels.append(1)\n",
        "\n",
        "        for m in positive_models:\n",
        "            out = m(fp_data.x, fp_data.edge_index).mean(dim=0)\n",
        "            score = torch.softmax(verifier(out.unsqueeze(0)), dim=1)[:,1].item()\n",
        "            scores.append(score)\n",
        "            labels.append(1)\n",
        "\n",
        "        for m in negative_models:\n",
        "            out = m(fp_data.x, fp_data.edge_index).mean(dim=0)\n",
        "            score = torch.softmax(verifier(out.unsqueeze(0)), dim=1)[:,1].item()\n",
        "            scores.append(score)\n",
        "            labels.append(0)\n",
        "\n",
        "    preds = [1 if s > 0.5 else 0 for s in scores]\n",
        "    labels = torch.tensor(labels)\n",
        "    preds = torch.tensor(preds)\n",
        "\n",
        "    acc = (preds == labels).float().mean().item()\n",
        "    from sklearn.metrics import roc_auc_score, confusion_matrix\n",
        "    auroc = roc_auc_score(labels, scores)\n",
        "    cm = confusion_matrix(labels, preds)\n",
        "\n",
        "    return acc, auroc, cm\n"
      ],
      "metadata": {
        "id": "rGJSBrJVtvVE"
      },
      "execution_count": null,
      "outputs": []
    },
    {
      "cell_type": "code",
      "source": [
        "for mode in ['A_only', 'X_only', 'A+X']:\n",
        "    print(f\"\\n Evaluating mode: {mode}\")\n",
        "    fp_data = ablate_fp(fp_graph, mode)\n",
        "    acc, auroc, cm = evaluate_ablation(fp_data)\n",
        "    print(f\"Accuracy: {acc:.4f}, AUROC: {auroc:.4f}\")\n",
        "    print(\"Confusion Matrix:\\n\", cm)\n"
      ],
      "metadata": {
        "colab": {
          "base_uri": "https://localhost:8080/"
        },
        "id": "xaojI0hDtw59",
        "outputId": "5056a42f-af29-4370-9847-5d1e821f34a3"
      },
      "execution_count": null,
      "outputs": [
        {
          "output_type": "stream",
          "name": "stdout",
          "text": [
            "\n",
            " Evaluating mode: A_only\n",
            "Accuracy: 0.9512, AUROC: 1.0000\n",
            "Confusion Matrix:\n",
            " [[18  2]\n",
            " [ 0 21]]\n",
            "\n",
            " Evaluating mode: X_only\n",
            "Accuracy: 1.0000, AUROC: 1.0000\n",
            "Confusion Matrix:\n",
            " [[20  0]\n",
            " [ 0 21]]\n",
            "\n",
            " Evaluating mode: A+X\n",
            "Accuracy: 1.0000, AUROC: 1.0000\n",
            "Confusion Matrix:\n",
            " [[20  0]\n",
            " [ 0 21]]\n"
          ]
        }
      ]
    },
    {
      "cell_type": "code",
      "source": [
        "from torch_geometric.nn import global_mean_pool\n",
        "\n",
        "def extract_logit_output(model, graph):\n",
        "    with torch.no_grad():\n",
        "        model.eval()\n",
        "        out = model(graph.x, graph.edge_index)\n",
        "        pooled = global_mean_pool(out, graph.batch)\n",
        "        return pooled.squeeze().cpu()\n"
      ],
      "metadata": {
        "id": "djCW9JlvuIRy"
      },
      "execution_count": null,
      "outputs": []
    },
    {
      "cell_type": "code",
      "source": [
        "X_tsne = []\n",
        "y_tsne = []\n",
        "\n",
        "# Victim\n",
        "X_tsne.append(extract_logit_output(victim, fp_graph.to_pyg_data()))\n",
        "y_tsne.append(1)\n",
        "\n",
        "# Positives\n",
        "for m in positive_models:\n",
        "    X_tsne.append(extract_logit_output(m, fp_graph.to_pyg_data()))\n",
        "    y_tsne.append(1)\n",
        "\n",
        "# Negatives\n",
        "for m in negative_models:\n",
        "    X_tsne.append(extract_logit_output(m, fp_graph.to_pyg_data()))\n",
        "    y_tsne.append(0)\n",
        "\n",
        "X_tsne = torch.stack(X_tsne).numpy()\n",
        "y_tsne = np.array(y_tsne)\n"
      ],
      "metadata": {
        "id": "TJjycKWJuKky"
      },
      "execution_count": null,
      "outputs": []
    },
    {
      "cell_type": "code",
      "source": [
        "from sklearn.manifold import TSNE\n",
        "\n",
        "tsne = TSNE(n_components=2, perplexity=5, random_state=42)\n",
        "X_embedded = tsne.fit_transform(X_tsne)\n"
      ],
      "metadata": {
        "id": "VneT0IrZuMSr"
      },
      "execution_count": null,
      "outputs": []
    },
    {
      "cell_type": "code",
      "source": [
        "import matplotlib.pyplot as plt\n",
        "\n",
        "plt.figure(figsize=(6, 5))\n",
        "plt.scatter(X_embedded[y_tsne==1][:,0], X_embedded[y_tsne==1][:,1], label='Positive', c='green')\n",
        "plt.scatter(X_embedded[y_tsne==0][:,0], X_embedded[y_tsne==0][:,1], label='Negative', c='red')\n",
        "plt.title(\"t-SNE of Fingerprint Model Outputs (Citeseer GCN)\")\n",
        "plt.legend()\n",
        "plt.grid(True)\n",
        "plt.show()\n"
      ],
      "metadata": {
        "colab": {
          "base_uri": "https://localhost:8080/",
          "height": 468
        },
        "id": "zH_g88VjuOmY",
        "outputId": "b0eb2b6f-dbec-4d4c-9ad5-7cf015c856eb"
      },
      "execution_count": null,
      "outputs": [
        {
          "output_type": "display_data",
          "data": {
            "text/plain": [
              "<Figure size 600x500 with 1 Axes>"
            ],
            "image/png": "[encoded data removed]"
          },
          "metadata": {}
        }
      ]
    },
    {
      "cell_type": "code",
      "source": [
        "import torch.nn.functional as F\n",
        "from torch_geometric.nn import SAGEConv\n",
        "\n",
        "class SAGEMean(torch.nn.Module):\n",
        "    def __init__(self, in_channels, hidden_channels, out_channels):\n",
        "        super(SAGEMean, self).__init__()\n",
        "        self.conv1 = SAGEConv(in_channels, hidden_channels)\n",
        "        self.conv2 = SAGEConv(hidden_channels, out_channels)\n",
        "        self.dropout = 0.5\n",
        "\n",
        "    def forward(self, x, edge_index):\n",
        "        x = F.relu(self.conv1(x, edge_index))\n",
        "        x = F.dropout(x, p=self.dropout, training=self.training)\n",
        "        x = self.conv2(x, edge_index)\n",
        "        return x\n"
      ],
      "metadata": {
        "id": "M6N91TupuXGw"
      },
      "execution_count": null,
      "outputs": []
    },
    {
      "cell_type": "code",
      "source": [
        "import torch\n",
        "from torch_geometric.datasets import Planetoid\n",
        "\n",
        "# Load Citeseer\n",
        "dataset = Planetoid(root='/tmp/Citeseer', name='Citeseer')\n",
        "data = dataset[0]\n",
        "\n",
        "# Initialize model\n",
        "sage_model = SAGEMean(dataset.num_node_features, 64, dataset.num_classes).to('cpu')\n",
        "optimizer = torch.optim.Adam(sage_model.parameters(), lr=0.01, weight_decay=5e-4)\n",
        "\n",
        "# Training loop\n",
        "sage_model.train()\n",
        "for epoch in range(201):\n",
        "    optimizer.zero_grad()\n",
        "    out = sage_model(data.x, data.edge_index)\n",
        "    loss = F.cross_entropy(out[data.train_mask], data.y[data.train_mask])\n",
        "    loss.backward()\n",
        "    optimizer.step()\n",
        "    if epoch % 50 == 0:\n",
        "        pred = out.argmax(dim=1)\n",
        "        acc = (pred[data.test_mask] == data.y[data.test_mask]).float().mean().item()\n",
        "        print(f\"Epoch {epoch:03d} | Loss: {loss:.4f} | Test Acc: {acc:.4f}\")\n",
        "\n",
        "# Save model\n",
        "torch.save(sage_model.state_dict(), '/content/drive/MyDrive/gnnfingers/models/victim_Citeseer_SAGEMean.pth')\n",
        "print(\" Saved GraphSAGE victim.\")\n"
      ],
      "metadata": {
        "colab": {
          "base_uri": "https://localhost:8080/"
        },
        "id": "7ZohogwjuaEZ",
        "outputId": "b351d599-875a-4cde-d557-06ada65c20ae"
      },
      "execution_count": null,
      "outputs": [
        {
          "output_type": "stream",
          "name": "stdout",
          "text": [
            "Epoch 000 | Loss: 1.8024 | Test Acc: 0.1450\n",
            "Epoch 050 | Loss: 0.0058 | Test Acc: 0.5980\n",
            "Epoch 100 | Loss: 0.0028 | Test Acc: 0.6740\n",
            "Epoch 150 | Loss: 0.0026 | Test Acc: 0.6710\n",
            "Epoch 200 | Loss: 0.0055 | Test Acc: 0.6600\n",
            "✅ Saved GraphSAGE victim.\n"
          ]
        }
      ]
    },
    {
      "cell_type": "code",
      "source": [
        "sage_victim = SAGEMean(dataset.num_node_features, 64, dataset.num_classes)\n",
        "sage_victim.load_state_dict(torch.load(\"/content/drive/MyDrive/gnnfingers/models/victim_Citeseer_SAGEMean.pth\"))\n",
        "sage_victim.eval()\n"
      ],
      "metadata": {
        "colab": {
          "base_uri": "https://localhost:8080/"
        },
        "id": "NYo1X14Nu23L",
        "outputId": "b22b3882-860b-4499-b989-1a8f3d26a3c0"
      },
      "execution_count": null,
      "outputs": [
        {
          "output_type": "execute_result",
          "data": {
            "text/plain": [
              "SAGEMean(\n",
              "  (conv1): SAGEConv(3703, 64, aggr=mean)\n",
              "  (conv2): SAGEConv(64, 6, aggr=mean)\n",
              ")"
            ]
          },
          "metadata": {},
          "execution_count": 49
        }
      ]
    },
    {
      "cell_type": "code",
      "source": [
        "def generate_variants(base_model_class, dataset, num_variants=20, mode='positive'):\n",
        "    variants = []\n",
        "    for i in range(num_variants):\n",
        "        model = base_model_class(dataset.num_node_features, 64, dataset.num_classes)\n",
        "        optimizer = torch.optim.Adam(model.parameters(), lr=0.01, weight_decay=5e-4)\n",
        "        data = dataset[0].clone()\n",
        "\n",
        "        if mode == 'negative':\n",
        "            y = data.y.clone()\n",
        "            perm = torch.randperm(y.size(0))\n",
        "            data.y = y[perm]\n",
        "\n",
        "        model.train()\n",
        "        for epoch in range(100):\n",
        "            optimizer.zero_grad()\n",
        "            out = model(data.x, data.edge_index)\n",
        "            loss = F.cross_entropy(out[data.train_mask], data.y[data.train_mask])\n",
        "            loss.backward()\n",
        "            optimizer.step()\n",
        "\n",
        "        model.eval()\n",
        "        variants.append(model)\n",
        "    return variants\n",
        "\n",
        "# Generate and cache\n",
        "sage_positive_models = generate_variants(SAGEMean, dataset, 20, 'positive')\n",
        "sage_negative_models = generate_variants(SAGEMean, dataset, 20, 'negative')\n"
      ],
      "metadata": {
        "id": "1iYLtwc2u54o"
      },
      "execution_count": null,
      "outputs": []
    },
    {
      "cell_type": "code",
      "source": [
        "X_cross = []\n",
        "y_cross = []\n",
        "\n",
        "# Convert fingerprint graph\n",
        "fp_data = fp_graph.to_pyg_data()\n",
        "\n",
        "# Victim (optional)\n",
        "# X_cross.append(extract_logit_output(sage_victim, fp_data))\n",
        "# y_cross.append(1)\n",
        "\n",
        "# Positive SAGE Variants\n",
        "for m in sage_positive_models:\n",
        "    X_cross.append(extract_logit_output(m, fp_data))\n",
        "    y_cross.append(1)\n",
        "\n",
        "# Negative SAGE Variants\n",
        "for m in sage_negative_models:\n",
        "    X_cross.append(extract_logit_output(m, fp_data))\n",
        "    y_cross.append(0)\n",
        "\n",
        "X_cross = torch.stack(X_cross)\n",
        "y_cross = torch.tensor(y_cross)\n"
      ],
      "metadata": {
        "id": "_qRa6VMV1f_P"
      },
      "execution_count": null,
      "outputs": []
    },
    {
      "cell_type": "code",
      "source": [
        "verifier.eval()\n",
        "with torch.no_grad():\n",
        "    logits = verifier(X_cross)\n",
        "    probs = torch.softmax(logits, dim=1)[:,1]\n",
        "    preds = (probs > 0.5).long()\n"
      ],
      "metadata": {
        "id": "gzQK5z931kbC"
      },
      "execution_count": null,
      "outputs": []
    },
    {
      "cell_type": "code",
      "source": [
        "from sklearn.metrics import accuracy_score, roc_auc_score, confusion_matrix\n",
        "\n",
        "acc = accuracy_score(y_cross, preds)\n",
        "auroc = roc_auc_score(y_cross, probs)\n",
        "cm = confusion_matrix(y_cross, preds)\n",
        "\n",
        "print(f\"Accuracy: {acc:.4f}\")\n",
        "print(f\"AUROC: {auroc:.4f}\")\n",
        "print(\"Confusion Matrix:\\n\", cm)\n"
      ],
      "metadata": {
        "colab": {
          "base_uri": "https://localhost:8080/"
        },
        "id": "iYZ-0gSs1mji",
        "outputId": "f5248155-1142-4d3d-db72-f9c429384bf1"
      },
      "execution_count": null,
      "outputs": [
        {
          "output_type": "stream",
          "name": "stdout",
          "text": [
            "Accuracy: 0.6250\n",
            "AUROC: 0.6350\n",
            "Confusion Matrix:\n",
            " [[ 9 11]\n",
            " [ 4 16]]\n"
          ]
        }
      ]
    },
    {
      "cell_type": "code",
      "source": [
        "import matplotlib.pyplot as plt\n",
        "from sklearn.metrics import roc_curve\n",
        "\n",
        "fpr, tpr, _ = roc_curve(y_cross, probs)\n",
        "\n",
        "plt.figure(figsize=(6, 4))\n",
        "plt.plot(fpr, tpr, label=f'AUROC = {auroc:.3f}')\n",
        "plt.plot([0, 1], [0, 1], linestyle='--', color='gray')\n",
        "plt.xlabel(\"False Positive Rate (1 - Uniqueness)\")\n",
        "plt.ylabel(\"True Positive Rate (Robustness)\")\n",
        "plt.title(\"ARUC Curve: GCN → SAGEMean (Citeseer)\")\n",
        "plt.legend()\n",
        "plt.grid(True)\n",
        "plt.show()\n"
      ],
      "metadata": {
        "colab": {
          "base_uri": "https://localhost:8080/",
          "height": 410
        },
        "id": "AE-_wfqf1tAd",
        "outputId": "23cef72c-584f-4e80-b64e-2b6b993b4084"
      },
      "execution_count": null,
      "outputs": [
        {
          "output_type": "display_data",
          "data": {
            "text/plain": [
              "<Figure size 600x400 with 1 Axes>"
            ],
            "image/png": "[encoded data removed]"
          },
          "metadata": {}
        }
      ]
    }
  ]
}