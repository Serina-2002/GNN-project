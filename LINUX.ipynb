{
  "nbformat": 4,
  "nbformat_minor": 0,
  "metadata": {
    "colab": {
      "provenance": [],
      "gpuType": "T4"
    },
    "kernelspec": {
      "name": "python3",
      "display_name": "Python 3"
    },
    "language_info": {
      "name": "python"
    },
    "accelerator": "GPU"
  },
  "cells": [
    {
      "cell_type": "code",
      "execution_count": null,
      "metadata": {
        "colab": {
          "base_uri": "https://localhost:8080/"
        },
        "id": "prqxmbwAnHVe",
        "outputId": "c284ed1a-97f6-4668-b130-5a86f078a9bc"
      },
      "outputs": [
        {
          "output_type": "stream",
          "name": "stdout",
          "text": [
            "Looking in indexes: https://download.pytorch.org/whl/cpu\n",
            "Requirement already satisfied: torch in /usr/local/lib/python3.11/dist-packages (2.0.1+cpu)\n",
            "Requirement already satisfied: torchvision in /usr/local/lib/python3.11/dist-packages (0.15.2+cpu)\n",
            "Requirement already satisfied: torchaudio in /usr/local/lib/python3.11/dist-packages (2.0.2+cpu)\n",
            "Requirement already satisfied: filelock in /usr/local/lib/python3.11/dist-packages (from torch) (3.18.0)\n",
            "Requirement already satisfied: typing-extensions in /usr/local/lib/python3.11/dist-packages (from torch) (4.14.0)\n",
            "Requirement already satisfied: sympy in /usr/local/lib/python3.11/dist-packages (from torch) (1.13.1)\n",
            "Requirement already satisfied: networkx in /usr/local/lib/python3.11/dist-packages (from torch) (3.5)\n",
            "Requirement already satisfied: jinja2 in /usr/local/lib/python3.11/dist-packages (from torch) (3.1.6)\n",
            "Requirement already satisfied: numpy in /usr/local/lib/python3.11/dist-packages (from torchvision) (2.0.2)\n",
            "Requirement already satisfied: requests in /usr/local/lib/python3.11/dist-packages (from torchvision) (2.32.3)\n",
            "Requirement already satisfied: pillow!=8.3.*,>=5.3.0 in /usr/local/lib/python3.11/dist-packages (from torchvision) (11.2.1)\n",
            "Requirement already satisfied: MarkupSafe>=2.0 in /usr/local/lib/python3.11/dist-packages (from jinja2->torch) (3.0.2)\n",
            "Requirement already satisfied: charset-normalizer<4,>=2 in /usr/local/lib/python3.11/dist-packages (from requests->torchvision) (3.4.2)\n",
            "Requirement already satisfied: idna<4,>=2.5 in /usr/local/lib/python3.11/dist-packages (from requests->torchvision) (3.10)\n",
            "Requirement already satisfied: urllib3<3,>=1.21.1 in /usr/local/lib/python3.11/dist-packages (from requests->torchvision) (2.4.0)\n",
            "Requirement already satisfied: certifi>=2017.4.17 in /usr/local/lib/python3.11/dist-packages (from requests->torchvision) (2025.4.26)\n",
            "Requirement already satisfied: mpmath<1.4,>=1.1.0 in /usr/local/lib/python3.11/dist-packages (from sympy->torch) (1.3.0)\n",
            "Requirement already satisfied: torch in /usr/local/lib/python3.11/dist-packages (2.0.1+cpu)\n",
            "Requirement already satisfied: torchvision in /usr/local/lib/python3.11/dist-packages (0.15.2+cpu)\n",
            "Requirement already satisfied: torchaudio in /usr/local/lib/python3.11/dist-packages (2.0.2+cpu)\n",
            "Requirement already satisfied: filelock in /usr/local/lib/python3.11/dist-packages (from torch) (3.18.0)\n",
            "Requirement already satisfied: typing-extensions in /usr/local/lib/python3.11/dist-packages (from torch) (4.14.0)\n",
            "Requirement already satisfied: sympy in /usr/local/lib/python3.11/dist-packages (from torch) (1.13.1)\n",
            "Requirement already satisfied: networkx in /usr/local/lib/python3.11/dist-packages (from torch) (3.5)\n",
            "Requirement already satisfied: jinja2 in /usr/local/lib/python3.11/dist-packages (from torch) (3.1.6)\n",
            "Requirement already satisfied: numpy in /usr/local/lib/python3.11/dist-packages (from torchvision) (2.0.2)\n",
            "Requirement already satisfied: requests in /usr/local/lib/python3.11/dist-packages (from torchvision) (2.32.3)\n",
            "Requirement already satisfied: pillow!=8.3.*,>=5.3.0 in /usr/local/lib/python3.11/dist-packages (from torchvision) (11.2.1)\n",
            "Requirement already satisfied: MarkupSafe>=2.0 in /usr/local/lib/python3.11/dist-packages (from jinja2->torch) (3.0.2)\n",
            "Requirement already satisfied: charset-normalizer<4,>=2 in /usr/local/lib/python3.11/dist-packages (from requests->torchvision) (3.4.2)\n",
            "Requirement already satisfied: idna<4,>=2.5 in /usr/local/lib/python3.11/dist-packages (from requests->torchvision) (3.10)\n",
            "Requirement already satisfied: urllib3<3,>=1.21.1 in /usr/local/lib/python3.11/dist-packages (from requests->torchvision) (2.4.0)\n",
            "Requirement already satisfied: certifi>=2017.4.17 in /usr/local/lib/python3.11/dist-packages (from requests->torchvision) (2025.4.26)\n",
            "Requirement already satisfied: mpmath<1.4,>=1.1.0 in /usr/local/lib/python3.11/dist-packages (from sympy->torch) (1.3.0)\n",
            "Looking in links: https://data.pyg.org/whl/torch-2.2.0+cpu.html\n",
            "Requirement already satisfied: torch-scatter in /usr/local/lib/python3.11/dist-packages (2.1.2+pt20cpu)\n",
            "Requirement already satisfied: torch-sparse in /usr/local/lib/python3.11/dist-packages (0.6.18+pt20cpu)\n",
            "Requirement already satisfied: torch-cluster in /usr/local/lib/python3.11/dist-packages (1.6.3+pt20cpu)\n",
            "Requirement already satisfied: torch-spline-conv in /usr/local/lib/python3.11/dist-packages (1.2.2+pt20cpu)\n",
            "Requirement already satisfied: scipy in /usr/local/lib/python3.11/dist-packages (from torch-sparse) (1.15.3)\n",
            "Requirement already satisfied: numpy<2.5,>=1.23.5 in /usr/local/lib/python3.11/dist-packages (from scipy->torch-sparse) (2.0.2)\n",
            "Requirement already satisfied: torch-geometric in /usr/local/lib/python3.11/dist-packages (2.6.1)\n",
            "Requirement already satisfied: aiohttp in /usr/local/lib/python3.11/dist-packages (from torch-geometric) (3.11.15)\n",
            "Requirement already satisfied: fsspec in /usr/local/lib/python3.11/dist-packages (from torch-geometric) (2025.3.2)\n",
            "Requirement already satisfied: jinja2 in /usr/local/lib/python3.11/dist-packages (from torch-geometric) (3.1.6)\n",
            "Requirement already satisfied: numpy in /usr/local/lib/python3.11/dist-packages (from torch-geometric) (2.0.2)\n",
            "Requirement already satisfied: psutil>=5.8.0 in /usr/local/lib/python3.11/dist-packages (from torch-geometric) (5.9.5)\n",
            "Requirement already satisfied: pyparsing in /usr/local/lib/python3.11/dist-packages (from torch-geometric) (3.2.3)\n",
            "Requirement already satisfied: requests in /usr/local/lib/python3.11/dist-packages (from torch-geometric) (2.32.3)\n",
            "Requirement already satisfied: tqdm in /usr/local/lib/python3.11/dist-packages (from torch-geometric) (4.67.1)\n",
            "Requirement already satisfied: aiohappyeyeballs>=2.3.0 in /usr/local/lib/python3.11/dist-packages (from aiohttp->torch-geometric) (2.6.1)\n",
            "Requirement already satisfied: aiosignal>=1.1.2 in /usr/local/lib/python3.11/dist-packages (from aiohttp->torch-geometric) (1.3.2)\n",
            "Requirement already satisfied: attrs>=17.3.0 in /usr/local/lib/python3.11/dist-packages (from aiohttp->torch-geometric) (25.3.0)\n",
            "Requirement already satisfied: frozenlist>=1.1.1 in /usr/local/lib/python3.11/dist-packages (from aiohttp->torch-geometric) (1.7.0)\n",
            "Requirement already satisfied: multidict<7.0,>=4.5 in /usr/local/lib/python3.11/dist-packages (from aiohttp->torch-geometric) (6.4.4)\n",
            "Requirement already satisfied: propcache>=0.2.0 in /usr/local/lib/python3.11/dist-packages (from aiohttp->torch-geometric) (0.3.2)\n",
            "Requirement already satisfied: yarl<2.0,>=1.17.0 in /usr/local/lib/python3.11/dist-packages (from aiohttp->torch-geometric) (1.20.1)\n",
            "Requirement already satisfied: MarkupSafe>=2.0 in /usr/local/lib/python3.11/dist-packages (from jinja2->torch-geometric) (3.0.2)\n",
            "Requirement already satisfied: charset-normalizer<4,>=2 in /usr/local/lib/python3.11/dist-packages (from requests->torch-geometric) (3.4.2)\n",
            "Requirement already satisfied: idna<4,>=2.5 in /usr/local/lib/python3.11/dist-packages (from requests->torch-geometric) (3.10)\n",
            "Requirement already satisfied: urllib3<3,>=1.21.1 in /usr/local/lib/python3.11/dist-packages (from requests->torch-geometric) (2.4.0)\n",
            "Requirement already satisfied: certifi>=2017.4.17 in /usr/local/lib/python3.11/dist-packages (from requests->torch-geometric) (2025.4.26)\n",
            "Requirement already satisfied: scikit-learn in /usr/local/lib/python3.11/dist-packages (1.6.1)\n",
            "Requirement already satisfied: matplotlib in /usr/local/lib/python3.11/dist-packages (3.10.0)\n",
            "Requirement already satisfied: networkx in /usr/local/lib/python3.11/dist-packages (3.5)\n",
            "Requirement already satisfied: numpy>=1.19.5 in /usr/local/lib/python3.11/dist-packages (from scikit-learn) (2.0.2)\n",
            "Requirement already satisfied: scipy>=1.6.0 in /usr/local/lib/python3.11/dist-packages (from scikit-learn) (1.15.3)\n",
            "Requirement already satisfied: joblib>=1.2.0 in /usr/local/lib/python3.11/dist-packages (from scikit-learn) (1.5.1)\n",
            "Requirement already satisfied: threadpoolctl>=3.1.0 in /usr/local/lib/python3.11/dist-packages (from scikit-learn) (3.6.0)\n",
            "Requirement already satisfied: contourpy>=1.0.1 in /usr/local/lib/python3.11/dist-packages (from matplotlib) (1.3.2)\n",
            "Requirement already satisfied: cycler>=0.10 in /usr/local/lib/python3.11/dist-packages (from matplotlib) (0.12.1)\n",
            "Requirement already satisfied: fonttools>=4.22.0 in /usr/local/lib/python3.11/dist-packages (from matplotlib) (4.58.2)\n",
            "Requirement already satisfied: kiwisolver>=1.3.1 in /usr/local/lib/python3.11/dist-packages (from matplotlib) (1.4.8)\n",
            "Requirement already satisfied: packaging>=20.0 in /usr/local/lib/python3.11/dist-packages (from matplotlib) (24.2)\n",
            "Requirement already satisfied: pillow>=8 in /usr/local/lib/python3.11/dist-packages (from matplotlib) (11.2.1)\n",
            "Requirement already satisfied: pyparsing>=2.3.1 in /usr/local/lib/python3.11/dist-packages (from matplotlib) (3.2.3)\n",
            "Requirement already satisfied: python-dateutil>=2.7 in /usr/local/lib/python3.11/dist-packages (from matplotlib) (2.9.0.post0)\n",
            "Requirement already satisfied: six>=1.5 in /usr/local/lib/python3.11/dist-packages (from python-dateutil>=2.7->matplotlib) (1.17.0)\n"
          ]
        }
      ],
      "source": [
        "# Install PyTorch for CPU\n",
        "!pip install torch torchvision torchaudio --index-url https://download.pytorch.org/whl/cpu\n",
        "# Install PyTorch for CUDA (if runtime is GPU)\n",
        "!pip install torch torchvision torchaudio\n",
        "# Install torch-geometric and its dependencies\n",
        "!pip install torch-scatter torch-sparse torch-cluster torch-spline-conv -f https://data.pyg.org/whl/torch-2.2.0+cpu.html\n",
        "!pip install torch-geometric\n",
        "# Additional utilities for visualization and data handling\n",
        "!pip install scikit-learn matplotlib networkx\n",
        "\n"
      ]
    },
    {
      "cell_type": "code",
      "source": [
        "# Remove existing potentially broken installs\n",
        "!pip uninstall -y torch-scatter torch-sparse torch-cluster torch-spline-conv torch-geometric\n",
        "\n",
        "# Reinstall with specific compatible versions (works with torch 2.0+ CPU on Colab)\n",
        "!pip install torch==2.0.1 torchvision torchaudio --index-url https://download.pytorch.org/whl/cpu\n",
        "!pip install torch-scatter torch-sparse torch-cluster torch-spline-conv -f https://data.pyg.org/whl/torch-2.0.0+cpu.html\n",
        "!pip install torch-geometric\n"
      ],
      "metadata": {
        "colab": {
          "base_uri": "https://localhost:8080/"
        },
        "id": "MCm5uZQwpNzM",
        "outputId": "c1fb2aad-eb6c-469f-a15c-2fddb71675c7"
      },
      "execution_count": null,
      "outputs": [
        {
          "output_type": "stream",
          "name": "stdout",
          "text": [
            "Found existing installation: torch-scatter 2.1.2+pt20cpu\n",
            "Uninstalling torch-scatter-2.1.2+pt20cpu:\n",
            "  Successfully uninstalled torch-scatter-2.1.2+pt20cpu\n",
            "Found existing installation: torch-sparse 0.6.18+pt20cpu\n",
            "Uninstalling torch-sparse-0.6.18+pt20cpu:\n",
            "  Successfully uninstalled torch-sparse-0.6.18+pt20cpu\n",
            "Found existing installation: torch-cluster 1.6.3+pt20cpu\n",
            "Uninstalling torch-cluster-1.6.3+pt20cpu:\n",
            "  Successfully uninstalled torch-cluster-1.6.3+pt20cpu\n",
            "Found existing installation: torch-spline-conv 1.2.2+pt20cpu\n",
            "Uninstalling torch-spline-conv-1.2.2+pt20cpu:\n",
            "  Successfully uninstalled torch-spline-conv-1.2.2+pt20cpu\n",
            "Found existing installation: torch-geometric 2.6.1\n",
            "Uninstalling torch-geometric-2.6.1:\n",
            "  Successfully uninstalled torch-geometric-2.6.1\n",
            "Looking in indexes: https://download.pytorch.org/whl/cpu\n",
            "Requirement already satisfied: torch==2.0.1 in /usr/local/lib/python3.11/dist-packages (2.0.1+cpu)\n",
            "Requirement already satisfied: torchvision in /usr/local/lib/python3.11/dist-packages (0.15.2+cpu)\n",
            "Requirement already satisfied: torchaudio in /usr/local/lib/python3.11/dist-packages (2.0.2+cpu)\n",
            "Requirement already satisfied: filelock in /usr/local/lib/python3.11/dist-packages (from torch==2.0.1) (3.18.0)\n",
            "Requirement already satisfied: typing-extensions in /usr/local/lib/python3.11/dist-packages (from torch==2.0.1) (4.14.0)\n",
            "Requirement already satisfied: sympy in /usr/local/lib/python3.11/dist-packages (from torch==2.0.1) (1.13.1)\n",
            "Requirement already satisfied: networkx in /usr/local/lib/python3.11/dist-packages (from torch==2.0.1) (3.5)\n",
            "Requirement already satisfied: jinja2 in /usr/local/lib/python3.11/dist-packages (from torch==2.0.1) (3.1.6)\n",
            "Requirement already satisfied: numpy in /usr/local/lib/python3.11/dist-packages (from torchvision) (2.0.2)\n",
            "Requirement already satisfied: requests in /usr/local/lib/python3.11/dist-packages (from torchvision) (2.32.3)\n",
            "Requirement already satisfied: pillow!=8.3.*,>=5.3.0 in /usr/local/lib/python3.11/dist-packages (from torchvision) (11.2.1)\n",
            "Requirement already satisfied: MarkupSafe>=2.0 in /usr/local/lib/python3.11/dist-packages (from jinja2->torch==2.0.1) (3.0.2)\n",
            "Requirement already satisfied: charset-normalizer<4,>=2 in /usr/local/lib/python3.11/dist-packages (from requests->torchvision) (3.4.2)\n",
            "Requirement already satisfied: idna<4,>=2.5 in /usr/local/lib/python3.11/dist-packages (from requests->torchvision) (3.10)\n",
            "Requirement already satisfied: urllib3<3,>=1.21.1 in /usr/local/lib/python3.11/dist-packages (from requests->torchvision) (2.4.0)\n",
            "Requirement already satisfied: certifi>=2017.4.17 in /usr/local/lib/python3.11/dist-packages (from requests->torchvision) (2025.4.26)\n",
            "Requirement already satisfied: mpmath<1.4,>=1.1.0 in /usr/local/lib/python3.11/dist-packages (from sympy->torch==2.0.1) (1.3.0)\n",
            "Looking in links: https://data.pyg.org/whl/torch-2.0.0+cpu.html\n",
            "Collecting torch-scatter\n",
            "  Using cached https://data.pyg.org/whl/torch-2.0.0%2Bcpu/torch_scatter-2.1.2%2Bpt20cpu-cp311-cp311-linux_x86_64.whl (494 kB)\n",
            "Collecting torch-sparse\n",
            "  Using cached https://data.pyg.org/whl/torch-2.0.0%2Bcpu/torch_sparse-0.6.18%2Bpt20cpu-cp311-cp311-linux_x86_64.whl (1.2 MB)\n",
            "Collecting torch-cluster\n",
            "  Using cached https://data.pyg.org/whl/torch-2.0.0%2Bcpu/torch_cluster-1.6.3%2Bpt20cpu-cp311-cp311-linux_x86_64.whl (750 kB)\n",
            "Collecting torch-spline-conv\n",
            "  Using cached https://data.pyg.org/whl/torch-2.0.0%2Bcpu/torch_spline_conv-1.2.2%2Bpt20cpu-cp311-cp311-linux_x86_64.whl (208 kB)\n",
            "Requirement already satisfied: scipy in /usr/local/lib/python3.11/dist-packages (from torch-sparse) (1.15.3)\n",
            "Requirement already satisfied: numpy<2.5,>=1.23.5 in /usr/local/lib/python3.11/dist-packages (from scipy->torch-sparse) (2.0.2)\n",
            "Installing collected packages: torch-spline-conv, torch-scatter, torch-sparse, torch-cluster\n",
            "Successfully installed torch-cluster-1.6.3+pt20cpu torch-scatter-2.1.2+pt20cpu torch-sparse-0.6.18+pt20cpu torch-spline-conv-1.2.2+pt20cpu\n",
            "Collecting torch-geometric\n",
            "  Using cached torch_geometric-2.6.1-py3-none-any.whl.metadata (63 kB)\n",
            "Requirement already satisfied: aiohttp in /usr/local/lib/python3.11/dist-packages (from torch-geometric) (3.11.15)\n",
            "Requirement already satisfied: fsspec in /usr/local/lib/python3.11/dist-packages (from torch-geometric) (2025.3.2)\n",
            "Requirement already satisfied: jinja2 in /usr/local/lib/python3.11/dist-packages (from torch-geometric) (3.1.6)\n",
            "Requirement already satisfied: numpy in /usr/local/lib/python3.11/dist-packages (from torch-geometric) (2.0.2)\n",
            "Requirement already satisfied: psutil>=5.8.0 in /usr/local/lib/python3.11/dist-packages (from torch-geometric) (5.9.5)\n",
            "Requirement already satisfied: pyparsing in /usr/local/lib/python3.11/dist-packages (from torch-geometric) (3.2.3)\n",
            "Requirement already satisfied: requests in /usr/local/lib/python3.11/dist-packages (from torch-geometric) (2.32.3)\n",
            "Requirement already satisfied: tqdm in /usr/local/lib/python3.11/dist-packages (from torch-geometric) (4.67.1)\n",
            "Requirement already satisfied: aiohappyeyeballs>=2.3.0 in /usr/local/lib/python3.11/dist-packages (from aiohttp->torch-geometric) (2.6.1)\n",
            "Requirement already satisfied: aiosignal>=1.1.2 in /usr/local/lib/python3.11/dist-packages (from aiohttp->torch-geometric) (1.3.2)\n",
            "Requirement already satisfied: attrs>=17.3.0 in /usr/local/lib/python3.11/dist-packages (from aiohttp->torch-geometric) (25.3.0)\n",
            "Requirement already satisfied: frozenlist>=1.1.1 in /usr/local/lib/python3.11/dist-packages (from aiohttp->torch-geometric) (1.7.0)\n",
            "Requirement already satisfied: multidict<7.0,>=4.5 in /usr/local/lib/python3.11/dist-packages (from aiohttp->torch-geometric) (6.4.4)\n",
            "Requirement already satisfied: propcache>=0.2.0 in /usr/local/lib/python3.11/dist-packages (from aiohttp->torch-geometric) (0.3.2)\n",
            "Requirement already satisfied: yarl<2.0,>=1.17.0 in /usr/local/lib/python3.11/dist-packages (from aiohttp->torch-geometric) (1.20.1)\n",
            "Requirement already satisfied: MarkupSafe>=2.0 in /usr/local/lib/python3.11/dist-packages (from jinja2->torch-geometric) (3.0.2)\n",
            "Requirement already satisfied: charset-normalizer<4,>=2 in /usr/local/lib/python3.11/dist-packages (from requests->torch-geometric) (3.4.2)\n",
            "Requirement already satisfied: idna<4,>=2.5 in /usr/local/lib/python3.11/dist-packages (from requests->torch-geometric) (3.10)\n",
            "Requirement already satisfied: urllib3<3,>=1.21.1 in /usr/local/lib/python3.11/dist-packages (from requests->torch-geometric) (2.4.0)\n",
            "Requirement already satisfied: certifi>=2017.4.17 in /usr/local/lib/python3.11/dist-packages (from requests->torch-geometric) (2025.4.26)\n",
            "Using cached torch_geometric-2.6.1-py3-none-any.whl (1.1 MB)\n",
            "Installing collected packages: torch-geometric\n",
            "Successfully installed torch-geometric-2.6.1\n"
          ]
        }
      ]
    },
    {
      "cell_type": "code",
      "source": [
        "from google.colab import drive\n",
        "drive.mount('/content/drive')\n"
      ],
      "metadata": {
        "colab": {
          "base_uri": "https://localhost:8080/"
        },
        "id": "qfZhE-sfoLod",
        "outputId": "54939150-abcf-4b48-f4be-8bd0c469c75a"
      },
      "execution_count": null,
      "outputs": [
        {
          "output_type": "stream",
          "name": "stdout",
          "text": [
            "Drive already mounted at /content/drive; to attempt to forcibly remount, call drive.mount(\"/content/drive\", force_remount=True).\n"
          ]
        }
      ]
    },
    {
      "cell_type": "code",
      "source": [
        "!mkdir -p /content/drive/MyDrive/gnnfingers_data/LINUX/raw\n"
      ],
      "metadata": {
        "id": "a-3JOtDDsbfH"
      },
      "execution_count": null,
      "outputs": []
    },
    {
      "cell_type": "code",
      "source": [
        "from google.colab import drive\n",
        "drive.mount('/content/drive')\n",
        "\n"
      ],
      "metadata": {
        "colab": {
          "base_uri": "https://localhost:8080/"
        },
        "id": "UNLI76DNtyPn",
        "outputId": "ca31d29c-7003-49a5-912a-173f30e21e96"
      },
      "execution_count": null,
      "outputs": [
        {
          "output_type": "stream",
          "name": "stdout",
          "text": [
            "Drive already mounted at /content/drive; to attempt to forcibly remount, call drive.mount(\"/content/drive\", force_remount=True).\n"
          ]
        }
      ]
    },
    {
      "cell_type": "code",
      "source": [
        "import os\n",
        "\n",
        "print(\"📂 Files found:\")\n",
        "print(os.listdir('/content/drive/MyDrive/gnnfingers_data/LINUX/raw'))\n"
      ],
      "metadata": {
        "colab": {
          "base_uri": "https://localhost:8080/"
        },
        "id": "D_wTyjFRw_eR",
        "outputId": "06f1350c-b728-45bd-9900-69e8ef73cc4b"
      },
      "execution_count": null,
      "outputs": [
        {
          "output_type": "stream",
          "name": "stdout",
          "text": [
            "📂 Files found:\n",
            "['fgraph_C.txt', 'fgraph_F_D.txt', 'fgraph_G.txt', 'fgraph_I_all.txt', 'fgraph_C_all.txt', 'fgraph_F_D_all.txt', 'fgraph_G_all.txt', 'cgraph_all.txt']\n"
          ]
        }
      ]
    },
    {
      "cell_type": "code",
      "source": [
        "file_path = '/content/drive/MyDrive/gnnfingers_data/LINUX/raw/fgraph_G.txt'\n",
        "\n",
        "with open(file_path, 'r') as f:\n",
        "    lines = f.readlines()\n",
        "\n",
        "# Print the first 15 lines to inspect structure\n",
        "print(\"🔍 Preview of fgraph_G.txt:\")\n",
        "for line in lines[:15]:\n",
        "    print(line.strip())\n"
      ],
      "metadata": {
        "colab": {
          "base_uri": "https://localhost:8080/"
        },
        "id": "5JxiJ4Oy2evP",
        "outputId": "02ab2f69-99aa-4f75-845d-9b5cc330c7c7"
      },
      "execution_count": null,
      "outputs": [
        {
          "output_type": "stream",
          "name": "stdout",
          "text": [
            "🔍 Preview of fgraph_G.txt:\n",
            "ident_map.c kaslr.c\n",
            "boot.h main.c\n",
            "early_serial_console.c tty.c\n",
            "cmdline.c misc.c\n",
            "kaslr.c misc.c\n",
            "kaslr.c ctype.c\n",
            "kaslr_64.c pgtable_64.c\n",
            "misc.c early_serial_console.c\n",
            "pgtable_64.c kaslr_64.c\n",
            "cpucheck.c cpuflags.c\n",
            "edd.c main.c\n",
            "main.c cpuflags.c\n",
            "memory.c main.c\n",
            "mkcpustr.c capflags.c\n",
            "pm.c main.c\n"
          ]
        }
      ]
    },
    {
      "cell_type": "code",
      "source": [
        "from torch_geometric.data import Data\n",
        "import torch\n",
        "\n",
        "file_path = '/content/drive/MyDrive/gnnfingers_data/LINUX/raw/fgraph_G.txt'\n",
        "\n",
        "# Read edges\n",
        "edges = []\n",
        "nodes = set()\n",
        "with open(file_path, 'r') as f:\n",
        "    for line in f:\n",
        "        src, dst = line.strip().split()\n",
        "        edges.append((src, dst))\n",
        "        nodes.update([src, dst])\n",
        "\n",
        "# Map file names to node indices\n",
        "node_list = sorted(list(nodes))\n",
        "node_idx = {name: i for i, name in enumerate(node_list)}\n",
        "\n",
        "# Convert to edge index\n",
        "edge_index = torch.tensor(\n",
        "    [[node_idx[src], node_idx[dst]] for src, dst in edges],\n",
        "    dtype=torch.long\n",
        ").t().contiguous()\n",
        "\n",
        "# Simple features: identity matrix (one-hot encoding)\n",
        "x = torch.eye(len(node_list), dtype=torch.float)\n",
        "\n",
        "# Dummy label (optional)\n",
        "y = torch.tensor([0])  # placeholder label\n",
        "\n",
        "# Create PyG graph\n",
        "data = Data(x=x, edge_index=edge_index, y=y)\n",
        "\n",
        "print(\"✅ Graph created\")\n",
        "print(f\"Nodes: {data.num_nodes}, Edges: {data.num_edges}\")\n"
      ],
      "metadata": {
        "colab": {
          "base_uri": "https://localhost:8080/"
        },
        "id": "rEPruYhr2pzJ",
        "outputId": "d6839252-c455-47cb-9a5a-f0942fa46a51"
      },
      "execution_count": null,
      "outputs": [
        {
          "output_type": "stream",
          "name": "stderr",
          "text": [
            "Disabling PyTorch because PyTorch >= 2.1 is required but found 2.0.1+cpu\n",
            "\n",
            "A module that was compiled using NumPy 1.x cannot be run in\n",
            "NumPy 2.0.2 as it may crash. To support both 1.x and 2.x\n",
            "versions of NumPy, modules must be compiled with NumPy 2.0.\n",
            "Some module may need to rebuild instead e.g. with 'pybind11>=2.12'.\n",
            "\n",
            "If you are a user of the module, the easiest solution will be to\n",
            "downgrade to 'numpy<2' or try to upgrade the affected module.\n",
            "We expect that some modules will need time to support NumPy 2.\n",
            "\n",
            "Traceback (most recent call last):  File \"<frozen runpy>\", line 198, in _run_module_as_main\n",
            "  File \"<frozen runpy>\", line 88, in _run_code\n",
            "  File \"/usr/local/lib/python3.11/dist-packages/colab_kernel_launcher.py\", line 37, in <module>\n",
            "    ColabKernelApp.launch_instance()\n",
            "  File \"/usr/local/lib/python3.11/dist-packages/traitlets/config/application.py\", line 992, in launch_instance\n",
            "    app.start()\n",
            "  File \"/usr/local/lib/python3.11/dist-packages/ipykernel/kernelapp.py\", line 712, in start\n",
            "    self.io_loop.start()\n",
            "  File \"/usr/local/lib/python3.11/dist-packages/tornado/platform/asyncio.py\", line 205, in start\n",
            "    self.asyncio_loop.run_forever()\n",
            "  File \"/usr/lib/python3.11/asyncio/base_events.py\", line 608, in run_forever\n",
            "    self._run_once()\n",
            "  File \"/usr/lib/python3.11/asyncio/base_events.py\", line 1936, in _run_once\n",
            "    handle._run()\n",
            "  File \"/usr/lib/python3.11/asyncio/events.py\", line 84, in _run\n",
            "    self._context.run(self._callback, *self._args)\n",
            "  File \"/usr/local/lib/python3.11/dist-packages/ipykernel/kernelbase.py\", line 510, in dispatch_queue\n",
            "    await self.process_one()\n",
            "  File \"/usr/local/lib/python3.11/dist-packages/ipykernel/kernelbase.py\", line 499, in process_one\n",
            "    await dispatch(*args)\n",
            "  File \"/usr/local/lib/python3.11/dist-packages/ipykernel/kernelbase.py\", line 406, in dispatch_shell\n",
            "    await result\n",
            "  File \"/usr/local/lib/python3.11/dist-packages/ipykernel/kernelbase.py\", line 730, in execute_request\n",
            "    reply_content = await reply_content\n",
            "  File \"/usr/local/lib/python3.11/dist-packages/ipykernel/ipkernel.py\", line 383, in do_execute\n",
            "    res = shell.run_cell(\n",
            "  File \"/usr/local/lib/python3.11/dist-packages/ipykernel/zmqshell.py\", line 528, in run_cell\n",
            "    return super().run_cell(*args, **kwargs)\n",
            "  File \"/usr/local/lib/python3.11/dist-packages/IPython/core/interactiveshell.py\", line 2975, in run_cell\n",
            "    result = self._run_cell(\n",
            "  File \"/usr/local/lib/python3.11/dist-packages/IPython/core/interactiveshell.py\", line 3030, in _run_cell\n",
            "    return runner(coro)\n",
            "  File \"/usr/local/lib/python3.11/dist-packages/IPython/core/async_helpers.py\", line 78, in _pseudo_sync_runner\n",
            "    coro.send(None)\n",
            "  File \"/usr/local/lib/python3.11/dist-packages/IPython/core/interactiveshell.py\", line 3257, in run_cell_async\n",
            "    has_raised = await self.run_ast_nodes(code_ast.body, cell_name,\n",
            "  File \"/usr/local/lib/python3.11/dist-packages/IPython/core/interactiveshell.py\", line 3473, in run_ast_nodes\n",
            "    if (await self.run_code(code, result,  async_=asy)):\n",
            "  File \"/usr/local/lib/python3.11/dist-packages/IPython/core/interactiveshell.py\", line 3553, in run_code\n",
            "    exec(code_obj, self.user_global_ns, self.user_ns)\n",
            "  File \"<ipython-input-6-1669039146>\", line 1, in <cell line: 0>\n",
            "    from torch_geometric.data import Data\n",
            "  File \"/usr/local/lib/python3.11/dist-packages/torch_geometric/__init__.py\", line 21, in <module>\n",
            "    import torch_geometric.datasets\n",
            "  File \"/usr/local/lib/python3.11/dist-packages/torch_geometric/datasets/__init__.py\", line 18, in <module>\n",
            "    from .qm9 import QM9\n",
            "  File \"/usr/local/lib/python3.11/dist-packages/torch_geometric/datasets/qm9.py\", line 22, in <module>\n",
            "    conversion = torch.tensor([\n",
            "/usr/local/lib/python3.11/dist-packages/torch_geometric/datasets/qm9.py:22: UserWarning: Failed to initialize NumPy: _ARRAY_API not found (Triggered internally at ../torch/csrc/utils/tensor_numpy.cpp:84.)\n",
            "  conversion = torch.tensor([\n"
          ]
        },
        {
          "output_type": "stream",
          "name": "stdout",
          "text": [
            "✅ Graph created\n",
            "Nodes: 5275, Edges: 14993262\n"
          ]
        }
      ]
    },
    {
      "cell_type": "code",
      "source": [
        "from torch_geometric.data import InMemoryDataset\n",
        "\n",
        "class LinuxSingleGraphDataset(InMemoryDataset):\n",
        "    def __init__(self, transform=None):\n",
        "        super().__init__('.', transform)\n",
        "        self.data, self.slices = self.collate([data])\n",
        "\n",
        "    def get(self, idx):\n",
        "        return self.data\n",
        "\n",
        "dataset = LinuxSingleGraphDataset()\n",
        "print(f\"✅ Dataset ready: {len(dataset)} graph(s)\")\n"
      ],
      "metadata": {
        "colab": {
          "base_uri": "https://localhost:8080/"
        },
        "id": "_C1iJmBv2soI",
        "outputId": "843e4663-a194-4675-d357-6fcc12e848ae"
      },
      "execution_count": null,
      "outputs": [
        {
          "output_type": "stream",
          "name": "stdout",
          "text": [
            "✅ Dataset ready: 1 graph(s)\n"
          ]
        }
      ]
    },
    {
      "cell_type": "code",
      "source": [
        "import torch.nn as nn\n",
        "import torch.nn.functional as F\n",
        "from torch_geometric.nn import GCNConv, global_mean_pool\n",
        "\n",
        "class GCNMean(nn.Module):\n",
        "    def __init__(self, in_channels, hidden_channels, out_channels):\n",
        "        super().__init__()\n",
        "        self.conv1 = GCNConv(in_channels, hidden_channels)\n",
        "        self.conv2 = GCNConv(hidden_channels, hidden_channels)\n",
        "        self.lin = nn.Linear(hidden_channels, out_channels)\n",
        "\n",
        "    def forward(self, x, edge_index, batch):\n",
        "        x = F.relu(self.conv1(x, edge_index))\n",
        "        x = F.dropout(x, p=0.5, training=self.training)\n",
        "        x = F.relu(self.conv2(x, edge_index))\n",
        "        x = global_mean_pool(x, batch)\n",
        "        return self.lin(x)\n"
      ],
      "metadata": {
        "id": "JCMxdQtD3BPe"
      },
      "execution_count": null,
      "outputs": []
    },
    {
      "cell_type": "code",
      "source": [
        "device = torch.device('cuda' if torch.cuda.is_available() else 'cpu')\n",
        "\n",
        "# Load the single graph from the dataset\n",
        "graph = dataset[0].to(device)\n",
        "\n",
        "# Simulate batch (all nodes belong to one graph)\n",
        "graph.batch = torch.zeros(graph.num_nodes, dtype=torch.long).to(device)\n",
        "\n",
        "# Create model\n",
        "model = GCNMean(in_channels=graph.num_node_features, hidden_channels=64, out_channels=2).to(device)\n",
        "\n",
        "optimizer = torch.optim.Adam(model.parameters(), lr=0.01, weight_decay=5e-4)\n"
      ],
      "metadata": {
        "colab": {
          "base_uri": "https://localhost:8080/"
        },
        "id": "Zpi_VD3T3GdX",
        "outputId": "f2311ad4-602c-440c-d8ad-e5d8b06f3fd0"
      },
      "execution_count": null,
      "outputs": [
        {
          "output_type": "stream",
          "name": "stderr",
          "text": [
            "/usr/local/lib/python3.11/dist-packages/torch_geometric/data/in_memory_dataset.py:300: UserWarning: It is not recommended to directly access the internal storage format `data` of an 'InMemoryDataset'. If you are absolutely certain what you are doing, access the internal storage via `InMemoryDataset._data` instead to suppress this warning. Alternatively, you can access stacked individual attributes of every graph via `dataset.{attr_name}`.\n",
            "  warnings.warn(msg)\n"
          ]
        }
      ]
    },
    {
      "cell_type": "code",
      "source": [
        "def train():\n",
        "    model.train()\n",
        "    optimizer.zero_grad()\n",
        "    out = model(graph.x, graph.edge_index, graph.batch)\n",
        "    loss = F.cross_entropy(out, torch.tensor([0, 1], dtype=torch.long).to(device))  # Dummy labels\n",
        "    loss.backward()\n",
        "    optimizer.step()\n",
        "    return loss.item()\n"
      ],
      "metadata": {
        "id": "9TPKv5xa3IxO"
      },
      "execution_count": null,
      "outputs": []
    },
    {
      "cell_type": "code",
      "source": [
        "import torch\n",
        "num_nodes = len(node_list)\n",
        "\n",
        "# Use small dense random features instead of 5275-dim identity matrix\n",
        "x = torch.randn(num_nodes, 32)  # e.g., 32 features per node\n"
      ],
      "metadata": {
        "id": "w2OWm0CP6f3b"
      },
      "execution_count": null,
      "outputs": []
    },
    {
      "cell_type": "code",
      "source": [
        "import random\n",
        "\n",
        "# Sample only 100k edges to reduce load (instead of 14M)\n",
        "sampled_edges = random.sample(edges, 100000)\n",
        "\n",
        "# Convert to edge_index\n",
        "edge_index = torch.tensor(\n",
        "    [[node_idx[src], node_idx[dst]] for src, dst in sampled_edges],\n",
        "    dtype=torch.long\n",
        ").t().contiguous()\n"
      ],
      "metadata": {
        "id": "2FVpw5wh6iTR"
      },
      "execution_count": null,
      "outputs": []
    },
    {
      "cell_type": "code",
      "source": [
        "device = torch.device('cpu')\n"
      ],
      "metadata": {
        "id": "9tY7CZxY6mE6"
      },
      "execution_count": null,
      "outputs": []
    },
    {
      "cell_type": "code",
      "source": [
        "# Step 1: Load edges\n",
        "edges = []\n",
        "nodes = set()\n",
        "with open('/content/drive/MyDrive/gnnfingers_data/LINUX/raw/fgraph_G.txt', 'r') as f:\n",
        "    for line in f:\n",
        "        src, dst = line.strip().split()\n",
        "        edges.append((src, dst))\n",
        "        nodes.update([src, dst])\n",
        "\n",
        "# Step 2: Build smaller graph with random features\n",
        "node_list = sorted(list(nodes))\n",
        "node_idx = {name: i for i, name in enumerate(node_list)}\n",
        "num_nodes = len(node_list)\n",
        "\n",
        "# Sample 100K edges to avoid crash\n",
        "import random\n",
        "sampled_edges = random.sample(edges, min(100000, len(edges)))\n",
        "\n",
        "edge_index = torch.tensor(\n",
        "    [[node_idx[src], node_idx[dst]] for src, dst in sampled_edges],\n",
        "    dtype=torch.long\n",
        ").t().contiguous()\n",
        "\n",
        "x = torch.randn(num_nodes, 32)\n",
        "y = torch.tensor([0])\n",
        "\n",
        "from torch_geometric.data import Data\n",
        "data = Data(x=x, edge_index=edge_index, y=y)\n",
        "\n",
        "print(f\"✅ Nodes: {data.num_nodes}, Edges: {data.num_edges}, Features: {data.num_node_features}\")\n",
        "\n"
      ],
      "metadata": {
        "colab": {
          "base_uri": "https://localhost:8080/"
        },
        "id": "02dDpH7F3Lam",
        "outputId": "83718804-f098-4840-b5e5-2c341909cfff"
      },
      "execution_count": null,
      "outputs": [
        {
          "output_type": "stream",
          "name": "stdout",
          "text": [
            "✅ Nodes: 5275, Edges: 100000, Features: 32\n"
          ]
        }
      ]
    },
    {
      "cell_type": "code",
      "source": [
        "import torch.nn as nn\n",
        "import torch.nn.functional as F\n",
        "from torch_geometric.nn import GCNConv, global_mean_pool\n",
        "\n",
        "class GCNMean(nn.Module):\n",
        "    def __init__(self, in_channels, hidden_channels, out_channels):\n",
        "        super().__init__()\n",
        "        self.conv1 = GCNConv(in_channels, hidden_channels)\n",
        "        self.conv2 = GCNConv(hidden_channels, hidden_channels)\n",
        "        self.lin = nn.Linear(hidden_channels, out_channels)\n",
        "\n",
        "    def forward(self, x, edge_index, batch):\n",
        "        x = F.relu(self.conv1(x, edge_index))\n",
        "        x = F.dropout(x, p=0.5, training=self.training)\n",
        "        x = F.relu(self.conv2(x, edge_index))\n",
        "        x = global_mean_pool(x, batch)\n",
        "        return self.lin(x)\n"
      ],
      "metadata": {
        "id": "n0q6ftlk7MXj"
      },
      "execution_count": null,
      "outputs": []
    },
    {
      "cell_type": "code",
      "source": [
        "device = torch.device('cuda' if torch.cuda.is_available() else 'cpu')\n",
        "\n",
        "data = data.to(device)\n",
        "data.batch = torch.zeros(data.num_nodes, dtype=torch.long).to(device)\n",
        "\n",
        "model = GCNMean(in_channels=32, hidden_channels=64, out_channels=2).to(device)\n",
        "optimizer = torch.optim.Adam(model.parameters(), lr=0.01, weight_decay=5e-4)\n"
      ],
      "metadata": {
        "id": "rQl-CHG47OHa"
      },
      "execution_count": null,
      "outputs": []
    },
    {
      "cell_type": "code",
      "source": [
        "def train():\n",
        "    model.train()\n",
        "    optimizer.zero_grad()\n",
        "    out = model(data.x, data.edge_index, data.batch)\n",
        "    loss = F.cross_entropy(out, torch.tensor([0], dtype=torch.long).to(device))\n",
        "\n",
        "    loss.backward()\n",
        "    optimizer.step()\n",
        "    return loss.item()\n",
        "\n",
        "for epoch in range(1, 101):\n",
        "    loss = train()\n",
        "    if epoch % 10 == 0 or epoch == 1:\n",
        "        print(f\"Epoch {epoch:03d}, Loss: {loss:.4f}\")\n"
      ],
      "metadata": {
        "colab": {
          "base_uri": "https://localhost:8080/"
        },
        "id": "kvuZRltM7PGq",
        "outputId": "776fdfe0-2e11-4e34-b2f6-07bbab046623"
      },
      "execution_count": null,
      "outputs": [
        {
          "output_type": "stream",
          "name": "stdout",
          "text": [
            "Epoch 001, Loss: 0.7187\n",
            "Epoch 010, Loss: 0.0000\n",
            "Epoch 020, Loss: 0.0000\n",
            "Epoch 030, Loss: 0.0000\n",
            "Epoch 040, Loss: 0.0000\n",
            "Epoch 050, Loss: 0.0000\n",
            "Epoch 060, Loss: 0.0000\n",
            "Epoch 070, Loss: 0.0000\n",
            "Epoch 080, Loss: 0.0000\n",
            "Epoch 090, Loss: 0.0000\n",
            "Epoch 100, Loss: 0.0000\n"
          ]
        }
      ]
    },
    {
      "cell_type": "code",
      "source": [
        "class FingerprintNetMLP(nn.Module):\n",
        "    def __init__(self, input_dim=2, hidden_dim=16, fp_dim=7):\n",
        "        super().__init__()\n",
        "        self.mlp = nn.Sequential(\n",
        "            nn.Linear(input_dim, hidden_dim),\n",
        "            nn.ReLU(),\n",
        "            nn.Linear(hidden_dim, fp_dim)\n",
        "        )\n",
        "\n",
        "    def forward(self, graph_embedding):\n",
        "        return self.mlp(graph_embedding)\n"
      ],
      "metadata": {
        "id": "Ohut4EwA7g1D"
      },
      "execution_count": null,
      "outputs": []
    },
    {
      "cell_type": "code",
      "source": [
        "# Use trained GCNMean to generate graph embedding\n",
        "model.eval()\n",
        "with torch.no_grad():\n",
        "    graph_embedding = model(data.x, data.edge_index, data.batch)\n",
        "\n",
        "# Create the fingerprint extractor\n",
        "U = FingerprintNetMLP().to(device)\n",
        "\n",
        "# Get the fingerprint\n",
        "fingerprint = U(graph_embedding)\n",
        "print(\" Fingerprint vector (tensor):\", fingerprint)\n",
        "\n",
        "\n"
      ],
      "metadata": {
        "colab": {
          "base_uri": "https://localhost:8080/"
        },
        "id": "siD4NY1g7iTK",
        "outputId": "1f3c674a-14f4-4e68-f86c-c57fe66db361"
      },
      "execution_count": null,
      "outputs": [
        {
          "output_type": "stream",
          "name": "stdout",
          "text": [
            "🔑 Fingerprint vector (tensor): tensor([[-0.0560, -1.0905,  1.5514,  1.4207, -0.7093,  0.1788, -2.4308]],\n",
            "       grad_fn=<AddmmBackward0>)\n"
          ]
        }
      ]
    },
    {
      "cell_type": "code",
      "source": [
        "import copy\n",
        "\n",
        "def generate_ablation_variant(data, mode='A_only', drop_ratio=0.1):\n",
        "    \"\"\"\n",
        "    Generate a variant graph by modifying either attributes, structure, or both.\n",
        "    - data: original PyG Data object\n",
        "    - mode: 'A_only', 'S_only', 'A+S'\n",
        "    - drop_ratio: fraction of nodes or edges/features to perturb\n",
        "    \"\"\"\n",
        "    variant = copy.deepcopy(data)\n",
        "\n",
        "    if mode in ['A_only', 'A+S']:\n",
        "        # Perturb node features\n",
        "        noise = torch.randn_like(variant.x) * 0.1\n",
        "        variant.x += noise\n",
        "\n",
        "    if mode in ['S_only', 'A+S']:\n",
        "        # Randomly drop edges\n",
        "        num_edges = variant.edge_index.size(1)\n",
        "        keep_count = int((1 - drop_ratio) * num_edges)\n",
        "        perm = torch.randperm(num_edges)[:keep_count]\n",
        "        variant.edge_index = variant.edge_index[:, perm]\n",
        "\n",
        "    return variant\n"
      ],
      "metadata": {
        "id": "Z-a2WAVt8LnS"
      },
      "execution_count": null,
      "outputs": []
    },
    {
      "cell_type": "code",
      "source": [
        "# Create 100 variants for each attack type\n",
        "num_variants = 100\n",
        "variant_modes = ['A_only', 'S_only', 'A+S']\n",
        "variants = {mode: [] for mode in variant_modes}\n",
        "\n",
        "for mode in variant_modes:\n",
        "    print(f\"🔄 Generating variants for {mode}...\")\n",
        "    for _ in range(num_variants):\n",
        "        variant = generate_ablation_variant(data, mode=mode, drop_ratio=0.1)\n",
        "        variants[mode].append(variant)\n",
        "\n",
        "print(\"✅ All graph variants created.\")\n"
      ],
      "metadata": {
        "colab": {
          "base_uri": "https://localhost:8080/"
        },
        "id": "uRPQqJXi8Nxh",
        "outputId": "0880ff64-b41a-4df3-d56c-3bc3c091abd0"
      },
      "execution_count": null,
      "outputs": [
        {
          "output_type": "stream",
          "name": "stdout",
          "text": [
            "🔄 Generating variants for A_only...\n",
            "🔄 Generating variants for S_only...\n",
            "🔄 Generating variants for A+S...\n",
            "✅ All graph variants created.\n"
          ]
        }
      ]
    },
    {
      "cell_type": "code",
      "source": [
        "import torch.nn.functional as F\n",
        "from torch.nn.functional import cosine_similarity\n",
        "\n",
        "def extract_fp(model, U_net, graph):\n",
        "    model.eval()\n",
        "    U_net.eval()\n",
        "    with torch.no_grad():\n",
        "        batch = torch.zeros(graph.num_nodes, dtype=torch.long).to(device)\n",
        "        out = model(graph.x.to(device), graph.edge_index.to(device), batch)\n",
        "        fp = U_net(out)\n",
        "    return fp\n",
        "\n",
        "# Original fingerprint\n",
        "fp_orig = extract_fp(model, U, data)\n",
        "\n",
        "# Extract for all variants\n",
        "variant_fps = {mode: [] for mode in variants}\n",
        "\n",
        "for mode in variants:\n",
        "    print(f\"🔍 Extracting fingerprints for {mode} variants...\")\n",
        "    for g in variants[mode]:\n",
        "        fp = extract_fp(model, U, g)\n",
        "        variant_fps[mode].append(fp)\n"
      ],
      "metadata": {
        "colab": {
          "base_uri": "https://localhost:8080/"
        },
        "id": "MeqqNcjr8UfG",
        "outputId": "85f9828f-62c2-45c2-be40-25b00218b6aa"
      },
      "execution_count": null,
      "outputs": [
        {
          "output_type": "stream",
          "name": "stdout",
          "text": [
            "🔍 Extracting fingerprints for A_only variants...\n",
            "🔍 Extracting fingerprints for S_only variants...\n",
            "🔍 Extracting fingerprints for A+S variants...\n"
          ]
        }
      ]
    },
    {
      "cell_type": "code",
      "source": [
        "import numpy as np\n",
        "\n",
        "def compute_similarities(fp_list, fp_orig):\n",
        "    sims = []\n",
        "    for fp in fp_list:\n",
        "        sim = cosine_similarity(fp, fp_orig).item()\n",
        "        sims.append(sim)\n",
        "    return sims\n",
        "\n",
        "similarities = {mode: compute_similarities(variant_fps[mode], fp_orig)\n",
        "                for mode in variant_fps}\n",
        "\n",
        "# Print average cosine similarities\n",
        "for mode in similarities:\n",
        "    sims = similarities[mode]\n",
        "    print(f\"{mode} - Avg Cosine Similarity: {np.mean(sims):.4f}\")\n"
      ],
      "metadata": {
        "colab": {
          "base_uri": "https://localhost:8080/"
        },
        "id": "PVluH9nb8W96",
        "outputId": "ad3ff8ed-55de-43ec-8720-7848af67aed3"
      },
      "execution_count": null,
      "outputs": [
        {
          "output_type": "stream",
          "name": "stdout",
          "text": [
            "A_only - Avg Cosine Similarity: 1.0000\n",
            "S_only - Avg Cosine Similarity: 1.0000\n",
            "A+S - Avg Cosine Similarity: 1.0000\n"
          ]
        }
      ]
    },
    {
      "cell_type": "code",
      "source": [
        "# Original graph is class 1 (genuine)\n",
        "train_graphs = [data] + variants[\"A_only\"][:50] + variants[\"S_only\"][:50] + variants[\"A+S\"][:50]\n",
        "labels = [1] + [1]*150  # all same model\n",
        "\n",
        "# Create 150 fake graphs from permuted features (fake class 0)\n",
        "import random\n",
        "fake_graphs = [generate_ablation_variant(data, mode='A+S', drop_ratio=0.7) for _ in range(150)]\n",
        "train_graphs += fake_graphs\n",
        "labels += [0]*150\n"
      ],
      "metadata": {
        "id": "VIGZR7FT8iY6"
      },
      "execution_count": null,
      "outputs": []
    },
    {
      "cell_type": "code",
      "source": [
        "class FingerprintClassifier(nn.Module):\n",
        "    def __init__(self, fp_dim=7):\n",
        "        super().__init__()\n",
        "        self.fc = nn.Linear(fp_dim, 2)  # Binary classifier\n",
        "\n",
        "    def forward(self, fp):\n",
        "        return self.fc(fp)\n"
      ],
      "metadata": {
        "id": "vYB6gAIC8ufZ"
      },
      "execution_count": null,
      "outputs": []
    },
    {
      "cell_type": "code",
      "source": [
        "U = FingerprintNetMLP().to(device)\n",
        "C = FingerprintClassifier().to(device)\n",
        "optimizer_U = torch.optim.Adam(list(U.parameters()) + list(C.parameters()), lr=0.001)\n",
        "\n",
        "for epoch in range(1, 51):\n",
        "    total_loss = 0\n",
        "    for g, label in zip(train_graphs, labels):\n",
        "        optimizer_U.zero_grad()\n",
        "        batch = torch.zeros(g.num_nodes, dtype=torch.long).to(device)\n",
        "        emb = model(g.x.to(device), g.edge_index.to(device), batch)\n",
        "        fp = U(emb)\n",
        "        logits = C(fp)\n",
        "        target = torch.tensor([label], dtype=torch.long).to(device)\n",
        "        loss = F.cross_entropy(logits, target)\n",
        "        loss.backward()\n",
        "        optimizer_U.step()\n",
        "        total_loss += loss.item()\n",
        "    if epoch % 10 == 0 or epoch == 1:\n",
        "        print(f\"Epoch {epoch}, Loss: {total_loss:.4f}\")\n"
      ],
      "metadata": {
        "colab": {
          "base_uri": "https://localhost:8080/"
        },
        "id": "BHySfFx48koB",
        "outputId": "293ac2f3-ca9d-4311-b245-2174f37e83db"
      },
      "execution_count": null,
      "outputs": [
        {
          "output_type": "stream",
          "name": "stdout",
          "text": [
            "Epoch 1, Loss: 125.1010\n",
            "Epoch 10, Loss: 171.5561\n",
            "Epoch 20, Loss: 81.8489\n",
            "Epoch 30, Loss: 13.6038\n",
            "Epoch 40, Loss: 0.7896\n",
            "Epoch 50, Loss: 0.0860\n"
          ]
        }
      ]
    },
    {
      "cell_type": "code",
      "source": [
        "fp_orig = extract_fp(model, U, data)\n",
        "variant_fps = {mode: [] for mode in variants}\n",
        "\n",
        "for mode in variants:\n",
        "    print(f\"🔍 Re-extracting fingerprints for {mode}...\")\n",
        "    for g in variants[mode]:\n",
        "        fp = extract_fp(model, U, g)\n",
        "        variant_fps[mode].append(fp)\n"
      ],
      "metadata": {
        "colab": {
          "base_uri": "https://localhost:8080/"
        },
        "id": "HbxjTY2zBeIC",
        "outputId": "f9700c5a-cba1-410e-f7df-75e8ef9dedac"
      },
      "execution_count": null,
      "outputs": [
        {
          "output_type": "stream",
          "name": "stdout",
          "text": [
            "🔍 Re-extracting fingerprints for A_only...\n",
            "🔍 Re-extracting fingerprints for S_only...\n",
            "🔍 Re-extracting fingerprints for A+S...\n"
          ]
        }
      ]
    },
    {
      "cell_type": "code",
      "source": [
        "similarities = {mode: compute_similarities(variant_fps[mode], fp_orig)\n",
        "                for mode in variant_fps}\n",
        "\n",
        "for mode in similarities:\n",
        "    sims = similarities[mode]\n",
        "    print(f\"{mode} - Avg Cosine Similarity: {np.mean(sims):.4f}\")\n"
      ],
      "metadata": {
        "colab": {
          "base_uri": "https://localhost:8080/"
        },
        "id": "tx4cGqGfBf4q",
        "outputId": "8a25a82f-4e28-4bd1-eaf0-6d3869e49882"
      },
      "execution_count": null,
      "outputs": [
        {
          "output_type": "stream",
          "name": "stdout",
          "text": [
            "A_only - Avg Cosine Similarity: 1.0000\n",
            "S_only - Avg Cosine Similarity: 0.9976\n",
            "A+S - Avg Cosine Similarity: 0.9983\n"
          ]
        }
      ]
    },
    {
      "cell_type": "code",
      "source": [
        "similarities = {mode: compute_similarities(variant_fps[mode], fp_orig)\n",
        "                for mode in variant_fps}\n",
        "\n",
        "for mode in similarities:\n",
        "    sims = similarities[mode]\n",
        "    print(f\"{mode} - Avg Cosine Similarity: {np.mean(sims):.4f}\")\n"
      ],
      "metadata": {
        "colab": {
          "base_uri": "https://localhost:8080/"
        },
        "id": "7NTU8ggyBlVr",
        "outputId": "dcc51662-ceee-42cd-98dd-8d738360c260"
      },
      "execution_count": null,
      "outputs": [
        {
          "output_type": "stream",
          "name": "stdout",
          "text": [
            "A_only - Avg Cosine Similarity: 1.0000\n",
            "S_only - Avg Cosine Similarity: 0.9976\n",
            "A+S - Avg Cosine Similarity: 0.9983\n"
          ]
        }
      ]
    },
    {
      "cell_type": "code",
      "source": [
        "train_graphs = [data]                     # original\n",
        "labels = [1]                              # genuine\n",
        "\n",
        "# Treat A_only + S_only + A+S as pirated\n",
        "for mode in ['A_only', 'S_only', 'A+S']:\n",
        "    train_graphs.extend(variants[mode][:50])\n",
        "    labels.extend([0] * 50)\n"
      ],
      "metadata": {
        "id": "RQA-kSxqBte5"
      },
      "execution_count": null,
      "outputs": []
    },
    {
      "cell_type": "code",
      "source": [
        "for mode in similarities:\n",
        "    sims = similarities[mode]\n",
        "    print(f\"{mode} - Avg Cosine Similarity: {np.mean(sims):.4f}\")\n"
      ],
      "metadata": {
        "colab": {
          "base_uri": "https://localhost:8080/"
        },
        "id": "ElUI3GULBuwB",
        "outputId": "be2cae79-7257-497e-ea00-dba490422543"
      },
      "execution_count": null,
      "outputs": [
        {
          "output_type": "stream",
          "name": "stdout",
          "text": [
            "A_only - Avg Cosine Similarity: 1.0000\n",
            "S_only - Avg Cosine Similarity: 0.9976\n",
            "A+S - Avg Cosine Similarity: 0.9983\n"
          ]
        }
      ]
    },
    {
      "cell_type": "code",
      "source": [
        "variants = {\n",
        "    mode: [generate_ablation_variant(data, mode=mode, drop_ratio=0.3) for _ in range(100)]\n",
        "    for mode in [\"A_only\", \"S_only\", \"A+S\"]\n",
        "}\n"
      ],
      "metadata": {
        "id": "1Eq22K22B9H7"
      },
      "execution_count": null,
      "outputs": []
    },
    {
      "cell_type": "code",
      "source": [
        "import matplotlib.pyplot as plt\n",
        "\n",
        "for mode, sims in similarities.items():\n",
        "    plt.figure()\n",
        "    plt.hist(sims, bins=30, alpha=0.7)\n",
        "    plt.title(f\"Cosine Similarity Histogram: {mode}\")\n",
        "    plt.xlabel(\"Cosine Similarity with Original Fingerprint\")\n",
        "    plt.ylabel(\"Frequency\")\n",
        "    plt.grid(True)\n",
        "    plt.show()\n"
      ],
      "metadata": {
        "colab": {
          "base_uri": "https://localhost:8080/",
          "height": 1000
        },
        "id": "ss0lwi8_CDD5",
        "outputId": "bf28aa0f-a105-4f4e-b709-b500aed25682"
      },
      "execution_count": null,
      "outputs": [
        {
          "output_type": "display_data",
          "data": {
            "text/plain": [
              "<Figure size 640x480 with 1 Axes>"
            ],
            "image/png": "[encoded data removed]"
          },
          "metadata": {}
        },
        {
          "output_type": "display_data",
          "data": {
            "text/plain": [
              "<Figure size 640x480 with 1 Axes>"
            ],
            "image/png": "[encoded data removed]"
          },
          "metadata": {}
        },
        {
          "output_type": "display_data",
          "data": {
            "text/plain": [
              "<Figure size 640x480 with 1 Axes>"
            ],
            "image/png": "[encoded data removed]"
          },
          "metadata": {}
        }
      ]
    },
    {
      "cell_type": "code",
      "source": [
        "file_path = '/content/drive/MyDrive/gnnfingers_data/LINUX/raw/fgraph_C.txt'\n",
        "\n",
        "with open(file_path, 'r') as f:\n",
        "    for i in range(15):\n",
        "        print(f.readline().strip())\n"
      ],
      "metadata": {
        "colab": {
          "base_uri": "https://localhost:8080/"
        },
        "id": "DK-E6P9ACq26",
        "outputId": "74d71efa-b753-4d17-e144-3ea4b2c236c6"
      },
      "execution_count": null,
      "outputs": [
        {
          "output_type": "stream",
          "name": "stdout",
          "text": [
            "a20.c compiler_types.h\n",
            "a20.c linkage.h\n",
            "a20.c export.h\n",
            "a20.c compiler.h\n",
            "a20.c types.h\n",
            "a20.c types.h\n",
            "a20.c types.h\n",
            "a20.c int-ll64.h\n",
            "a20.c int-ll64.h\n",
            "a20.c bitsperlong.h\n",
            "a20.c posix_types.h\n",
            "a20.c stddef.h\n",
            "a20.c stddef.h\n",
            "a20.c posix_types.h\n",
            "a20.c posix_types_64.h\n"
          ]
        }
      ]
    },
    {
      "cell_type": "code",
      "source": [
        "from torch_geometric.data import Data\n",
        "\n",
        "def load_graph_from_txt(file_path, feature_dim=32):\n",
        "    edges = []\n",
        "    nodes = set()\n",
        "\n",
        "    with open(file_path, 'r') as f:\n",
        "        for line in f:\n",
        "            src, dst = line.strip().split()\n",
        "            edges.append((src, dst))\n",
        "            nodes.update([src, dst])\n",
        "\n",
        "    node_list = sorted(list(nodes))\n",
        "    node_idx = {name: i for i, name in enumerate(node_list)}\n",
        "\n",
        "    edge_index = torch.tensor(\n",
        "        [[node_idx[src], node_idx[dst]] for src, dst in edges],\n",
        "        dtype=torch.long\n",
        "    ).t().contiguous()\n",
        "\n",
        "    x = torch.randn(len(node_list), feature_dim)  # dense random features\n",
        "    y = torch.tensor([0])  # dummy label\n",
        "\n",
        "    return Data(x=x, edge_index=edge_index, y=y)\n",
        "\n",
        "# Load fgraph_C.txt as a PyG graph\n",
        "graph_C = load_graph_from_txt('/content/drive/MyDrive/gnnfingers_data/LINUX/raw/fgraph_C.txt')\n",
        "graph_C.batch = torch.zeros(graph_C.num_nodes, dtype=torch.long)\n"
      ],
      "metadata": {
        "id": "FutaEet8Cxqy"
      },
      "execution_count": null,
      "outputs": []
    },
    {
      "cell_type": "code",
      "source": [
        "fp_C = extract_fp(model, U, graph_C)\n",
        "cos_sim = cosine_similarity(fp_C, fp_orig).item()\n",
        "print(f\"🔍 Cosine similarity with original fingerprint: {cos_sim:.4f}\")\n"
      ],
      "metadata": {
        "colab": {
          "base_uri": "https://localhost:8080/"
        },
        "id": "-04qifcUC2NR",
        "outputId": "75c34d2f-ce81-4edd-d734-18bde85c0017"
      },
      "execution_count": null,
      "outputs": [
        {
          "output_type": "stream",
          "name": "stdout",
          "text": [
            "🔍 Cosine similarity with original fingerprint: 0.9777\n"
          ]
        }
      ]
    },
    {
      "cell_type": "code",
      "source": [
        "import os\n",
        "\n",
        "\n",
        "irrelevant_files = [\n",
        "    'fgraph_C.txt',\n",
        "    'fgraph_G.txt',\n",
        "    'fgraph_F_D.txt',\n",
        "    'fgraph_I_all.txt'\n",
        "]\n",
        "\n",
        "base_path = '/content/drive/MyDrive/gnnfingers_data/LINUX/raw/'\n",
        "irrelevant_sims = {}\n",
        "\n",
        "for fname in irrelevant_files:\n",
        "    path = os.path.join(base_path, fname)\n",
        "    try:\n",
        "        g = load_graph_from_txt(path)\n",
        "        g.batch = torch.zeros(g.num_nodes, dtype=torch.long)\n",
        "        fp = extract_fp(model, U, g)\n",
        "        sim = cosine_similarity(fp, fp_orig).item()\n",
        "        irrelevant_sims[fname] = sim\n",
        "        print(f\"{fname}: Cosine similarity = {sim:.4f}\")\n",
        "    except Exception as e:\n",
        "        print(f\"Error processing {fname}: {e}\")\n"
      ],
      "metadata": {
        "colab": {
          "base_uri": "https://localhost:8080/"
        },
        "id": "-O0Bva1wC6gR",
        "outputId": "ad16af2f-e435-4fde-c08c-656a36a73ca2"
      },
      "execution_count": null,
      "outputs": [
        {
          "output_type": "stream",
          "name": "stdout",
          "text": [
            "fgraph_C.txt: Cosine similarity = 0.9777\n"
          ]
        }
      ]
    }
  ]
}