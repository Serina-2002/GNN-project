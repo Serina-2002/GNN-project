{
  "nbformat": 4,
  "nbformat_minor": 0,
  "metadata": {
    "colab": {
      "provenance": []
    },
    "kernelspec": {
      "name": "python3",
      "display_name": "Python 3"
    },
    "language_info": {
      "name": "python"
    }
  },
  "cells": [
    {
      "cell_type": "code",
      "source": [
        "# Install PyTorch Geometric and dependencies (make sure torch is already installed)\n",
        "!pip install torch-scatter torch-sparse torch-cluster torch-spline-conv torch-geometric -f https://data.pyg.org/whl/torch-2.0.0+cpu.html\n",
        "!pip install torch-scatter torch-sparse torch-cluster torch-spline-conv torch-geometric -f https://data.pyg.org/whl/torch-2.0.0+cu118.html\n"
      ],
      "metadata": {
        "colab": {
          "base_uri": "https://localhost:8080/"
        },
        "id": "JSRAvLgZXNz-",
        "outputId": "c223cdb0-c5c8-4fcb-90cf-7f07bc5394bb"
      },
      "execution_count": null,
      "outputs": [
        {
          "output_type": "stream",
          "name": "stdout",
          "text": [
            "Looking in links: https://data.pyg.org/whl/torch-2.0.0+cpu.html\n",
            "Requirement already satisfied: torch-scatter in /usr/local/lib/python3.11/dist-packages (2.1.2+pt20cpu)\n",
            "Requirement already satisfied: torch-sparse in /usr/local/lib/python3.11/dist-packages (0.6.18+pt20cpu)\n",
            "Requirement already satisfied: torch-cluster in /usr/local/lib/python3.11/dist-packages (1.6.3+pt20cpu)\n",
            "Requirement already satisfied: torch-spline-conv in /usr/local/lib/python3.11/dist-packages (1.2.2+pt20cpu)\n",
            "Requirement already satisfied: torch-geometric in /usr/local/lib/python3.11/dist-packages (2.6.1)\n",
            "Requirement already satisfied: scipy in /usr/local/lib/python3.11/dist-packages (from torch-sparse) (1.15.3)\n",
            "Requirement already satisfied: aiohttp in /usr/local/lib/python3.11/dist-packages (from torch-geometric) (3.11.15)\n",
            "Requirement already satisfied: fsspec in /usr/local/lib/python3.11/dist-packages (from torch-geometric) (2025.3.2)\n",
            "Requirement already satisfied: jinja2 in /usr/local/lib/python3.11/dist-packages (from torch-geometric) (3.1.6)\n",
            "Requirement already satisfied: numpy in /usr/local/lib/python3.11/dist-packages (from torch-geometric) (2.0.2)\n",
            "Requirement already satisfied: psutil>=5.8.0 in /usr/local/lib/python3.11/dist-packages (from torch-geometric) (5.9.5)\n",
            "Requirement already satisfied: pyparsing in /usr/local/lib/python3.11/dist-packages (from torch-geometric) (3.2.3)\n",
            "Requirement already satisfied: requests in /usr/local/lib/python3.11/dist-packages (from torch-geometric) (2.32.3)\n",
            "Requirement already satisfied: tqdm in /usr/local/lib/python3.11/dist-packages (from torch-geometric) (4.67.1)\n",
            "Requirement already satisfied: aiohappyeyeballs>=2.3.0 in /usr/local/lib/python3.11/dist-packages (from aiohttp->torch-geometric) (2.6.1)\n",
            "Requirement already satisfied: aiosignal>=1.1.2 in /usr/local/lib/python3.11/dist-packages (from aiohttp->torch-geometric) (1.3.2)\n",
            "Requirement already satisfied: attrs>=17.3.0 in /usr/local/lib/python3.11/dist-packages (from aiohttp->torch-geometric) (25.3.0)\n",
            "Requirement already satisfied: frozenlist>=1.1.1 in /usr/local/lib/python3.11/dist-packages (from aiohttp->torch-geometric) (1.7.0)\n",
            "Requirement already satisfied: multidict<7.0,>=4.5 in /usr/local/lib/python3.11/dist-packages (from aiohttp->torch-geometric) (6.5.0)\n",
            "Requirement already satisfied: propcache>=0.2.0 in /usr/local/lib/python3.11/dist-packages (from aiohttp->torch-geometric) (0.3.2)\n",
            "Requirement already satisfied: yarl<2.0,>=1.17.0 in /usr/local/lib/python3.11/dist-packages (from aiohttp->torch-geometric) (1.20.1)\n",
            "Requirement already satisfied: MarkupSafe>=2.0 in /usr/local/lib/python3.11/dist-packages (from jinja2->torch-geometric) (3.0.2)\n",
            "Requirement already satisfied: charset-normalizer<4,>=2 in /usr/local/lib/python3.11/dist-packages (from requests->torch-geometric) (3.4.2)\n",
            "Requirement already satisfied: idna<4,>=2.5 in /usr/local/lib/python3.11/dist-packages (from requests->torch-geometric) (3.10)\n",
            "Requirement already satisfied: urllib3<3,>=1.21.1 in /usr/local/lib/python3.11/dist-packages (from requests->torch-geometric) (2.4.0)\n",
            "Requirement already satisfied: certifi>=2017.4.17 in /usr/local/lib/python3.11/dist-packages (from requests->torch-geometric) (2025.6.15)\n",
            "Looking in links: https://data.pyg.org/whl/torch-2.0.0+cu118.html\n",
            "Requirement already satisfied: torch-scatter in /usr/local/lib/python3.11/dist-packages (2.1.2+pt20cpu)\n",
            "Requirement already satisfied: torch-sparse in /usr/local/lib/python3.11/dist-packages (0.6.18+pt20cpu)\n",
            "Requirement already satisfied: torch-cluster in /usr/local/lib/python3.11/dist-packages (1.6.3+pt20cpu)\n",
            "Requirement already satisfied: torch-spline-conv in /usr/local/lib/python3.11/dist-packages (1.2.2+pt20cpu)\n",
            "Requirement already satisfied: torch-geometric in /usr/local/lib/python3.11/dist-packages (2.6.1)\n",
            "Requirement already satisfied: scipy in /usr/local/lib/python3.11/dist-packages (from torch-sparse) (1.15.3)\n",
            "Requirement already satisfied: aiohttp in /usr/local/lib/python3.11/dist-packages (from torch-geometric) (3.11.15)\n",
            "Requirement already satisfied: fsspec in /usr/local/lib/python3.11/dist-packages (from torch-geometric) (2025.3.2)\n",
            "Requirement already satisfied: jinja2 in /usr/local/lib/python3.11/dist-packages (from torch-geometric) (3.1.6)\n",
            "Requirement already satisfied: numpy in /usr/local/lib/python3.11/dist-packages (from torch-geometric) (2.0.2)\n",
            "Requirement already satisfied: psutil>=5.8.0 in /usr/local/lib/python3.11/dist-packages (from torch-geometric) (5.9.5)\n",
            "Requirement already satisfied: pyparsing in /usr/local/lib/python3.11/dist-packages (from torch-geometric) (3.2.3)\n",
            "Requirement already satisfied: requests in /usr/local/lib/python3.11/dist-packages (from torch-geometric) (2.32.3)\n",
            "Requirement already satisfied: tqdm in /usr/local/lib/python3.11/dist-packages (from torch-geometric) (4.67.1)\n",
            "Requirement already satisfied: aiohappyeyeballs>=2.3.0 in /usr/local/lib/python3.11/dist-packages (from aiohttp->torch-geometric) (2.6.1)\n",
            "Requirement already satisfied: aiosignal>=1.1.2 in /usr/local/lib/python3.11/dist-packages (from aiohttp->torch-geometric) (1.3.2)\n",
            "Requirement already satisfied: attrs>=17.3.0 in /usr/local/lib/python3.11/dist-packages (from aiohttp->torch-geometric) (25.3.0)\n",
            "Requirement already satisfied: frozenlist>=1.1.1 in /usr/local/lib/python3.11/dist-packages (from aiohttp->torch-geometric) (1.7.0)\n",
            "Requirement already satisfied: multidict<7.0,>=4.5 in /usr/local/lib/python3.11/dist-packages (from aiohttp->torch-geometric) (6.5.0)\n",
            "Requirement already satisfied: propcache>=0.2.0 in /usr/local/lib/python3.11/dist-packages (from aiohttp->torch-geometric) (0.3.2)\n",
            "Requirement already satisfied: yarl<2.0,>=1.17.0 in /usr/local/lib/python3.11/dist-packages (from aiohttp->torch-geometric) (1.20.1)\n",
            "Requirement already satisfied: MarkupSafe>=2.0 in /usr/local/lib/python3.11/dist-packages (from jinja2->torch-geometric) (3.0.2)\n",
            "Requirement already satisfied: charset-normalizer<4,>=2 in /usr/local/lib/python3.11/dist-packages (from requests->torch-geometric) (3.4.2)\n",
            "Requirement already satisfied: idna<4,>=2.5 in /usr/local/lib/python3.11/dist-packages (from requests->torch-geometric) (3.10)\n",
            "Requirement already satisfied: urllib3<3,>=1.21.1 in /usr/local/lib/python3.11/dist-packages (from requests->torch-geometric) (2.4.0)\n",
            "Requirement already satisfied: certifi>=2017.4.17 in /usr/local/lib/python3.11/dist-packages (from requests->torch-geometric) (2025.6.15)\n"
          ]
        }
      ]
    },
    {
      "cell_type": "code",
      "execution_count": null,
      "metadata": {
        "colab": {
          "base_uri": "https://localhost:8080/"
        },
        "id": "xUatWsXOW-hs",
        "outputId": "bcac9a82-2861-4b1e-f384-13d4ad3d8718"
      },
      "outputs": [
        {
          "output_type": "stream",
          "name": "stderr",
          "text": [
            "/usr/local/lib/python3.11/dist-packages/torch_geometric/typing.py:86: UserWarning: An issue occurred while importing 'torch-scatter'. Disabling its usage. Stacktrace: /usr/local/lib/python3.11/dist-packages/torch_scatter/_version_cpu.so: undefined symbol: _ZN3c1017RegisterOperatorsD1Ev\n",
            "  warnings.warn(f\"An issue occurred while importing 'torch-scatter'. \"\n",
            "/usr/local/lib/python3.11/dist-packages/torch_geometric/typing.py:97: UserWarning: An issue occurred while importing 'torch-cluster'. Disabling its usage. Stacktrace: /usr/local/lib/python3.11/dist-packages/torch_cluster/_version_cpu.so: undefined symbol: _ZN3c1017RegisterOperatorsD1Ev\n",
            "  warnings.warn(f\"An issue occurred while importing 'torch-cluster'. \"\n",
            "/usr/local/lib/python3.11/dist-packages/torch_geometric/typing.py:113: UserWarning: An issue occurred while importing 'torch-spline-conv'. Disabling its usage. Stacktrace: /usr/local/lib/python3.11/dist-packages/torch_spline_conv/_version_cpu.so: undefined symbol: _ZN3c1017RegisterOperatorsD1Ev\n",
            "  warnings.warn(\n",
            "/usr/local/lib/python3.11/dist-packages/torch_geometric/typing.py:124: UserWarning: An issue occurred while importing 'torch-sparse'. Disabling its usage. Stacktrace: /usr/local/lib/python3.11/dist-packages/torch_sparse/_version_cpu.so: undefined symbol: _ZN3c1017RegisterOperatorsD1Ev\n",
            "  warnings.warn(f\"An issue occurred while importing 'torch-sparse'. \"\n"
          ]
        },
        {
          "output_type": "stream",
          "name": "stdout",
          "text": [
            "Epoch 000 - Val Acc: 0.2080\n",
            "Epoch 020 - Val Acc: 0.7700\n",
            "Epoch 040 - Val Acc: 0.7380\n",
            "Epoch 060 - Val Acc: 0.7640\n",
            "Epoch 080 - Val Acc: 0.7640\n",
            "Epoch 100 - Val Acc: 0.7640\n",
            "Epoch 120 - Val Acc: 0.7760\n",
            "Epoch 140 - Val Acc: 0.7740\n",
            "Epoch 160 - Val Acc: 0.7660\n",
            "Epoch 180 - Val Acc: 0.7680\n",
            "✅ Saved victim GCNMean for Cora.\n"
          ]
        }
      ],
      "source": [
        "import torch\n",
        "import torch.nn.functional as F\n",
        "from torch_geometric.datasets import Planetoid\n",
        "from torch_geometric.nn import GCNConv, SAGEConv\n",
        "from torch_geometric.loader import DataLoader\n",
        "\n",
        "# Load Cora dataset\n",
        "dataset = Planetoid(root='data/Cora', name='Cora')\n",
        "data = dataset[0].to('cuda' if torch.cuda.is_available() else 'cpu')\n",
        "device = data.x.device\n",
        "\n",
        "# Define GCNMean model\n",
        "class GCNMean(torch.nn.Module):\n",
        "    def __init__(self, in_channels, hidden_channels, out_channels):\n",
        "        super().__init__()\n",
        "        self.conv1 = GCNConv(in_channels, hidden_channels)\n",
        "        self.conv2 = GCNConv(hidden_channels, out_channels)\n",
        "        self.dropout = 0.5\n",
        "\n",
        "    def forward(self, x, edge_index):\n",
        "        x = F.relu(self.conv1(x, edge_index))\n",
        "        x = F.dropout(x, p=self.dropout, training=self.training)\n",
        "        x = self.conv2(x, edge_index)\n",
        "        return x\n",
        "\n",
        "# Instantiate and train model\n",
        "model = GCNMean(dataset.num_node_features, 64, dataset.num_classes).to(device)\n",
        "optimizer = torch.optim.Adam(model.parameters(), lr=0.01, weight_decay=5e-4)\n",
        "\n",
        "for epoch in range(200):\n",
        "    model.train()\n",
        "    optimizer.zero_grad()\n",
        "    out = model(data.x, data.edge_index)\n",
        "    loss = F.cross_entropy(out[data.train_mask], data.y[data.train_mask])\n",
        "    loss.backward()\n",
        "    optimizer.step()\n",
        "\n",
        "    # Optional: print accuracy every 20 epochs\n",
        "    if epoch % 20 == 0:\n",
        "        model.eval()\n",
        "        pred = out.argmax(dim=1)\n",
        "        acc = (pred[data.val_mask] == data.y[data.val_mask]).float().mean().item()\n",
        "        print(f\"Epoch {epoch:03d} - Val Acc: {acc:.4f}\")\n",
        "\n",
        "# Save the victim model\n",
        "import os\n",
        "os.makedirs(\"checkpoints\", exist_ok=True)\n",
        "\n",
        "# Save the victim model\n",
        "torch.save(model.state_dict(), \"checkpoints/victim_Cora_GCNMean.pth\")\n",
        "print(\"✅ Saved victim GCNMean for Cora.\")\n"
      ]
    },
    {
      "cell_type": "code",
      "source": [
        "from torch_geometric.loader import DataLoader\n",
        "\n",
        "def extract_fingerprint(model, data=None):\n",
        "    model.eval()\n",
        "    if data is None:\n",
        "        data = dataset[0].to(device)\n",
        "    with torch.no_grad():\n",
        "        x = F.relu(model.conv1(data.x, data.edge_index))\n",
        "        x = F.dropout(x, p=model.dropout, training=False)\n",
        "        x = model.conv2(x, data.edge_index)\n",
        "        fingerprint = x.mean(dim=0).unsqueeze(0)  # global mean pooling\n",
        "    return fingerprint\n",
        "\n"
      ],
      "metadata": {
        "id": "pfMweEbNXp_u"
      },
      "execution_count": null,
      "outputs": []
    },
    {
      "cell_type": "code",
      "source": [
        "fp_victim = extract_fingerprint(model)\n",
        "print(\"✅ Extracted fingerprint from victim GCNMean\")\n"
      ],
      "metadata": {
        "colab": {
          "base_uri": "https://localhost:8080/"
        },
        "id": "YLPSHeTRXy19",
        "outputId": "9f4d4d91-0b20-4279-e6fd-71d66d5ac7e9"
      },
      "execution_count": null,
      "outputs": [
        {
          "output_type": "stream",
          "name": "stdout",
          "text": [
            "✅ Extracted fingerprint from victim GCNMean\n"
          ]
        }
      ]
    },
    {
      "cell_type": "code",
      "source": [
        "from tqdm import tqdm\n",
        "import os\n",
        "\n",
        "def generate_fingerprint_variants(model_class, variant_name, dataset_name, num_variants=200, base_dir=\"variants\"):\n",
        "    os.makedirs(f\"{base_dir}/{dataset_name}_{variant_name}/positive\", exist_ok=True)\n",
        "    os.makedirs(f\"{base_dir}/{dataset_name}_{variant_name}/negative\", exist_ok=True)\n",
        "\n",
        "    # Positive variants (model with same architecture and dataset)\n",
        "    print(\"Generating positive variants…\")\n",
        "    for i in tqdm(range(num_variants), desc=\"positive\"):\n",
        "        m = model_class(dataset.num_node_features, 64, dataset.num_classes).to(device)\n",
        "        train(m)  # same training loop\n",
        "        torch.save(m.state_dict(), f\"{base_dir}/{dataset_name}_{variant_name}/positive/positive_{i:03d}.pth\")\n",
        "\n",
        "    # Negative variants (model with same architecture but on shuffled labels)\n",
        "    print(\"Generating negative variants…\")\n",
        "    for i in tqdm(range(num_variants), desc=\"negative\"):\n",
        "        m = model_class(dataset.num_node_features, 64, dataset.num_classes).to(device)\n",
        "        train(m, shuffle_labels=True)  # define shuffle inside train()\n",
        "        torch.save(m.state_dict(), f\"{base_dir}/{dataset_name}_{variant_name}/negative/negative_{i:03d}.pth\")\n",
        "\n",
        "    print(f\"✅ Saved {2*num_variants} variants to {base_dir}/{dataset_name}_{variant_name}/\")\n"
      ],
      "metadata": {
        "id": "wOuoAPJ4X4IN"
      },
      "execution_count": null,
      "outputs": []
    },
    {
      "cell_type": "code",
      "source": [
        "def train(model, epochs=200, shuffle_labels=False):\n",
        "    model.train()\n",
        "    optimizer = torch.optim.Adam(model.parameters(), lr=0.01, weight_decay=5e-4)\n",
        "\n",
        "    # If negative variant, shuffle the labels\n",
        "    y_train = data.y.clone()\n",
        "    if shuffle_labels:\n",
        "        y_train = y_train[torch.randperm(y_train.size(0))]\n",
        "\n",
        "    for epoch in range(epochs):\n",
        "        optimizer.zero_grad()\n",
        "        out = model(data.x, data.edge_index)\n",
        "        loss = F.cross_entropy(out[data.train_mask], y_train[data.train_mask])\n",
        "        loss.backward()\n",
        "        optimizer.step()\n",
        "\n"
      ],
      "metadata": {
        "id": "ZDtXKU38YUBF"
      },
      "execution_count": null,
      "outputs": []
    },
    {
      "cell_type": "code",
      "source": [
        "generate_fingerprint_variants(\n",
        "    model_class=GCNMean,\n",
        "    variant_name=\"GCNMean\",\n",
        "    dataset_name=\"Cora\",\n",
        "    num_variants=200,\n",
        "    base_dir=\"variants\"\n",
        ")\n"
      ],
      "metadata": {
        "colab": {
          "base_uri": "https://localhost:8080/"
        },
        "id": "Jz1_AlRQYNB8",
        "outputId": "0666f8e7-a314-40d2-a852-83be1bd78d0b"
      },
      "execution_count": null,
      "outputs": [
        {
          "output_type": "stream",
          "name": "stdout",
          "text": [
            "Generating positive variants…\n"
          ]
        },
        {
          "output_type": "stream",
          "name": "stderr",
          "text": [
            "positive: 100%|██████████| 200/200 [24:02<00:00,  7.21s/it]\n"
          ]
        },
        {
          "output_type": "stream",
          "name": "stdout",
          "text": [
            "Generating negative variants…\n"
          ]
        },
        {
          "output_type": "stream",
          "name": "stderr",
          "text": [
            "negative: 100%|██████████| 200/200 [23:54<00:00,  7.17s/it]"
          ]
        },
        {
          "output_type": "stream",
          "name": "stdout",
          "text": [
            "✅ Saved 400 variants to variants/Cora_GCNMean/\n"
          ]
        },
        {
          "output_type": "stream",
          "name": "stderr",
          "text": [
            "\n"
          ]
        }
      ]
    },
    {
      "cell_type": "code",
      "source": [
        "import glob\n",
        "from tqdm import tqdm\n",
        "\n",
        "def build_fingerprint_dataset(variant_path_pattern, label, model_class):\n",
        "    fingerprints = []\n",
        "    labels = []\n",
        "    model = model_class(dataset.num_node_features, 64, dataset.num_classes).to(device)\n",
        "\n",
        "    for pth_file in tqdm(glob.glob(variant_path_pattern)):\n",
        "        model.load_state_dict(torch.load(pth_file, map_location=device))\n",
        "        model.eval()\n",
        "        fp = extract_fingerprint(model).cpu()  # [1, d]\n",
        "        fingerprints.append(fp)\n",
        "        labels.append(label)\n",
        "\n",
        "    return torch.cat(fingerprints, dim=0), torch.tensor(labels)\n"
      ],
      "metadata": {
        "id": "YVncJp_b4KhL"
      },
      "execution_count": null,
      "outputs": []
    },
    {
      "cell_type": "code",
      "source": [
        "# Extract fingerprints from variant models\n",
        "fp_pos, y_pos = build_fingerprint_dataset(\"variants/Cora_GCNMean/positive/*.pth\", 1, GCNMean)\n",
        "fp_neg, y_neg = build_fingerprint_dataset(\"variants/Cora_GCNMean/negative/*.pth\", 0, GCNMean)\n",
        "\n",
        "# Combine all fingerprints\n",
        "X_all = torch.cat([fp_pos, fp_neg], dim=0)\n",
        "y_all = torch.cat([y_pos, y_neg], dim=0)\n",
        "\n",
        "print(\"✅ All fingerprints and labels collected.\")\n"
      ],
      "metadata": {
        "colab": {
          "base_uri": "https://localhost:8080/"
        },
        "id": "ilUYQ2wF4MV7",
        "outputId": "6250eec6-b9dd-43e7-9d40-558b17f3fc45"
      },
      "execution_count": null,
      "outputs": [
        {
          "output_type": "stream",
          "name": "stderr",
          "text": [
            "100%|██████████| 200/200 [00:04<00:00, 42.02it/s]\n",
            "100%|██████████| 200/200 [00:03<00:00, 52.37it/s]"
          ]
        },
        {
          "output_type": "stream",
          "name": "stdout",
          "text": [
            "✅ All fingerprints and labels collected.\n"
          ]
        },
        {
          "output_type": "stream",
          "name": "stderr",
          "text": [
            "\n"
          ]
        }
      ]
    },
    {
      "cell_type": "code",
      "source": [
        "import glob\n",
        "from tqdm import tqdm\n",
        "\n",
        "def build_fingerprint_dataset(variant_path_pattern, label, model_class):\n",
        "    fingerprints = []\n",
        "    labels = []\n",
        "    model = model_class(dataset.num_node_features, 64, dataset.num_classes).to(device)\n",
        "\n",
        "    for pth_file in tqdm(glob.glob(variant_path_pattern)):\n",
        "        model.load_state_dict(torch.load(pth_file, map_location=device))\n",
        "        model.eval()\n",
        "        fp = extract_fingerprint(model).cpu()  # shape [1, d]\n",
        "        fingerprints.append(fp)\n",
        "        labels.append(label)\n",
        "\n",
        "    return torch.cat(fingerprints, dim=0), torch.tensor(labels)\n"
      ],
      "metadata": {
        "id": "MSbuFWM_4cKg"
      },
      "execution_count": null,
      "outputs": []
    },
    {
      "cell_type": "code",
      "source": [
        "# Positive (pirated) and Negative (irrelevant) fingerprints\n",
        "fp_pos, y_pos = build_fingerprint_dataset(\"variants/Cora_GCNMean/positive/*.pth\", 1, GCNMean)\n",
        "fp_neg, y_neg = build_fingerprint_dataset(\"variants/Cora_GCNMean/negative/*.pth\", 0, GCNMean)\n",
        "\n",
        "# Combine into one dataset\n",
        "X_all = torch.cat([fp_pos, fp_neg], dim=0)\n",
        "y_all = torch.cat([y_pos, y_neg], dim=0)\n",
        "\n",
        "print(f\"✅ Fingerprints shape: {X_all.shape}, Labels shape: {y_all.shape}\")\n"
      ],
      "metadata": {
        "colab": {
          "base_uri": "https://localhost:8080/"
        },
        "id": "0RAnHrM24dTx",
        "outputId": "ff96bd63-de75-4675-dd97-9f06c4a98007"
      },
      "execution_count": null,
      "outputs": [
        {
          "output_type": "stream",
          "name": "stderr",
          "text": [
            "100%|██████████| 200/200 [00:03<00:00, 51.93it/s]\n",
            "100%|██████████| 200/200 [00:04<00:00, 42.23it/s]"
          ]
        },
        {
          "output_type": "stream",
          "name": "stdout",
          "text": [
            "✅ Fingerprints shape: torch.Size([400, 7]), Labels shape: torch.Size([400])\n"
          ]
        },
        {
          "output_type": "stream",
          "name": "stderr",
          "text": [
            "\n"
          ]
        }
      ]
    },
    {
      "cell_type": "code",
      "source": [
        "from sklearn.model_selection import train_test_split\n",
        "\n",
        "X_train, X_test, y_train, y_test = train_test_split(X_all, y_all, test_size=0.2, stratify=y_all, random_state=42)\n",
        "print(f\"✅ Train set: {X_train.shape}, Test set: {X_test.shape}\")\n"
      ],
      "metadata": {
        "colab": {
          "base_uri": "https://localhost:8080/"
        },
        "id": "mu5jwEPT4ggc",
        "outputId": "78a89520-b69e-4fe4-a7c6-05488af99e9d"
      },
      "execution_count": null,
      "outputs": [
        {
          "output_type": "stream",
          "name": "stdout",
          "text": [
            "✅ Train set: torch.Size([320, 7]), Test set: torch.Size([80, 7])\n"
          ]
        }
      ]
    },
    {
      "cell_type": "code",
      "source": [
        "import torch.nn as nn\n",
        "\n",
        "class Univerifier(nn.Module):\n",
        "    def __init__(self, input_dim):\n",
        "        super().__init__()\n",
        "        self.model = nn.Sequential(\n",
        "            nn.Linear(input_dim, 128),\n",
        "            nn.LeakyReLU(),\n",
        "            nn.Linear(128, 64),\n",
        "            nn.LeakyReLU(),\n",
        "            nn.Linear(64, 2)  # Output logits for [irrelevant, pirated]\n",
        "        )\n",
        "\n",
        "    def forward(self, x):\n",
        "        return self.model(x)\n"
      ],
      "metadata": {
        "id": "1Y-yIZwb4-GG"
      },
      "execution_count": null,
      "outputs": []
    },
    {
      "cell_type": "code",
      "source": [
        "from torch.utils.data import TensorDataset, DataLoader\n",
        "\n",
        "# Prepare data\n",
        "train_dataset = TensorDataset(X_train, y_train)\n",
        "test_dataset = TensorDataset(X_test, y_test)\n",
        "train_loader = DataLoader(train_dataset, batch_size=32, shuffle=True)\n",
        "test_loader = DataLoader(test_dataset, batch_size=32)\n",
        "\n",
        "# Instantiate model\n",
        "model_U = Univerifier(input_dim=X_train.shape[1]).to(device)\n",
        "criterion = nn.CrossEntropyLoss()\n",
        "optimizer = torch.optim.Adam(model_U.parameters(), lr=0.001)\n",
        "\n",
        "# Train loop\n",
        "for epoch in range(20):\n",
        "    model_U.train()\n",
        "    total_loss = 0\n",
        "    for xb, yb in train_loader:\n",
        "        xb, yb = xb.to(device), yb.to(device)\n",
        "        optimizer.zero_grad()\n",
        "        out = model_U(xb)\n",
        "        loss = criterion(out, yb)\n",
        "        loss.backward()\n",
        "        optimizer.step()\n",
        "        total_loss += loss.item()\n",
        "    print(f\"Epoch {epoch+1:02d} - Loss: {total_loss:.4f}\")\n"
      ],
      "metadata": {
        "colab": {
          "base_uri": "https://localhost:8080/"
        },
        "id": "WmSoCuHH5AGV",
        "outputId": "abd2fed9-4389-4716-e0de-45040d67d836"
      },
      "execution_count": null,
      "outputs": [
        {
          "output_type": "stream",
          "name": "stdout",
          "text": [
            "Epoch 01 - Loss: 6.4035\n",
            "Epoch 02 - Loss: 5.4722\n",
            "Epoch 03 - Loss: 4.6106\n",
            "Epoch 04 - Loss: 3.6131\n",
            "Epoch 05 - Loss: 2.6940\n",
            "Epoch 06 - Loss: 2.0760\n",
            "Epoch 07 - Loss: 1.5617\n",
            "Epoch 08 - Loss: 1.2622\n",
            "Epoch 09 - Loss: 1.0540\n",
            "Epoch 10 - Loss: 0.9445\n",
            "Epoch 11 - Loss: 0.7983\n",
            "Epoch 12 - Loss: 0.6958\n",
            "Epoch 13 - Loss: 0.6453\n",
            "Epoch 14 - Loss: 0.6229\n",
            "Epoch 15 - Loss: 0.5454\n",
            "Epoch 16 - Loss: 0.4509\n",
            "Epoch 17 - Loss: 0.3979\n",
            "Epoch 18 - Loss: 0.3649\n",
            "Epoch 19 - Loss: 0.3508\n",
            "Epoch 20 - Loss: 0.3223\n"
          ]
        }
      ]
    },
    {
      "cell_type": "code",
      "source": [
        "# Evaluation function\n",
        "def evaluate(model, dataloader):\n",
        "    model.eval()\n",
        "    total = 0\n",
        "    correct = 0\n",
        "    tp = 0  # true positives (pirated correctly detected)\n",
        "    tn = 0  # true negatives (irrelevant correctly rejected)\n",
        "    total_pos = 0\n",
        "    total_neg = 0\n",
        "\n",
        "    with torch.no_grad():\n",
        "        for xb, yb in dataloader:\n",
        "            xb, yb = xb.to(device), yb.to(device)\n",
        "            logits = model(xb)\n",
        "            preds = logits.argmax(dim=1)\n",
        "            correct += (preds == yb).sum().item()\n",
        "            total += yb.size(0)\n",
        "            tp += ((preds == 1) & (yb == 1)).sum().item()\n",
        "            tn += ((preds == 0) & (yb == 0)).sum().item()\n",
        "            total_pos += (yb == 1).sum().item()\n",
        "            total_neg += (yb == 0).sum().item()\n",
        "\n",
        "    acc = correct / total\n",
        "    robustness = tp / total_pos\n",
        "    uniqueness = tn / total_neg\n",
        "\n",
        "    return acc, robustness, uniqueness\n",
        "\n",
        "# Evaluate\n",
        "acc, rob, uniq = evaluate(model_U, test_loader)\n",
        "print(f\"✅ Accuracy: {acc:.4f}\")\n",
        "print(f\"🔐 Robustness (TPR): {rob:.4f}\")\n",
        "print(f\"🛡️ Uniqueness (TNR): {uniq:.4f}\")\n"
      ],
      "metadata": {
        "colab": {
          "base_uri": "https://localhost:8080/"
        },
        "id": "AKiWAqiM5G9G",
        "outputId": "b2856815-50a1-4e72-d4dd-cb59e315eb6d"
      },
      "execution_count": null,
      "outputs": [
        {
          "output_type": "stream",
          "name": "stdout",
          "text": [
            "✅ Accuracy: 1.0000\n",
            "🔐 Robustness (TPR): 1.0000\n",
            "🛡️ Uniqueness (TNR): 1.0000\n"
          ]
        }
      ]
    },
    {
      "cell_type": "code",
      "source": [
        "import numpy as np\n",
        "import matplotlib.pyplot as plt\n",
        "from sklearn.metrics import auc\n",
        "\n",
        "# Get softmax scores on test set\n",
        "model_U.eval()\n",
        "all_scores = []\n",
        "all_labels = []\n",
        "\n",
        "with torch.no_grad():\n",
        "    for xb, yb in test_loader:\n",
        "        xb = xb.to(device)\n",
        "        logits = model_U(xb)\n",
        "        probs = F.softmax(logits, dim=1)[:, 1].cpu()  # score for class 1 (pirated)\n",
        "        all_scores.extend(probs.numpy())\n",
        "        all_labels.extend(yb.numpy())\n",
        "\n",
        "all_scores = np.array(all_scores)\n",
        "all_labels = np.array(all_labels)\n",
        "\n",
        "# Sweep lambda thresholds\n",
        "lambdas = np.linspace(0, 1, 100)\n",
        "robustness_list = []\n",
        "uniqueness_list = []\n",
        "\n",
        "for lam in lambdas:\n",
        "    preds = (all_scores > lam).astype(int)\n",
        "    tp = np.sum((preds == 1) & (all_labels == 1))\n",
        "    tn = np.sum((preds == 0) & (all_labels == 0))\n",
        "    total_pos = np.sum(all_labels == 1)\n",
        "    total_neg = np.sum(all_labels == 0)\n",
        "\n",
        "    robustness = tp / total_pos if total_pos else 0\n",
        "    uniqueness = tn / total_neg if total_neg else 0\n",
        "\n",
        "    robustness_list.append(robustness)\n",
        "    uniqueness_list.append(uniqueness)\n",
        "\n",
        "# Compute ARUC (area under robustness-uniqueness curve)\n",
        "aruc_score = auc(uniqueness_list, robustness_list)\n",
        "\n",
        "# Plotting\n",
        "plt.figure(figsize=(6,5))\n",
        "plt.plot(uniqueness_list, robustness_list, label=f\"ARUC = {aruc_score:.3f}\")\n",
        "plt.xlabel(\"Uniqueness (TNR)\")\n",
        "plt.ylabel(\"Robustness (TPR)\")\n",
        "plt.title(\"Robustness-Uniqueness Curve (GNNFingers on Cora/GCN)\")\n",
        "plt.legend()\n",
        "plt.grid(True)\n",
        "plt.tight_layout()\n",
        "plt.show()\n"
      ],
      "metadata": {
        "colab": {
          "base_uri": "https://localhost:8080/",
          "height": 507
        },
        "id": "f8arLvN75Z4z",
        "outputId": "4035492d-ccd3-4cb2-8bbb-c6d1be17ce86"
      },
      "execution_count": null,
      "outputs": [
        {
          "output_type": "display_data",
          "data": {
            "text/plain": [
              "<Figure size 600x500 with 1 Axes>"
            ],
            "image/png": "[encoded data removed]"
          },
          "metadata": {}
        }
      ]
    },
    {
      "cell_type": "code",
      "source": [
        "from torch_geometric.nn import SAGEConv\n",
        "\n",
        "class SAGEMean(torch.nn.Module):\n",
        "    def __init__(self, in_channels, hidden_channels, out_channels):\n",
        "        super().__init__()\n",
        "        self.conv1 = SAGEConv(in_channels, hidden_channels)\n",
        "        self.conv2 = SAGEConv(hidden_channels, out_channels)\n",
        "        self.dropout = 0.5\n",
        "\n",
        "    def forward(self, x, edge_index):\n",
        "        x = F.relu(self.conv1(x, edge_index))\n",
        "        x = F.dropout(x, p=self.dropout, training=self.training)\n",
        "        x = self.conv2(x, edge_index)\n",
        "        return x\n"
      ],
      "metadata": {
        "id": "T_24Ej2y5mzS"
      },
      "execution_count": null,
      "outputs": []
    },
    {
      "cell_type": "code",
      "source": [
        "# Instantiate model\n",
        "model_sage = SAGEMean(dataset.num_node_features, 64, dataset.num_classes).to(device)\n",
        "optimizer = torch.optim.Adam(model_sage.parameters(), lr=0.01, weight_decay=5e-4)\n",
        "\n",
        "# Training loop\n",
        "for epoch in range(200):\n",
        "    model_sage.train()\n",
        "    optimizer.zero_grad()\n",
        "    out = model_sage(data.x, data.edge_index)\n",
        "    loss = F.cross_entropy(out[data.train_mask], data.y[data.train_mask])\n",
        "    loss.backward()\n",
        "    optimizer.step()\n",
        "\n",
        "    if epoch % 20 == 0:\n",
        "        model_sage.eval()\n",
        "        pred = out.argmax(dim=1)\n",
        "        acc = (pred[data.val_mask] == data.y[data.val_mask]).float().mean().item()\n",
        "        print(f\"Epoch {epoch:03d} - Val Acc: {acc:.4f}\")\n",
        "\n",
        "# Save the trained victim model\n",
        "torch.save(model_sage.state_dict(), \"checkpoints/victim_Cora_SAGEMean.pth\")\n",
        "print(\"✅ Saved victim GraphSAGE for Cora.\")\n"
      ],
      "metadata": {
        "colab": {
          "base_uri": "https://localhost:8080/"
        },
        "id": "LnDC080R5ujG",
        "outputId": "437e8a76-8f8b-49bd-b53a-51d7e8f66832"
      },
      "execution_count": null,
      "outputs": [
        {
          "output_type": "stream",
          "name": "stdout",
          "text": [
            "Epoch 000 - Val Acc: 0.1560\n",
            "Epoch 020 - Val Acc: 0.7120\n",
            "Epoch 040 - Val Acc: 0.7280\n",
            "Epoch 060 - Val Acc: 0.7320\n",
            "Epoch 080 - Val Acc: 0.7420\n",
            "Epoch 100 - Val Acc: 0.7240\n",
            "Epoch 120 - Val Acc: 0.7620\n",
            "Epoch 140 - Val Acc: 0.7540\n",
            "Epoch 160 - Val Acc: 0.7800\n",
            "Epoch 180 - Val Acc: 0.7600\n",
            "✅ Saved victim GraphSAGE for Cora.\n"
          ]
        }
      ]
    },
    {
      "cell_type": "code",
      "source": [
        "fp_sage = extract_fingerprint(model_sage)\n",
        "print(\"✅ Extracted fingerprint from victim SAGEMean\")\n"
      ],
      "metadata": {
        "colab": {
          "base_uri": "https://localhost:8080/"
        },
        "id": "MeNy1Fr15xkN",
        "outputId": "d5bf49c2-2ca4-492a-ba03-7c8c1cdf16b4"
      },
      "execution_count": null,
      "outputs": [
        {
          "output_type": "stream",
          "name": "stdout",
          "text": [
            "✅ Extracted fingerprint from victim SAGEMean\n"
          ]
        }
      ]
    },
    {
      "cell_type": "code",
      "source": [
        "generate_fingerprint_variants(\n",
        "    model_class=SAGEMean,\n",
        "    variant_name=\"SAGEMean\",\n",
        "    dataset_name=\"Cora\",\n",
        "    num_variants=200,\n",
        "    base_dir=\"variants\"\n",
        ")\n"
      ],
      "metadata": {
        "colab": {
          "base_uri": "https://localhost:8080/"
        },
        "id": "AQ2YIKgM54nB",
        "outputId": "78a57729-88dc-49a3-ef4b-05cb97b489be"
      },
      "execution_count": null,
      "outputs": [
        {
          "output_type": "stream",
          "name": "stdout",
          "text": [
            "Generating positive variants…\n"
          ]
        },
        {
          "output_type": "stream",
          "name": "stderr",
          "text": [
            "positive: 100%|██████████| 200/200 [1:15:34<00:00, 22.67s/it]\n"
          ]
        },
        {
          "output_type": "stream",
          "name": "stdout",
          "text": [
            "Generating negative variants…\n"
          ]
        },
        {
          "output_type": "stream",
          "name": "stderr",
          "text": [
            "negative: 100%|██████████| 200/200 [1:18:29<00:00, 23.55s/it]"
          ]
        },
        {
          "output_type": "stream",
          "name": "stdout",
          "text": [
            "✅ Saved 400 variants to variants/Cora_SAGEMean/\n"
          ]
        },
        {
          "output_type": "stream",
          "name": "stderr",
          "text": [
            "\n"
          ]
        }
      ]
    },
    {
      "cell_type": "code",
      "source": [
        "import os\n",
        "import torch\n",
        "from torch_geometric.data import Data\n",
        "\n",
        "def load_variants(variant_dir):\n",
        "    graphs = []\n",
        "    for fname in sorted(os.listdir(variant_dir)):\n",
        "        if fname.endswith(\".pt\"):\n",
        "            path = os.path.join(variant_dir, fname)\n",
        "            g = torch.load(path)\n",
        "            graphs.append(g)\n",
        "    return graphs\n",
        "\n",
        "def extract_fp(victim_model, U_net, graphs, batch_size=32, device='cuda' if torch.cuda.is_available() else 'cpu'):\n",
        "    from torch.nn import functional as F\n",
        "    from torch_geometric.loader import DataLoader\n",
        "    from torch_geometric.nn import global_mean_pool\n",
        "\n",
        "    victim_model.eval()\n",
        "    U_net.eval()\n",
        "\n",
        "    fingerprints = []\n",
        "\n",
        "    loader = DataLoader(graphs, batch_size=batch_size, shuffle=False)\n",
        "    for batch in loader:\n",
        "        batch = batch.to(device)\n",
        "        x = F.relu(victim_model.conv1(batch.x, batch.edge_index))\n",
        "        x = F.dropout(x, p=victim_model.dropout, training=False)\n",
        "        x = victim_model.conv2(x, batch.edge_index)\n",
        "        pooled = global_mean_pool(x, batch.batch)\n",
        "        out = U_net(pooled)\n",
        "        fingerprints.append(out.detach().cpu())\n",
        "\n",
        "    return torch.cat(fingerprints, dim=0)\n"
      ],
      "metadata": {
        "id": "e3GZ65H3thaj"
      },
      "execution_count": null,
      "outputs": []
    },
    {
      "cell_type": "code",
      "source": [
        "import torch\n",
        "import torch.nn as nn\n",
        "import torch.nn.functional as F\n",
        "from torch_geometric.nn import SAGEConv\n",
        "\n",
        "class SAGEMean(nn.Module):\n",
        "    def __init__(self, in_channels=1433, hidden_channels=128, out_channels=128, dropout=0.5):\n",
        "        super(SAGEMean, self).__init__()\n",
        "        self.conv1 = SAGEConv(in_channels, hidden_channels, aggr='mean')\n",
        "        self.conv2 = SAGEConv(hidden_channels, out_channels, aggr='mean')\n",
        "        self.dropout = dropout\n",
        "\n",
        "    def forward(self, x, edge_index, batch):\n",
        "        x = F.relu(self.conv1(x, edge_index))\n",
        "        x = F.dropout(x, p=self.dropout, training=self.training)\n",
        "        x = self.conv2(x, edge_index)\n",
        "        return x\n",
        "\n",
        "class FingerprintNetMLP(nn.Module):\n",
        "    def __init__(self, in_dim=128, hidden_dim=64, out_dim=64):\n",
        "        super(FingerprintNetMLP, self).__init__()\n",
        "        self.mlp = nn.Sequential(\n",
        "            nn.Linear(in_dim, hidden_dim),\n",
        "            nn.ReLU(),\n",
        "            nn.Linear(hidden_dim, out_dim)\n",
        "        )\n",
        "\n",
        "    def forward(self, x):\n",
        "        return self.mlp(x)\n"
      ],
      "metadata": {
        "id": "iGE1lL_gti7a"
      },
      "execution_count": null,
      "outputs": []
    },
    {
      "cell_type": "code",
      "source": [
        "import torch.nn as nn\n",
        "\n",
        "class FingerprintNetMLP(nn.Module):\n",
        "    def __init__(self, in_dim=128, hidden_dim=64, out_dim=2):  # out_dim=2 for classification\n",
        "        super(FingerprintNetMLP, self).__init__()\n",
        "        self.mlp = nn.Sequential(\n",
        "            nn.Linear(in_dim, hidden_dim),\n",
        "            nn.ReLU(),\n",
        "            nn.Linear(hidden_dim, out_dim)\n",
        "        )\n",
        "\n",
        "    def forward(self, x):\n",
        "        return self.mlp(x)\n",
        "\n"
      ],
      "metadata": {
        "id": "8D4qBicOt1bM"
      },
      "execution_count": null,
      "outputs": []
    },
    {
      "cell_type": "code",
      "source": [
        "from google.colab import drive\n",
        "drive.mount('/content/drive')\n"
      ],
      "metadata": {
        "colab": {
          "base_uri": "https://localhost:8080/"
        },
        "id": "X2Hi1HBGvB6t",
        "outputId": "107e9ce7-5991-4b8e-ab10-8fe0f8107214"
      },
      "execution_count": null,
      "outputs": [
        {
          "output_type": "stream",
          "name": "stdout",
          "text": [
            "Drive already mounted at /content/drive; to attempt to forcibly remount, call drive.mount(\"/content/drive\", force_remount=True).\n"
          ]
        }
      ]
    },
    {
      "cell_type": "code",
      "source": [
        "print(os.listdir(\"/content/drive/MyDrive\"))\n"
      ],
      "metadata": {
        "colab": {
          "base_uri": "https://localhost:8080/"
        },
        "id": "vdxomWnsvc0o",
        "outputId": "7f951710-c570-49f6-f5f6-e18fab57b0db"
      },
      "execution_count": null,
      "outputs": [
        {
          "output_type": "stream",
          "name": "stdout",
          "text": [
            "['Resume FSU (3).pdf', 'Outlook', 'Resume FSU (3).gdoc', 'serina.docx', 'STA Project.gslides', 'Analysis of Heinz et al. Paper on AI Chatbot for Mental Health.gdoc', 'Colab Notebooks', 'gnnfingers', 'gnnfingers_data']\n"
          ]
        }
      ]
    },
    {
      "cell_type": "code",
      "source": [
        "print(os.listdir(\"/content/drive/MyDrive/gnnfingers\"))\n"
      ],
      "metadata": {
        "colab": {
          "base_uri": "https://localhost:8080/"
        },
        "id": "Rp0OaO78vmYA",
        "outputId": "593c8e6b-53b8-4620-c17a-fc70cb210307"
      },
      "execution_count": null,
      "outputs": [
        {
          "output_type": "stream",
          "name": "stdout",
          "text": [
            "['checkpoints', 'variants', 'ENZYMES', 'ARUC_ENZ_GCNMean_Q200.png', 'fingerprints', 'PROTEINS']\n"
          ]
        }
      ]
    },
    {
      "cell_type": "code",
      "source": [
        "import os\n",
        "\n",
        "base_path = \"/content/drive/MyDrive/gnnfingers/variants\"\n",
        "print(\"📁 Subfolders under variants/:\")\n",
        "print(os.listdir(base_path))\n"
      ],
      "metadata": {
        "colab": {
          "base_uri": "https://localhost:8080/"
        },
        "id": "Sne5R9RPwcB2",
        "outputId": "bd08f376-e88c-4088-fcb2-ea242e65aab0"
      },
      "execution_count": null,
      "outputs": [
        {
          "output_type": "stream",
          "name": "stdout",
          "text": [
            "📁 Subfolders under variants/:\n",
            "['ENZ_GCNMean', 'ENZ_GCNDiff', 'ENZ_SAGEMean', 'ENZ_SAGEDiff', 'PR_GCNMean', 'PR_GCNDiff', 'PR_SAGEMean', 'PR_SAGEDiff']\n"
          ]
        }
      ]
    },
    {
      "cell_type": "code",
      "source": [
        "# Mount Google Drive\n",
        "from google.colab import drive\n",
        "drive.mount('/content/drive')\n",
        "\n",
        "# --- Imports ---\n",
        "import os\n",
        "import torch\n",
        "import torch.nn as nn\n",
        "import torch.nn.functional as F\n",
        "from torch_geometric.datasets import Planetoid\n",
        "from torch_geometric.nn import SAGEConv\n",
        "from torch_geometric.loader import DataLoader\n",
        "\n",
        "# --- Model (smaller) ---\n",
        "class SAGEMean(nn.Module):\n",
        "    def __init__(self, in_channels=1433, hidden_channels=64, out_channels=64, dropout=0.5):\n",
        "        super(SAGEMean, self).__init__()\n",
        "        self.conv1 = SAGEConv(in_channels, hidden_channels, aggr='mean')\n",
        "        self.conv2 = SAGEConv(hidden_channels, out_channels, aggr='mean')\n",
        "        self.dropout = dropout\n",
        "\n",
        "    def forward(self, x, edge_index, batch=None):\n",
        "        x = F.relu(self.conv1(x, edge_index))\n",
        "        x = F.dropout(x, p=self.dropout, training=self.training)\n",
        "        x = self.conv2(x, edge_index)\n",
        "        return x\n",
        "\n",
        "# --- Load Cora dataset ---\n",
        "dataset = Planetoid(root='/tmp/Cora', name='Cora')\n",
        "data = dataset[0].to('cuda' if torch.cuda.is_available() else 'cpu')\n",
        "\n",
        "# --- Train victim (fewer epochs) ---\n",
        "device = data.x.device\n",
        "victim = SAGEMean().to(device)\n",
        "optimizer = torch.optim.Adam(victim.parameters(), lr=0.01, weight_decay=5e-4)\n",
        "\n",
        "victim.train()\n",
        "for epoch in range(1, 21):  # ↓ reduced epochs\n",
        "    optimizer.zero_grad()\n",
        "    out = victim(data.x, data.edge_index)\n",
        "    loss = F.cross_entropy(out[data.train_mask], data.y[data.train_mask])\n",
        "    loss.backward()\n",
        "    optimizer.step()\n",
        "    if epoch % 5 == 0:\n",
        "        print(f\"Epoch {epoch:02d} - Loss: {loss.item():.4f}\")\n",
        "\n",
        "# Save victim model\n",
        "os.makedirs(\"/content/drive/MyDrive/gnnfingers/victims\", exist_ok=True)\n",
        "torch.save(victim.state_dict(), \"/content/drive/MyDrive/gnnfingers/victims/victim_Cora_SAGEMean.pth\")\n",
        "print(\"✅ Victim model saved to Drive\")\n",
        "\n",
        "# --- Variant Generation ---\n",
        "def generate_positive_variant(graph, seed):\n",
        "    torch.manual_seed(seed)\n",
        "    return graph.clone().to('cpu').clone().detach().apply_(lambda x: x)  # fast copy\n",
        "\n",
        "def generate_negative_variant(graph, seed):\n",
        "    torch.manual_seed(seed)\n",
        "    g = graph.clone().to('cpu')\n",
        "    g.y = torch.randint(0, graph.y.max().item() + 1, g.y.shape)\n",
        "    return g\n",
        "\n",
        "variant_dir = \"/content/drive/MyDrive/gnnfingers/variants/Cora_SAGEMean\"\n",
        "os.makedirs(variant_dir, exist_ok=True)\n",
        "\n",
        "for i in range(200):\n",
        "    p_graph = generate_positive_variant(data.cpu(), i)\n",
        "    n_graph = generate_negative_variant(data.cpu(), 1000 + i)\n",
        "    torch.save(p_graph, f\"{variant_dir}/P_{i}.pt\")\n",
        "    torch.save(n_graph, f\"{variant_dir}/N_{i}.pt\")\n",
        "    if (i + 1) % 50 == 0:\n",
        "        print(f\"✅ Saved {i+1}/200 variants\")\n",
        "\n",
        "print(\"✅ All 400 variants saved to:\", variant_dir)\n"
      ],
      "metadata": {
        "colab": {
          "base_uri": "https://localhost:8080/"
        },
        "id": "cO27z69nwx_H",
        "outputId": "bf461025-766a-4636-d722-6bd699fee3f8"
      },
      "execution_count": null,
      "outputs": [
        {
          "output_type": "stream",
          "name": "stdout",
          "text": [
            "Drive already mounted at /content/drive; to attempt to forcibly remount, call drive.mount(\"/content/drive\", force_remount=True).\n"
          ]
        },
        {
          "output_type": "stream",
          "name": "stderr",
          "text": [
            "Downloading https://github.com/kimiyoung/planetoid/raw/master/data/ind.cora.x\n",
            "Downloading https://github.com/kimiyoung/planetoid/raw/master/data/ind.cora.tx\n",
            "Downloading https://github.com/kimiyoung/planetoid/raw/master/data/ind.cora.allx\n",
            "Downloading https://github.com/kimiyoung/planetoid/raw/master/data/ind.cora.y\n",
            "Downloading https://github.com/kimiyoung/planetoid/raw/master/data/ind.cora.ty\n",
            "Downloading https://github.com/kimiyoung/planetoid/raw/master/data/ind.cora.ally\n",
            "Downloading https://github.com/kimiyoung/planetoid/raw/master/data/ind.cora.graph\n",
            "Downloading https://github.com/kimiyoung/planetoid/raw/master/data/ind.cora.test.index\n",
            "Processing...\n",
            "Done!\n"
          ]
        },
        {
          "output_type": "stream",
          "name": "stdout",
          "text": [
            "Epoch 05 - Loss: 1.2593\n",
            "Epoch 10 - Loss: 0.1899\n",
            "Epoch 15 - Loss: 0.0388\n",
            "Epoch 20 - Loss: 0.0137\n",
            "✅ Victim model saved to Drive\n",
            "✅ Saved 50/200 variants\n",
            "✅ Saved 100/200 variants\n",
            "✅ Saved 150/200 variants\n",
            "✅ Saved 200/200 variants\n",
            "✅ All 400 variants saved to: /content/drive/MyDrive/gnnfingers/variants/Cora_SAGEMean\n"
          ]
        }
      ]
    },
    {
      "cell_type": "code",
      "source": [
        "import os\n",
        "import torch\n",
        "import torch.nn as nn\n",
        "import torch.nn.functional as F\n",
        "from torch_geometric.loader import DataLoader\n",
        "from torch_geometric.nn import SAGEConv, global_mean_pool\n",
        "\n",
        "# Define victim model\n",
        "class SAGEMean(nn.Module):\n",
        "    def __init__(self, in_channels=1433, hidden_channels=64, out_channels=64, dropout=0.5):\n",
        "        super(SAGEMean, self).__init__()\n",
        "        self.conv1 = SAGEConv(in_channels, hidden_channels, aggr='mean')\n",
        "        self.conv2 = SAGEConv(hidden_channels, out_channels, aggr='mean')\n",
        "        self.dropout = dropout\n",
        "\n",
        "    def forward(self, x, edge_index, batch=None):\n",
        "        x = F.relu(self.conv1(x, edge_index))\n",
        "        x = F.dropout(x, p=self.dropout, training=self.training)\n",
        "        x = self.conv2(x, edge_index)\n",
        "        return x\n",
        "\n",
        "# Define fingerprint network\n",
        "class FingerprintNetMLP(nn.Module):\n",
        "    def __init__(self, in_dim=64, hidden_dim=32, out_dim=64):\n",
        "        super(FingerprintNetMLP, self).__init__()\n",
        "        self.mlp = nn.Sequential(\n",
        "            nn.Linear(in_dim, hidden_dim),\n",
        "            nn.ReLU(),\n",
        "            nn.Linear(hidden_dim, out_dim)\n",
        "        )\n",
        "    def forward(self, x):\n",
        "        return self.mlp(x)\n",
        "\n",
        "# Load variant graphs\n",
        "def load_variants(variant_dir):\n",
        "    graphs = []\n",
        "    for fname in sorted(os.listdir(variant_dir)):\n",
        "        if fname.endswith(\".pt\"):\n",
        "            path = os.path.join(variant_dir, fname)\n",
        "            g = torch.load(path, weights_only=False)  # 🔧 FIXED LINE\n",
        "            graphs.append(g)\n",
        "    return graphs\n",
        "\n",
        "# Extract fingerprints\n",
        "def extract_fp(victim_model, U_net, graphs, batch_size=32, device='cuda' if torch.cuda.is_available() else 'cpu'):\n",
        "    victim_model.eval()\n",
        "    U_net.eval()\n",
        "    fingerprints = []\n",
        "    loader = DataLoader(graphs, batch_size=batch_size, shuffle=False)\n",
        "    for batch in loader:\n",
        "        batch = batch.to(device)\n",
        "        x = F.relu(victim_model.conv1(batch.x, batch.edge_index))\n",
        "        x = F.dropout(x, p=victim_model.dropout, training=False)\n",
        "        x = victim_model.conv2(x, batch.edge_index)\n",
        "        pooled = global_mean_pool(x, batch.batch)\n",
        "        out = U_net(pooled)\n",
        "        fingerprints.append(out.detach().cpu())\n",
        "    return torch.cat(fingerprints, dim=0)\n",
        "\n",
        "# Load model and data\n",
        "device = torch.device(\"cuda\" if torch.cuda.is_available() else \"cpu\")\n",
        "victim = SAGEMean().to(device)\n",
        "victim.load_state_dict(torch.load(\"/content/drive/MyDrive/gnnfingers/victims/victim_Cora_SAGEMean.pth\"))\n",
        "graphs = load_variants(\"/content/drive/MyDrive/gnnfingers/variants/Cora_SAGEMean\")\n",
        "\n",
        "# Extract fingerprints\n",
        "fingerprints = extract_fp(victim, FingerprintNetMLP().to(device), graphs)\n",
        "\n",
        "# Save fingerprints\n",
        "os.makedirs(\"/content/drive/MyDrive/gnnfingers/fingerprints\", exist_ok=True)\n",
        "torch.save(fingerprints, \"/content/drive/MyDrive/gnnfingers/fingerprints/fps_Cora_SAGEMean.pt\")\n",
        "print(\"✅ Saved fingerprint matrix to /content/drive/MyDrive/gnnfingers/fingerprints/fps_Cora_SAGEMean.pt\")\n"
      ],
      "metadata": {
        "colab": {
          "base_uri": "https://localhost:8080/"
        },
        "id": "oons9RTsxvK1",
        "outputId": "eaf6b285-c889-4244-c9b5-e85d1e33f6d8"
      },
      "execution_count": null,
      "outputs": [
        {
          "output_type": "stream",
          "name": "stdout",
          "text": [
            "✅ Saved fingerprint matrix to /content/drive/MyDrive/gnnfingers/fingerprints/fps_Cora_SAGEMean.pt\n"
          ]
        }
      ]
    },
    {
      "cell_type": "code",
      "source": [
        "import torch\n",
        "import torch.nn as nn\n",
        "import torch.optim as optim\n",
        "from torch.utils.data import TensorDataset, DataLoader\n",
        "\n",
        "# Step 1: Load fingerprints from Drive\n",
        "fps = torch.load(\"/content/drive/MyDrive/gnnfingers/fingerprints/fps_Cora_SAGEMean.pt\")\n",
        "\n",
        "# Step 2: Create labels: 1 for positive, 0 for negative\n",
        "labels = torch.cat([torch.ones(200), torch.zeros(200)]).long()\n",
        "\n",
        "# Step 3: Train/test split\n",
        "train_fps, test_fps = fps[:320], fps[320:]\n",
        "train_labels, test_labels = labels[:320], labels[320:]\n",
        "\n",
        "# Step 4: Define simple MLP classifier\n",
        "class FingerprintNetMLP(nn.Module):\n",
        "    def __init__(self, in_dim=64, hidden_dim=128, out_dim=64):\n",
        "        super(FingerprintNetMLP, self).__init__()\n",
        "        self.mlp = nn.Sequential(\n",
        "            nn.Linear(in_dim, hidden_dim),\n",
        "            nn.ReLU(),\n",
        "            nn.Dropout(0.3),\n",
        "            nn.Linear(hidden_dim, hidden_dim),\n",
        "            nn.ReLU(),\n",
        "            nn.Linear(hidden_dim, out_dim)\n",
        "        )\n",
        "\n",
        "    def forward(self, x):\n",
        "        return self.mlp(x)\n",
        "\n",
        "\n",
        "# DataLoader setup\n",
        "train_ds = TensorDataset(train_fps, train_labels)\n",
        "test_ds = TensorDataset(test_fps, test_labels)\n",
        "train_loader = DataLoader(train_ds, batch_size=32, shuffle=True)\n",
        "test_loader = DataLoader(test_ds, batch_size=32)\n",
        "\n",
        "# Step 5: Train the model\n",
        "device = torch.device(\"cuda\" if torch.cuda.is_available() else \"cpu\")\n",
        "U = FingerprintNetMLP().to(device)\n",
        "criterion = nn.CrossEntropyLoss()\n",
        "optimizer = optim.Adam(U.parameters(), lr=1e-3)\n",
        "\n",
        "U.train()\n",
        "for epoch in range(1, 11):\n",
        "    total_loss = 0\n",
        "    for x_batch, y_batch in train_loader:\n",
        "        x_batch, y_batch = x_batch.to(device), y_batch.to(device)\n",
        "        optimizer.zero_grad()\n",
        "        logits = U(x_batch)\n",
        "        loss = criterion(logits, y_batch)\n",
        "        loss.backward()\n",
        "        optimizer.step()\n",
        "        total_loss += loss.item()\n",
        "    print(f\"Epoch {epoch:02d} - Loss: {total_loss:.4f}\")\n",
        "\n",
        "# Step 6: Evaluate on test set\n",
        "U.eval()\n",
        "correct = 0\n",
        "total = 0\n",
        "with torch.no_grad():\n",
        "    for x_batch, y_batch in test_loader:\n",
        "        x_batch, y_batch = x_batch.to(device), y_batch.to(device)\n",
        "        preds = U(x_batch).argmax(dim=1)\n",
        "        correct += (preds == y_batch).sum().item()\n",
        "        total += y_batch.size(0)\n",
        "\n",
        "acc = correct / total\n",
        "print(f\"✅ Test Accuracy: {acc:.4f}\")\n",
        "\n",
        "# Step 7: Save Univerifier model to Drive\n",
        "torch.save(U.state_dict(), \"/content/drive/MyDrive/gnnfingers/checkpoints/U_Cora_SAGEMean.pth\")\n",
        "print(\"✅ Univerifier saved to Drive at checkpoints/U_Cora_SAGEMean.pth\")\n"
      ],
      "metadata": {
        "colab": {
          "base_uri": "https://localhost:8080/"
        },
        "id": "dPvnhz3GwUzl",
        "outputId": "616893bb-23d7-4cdd-ad5e-6d10aec18138"
      },
      "execution_count": null,
      "outputs": [
        {
          "output_type": "stream",
          "name": "stdout",
          "text": [
            "Epoch 01 - Loss: 24.6374\n",
            "Epoch 02 - Loss: 8.2157\n",
            "Epoch 03 - Loss: 7.3074\n",
            "Epoch 04 - Loss: 7.0878\n",
            "Epoch 05 - Loss: 6.8366\n",
            "Epoch 06 - Loss: 7.0544\n",
            "Epoch 07 - Loss: 7.0218\n",
            "Epoch 08 - Loss: 6.7414\n",
            "Epoch 09 - Loss: 6.7626\n",
            "Epoch 10 - Loss: 6.8055\n",
            "✅ Test Accuracy: 0.0000\n",
            "✅ Univerifier saved to Drive at checkpoints/U_Cora_SAGEMean.pth\n"
          ]
        }
      ]
    },
    {
      "cell_type": "code",
      "source": [
        "print(fps.shape)       # Should be (400, 64)\n",
        "print(labels[:10])     # Should be [1, 1, 1, ...] for first 200\n",
        "print(labels[200:210]) # Should be [0, 0, 0, ...]\n"
      ],
      "metadata": {
        "colab": {
          "base_uri": "https://localhost:8080/"
        },
        "id": "Zd8wvCdQy76c",
        "outputId": "0d25f94c-6518-4e52-eccb-7c87424f8a66"
      },
      "execution_count": null,
      "outputs": [
        {
          "output_type": "stream",
          "name": "stdout",
          "text": [
            "torch.Size([400, 64])\n",
            "tensor([1, 1, 1, 1, 1, 1, 1, 1, 1, 1])\n",
            "tensor([0, 0, 0, 0, 0, 0, 0, 0, 0, 0])\n"
          ]
        }
      ]
    },
    {
      "cell_type": "code",
      "source": [
        "with torch.no_grad():\n",
        "    test_probs = torch.softmax(U(test_fps.to(device)), dim=1)\n",
        "    print(test_probs[:5])  # Check if outputs are all close to [0.5, 0.5]\n"
      ],
      "metadata": {
        "colab": {
          "base_uri": "https://localhost:8080/"
        },
        "id": "9k6aRGY6zM5t",
        "outputId": "3a8d7f31-4426-4ac4-c34f-d98dc315cf69"
      },
      "execution_count": null,
      "outputs": [
        {
          "output_type": "stream",
          "name": "stdout",
          "text": [
            "tensor([[3.7561e-01, 6.2419e-01, 2.3092e-06, 1.1970e-06, 1.3155e-06, 3.7376e-06,\n",
            "         5.4926e-07, 3.3085e-07, 6.7036e-06, 3.3615e-06, 2.4030e-06, 2.4142e-06,\n",
            "         3.7559e-07, 2.7202e-06, 2.3303e-06, 1.4282e-06, 1.7723e-06, 6.3084e-07,\n",
            "         1.0764e-05, 1.8269e-06, 2.2887e-06, 1.1432e-06, 1.2433e-06, 2.5228e-06,\n",
            "         3.4690e-07, 7.1672e-07, 4.9468e-06, 1.1646e-06, 1.8652e-06, 1.0916e-05,\n",
            "         1.8044e-05, 2.9022e-06, 3.0232e-06, 8.3911e-07, 2.3492e-06, 8.9141e-06,\n",
            "         4.3440e-07, 3.0656e-06, 5.9337e-07, 1.3389e-05, 2.8298e-06, 3.5749e-06,\n",
            "         1.8453e-06, 2.8977e-06, 8.2857e-07, 1.9255e-06, 1.7434e-06, 1.2118e-06,\n",
            "         8.2121e-07, 5.7365e-06, 3.9854e-06, 2.0967e-06, 1.2222e-06, 1.4249e-06,\n",
            "         4.8782e-06, 2.0765e-06, 6.7144e-07, 6.4792e-06, 9.5162e-07, 3.2511e-06,\n",
            "         5.5669e-06, 8.1941e-06, 5.4984e-06, 2.4461e-06],\n",
            "        [3.7561e-01, 6.2419e-01, 2.3092e-06, 1.1970e-06, 1.3155e-06, 3.7376e-06,\n",
            "         5.4926e-07, 3.3085e-07, 6.7036e-06, 3.3615e-06, 2.4030e-06, 2.4142e-06,\n",
            "         3.7559e-07, 2.7202e-06, 2.3303e-06, 1.4282e-06, 1.7723e-06, 6.3084e-07,\n",
            "         1.0764e-05, 1.8269e-06, 2.2887e-06, 1.1432e-06, 1.2433e-06, 2.5228e-06,\n",
            "         3.4690e-07, 7.1672e-07, 4.9468e-06, 1.1646e-06, 1.8652e-06, 1.0916e-05,\n",
            "         1.8044e-05, 2.9022e-06, 3.0232e-06, 8.3911e-07, 2.3492e-06, 8.9141e-06,\n",
            "         4.3440e-07, 3.0656e-06, 5.9337e-07, 1.3389e-05, 2.8298e-06, 3.5749e-06,\n",
            "         1.8453e-06, 2.8977e-06, 8.2857e-07, 1.9255e-06, 1.7434e-06, 1.2118e-06,\n",
            "         8.2121e-07, 5.7365e-06, 3.9854e-06, 2.0967e-06, 1.2222e-06, 1.4249e-06,\n",
            "         4.8782e-06, 2.0765e-06, 6.7144e-07, 6.4792e-06, 9.5162e-07, 3.2511e-06,\n",
            "         5.5669e-06, 8.1941e-06, 5.4984e-06, 2.4461e-06],\n",
            "        [3.7561e-01, 6.2419e-01, 2.3092e-06, 1.1970e-06, 1.3155e-06, 3.7376e-06,\n",
            "         5.4926e-07, 3.3085e-07, 6.7036e-06, 3.3615e-06, 2.4030e-06, 2.4142e-06,\n",
            "         3.7559e-07, 2.7202e-06, 2.3303e-06, 1.4282e-06, 1.7723e-06, 6.3084e-07,\n",
            "         1.0764e-05, 1.8269e-06, 2.2887e-06, 1.1432e-06, 1.2433e-06, 2.5228e-06,\n",
            "         3.4690e-07, 7.1672e-07, 4.9468e-06, 1.1646e-06, 1.8652e-06, 1.0916e-05,\n",
            "         1.8044e-05, 2.9022e-06, 3.0232e-06, 8.3911e-07, 2.3492e-06, 8.9141e-06,\n",
            "         4.3440e-07, 3.0656e-06, 5.9337e-07, 1.3389e-05, 2.8298e-06, 3.5749e-06,\n",
            "         1.8453e-06, 2.8977e-06, 8.2857e-07, 1.9255e-06, 1.7434e-06, 1.2118e-06,\n",
            "         8.2121e-07, 5.7365e-06, 3.9854e-06, 2.0967e-06, 1.2222e-06, 1.4249e-06,\n",
            "         4.8782e-06, 2.0765e-06, 6.7144e-07, 6.4792e-06, 9.5162e-07, 3.2511e-06,\n",
            "         5.5669e-06, 8.1941e-06, 5.4984e-06, 2.4461e-06],\n",
            "        [3.7561e-01, 6.2419e-01, 2.3092e-06, 1.1970e-06, 1.3155e-06, 3.7376e-06,\n",
            "         5.4926e-07, 3.3085e-07, 6.7036e-06, 3.3615e-06, 2.4030e-06, 2.4142e-06,\n",
            "         3.7559e-07, 2.7202e-06, 2.3303e-06, 1.4282e-06, 1.7723e-06, 6.3084e-07,\n",
            "         1.0764e-05, 1.8269e-06, 2.2887e-06, 1.1432e-06, 1.2433e-06, 2.5228e-06,\n",
            "         3.4690e-07, 7.1672e-07, 4.9468e-06, 1.1646e-06, 1.8652e-06, 1.0916e-05,\n",
            "         1.8044e-05, 2.9022e-06, 3.0232e-06, 8.3911e-07, 2.3492e-06, 8.9141e-06,\n",
            "         4.3440e-07, 3.0656e-06, 5.9337e-07, 1.3389e-05, 2.8298e-06, 3.5749e-06,\n",
            "         1.8453e-06, 2.8977e-06, 8.2857e-07, 1.9255e-06, 1.7434e-06, 1.2118e-06,\n",
            "         8.2121e-07, 5.7365e-06, 3.9854e-06, 2.0967e-06, 1.2222e-06, 1.4249e-06,\n",
            "         4.8782e-06, 2.0765e-06, 6.7144e-07, 6.4792e-06, 9.5162e-07, 3.2511e-06,\n",
            "         5.5669e-06, 8.1941e-06, 5.4984e-06, 2.4461e-06],\n",
            "        [3.7561e-01, 6.2419e-01, 2.3092e-06, 1.1970e-06, 1.3155e-06, 3.7376e-06,\n",
            "         5.4926e-07, 3.3085e-07, 6.7036e-06, 3.3615e-06, 2.4030e-06, 2.4142e-06,\n",
            "         3.7559e-07, 2.7202e-06, 2.3303e-06, 1.4282e-06, 1.7723e-06, 6.3084e-07,\n",
            "         1.0764e-05, 1.8269e-06, 2.2887e-06, 1.1432e-06, 1.2433e-06, 2.5228e-06,\n",
            "         3.4690e-07, 7.1672e-07, 4.9468e-06, 1.1646e-06, 1.8652e-06, 1.0916e-05,\n",
            "         1.8044e-05, 2.9022e-06, 3.0232e-06, 8.3911e-07, 2.3492e-06, 8.9141e-06,\n",
            "         4.3440e-07, 3.0656e-06, 5.9337e-07, 1.3389e-05, 2.8298e-06, 3.5749e-06,\n",
            "         1.8453e-06, 2.8977e-06, 8.2857e-07, 1.9255e-06, 1.7434e-06, 1.2118e-06,\n",
            "         8.2121e-07, 5.7365e-06, 3.9854e-06, 2.0967e-06, 1.2222e-06, 1.4249e-06,\n",
            "         4.8782e-06, 2.0765e-06, 6.7144e-07, 6.4792e-06, 9.5162e-07, 3.2511e-06,\n",
            "         5.5669e-06, 8.1941e-06, 5.4984e-06, 2.4461e-06]])\n"
          ]
        }
      ]
    },
    {
      "cell_type": "code",
      "source": [
        "# Mount Google Drive (if not already)\n",
        "from google.colab import drive\n",
        "drive.mount('/content/drive')\n",
        "\n",
        "# Imports\n",
        "import os\n",
        "import torch\n",
        "import torch.nn as nn\n",
        "import torch.nn.functional as F\n",
        "from torch_geometric.datasets import Planetoid\n",
        "from torch_geometric.nn import SAGEConv\n",
        "\n",
        "# Define victim model\n",
        "class SAGEMean(nn.Module):\n",
        "    def __init__(self, in_channels=1433, hidden_channels=64, out_channels=64, dropout=0.5):\n",
        "        super(SAGEMean, self).__init__()\n",
        "        self.conv1 = SAGEConv(in_channels, hidden_channels, aggr='mean')\n",
        "        self.conv2 = SAGEConv(hidden_channels, out_channels, aggr='mean')\n",
        "        self.dropout = dropout\n",
        "\n",
        "    def forward(self, x, edge_index, batch=None):\n",
        "        x = F.relu(self.conv1(x, edge_index))\n",
        "        x = F.dropout(x, p=self.dropout, training=self.training)\n",
        "        x = self.conv2(x, edge_index)\n",
        "        return x\n",
        "\n",
        "# Load Cora dataset\n",
        "from torch_geometric.datasets import Planetoid\n",
        "dataset = Planetoid(root='/tmp/Cora', name='Cora')\n",
        "data = dataset[0].to('cuda' if torch.cuda.is_available() else 'cpu')\n",
        "\n",
        "# Initialize victim model\n",
        "device = data.x.device\n",
        "victim = SAGEMean().to(device)\n",
        "optimizer = torch.optim.Adam(victim.parameters(), lr=0.01, weight_decay=5e-4)\n",
        "\n",
        "# Train victim model\n",
        "for epoch in range(1, 51):  # Train for 50 epochs\n",
        "    victim.train()\n",
        "    optimizer.zero_grad()\n",
        "    out = victim(data.x, data.edge_index)\n",
        "    loss = F.cross_entropy(out[data.train_mask], data.y[data.train_mask])\n",
        "    loss.backward()\n",
        "    optimizer.step()\n",
        "    if epoch % 10 == 0:\n",
        "        print(f\"Epoch {epoch:02d} - Loss: {loss.item():.4f}\")\n",
        "\n",
        "# Save model to Drive\n",
        "save_path = \"/content/drive/MyDrive/gnnfingers/victims/victim_Cora_SAGEMean.pth\"\n",
        "os.makedirs(os.path.dirname(save_path), exist_ok=True)\n",
        "torch.save(victim.state_dict(), save_path)\n",
        "print(f\"✅ Retrained victim model saved to: {save_path}\")\n"
      ],
      "metadata": {
        "colab": {
          "base_uri": "https://localhost:8080/"
        },
        "id": "n6NdCvSQz1ax",
        "outputId": "4d83da62-9edc-4d94-e7f4-ec25f978bfd7"
      },
      "execution_count": null,
      "outputs": [
        {
          "output_type": "stream",
          "name": "stdout",
          "text": [
            "Drive already mounted at /content/drive; to attempt to forcibly remount, call drive.mount(\"/content/drive\", force_remount=True).\n",
            "Epoch 10 - Loss: 0.1461\n",
            "Epoch 20 - Loss: 0.0055\n",
            "Epoch 30 - Loss: 0.0020\n",
            "Epoch 40 - Loss: 0.0009\n",
            "Epoch 50 - Loss: 0.0016\n",
            "✅ Retrained victim model saved to: /content/drive/MyDrive/gnnfingers/victims/victim_Cora_SAGEMean.pth\n"
          ]
        }
      ]
    },
    {
      "cell_type": "code",
      "source": [
        "# === Mount Drive first ===\n",
        "from google.colab import drive\n",
        "drive.mount('/content/drive', force_remount=True)\n",
        "\n",
        "# === Imports ===\n",
        "import os\n",
        "import torch\n",
        "import torch.nn as nn\n",
        "import torch.nn.functional as F\n",
        "from torch_geometric.loader import DataLoader\n",
        "from torch_geometric.nn import SAGEConv, global_mean_pool\n",
        "\n",
        "# === Victim Model Definition ===\n",
        "class SAGEMean(nn.Module):\n",
        "    def __init__(self, in_channels=1433, hidden_channels=64, out_channels=64, dropout=0.5):\n",
        "        super(SAGEMean, self).__init__()\n",
        "        self.conv1 = SAGEConv(in_channels, hidden_channels, aggr='mean')\n",
        "        self.conv2 = SAGEConv(hidden_channels, out_channels, aggr='mean')\n",
        "        self.dropout = dropout\n",
        "\n",
        "    def forward(self, x, edge_index, batch=None):\n",
        "        x = F.relu(self.conv1(x, edge_index))\n",
        "        x = F.dropout(x, p=self.dropout, training=self.training)\n",
        "        x = self.conv2(x, edge_index)\n",
        "        return x\n",
        "\n",
        "# === FingerprintNetMLP (Strong Version) ===\n",
        "class FingerprintNetMLP(nn.Module):\n",
        "    def __init__(self, in_dim=64, hidden_dim=128, out_dim=64):\n",
        "        super(FingerprintNetMLP, self).__init__()\n",
        "        self.mlp = nn.Sequential(\n",
        "            nn.Linear(in_dim, hidden_dim),\n",
        "            nn.ReLU(),\n",
        "            nn.Dropout(0.3),\n",
        "            nn.Linear(hidden_dim, hidden_dim),\n",
        "            nn.ReLU(),\n",
        "            nn.Linear(hidden_dim, out_dim)\n",
        "        )\n",
        "\n",
        "    def forward(self, x):\n",
        "        return self.mlp(x)\n",
        "\n",
        "# === Load Variant Graphs ===\n",
        "def load_variants(variant_dir):\n",
        "    graphs = []\n",
        "    for fname in sorted(os.listdir(variant_dir)):\n",
        "        if fname.endswith(\".pt\"):\n",
        "            path = os.path.join(variant_dir, fname)\n",
        "            g = torch.load(path, weights_only=False)  # Safe for PyTorch 2.6+\n",
        "            graphs.append(g)\n",
        "    return graphs\n",
        "\n",
        "# === Extract Fingerprints from a Batch ===\n",
        "def extract_fp(victim_model, U_net, graphs, batch_size=32, device='cuda' if torch.cuda.is_available() else 'cpu'):\n",
        "    victim_model.eval()\n",
        "    U_net.eval()\n",
        "    fingerprints = []\n",
        "\n",
        "    loader = DataLoader(graphs, batch_size=batch_size, shuffle=False)\n",
        "    for batch in loader:\n",
        "        batch = batch.to(device)\n",
        "        x = F.relu(victim_model.conv1(batch.x, batch.edge_index))\n",
        "        x = F.dropout(x, p=victim_model.dropout, training=False)\n",
        "        x = victim_model.conv2(x, batch.edge_index)\n",
        "        pooled = global_mean_pool(x, batch.batch)\n",
        "        out = U_net(pooled)\n",
        "        fingerprints.append(out.detach().cpu())\n",
        "\n",
        "    return torch.cat(fingerprints, dim=0)\n",
        "\n",
        "# === Initialize Models ===\n",
        "device = torch.device(\"cuda\" if torch.cuda.is_available() else \"cpu\")\n",
        "\n",
        "victim = SAGEMean().to(device)\n",
        "victim.load_state_dict(torch.load(\"/content/drive/MyDrive/gnnfingers/victims/victim_Cora_SAGEMean.pth\"))\n",
        "print(\"✅ Loaded victim model\")\n",
        "\n",
        "graphs = load_variants(\"/content/drive/MyDrive/gnnfingers/variants/Cora_SAGEMean\")\n",
        "print(f\"✅ Loaded {len(graphs)} graphs\")\n",
        "\n",
        "# === Chunked Fingerprint Extraction ===\n",
        "U_net = FingerprintNetMLP().to(device)\n",
        "fingerprints = []\n",
        "\n",
        "for i in range(0, len(graphs), 100):\n",
        "    chunk = graphs[i:i+100]\n",
        "    print(f\"🔄 Processing graphs {i} to {i+len(chunk)-1}...\")\n",
        "    chunk_fp = extract_fp(victim, U_net, chunk, batch_size=32)\n",
        "    fingerprints.append(chunk_fp)\n",
        "\n",
        "# Concatenate and save\n",
        "fps = torch.cat(fingerprints, dim=0)\n",
        "os.makedirs(\"/content/drive/MyDrive/gnnfingers/fingerprints\", exist_ok=True)\n",
        "torch.save(fps, \"/content/drive/MyDrive/gnnfingers/fingerprints/fps_Cora_SAGEMean.pt\")\n",
        "print(\"✅ All fingerprints saved to: /content/drive/MyDrive/gnnfingers/fingerprints/fps_Cora_SAGEMean.pt\")\n"
      ],
      "metadata": {
        "colab": {
          "base_uri": "https://localhost:8080/"
        },
        "id": "Pee2H6CT0AiL",
        "outputId": "dae3044b-07aa-49c8-c6a4-beb30627c45a"
      },
      "execution_count": null,
      "outputs": [
        {
          "output_type": "stream",
          "name": "stdout",
          "text": [
            "Mounted at /content/drive\n",
            "✅ Loaded victim model\n",
            "✅ Loaded 400 graphs\n",
            "🔄 Processing graphs 0 to 99...\n",
            "🔄 Processing graphs 100 to 199...\n",
            "🔄 Processing graphs 200 to 299...\n",
            "🔄 Processing graphs 300 to 399...\n",
            "✅ All fingerprints saved to: /content/drive/MyDrive/gnnfingers/fingerprints/fps_Cora_SAGEMean.pt\n"
          ]
        }
      ]
    },
    {
      "cell_type": "code",
      "source": [
        "import torch\n",
        "import torch.nn as nn\n",
        "import torch.optim as optim\n",
        "from torch.utils.data import TensorDataset, DataLoader\n",
        "\n",
        "# Load fingerprint matrix from Drive\n",
        "fps = torch.load(\"/content/drive/MyDrive/gnnfingers/fingerprints/fps_Cora_SAGEMean.pt\")\n",
        "print(\"✅ Loaded fingerprints:\", fps.shape)  # should be [400, 64]\n",
        "\n",
        "# Labels: 200 positive, 200 negative\n",
        "labels = torch.cat([torch.ones(200), torch.zeros(200)]).long()\n",
        "\n",
        "# Train/test split\n",
        "train_fps, test_fps = fps[:320], fps[320:]\n",
        "train_labels, test_labels = labels[:320], labels[320:]\n",
        "\n",
        "# Data loaders\n",
        "train_ds = TensorDataset(train_fps, train_labels)\n",
        "test_ds = TensorDataset(test_fps, test_labels)\n",
        "train_loader = DataLoader(train_ds, batch_size=32, shuffle=True)\n",
        "test_loader = DataLoader(test_ds, batch_size=32)\n",
        "\n",
        "# Define Univerifier (stronger)\n",
        "class FingerprintNetMLP(nn.Module):\n",
        "    def __init__(self, in_dim=64, hidden_dim=128, out_dim=2):\n",
        "        super(FingerprintNetMLP, self).__init__()\n",
        "        self.mlp = nn.Sequential(\n",
        "            nn.Linear(in_dim, hidden_dim),\n",
        "            nn.ReLU(),\n",
        "            nn.Dropout(0.3),\n",
        "            nn.Linear(hidden_dim, hidden_dim),\n",
        "            nn.ReLU(),\n",
        "            nn.Linear(hidden_dim, out_dim)\n",
        "        )\n",
        "    def forward(self, x):\n",
        "        return self.mlp(x)\n",
        "\n",
        "# Train the model\n",
        "device = torch.device(\"cuda\" if torch.cuda.is_available() else \"cpu\")\n",
        "U = FingerprintNetMLP().to(device)\n",
        "criterion = nn.CrossEntropyLoss()\n",
        "optimizer = optim.Adam(U.parameters(), lr=1e-3)\n",
        "\n",
        "U.train()\n",
        "for epoch in range(1, 21):  # 20 epochs\n",
        "    total_loss = 0\n",
        "    for x_batch, y_batch in train_loader:\n",
        "        x_batch, y_batch = x_batch.to(device), y_batch.to(device)\n",
        "        optimizer.zero_grad()\n",
        "        out = U(x_batch)\n",
        "        loss = criterion(out, y_batch)\n",
        "        loss.backward()\n",
        "        optimizer.step()\n",
        "        total_loss += loss.item()\n",
        "    print(f\"Epoch {epoch:02d} - Loss: {total_loss:.4f}\")\n",
        "\n",
        "# Evaluate\n",
        "U.eval()\n",
        "correct = 0\n",
        "total = 0\n",
        "with torch.no_grad():\n",
        "    for x_batch, y_batch in test_loader:\n",
        "        x_batch, y_batch = x_batch.to(device), y_batch.to(device)\n",
        "        preds = U(x_batch).argmax(dim=1)\n",
        "        correct += (preds == y_batch).sum().item()\n",
        "        total += y_batch.size(0)\n",
        "\n",
        "acc = correct / total\n",
        "print(f\"✅ Test Accuracy: {acc:.4f}\")\n",
        "\n",
        "# Save model to Drive\n",
        "torch.save(U.state_dict(), \"/content/drive/MyDrive/gnnfingers/checkpoints/U_Cora_SAGEMean.pth\")\n",
        "print(\"✅ Univerifier saved to: /content/drive/MyDrive/gnnfingers/checkpoints/U_Cora_SAGEMean.pth\")\n"
      ],
      "metadata": {
        "colab": {
          "base_uri": "https://localhost:8080/"
        },
        "id": "NCeEOsKp1wEk",
        "outputId": "f43b7924-8d6c-4170-89d0-7087e5869af7"
      },
      "execution_count": null,
      "outputs": [
        {
          "output_type": "stream",
          "name": "stdout",
          "text": [
            "✅ Loaded fingerprints: torch.Size([400, 64])\n",
            "Epoch 01 - Loss: 6.8214\n",
            "Epoch 02 - Loss: 6.6762\n",
            "Epoch 03 - Loss: 6.6065\n",
            "Epoch 04 - Loss: 6.6440\n",
            "Epoch 05 - Loss: 6.6426\n",
            "Epoch 06 - Loss: 6.6624\n",
            "Epoch 07 - Loss: 6.7197\n",
            "Epoch 08 - Loss: 6.6554\n",
            "Epoch 09 - Loss: 6.6357\n",
            "Epoch 10 - Loss: 6.6523\n",
            "Epoch 11 - Loss: 6.6570\n",
            "Epoch 12 - Loss: 6.6110\n",
            "Epoch 13 - Loss: 6.6573\n",
            "Epoch 14 - Loss: 6.6735\n",
            "Epoch 15 - Loss: 6.6349\n",
            "Epoch 16 - Loss: 6.7021\n",
            "Epoch 17 - Loss: 6.6759\n",
            "Epoch 18 - Loss: 6.6301\n",
            "Epoch 19 - Loss: 6.6221\n",
            "Epoch 20 - Loss: 6.6829\n",
            "✅ Test Accuracy: 0.0000\n",
            "✅ Univerifier saved to: /content/drive/MyDrive/gnnfingers/checkpoints/U_Cora_SAGEMean.pth\n"
          ]
        }
      ]
    },
    {
      "cell_type": "code",
      "source": [
        "import os\n",
        "import torch\n",
        "import torch.nn as nn\n",
        "import torch.nn.functional as F\n",
        "from torch_geometric.nn import SAGEConv, global_mean_pool\n",
        "from torch_geometric.loader import DataLoader\n",
        "\n",
        "# === Define victim model ===\n",
        "class SAGEMean(nn.Module):\n",
        "    def __init__(self, in_channels=1433, hidden_channels=128, out_channels=128, dropout=0.5):\n",
        "        super().__init__()\n",
        "        self.conv1 = SAGEConv(in_channels, hidden_channels, aggr='mean')\n",
        "        self.conv2 = SAGEConv(hidden_channels, out_channels, aggr='mean')\n",
        "        self.dropout = dropout\n",
        "\n",
        "    def forward(self, x, edge_index, batch):\n",
        "        x = F.relu(self.conv1(x, edge_index))\n",
        "        x = F.dropout(x, p=self.dropout, training=self.training)\n",
        "        x = self.conv2(x, edge_index)\n",
        "        return x\n",
        "\n",
        "# === Fingerprint network ===\n",
        "class FingerprintNetMLP(nn.Module):\n",
        "    def __init__(self, in_dim=128, hidden_dim=64, out_dim=64):\n",
        "        super().__init__()\n",
        "        self.mlp = nn.Sequential(\n",
        "            nn.Linear(in_dim, hidden_dim),\n",
        "            nn.ReLU(),\n",
        "            nn.Dropout(0.3),\n",
        "            nn.Linear(hidden_dim, out_dim)\n",
        "        )\n",
        "\n",
        "    def forward(self, x):\n",
        "        return self.mlp(x)\n",
        "\n",
        "# === Load variant graphs ===\n",
        "from torch_geometric.data import Data\n",
        "import torch.serialization  ##\n",
        "\n",
        "def load_variants(variant_dir):\n",
        "    graphs = []\n",
        "    torch.serialization.add_safe_globals([Data])  # ← allow loading PyG Data objects\n",
        "    for fname in sorted(os.listdir(variant_dir)):\n",
        "        if fname.endswith(\".pt\"):\n",
        "            g = torch.load(os.path.join(variant_dir, fname), weights_only=False)\n",
        "            graphs.append(g)\n",
        "    return graphs\n",
        "\n",
        "\n",
        "# === Fingerprint extraction ===\n",
        "def extract_fp(victim, U_net, graphs, device='cuda' if torch.cuda.is_available() else 'cpu'):\n",
        "    victim.eval(); U_net.eval()\n",
        "    loader = DataLoader(graphs, batch_size=32, shuffle=False)\n",
        "    out_list = []\n",
        "\n",
        "    for batch in loader:\n",
        "        batch = batch.to(device)\n",
        "        x = F.relu(victim.conv1(batch.x, batch.edge_index))\n",
        "        x = F.dropout(x, p=victim.dropout, training=False)\n",
        "        x = victim.conv2(x, batch.edge_index)\n",
        "        pooled = global_mean_pool(x, batch.batch)\n",
        "        out = U_net(pooled)\n",
        "        out_list.append(out.detach().cpu())\n",
        "\n",
        "    return torch.cat(out_list, dim=0)\n",
        "\n",
        "# === Main multi-model extraction ===\n",
        "device = torch.device(\"cuda\" if torch.cuda.is_available() else \"cpu\")\n",
        "variant_dir = \"/content/drive/MyDrive/gnnfingers/variants/Cora_SAGEMean\"\n",
        "graphs = load_variants(variant_dir)\n",
        "print(f\"✅ Loaded {len(graphs)} graphs\")\n",
        "\n",
        "all_fps = []\n",
        "\n",
        "for seed in range(5):\n",
        "    print(f\"🔁 Training model #{seed+1}\")\n",
        "    torch.manual_seed(seed)\n",
        "\n",
        "    model = SAGEMean().to(device)\n",
        "    optimizer = torch.optim.Adam(model.parameters(), lr=0.01)\n",
        "\n",
        "    # Load the real Cora data to train on\n",
        "    from torch_geometric.datasets import Planetoid\n",
        "    dataset = Planetoid(root='/tmp/Cora', name='Cora')\n",
        "    data = dataset[0].to(device)\n",
        "\n",
        "    for epoch in range(50):  # keep it short for faster execution\n",
        "        model.train()\n",
        "        optimizer.zero_grad()\n",
        "        out = model(data.x, data.edge_index, torch.zeros_like(data.x[:, 0], dtype=torch.long))\n",
        "        loss = F.cross_entropy(out, data.y)\n",
        "        loss.backward()\n",
        "        optimizer.step()\n",
        "\n",
        "    print(f\"✅ Trained model #{seed+1}\")\n",
        "\n",
        "    # Fingerprint extractor\n",
        "    U_net = FingerprintNetMLP().to(device)\n",
        "    fps = extract_fp(model, U_net, graphs, device)\n",
        "    all_fps.append(fps)\n",
        "\n",
        "# === Final concatenated fingerprint matrix ===\n",
        "fingerprint_matrix = torch.cat(all_fps, dim=1)  # shape: [400, 320]\n",
        "print(\"✅ Final fingerprint shape:\", fingerprint_matrix.shape)\n",
        "\n",
        "# Save to Drive\n",
        "save_path = \"/content/drive/MyDrive/gnnfingers/fingerprints/fps_Cora_SAGEMean_multi.pt\"\n",
        "torch.save(fingerprint_matrix, save_path)\n",
        "print(f\"✅ Saved to: {save_path}\")\n"
      ],
      "metadata": {
        "colab": {
          "base_uri": "https://localhost:8080/",
          "height": 602
        },
        "id": "X2JRK5u_12l1",
        "outputId": "fb05590f-41be-4a84-e07c-0d30c2f2b11f"
      },
      "execution_count": null,
      "outputs": [
        {
          "output_type": "stream",
          "name": "stderr",
          "text": [
            "/usr/local/lib/python3.11/dist-packages/torch_geometric/typing.py:86: UserWarning: An issue occurred while importing 'torch-scatter'. Disabling its usage. Stacktrace: /usr/local/lib/python3.11/dist-packages/torch_scatter/_version_cpu.so: undefined symbol: _ZN3c1017RegisterOperatorsD1Ev\n",
            "  warnings.warn(f\"An issue occurred while importing 'torch-scatter'. \"\n",
            "/usr/local/lib/python3.11/dist-packages/torch_geometric/typing.py:97: UserWarning: An issue occurred while importing 'torch-cluster'. Disabling its usage. Stacktrace: /usr/local/lib/python3.11/dist-packages/torch_cluster/_version_cpu.so: undefined symbol: _ZN3c1017RegisterOperatorsD1Ev\n",
            "  warnings.warn(f\"An issue occurred while importing 'torch-cluster'. \"\n",
            "/usr/local/lib/python3.11/dist-packages/torch_geometric/typing.py:113: UserWarning: An issue occurred while importing 'torch-spline-conv'. Disabling its usage. Stacktrace: /usr/local/lib/python3.11/dist-packages/torch_spline_conv/_version_cpu.so: undefined symbol: _ZN3c1017RegisterOperatorsD1Ev\n",
            "  warnings.warn(\n",
            "/usr/local/lib/python3.11/dist-packages/torch_geometric/typing.py:124: UserWarning: An issue occurred while importing 'torch-sparse'. Disabling its usage. Stacktrace: /usr/local/lib/python3.11/dist-packages/torch_sparse/_version_cpu.so: undefined symbol: _ZN3c1017RegisterOperatorsD1Ev\n",
            "  warnings.warn(f\"An issue occurred while importing 'torch-sparse'. \"\n"
          ]
        },
        {
          "output_type": "stream",
          "name": "stdout",
          "text": [
            "✅ Loaded 400 graphs\n",
            "🔁 Training model #1\n",
            "✅ Trained model #1\n",
            "🔁 Training model #2\n",
            "✅ Trained model #2\n"
          ]
        },
        {
          "output_type": "error",
          "ename": "KeyboardInterrupt",
          "evalue": "",
          "traceback": [
            "\u001b[0;31m---------------------------------------------------------------------------\u001b[0m",
            "\u001b[0;31mKeyboardInterrupt\u001b[0m                         Traceback (most recent call last)",
            "\u001b[0;32m/tmp/ipython-input-1-4293304720.py\u001b[0m in \u001b[0;36m<cell line: 0>\u001b[0;34m()\u001b[0m\n\u001b[1;32m     97\u001b[0m     \u001b[0;31m# Fingerprint extractor\u001b[0m\u001b[0;34m\u001b[0m\u001b[0;34m\u001b[0m\u001b[0m\n\u001b[1;32m     98\u001b[0m     \u001b[0mU_net\u001b[0m \u001b[0;34m=\u001b[0m \u001b[0mFingerprintNetMLP\u001b[0m\u001b[0;34m(\u001b[0m\u001b[0;34m)\u001b[0m\u001b[0;34m.\u001b[0m\u001b[0mto\u001b[0m\u001b[0;34m(\u001b[0m\u001b[0mdevice\u001b[0m\u001b[0;34m)\u001b[0m\u001b[0;34m\u001b[0m\u001b[0;34m\u001b[0m\u001b[0m\n\u001b[0;32m---> 99\u001b[0;31m     \u001b[0mfps\u001b[0m \u001b[0;34m=\u001b[0m \u001b[0mextract_fp\u001b[0m\u001b[0;34m(\u001b[0m\u001b[0mmodel\u001b[0m\u001b[0;34m,\u001b[0m \u001b[0mU_net\u001b[0m\u001b[0;34m,\u001b[0m \u001b[0mgraphs\u001b[0m\u001b[0;34m,\u001b[0m \u001b[0mdevice\u001b[0m\u001b[0;34m)\u001b[0m\u001b[0;34m\u001b[0m\u001b[0;34m\u001b[0m\u001b[0m\n\u001b[0m\u001b[1;32m    100\u001b[0m     \u001b[0mall_fps\u001b[0m\u001b[0;34m.\u001b[0m\u001b[0mappend\u001b[0m\u001b[0;34m(\u001b[0m\u001b[0mfps\u001b[0m\u001b[0;34m)\u001b[0m\u001b[0;34m\u001b[0m\u001b[0;34m\u001b[0m\u001b[0m\n\u001b[1;32m    101\u001b[0m \u001b[0;34m\u001b[0m\u001b[0m\n",
            "\u001b[0;32m/tmp/ipython-input-1-4293304720.py\u001b[0m in \u001b[0;36mextract_fp\u001b[0;34m(victim, U_net, graphs, device)\u001b[0m\n\u001b[1;32m     56\u001b[0m     \u001b[0;32mfor\u001b[0m \u001b[0mbatch\u001b[0m \u001b[0;32min\u001b[0m \u001b[0mloader\u001b[0m\u001b[0;34m:\u001b[0m\u001b[0;34m\u001b[0m\u001b[0;34m\u001b[0m\u001b[0m\n\u001b[1;32m     57\u001b[0m         \u001b[0mbatch\u001b[0m \u001b[0;34m=\u001b[0m \u001b[0mbatch\u001b[0m\u001b[0;34m.\u001b[0m\u001b[0mto\u001b[0m\u001b[0;34m(\u001b[0m\u001b[0mdevice\u001b[0m\u001b[0;34m)\u001b[0m\u001b[0;34m\u001b[0m\u001b[0;34m\u001b[0m\u001b[0m\n\u001b[0;32m---> 58\u001b[0;31m         \u001b[0mx\u001b[0m \u001b[0;34m=\u001b[0m \u001b[0mF\u001b[0m\u001b[0;34m.\u001b[0m\u001b[0mrelu\u001b[0m\u001b[0;34m(\u001b[0m\u001b[0mvictim\u001b[0m\u001b[0;34m.\u001b[0m\u001b[0mconv1\u001b[0m\u001b[0;34m(\u001b[0m\u001b[0mbatch\u001b[0m\u001b[0;34m.\u001b[0m\u001b[0mx\u001b[0m\u001b[0;34m,\u001b[0m \u001b[0mbatch\u001b[0m\u001b[0;34m.\u001b[0m\u001b[0medge_index\u001b[0m\u001b[0;34m)\u001b[0m\u001b[0;34m)\u001b[0m\u001b[0;34m\u001b[0m\u001b[0;34m\u001b[0m\u001b[0m\n\u001b[0m\u001b[1;32m     59\u001b[0m         \u001b[0mx\u001b[0m \u001b[0;34m=\u001b[0m \u001b[0mF\u001b[0m\u001b[0;34m.\u001b[0m\u001b[0mdropout\u001b[0m\u001b[0;34m(\u001b[0m\u001b[0mx\u001b[0m\u001b[0;34m,\u001b[0m \u001b[0mp\u001b[0m\u001b[0;34m=\u001b[0m\u001b[0mvictim\u001b[0m\u001b[0;34m.\u001b[0m\u001b[0mdropout\u001b[0m\u001b[0;34m,\u001b[0m \u001b[0mtraining\u001b[0m\u001b[0;34m=\u001b[0m\u001b[0;32mFalse\u001b[0m\u001b[0;34m)\u001b[0m\u001b[0;34m\u001b[0m\u001b[0;34m\u001b[0m\u001b[0m\n\u001b[1;32m     60\u001b[0m         \u001b[0mx\u001b[0m \u001b[0;34m=\u001b[0m \u001b[0mvictim\u001b[0m\u001b[0;34m.\u001b[0m\u001b[0mconv2\u001b[0m\u001b[0;34m(\u001b[0m\u001b[0mx\u001b[0m\u001b[0;34m,\u001b[0m \u001b[0mbatch\u001b[0m\u001b[0;34m.\u001b[0m\u001b[0medge_index\u001b[0m\u001b[0;34m)\u001b[0m\u001b[0;34m\u001b[0m\u001b[0;34m\u001b[0m\u001b[0m\n",
            "\u001b[0;32m/usr/local/lib/python3.11/dist-packages/torch/nn/modules/module.py\u001b[0m in \u001b[0;36m_wrapped_call_impl\u001b[0;34m(self, *args, **kwargs)\u001b[0m\n\u001b[1;32m   1737\u001b[0m             \u001b[0;32mreturn\u001b[0m \u001b[0mself\u001b[0m\u001b[0;34m.\u001b[0m\u001b[0m_compiled_call_impl\u001b[0m\u001b[0;34m(\u001b[0m\u001b[0;34m*\u001b[0m\u001b[0margs\u001b[0m\u001b[0;34m,\u001b[0m \u001b[0;34m**\u001b[0m\u001b[0mkwargs\u001b[0m\u001b[0;34m)\u001b[0m  \u001b[0;31m# type: ignore[misc]\u001b[0m\u001b[0;34m\u001b[0m\u001b[0;34m\u001b[0m\u001b[0m\n\u001b[1;32m   1738\u001b[0m         \u001b[0;32melse\u001b[0m\u001b[0;34m:\u001b[0m\u001b[0;34m\u001b[0m\u001b[0;34m\u001b[0m\u001b[0m\n\u001b[0;32m-> 1739\u001b[0;31m             \u001b[0;32mreturn\u001b[0m \u001b[0mself\u001b[0m\u001b[0;34m.\u001b[0m\u001b[0m_call_impl\u001b[0m\u001b[0;34m(\u001b[0m\u001b[0;34m*\u001b[0m\u001b[0margs\u001b[0m\u001b[0;34m,\u001b[0m \u001b[0;34m**\u001b[0m\u001b[0mkwargs\u001b[0m\u001b[0;34m)\u001b[0m\u001b[0;34m\u001b[0m\u001b[0;34m\u001b[0m\u001b[0m\n\u001b[0m\u001b[1;32m   1740\u001b[0m \u001b[0;34m\u001b[0m\u001b[0m\n\u001b[1;32m   1741\u001b[0m     \u001b[0;31m# torchrec tests the code consistency with the following code\u001b[0m\u001b[0;34m\u001b[0m\u001b[0;34m\u001b[0m\u001b[0m\n",
            "\u001b[0;32m/usr/local/lib/python3.11/dist-packages/torch/nn/modules/module.py\u001b[0m in \u001b[0;36m_call_impl\u001b[0;34m(self, *args, **kwargs)\u001b[0m\n\u001b[1;32m   1748\u001b[0m                 \u001b[0;32mor\u001b[0m \u001b[0m_global_backward_pre_hooks\u001b[0m \u001b[0;32mor\u001b[0m \u001b[0m_global_backward_hooks\u001b[0m\u001b[0;34m\u001b[0m\u001b[0;34m\u001b[0m\u001b[0m\n\u001b[1;32m   1749\u001b[0m                 or _global_forward_hooks or _global_forward_pre_hooks):\n\u001b[0;32m-> 1750\u001b[0;31m             \u001b[0;32mreturn\u001b[0m \u001b[0mforward_call\u001b[0m\u001b[0;34m(\u001b[0m\u001b[0;34m*\u001b[0m\u001b[0margs\u001b[0m\u001b[0;34m,\u001b[0m \u001b[0;34m**\u001b[0m\u001b[0mkwargs\u001b[0m\u001b[0;34m)\u001b[0m\u001b[0;34m\u001b[0m\u001b[0;34m\u001b[0m\u001b[0m\n\u001b[0m\u001b[1;32m   1751\u001b[0m \u001b[0;34m\u001b[0m\u001b[0m\n\u001b[1;32m   1752\u001b[0m         \u001b[0mresult\u001b[0m \u001b[0;34m=\u001b[0m \u001b[0;32mNone\u001b[0m\u001b[0;34m\u001b[0m\u001b[0;34m\u001b[0m\u001b[0m\n",
            "\u001b[0;32m/usr/local/lib/python3.11/dist-packages/torch_geometric/nn/conv/sage_conv.py\u001b[0m in \u001b[0;36mforward\u001b[0;34m(self, x, edge_index, size)\u001b[0m\n\u001b[1;32m    137\u001b[0m         \u001b[0mx_r\u001b[0m \u001b[0;34m=\u001b[0m \u001b[0mx\u001b[0m\u001b[0;34m[\u001b[0m\u001b[0;36m1\u001b[0m\u001b[0;34m]\u001b[0m\u001b[0;34m\u001b[0m\u001b[0;34m\u001b[0m\u001b[0m\n\u001b[1;32m    138\u001b[0m         \u001b[0;32mif\u001b[0m \u001b[0mself\u001b[0m\u001b[0;34m.\u001b[0m\u001b[0mroot_weight\u001b[0m \u001b[0;32mand\u001b[0m \u001b[0mx_r\u001b[0m \u001b[0;32mis\u001b[0m \u001b[0;32mnot\u001b[0m \u001b[0;32mNone\u001b[0m\u001b[0;34m:\u001b[0m\u001b[0;34m\u001b[0m\u001b[0;34m\u001b[0m\u001b[0m\n\u001b[0;32m--> 139\u001b[0;31m             \u001b[0mout\u001b[0m \u001b[0;34m=\u001b[0m \u001b[0mout\u001b[0m \u001b[0;34m+\u001b[0m \u001b[0mself\u001b[0m\u001b[0;34m.\u001b[0m\u001b[0mlin_r\u001b[0m\u001b[0;34m(\u001b[0m\u001b[0mx_r\u001b[0m\u001b[0;34m)\u001b[0m\u001b[0;34m\u001b[0m\u001b[0;34m\u001b[0m\u001b[0m\n\u001b[0m\u001b[1;32m    140\u001b[0m \u001b[0;34m\u001b[0m\u001b[0m\n\u001b[1;32m    141\u001b[0m         \u001b[0;32mif\u001b[0m \u001b[0mself\u001b[0m\u001b[0;34m.\u001b[0m\u001b[0mnormalize\u001b[0m\u001b[0;34m:\u001b[0m\u001b[0;34m\u001b[0m\u001b[0;34m\u001b[0m\u001b[0m\n",
            "\u001b[0;32m/usr/local/lib/python3.11/dist-packages/torch/nn/modules/module.py\u001b[0m in \u001b[0;36m_wrapped_call_impl\u001b[0;34m(self, *args, **kwargs)\u001b[0m\n\u001b[1;32m   1737\u001b[0m             \u001b[0;32mreturn\u001b[0m \u001b[0mself\u001b[0m\u001b[0;34m.\u001b[0m\u001b[0m_compiled_call_impl\u001b[0m\u001b[0;34m(\u001b[0m\u001b[0;34m*\u001b[0m\u001b[0margs\u001b[0m\u001b[0;34m,\u001b[0m \u001b[0;34m**\u001b[0m\u001b[0mkwargs\u001b[0m\u001b[0;34m)\u001b[0m  \u001b[0;31m# type: ignore[misc]\u001b[0m\u001b[0;34m\u001b[0m\u001b[0;34m\u001b[0m\u001b[0m\n\u001b[1;32m   1738\u001b[0m         \u001b[0;32melse\u001b[0m\u001b[0;34m:\u001b[0m\u001b[0;34m\u001b[0m\u001b[0;34m\u001b[0m\u001b[0m\n\u001b[0;32m-> 1739\u001b[0;31m             \u001b[0;32mreturn\u001b[0m \u001b[0mself\u001b[0m\u001b[0;34m.\u001b[0m\u001b[0m_call_impl\u001b[0m\u001b[0;34m(\u001b[0m\u001b[0;34m*\u001b[0m\u001b[0margs\u001b[0m\u001b[0;34m,\u001b[0m \u001b[0;34m**\u001b[0m\u001b[0mkwargs\u001b[0m\u001b[0;34m)\u001b[0m\u001b[0;34m\u001b[0m\u001b[0;34m\u001b[0m\u001b[0m\n\u001b[0m\u001b[1;32m   1740\u001b[0m \u001b[0;34m\u001b[0m\u001b[0m\n\u001b[1;32m   1741\u001b[0m     \u001b[0;31m# torchrec tests the code consistency with the following code\u001b[0m\u001b[0;34m\u001b[0m\u001b[0;34m\u001b[0m\u001b[0m\n",
            "\u001b[0;32m/usr/local/lib/python3.11/dist-packages/torch/nn/modules/module.py\u001b[0m in \u001b[0;36m_call_impl\u001b[0;34m(self, *args, **kwargs)\u001b[0m\n\u001b[1;32m   1748\u001b[0m                 \u001b[0;32mor\u001b[0m \u001b[0m_global_backward_pre_hooks\u001b[0m \u001b[0;32mor\u001b[0m \u001b[0m_global_backward_hooks\u001b[0m\u001b[0;34m\u001b[0m\u001b[0;34m\u001b[0m\u001b[0m\n\u001b[1;32m   1749\u001b[0m                 or _global_forward_hooks or _global_forward_pre_hooks):\n\u001b[0;32m-> 1750\u001b[0;31m             \u001b[0;32mreturn\u001b[0m \u001b[0mforward_call\u001b[0m\u001b[0;34m(\u001b[0m\u001b[0;34m*\u001b[0m\u001b[0margs\u001b[0m\u001b[0;34m,\u001b[0m \u001b[0;34m**\u001b[0m\u001b[0mkwargs\u001b[0m\u001b[0;34m)\u001b[0m\u001b[0;34m\u001b[0m\u001b[0;34m\u001b[0m\u001b[0m\n\u001b[0m\u001b[1;32m   1751\u001b[0m \u001b[0;34m\u001b[0m\u001b[0m\n\u001b[1;32m   1752\u001b[0m         \u001b[0mresult\u001b[0m \u001b[0;34m=\u001b[0m \u001b[0;32mNone\u001b[0m\u001b[0;34m\u001b[0m\u001b[0;34m\u001b[0m\u001b[0m\n",
            "\u001b[0;32m/usr/local/lib/python3.11/dist-packages/torch_geometric/nn/dense/linear.py\u001b[0m in \u001b[0;36mforward\u001b[0;34m(self, x)\u001b[0m\n\u001b[1;32m    145\u001b[0m             \u001b[0mx\u001b[0m \u001b[0;34m(\u001b[0m\u001b[0mtorch\u001b[0m\u001b[0;34m.\u001b[0m\u001b[0mTensor\u001b[0m\u001b[0;34m)\u001b[0m\u001b[0;34m:\u001b[0m \u001b[0mThe\u001b[0m \u001b[0minput\u001b[0m \u001b[0mfeatures\u001b[0m\u001b[0;34m.\u001b[0m\u001b[0;34m\u001b[0m\u001b[0;34m\u001b[0m\u001b[0m\n\u001b[1;32m    146\u001b[0m         \"\"\"\n\u001b[0;32m--> 147\u001b[0;31m         \u001b[0;32mreturn\u001b[0m \u001b[0mF\u001b[0m\u001b[0;34m.\u001b[0m\u001b[0mlinear\u001b[0m\u001b[0;34m(\u001b[0m\u001b[0mx\u001b[0m\u001b[0;34m,\u001b[0m \u001b[0mself\u001b[0m\u001b[0;34m.\u001b[0m\u001b[0mweight\u001b[0m\u001b[0;34m,\u001b[0m \u001b[0mself\u001b[0m\u001b[0;34m.\u001b[0m\u001b[0mbias\u001b[0m\u001b[0;34m)\u001b[0m\u001b[0;34m\u001b[0m\u001b[0;34m\u001b[0m\u001b[0m\n\u001b[0m\u001b[1;32m    148\u001b[0m \u001b[0;34m\u001b[0m\u001b[0m\n\u001b[1;32m    149\u001b[0m     \u001b[0;34m@\u001b[0m\u001b[0mtorch\u001b[0m\u001b[0;34m.\u001b[0m\u001b[0mno_grad\u001b[0m\u001b[0;34m(\u001b[0m\u001b[0;34m)\u001b[0m\u001b[0;34m\u001b[0m\u001b[0;34m\u001b[0m\u001b[0m\n",
            "\u001b[0;31mKeyboardInterrupt\u001b[0m: "
          ]
        }
      ]
    },
    {
      "cell_type": "code",
      "source": [
        "import os\n",
        "import torch\n",
        "import torch.nn as nn\n",
        "import torch.nn.functional as F\n",
        "from torch_geometric.loader import DataLoader\n",
        "from torch_geometric.nn import SAGEConv, global_mean_pool\n",
        "from torch_geometric.data import Data\n",
        "import torch.serialization\n",
        "\n",
        "# Allowlist the PyG Data class\n",
        "torch.serialization.add_safe_globals([Data])\n",
        "\n",
        "# Load small batch of variants\n",
        "def load_partial_variants(variant_dir, start, end):\n",
        "    fnames = sorted([f for f in os.listdir(variant_dir) if f.endswith(\".pt\")])[start:end]\n",
        "    return [torch.load(os.path.join(variant_dir, f), weights_only=False) for f in fnames]\n",
        "\n",
        "# SAGEMean Model\n",
        "class SAGEMean(nn.Module):\n",
        "    def __init__(self, in_channels=1433, hidden_channels=128, out_channels=128, dropout=0.5):\n",
        "        super().__init__()\n",
        "        self.conv1 = SAGEConv(in_channels, hidden_channels)\n",
        "        self.conv2 = SAGEConv(hidden_channels, out_channels)\n",
        "        self.dropout = dropout\n",
        "\n",
        "    def forward(self, x, edge_index):\n",
        "        x = F.relu(self.conv1(x, edge_index))\n",
        "        x = F.dropout(x, p=self.dropout, training=self.training)\n",
        "        return self.conv2(x, edge_index)\n",
        "\n",
        "# Fingerprint Network\n",
        "class FingerprintNetMLP(nn.Module):\n",
        "    def __init__(self, in_dim=128, hidden_dim=64, out_dim=64):\n",
        "        super().__init__()\n",
        "        self.mlp = nn.Sequential(\n",
        "            nn.Linear(in_dim, hidden_dim),\n",
        "            nn.ReLU(),\n",
        "            nn.Linear(hidden_dim, out_dim)\n",
        "        )\n",
        "\n",
        "    def forward(self, x):\n",
        "        return self.mlp(x)\n",
        "\n",
        "# Fingerprint extraction\n",
        "def extract_fp(model, U_net, graphs, batch_size=32, device=\"cuda\"):\n",
        "    model.eval()\n",
        "    U_net.eval()\n",
        "    fps = []\n",
        "    loader = DataLoader(graphs, batch_size=batch_size, shuffle=False)\n",
        "    for batch in loader:\n",
        "        batch = batch.to(device)\n",
        "        x = F.relu(model.conv1(batch.x, batch.edge_index))\n",
        "        x = F.dropout(x, p=model.dropout, training=False)\n",
        "        x = model.conv2(x, batch.edge_index)\n",
        "        pooled = global_mean_pool(x, batch.batch)\n",
        "        out = U_net(pooled)\n",
        "        fps.append(out.cpu().detach())\n",
        "    return torch.cat(fps, dim=0)\n",
        "\n",
        "# Main loop (in batches)\n",
        "device = torch.device(\"cuda\" if torch.cuda.is_available() else \"cpu\")\n",
        "variant_dir = \"/content/drive/MyDrive/gnnfingers/variants/Cora_SAGEMean\"\n",
        "output_dir = \"/content/drive/MyDrive/gnnfingers/fingerprints\"\n",
        "os.makedirs(output_dir, exist_ok=True)\n",
        "\n",
        "# Make sure to use correct dimensions\n",
        "victim = SAGEMean(in_channels=1433, hidden_channels=64, out_channels=64).to(device)\n",
        "victim.load_state_dict(torch.load(\"/content/drive/MyDrive/gnnfingers/victims/victim_Cora_SAGEMean.pth\"))\n",
        "U = FingerprintNetMLP(in_dim=64).to(device)\n",
        "\n",
        "\n",
        "total = 400\n",
        "batch_size = 100\n",
        "all_fps = []\n",
        "\n",
        "for i in range(0, total, batch_size):\n",
        "    print(f\"🔄 Processing graphs {i} to {i+batch_size-1}\")\n",
        "    graphs = load_partial_variants(variant_dir, i, i+batch_size)\n",
        "    fps = extract_fp(victim, U, graphs, device=device)\n",
        "    torch.save(fps, f\"{output_dir}/fps_Cora_SAGEMean_batch{i}.pt\")\n",
        "    all_fps.append(fps)\n",
        "\n",
        "# Optionally merge and save\n",
        "merged_fps = torch.cat(all_fps, dim=0)\n",
        "torch.save(merged_fps, f\"{output_dir}/fps_Cora_SAGEMean.pt\")\n",
        "print(f\"✅ Saved all fingerprints to {output_dir}/fps_Cora_SAGEMean.pt\")\n"
      ],
      "metadata": {
        "colab": {
          "base_uri": "https://localhost:8080/"
        },
        "id": "QmJe_mKZ3MR1",
        "outputId": "de29e49d-9f9e-4430-f48e-a8f87d7abc03"
      },
      "execution_count": null,
      "outputs": [
        {
          "output_type": "stream",
          "name": "stdout",
          "text": [
            "🔄 Processing graphs 0 to 99\n",
            "🔄 Processing graphs 100 to 199\n",
            "🔄 Processing graphs 200 to 299\n",
            "🔄 Processing graphs 300 to 399\n",
            "✅ Saved all fingerprints to /content/drive/MyDrive/gnnfingers/fingerprints/fps_Cora_SAGEMean.pt\n"
          ]
        }
      ]
    },
    {
      "cell_type": "code",
      "source": [
        "fps = torch.load(\"/content/drive/MyDrive/gnnfingers/fingerprints/fps_Cora_SAGEMean.pt\")\n",
        "print(fps.shape)\n"
      ],
      "metadata": {
        "colab": {
          "base_uri": "https://localhost:8080/"
        },
        "id": "yaCmHzsu41Pe",
        "outputId": "a6923dc8-ef68-49c8-fd1a-f231c88fcd36"
      },
      "execution_count": null,
      "outputs": [
        {
          "output_type": "stream",
          "name": "stdout",
          "text": [
            "torch.Size([400, 64])\n"
          ]
        }
      ]
    },
    {
      "cell_type": "code",
      "source": [
        "labels = torch.cat([torch.ones(200), torch.zeros(200)])  # 1 for positive, 0 for negative\n"
      ],
      "metadata": {
        "id": "vHOsZAC743ZG"
      },
      "execution_count": null,
      "outputs": []
    },
    {
      "cell_type": "code",
      "source": [
        "import torch\n",
        "import torch.nn as nn\n",
        "import torch.nn.functional as F\n",
        "from torch.utils.data import DataLoader, TensorDataset\n",
        "\n",
        "# Define the MLP Univerifier\n",
        "class FingerprintNetMLP(nn.Module):\n",
        "    def __init__(self, in_dim=64, hidden_dim=32, out_dim=2):\n",
        "        super(FingerprintNetMLP, self).__init__()\n",
        "        self.model = nn.Sequential(\n",
        "            nn.Linear(in_dim, hidden_dim),\n",
        "            nn.ReLU(),\n",
        "            nn.Linear(hidden_dim, out_dim)\n",
        "        )\n",
        "\n",
        "    def forward(self, x):\n",
        "        return self.model(x)\n",
        "\n",
        "# Load fingerprint data\n",
        "fps = torch.load(\"/content/drive/MyDrive/gnnfingers/fingerprints/fps_Cora_SAGEMean.pt\")\n",
        "labels = torch.cat([torch.ones(200), torch.zeros(200)]).long()\n",
        "\n",
        "# Split into train/test (80/20)\n",
        "train_fps, test_fps = fps[:320], fps[320:]\n",
        "train_labels, test_labels = labels[:320], labels[320:]\n",
        "\n",
        "# Create DataLoaders\n",
        "train_loader = DataLoader(TensorDataset(train_fps, train_labels), batch_size=32, shuffle=True)\n",
        "test_loader = DataLoader(TensorDataset(test_fps, test_labels), batch_size=32)\n",
        "\n",
        "# Training setup\n",
        "device = torch.device(\"cuda\" if torch.cuda.is_available() else \"cpu\")\n",
        "model = FingerprintNetMLP().to(device)\n",
        "opt = torch.optim.Adam(model.parameters(), lr=0.001)\n",
        "criterion = nn.CrossEntropyLoss()\n",
        "\n",
        "# Training loop\n",
        "print(\"🔁 Training Univerifier...\")\n",
        "for epoch in range(1, 21):\n",
        "    model.train()\n",
        "    total_loss = 0\n",
        "    for x_batch, y_batch in train_loader:\n",
        "        x_batch, y_batch = x_batch.to(device), y_batch.to(device)\n",
        "        out = model(x_batch)\n",
        "        loss = criterion(out, y_batch)\n",
        "        opt.zero_grad()\n",
        "        loss.backward()\n",
        "        opt.step()\n",
        "        total_loss += loss.item()\n",
        "\n",
        "    print(f\"Epoch {epoch:02d} - Loss: {total_loss:.4f}\")\n",
        "\n",
        "# Evaluation\n",
        "model.eval()\n",
        "correct = 0\n",
        "total = 0\n",
        "with torch.no_grad():\n",
        "    for x_batch, y_batch in test_loader:\n",
        "        x_batch, y_batch = x_batch.to(device), y_batch.to(device)\n",
        "        out = model(x_batch)\n",
        "        pred = out.argmax(dim=1)\n",
        "        correct += (pred == y_batch).sum().item()\n",
        "        total += y_batch.size(0)\n",
        "\n",
        "accuracy = correct / total\n",
        "print(f\"✅ Test Accuracy: {accuracy:.4f}\")\n",
        "\n",
        "# Save\n",
        "torch.save(model.state_dict(), \"/content/drive/MyDrive/gnnfingers/checkpoints/U_Cora_SAGEMean.pth\")\n",
        "print(\"✅ Univerifier saved to Drive at checkpoints/U_Cora_SAGEMean.pth\")\n"
      ],
      "metadata": {
        "colab": {
          "base_uri": "https://localhost:8080/"
        },
        "id": "QoeHeeux5Gu4",
        "outputId": "11597fb7-7b1a-44f9-a8a0-8cb6de055bed"
      },
      "execution_count": null,
      "outputs": [
        {
          "output_type": "stream",
          "name": "stdout",
          "text": [
            "🔁 Training Univerifier...\n",
            "Epoch 01 - Loss: 7.0238\n",
            "Epoch 02 - Loss: 6.8337\n",
            "Epoch 03 - Loss: 6.6324\n",
            "Epoch 04 - Loss: 6.7042\n",
            "Epoch 05 - Loss: 6.6367\n",
            "Epoch 06 - Loss: 6.6346\n",
            "Epoch 07 - Loss: 6.6162\n",
            "Epoch 08 - Loss: 6.6220\n",
            "Epoch 09 - Loss: 6.6220\n",
            "Epoch 10 - Loss: 6.6232\n",
            "Epoch 11 - Loss: 6.6292\n",
            "Epoch 12 - Loss: 6.6384\n",
            "Epoch 13 - Loss: 6.6292\n",
            "Epoch 14 - Loss: 6.6471\n",
            "Epoch 15 - Loss: 6.6403\n",
            "Epoch 16 - Loss: 6.6198\n",
            "Epoch 17 - Loss: 6.6299\n",
            "Epoch 18 - Loss: 6.6210\n",
            "Epoch 19 - Loss: 6.6259\n",
            "Epoch 20 - Loss: 6.6180\n",
            "✅ Test Accuracy: 0.0000\n",
            "✅ Univerifier saved to Drive at checkpoints/U_Cora_SAGEMean.pth\n"
          ]
        }
      ]
    },
    {
      "cell_type": "code",
      "source": [
        "print(torch.allclose(fps[0], fps[1]))   # Should be False\n",
        "print(fps[:5])  # Print first few rows to inspect variation\n"
      ],
      "metadata": {
        "colab": {
          "base_uri": "https://localhost:8080/"
        },
        "id": "Tvk_c--K5O1Q",
        "outputId": "acf949f4-f21d-414d-f8b7-e9ba362c87e6"
      },
      "execution_count": null,
      "outputs": [
        {
          "output_type": "stream",
          "name": "stdout",
          "text": [
            "True\n",
            "tensor([[-0.4111, -0.1509, -4.4670, -3.1290, -0.1746,  1.4707,  0.4792, -0.4991,\n",
            "          0.3806, -0.6021, -0.4864,  3.6158, -3.6509, -6.1416, -0.7082,  2.9344,\n",
            "          3.3427,  3.2961,  2.7712, -1.2902, -3.2840, -0.9769,  5.3561,  2.0684,\n",
            "         -0.9305,  4.9366,  1.3002,  1.3611, -4.6985,  1.4285, -4.1113, -3.8436,\n",
            "         -1.1749, -2.7063, -1.3901, -3.1339,  0.5238,  3.0357, -5.6036,  1.8291,\n",
            "         -1.2051, -0.1946, -4.6864, -3.4828, -1.4125,  3.5800, -3.0697,  4.2235,\n",
            "         -6.3641, -0.6547, -1.4016,  1.4295, -4.9449,  0.8059, -2.3421, -3.3634,\n",
            "         -0.6154,  2.1940,  1.3714, -1.4283,  1.3295,  4.4444,  1.5269,  1.3830],\n",
            "        [-0.4111, -0.1509, -4.4670, -3.1290, -0.1746,  1.4707,  0.4792, -0.4991,\n",
            "          0.3806, -0.6021, -0.4864,  3.6158, -3.6509, -6.1416, -0.7082,  2.9344,\n",
            "          3.3427,  3.2961,  2.7712, -1.2902, -3.2840, -0.9769,  5.3561,  2.0684,\n",
            "         -0.9305,  4.9366,  1.3002,  1.3611, -4.6985,  1.4285, -4.1113, -3.8436,\n",
            "         -1.1749, -2.7063, -1.3901, -3.1339,  0.5238,  3.0357, -5.6036,  1.8291,\n",
            "         -1.2051, -0.1946, -4.6864, -3.4828, -1.4125,  3.5800, -3.0697,  4.2235,\n",
            "         -6.3641, -0.6547, -1.4016,  1.4295, -4.9449,  0.8059, -2.3421, -3.3634,\n",
            "         -0.6154,  2.1940,  1.3714, -1.4283,  1.3295,  4.4444,  1.5269,  1.3830],\n",
            "        [-0.4111, -0.1509, -4.4670, -3.1290, -0.1746,  1.4707,  0.4792, -0.4991,\n",
            "          0.3806, -0.6021, -0.4864,  3.6158, -3.6509, -6.1416, -0.7082,  2.9344,\n",
            "          3.3427,  3.2961,  2.7712, -1.2902, -3.2840, -0.9769,  5.3561,  2.0684,\n",
            "         -0.9305,  4.9366,  1.3002,  1.3611, -4.6985,  1.4285, -4.1113, -3.8436,\n",
            "         -1.1749, -2.7063, -1.3901, -3.1339,  0.5238,  3.0357, -5.6036,  1.8291,\n",
            "         -1.2051, -0.1946, -4.6864, -3.4828, -1.4125,  3.5800, -3.0697,  4.2235,\n",
            "         -6.3641, -0.6547, -1.4016,  1.4295, -4.9449,  0.8059, -2.3421, -3.3634,\n",
            "         -0.6154,  2.1940,  1.3714, -1.4283,  1.3295,  4.4444,  1.5269,  1.3830],\n",
            "        [-0.4111, -0.1509, -4.4670, -3.1290, -0.1746,  1.4707,  0.4792, -0.4991,\n",
            "          0.3806, -0.6021, -0.4864,  3.6158, -3.6509, -6.1416, -0.7082,  2.9344,\n",
            "          3.3427,  3.2961,  2.7712, -1.2902, -3.2840, -0.9769,  5.3561,  2.0684,\n",
            "         -0.9305,  4.9366,  1.3002,  1.3611, -4.6985,  1.4285, -4.1113, -3.8436,\n",
            "         -1.1749, -2.7063, -1.3901, -3.1339,  0.5238,  3.0357, -5.6036,  1.8291,\n",
            "         -1.2051, -0.1946, -4.6864, -3.4828, -1.4125,  3.5800, -3.0697,  4.2235,\n",
            "         -6.3641, -0.6547, -1.4016,  1.4295, -4.9449,  0.8059, -2.3421, -3.3634,\n",
            "         -0.6154,  2.1940,  1.3714, -1.4283,  1.3295,  4.4444,  1.5269,  1.3830],\n",
            "        [-0.4111, -0.1509, -4.4670, -3.1290, -0.1746,  1.4707,  0.4792, -0.4991,\n",
            "          0.3806, -0.6021, -0.4864,  3.6158, -3.6509, -6.1416, -0.7082,  2.9344,\n",
            "          3.3427,  3.2961,  2.7712, -1.2902, -3.2840, -0.9769,  5.3561,  2.0684,\n",
            "         -0.9305,  4.9366,  1.3002,  1.3611, -4.6985,  1.4285, -4.1113, -3.8436,\n",
            "         -1.1749, -2.7063, -1.3901, -3.1339,  0.5238,  3.0357, -5.6036,  1.8291,\n",
            "         -1.2051, -0.1946, -4.6864, -3.4828, -1.4125,  3.5800, -3.0697,  4.2235,\n",
            "         -6.3641, -0.6547, -1.4016,  1.4295, -4.9449,  0.8059, -2.3421, -3.3634,\n",
            "         -0.6154,  2.1940,  1.3714, -1.4283,  1.3295,  4.4444,  1.5269,  1.3830]])\n"
          ]
        }
      ]
    },
    {
      "cell_type": "code",
      "source": [
        "unique_fps = torch.unique(fps, dim=0)\n",
        "print(f\"Unique fingerprints: {unique_fps.size(0)} out of {fps.size(0)}\")\n"
      ],
      "metadata": {
        "colab": {
          "base_uri": "https://localhost:8080/"
        },
        "id": "o07VIGbG5RIw",
        "outputId": "640d7ec2-5657-44f2-8c6b-70c4806d339e"
      },
      "execution_count": null,
      "outputs": [
        {
          "output_type": "stream",
          "name": "stdout",
          "text": [
            "Unique fingerprints: 2 out of 400\n"
          ]
        }
      ]
    },
    {
      "cell_type": "code",
      "source": [
        "import torch\n",
        "import torch.nn.functional as F\n",
        "from torch_geometric.nn import SAGEConv\n",
        "\n",
        "class SAGEMean(torch.nn.Module):\n",
        "    def __init__(self, input_dim=1433, hidden_dim=64, output_dim=7, dropout=0.5):\n",
        "        super(SAGEMean, self).__init__()\n",
        "        self.conv1 = SAGEConv(input_dim, hidden_dim, aggr='mean')\n",
        "        self.conv2 = SAGEConv(hidden_dim, hidden_dim, aggr='mean')\n",
        "        self.classifier = torch.nn.Linear(hidden_dim, output_dim)\n",
        "        self.dropout = dropout\n",
        "\n",
        "    def forward(self, x, edge_index):\n",
        "        x = self.conv1(x, edge_index)\n",
        "        x = F.relu(x)\n",
        "        x = F.dropout(x, p=self.dropout, training=self.training)\n",
        "        x = self.conv2(x, edge_index)\n",
        "        x = F.relu(x)\n",
        "        return x\n"
      ],
      "metadata": {
        "id": "LfbYKL6Y9hwo"
      },
      "execution_count": null,
      "outputs": []
    },
    {
      "cell_type": "code",
      "source": [
        "import torch\n",
        "import torch.nn.functional as F\n",
        "from torch_geometric.datasets import Planetoid\n",
        "from torch_geometric.loader import DataLoader\n",
        "model = SAGEMean().to(device)\n",
        "\n",
        "import os\n",
        "import random\n",
        "\n",
        "# Load dataset\n",
        "dataset = Planetoid(root='/tmp/Cora', name='Cora')\n",
        "data = dataset[0].to('cuda' if torch.cuda.is_available() else 'cpu')\n",
        "\n",
        "# Create save directory\n",
        "variant_dir = \"variants/Cora_SAGEMean\"\n",
        "os.makedirs(variant_dir, exist_ok=True)\n",
        "\n",
        "# Training function\n",
        "def train(model, data, epochs=50):\n",
        "    model.train()\n",
        "    optimizer = torch.optim.Adam(model.parameters(), lr=0.01, weight_decay=5e-4)\n",
        "    for epoch in range(epochs):\n",
        "        optimizer.zero_grad()\n",
        "        out = model(data.x, data.edge_index)\n",
        "        loss = F.nll_loss(out[data.train_mask], data.y[data.train_mask])\n",
        "        loss.backward()\n",
        "        optimizer.step()\n",
        "\n",
        "# Train and save 200 models\n",
        "device = torch.device(\"cuda\" if torch.cuda.is_available() else \"cpu\")\n",
        "\n",
        "for i in range(200):\n",
        "    torch.manual_seed(i)  # Ensure varied initialization\n",
        "    model = SAGEMean().to(device)\n",
        "    train(model, data)\n",
        "    torch.save(model.state_dict(), os.path.join(variant_dir, f\"pos_{i}.pth\"))\n",
        "    print(f\"✅ Saved variant {i+1}/200\")\n",
        "\n",
        "print(\"🎉 Done generating 200 positive SAGEMean variants.\")\n"
      ],
      "metadata": {
        "colab": {
          "base_uri": "https://localhost:8080/"
        },
        "id": "V8yYzvIC55gU",
        "outputId": "c2a53d4b-bc56-4280-9778-541d69f5834e"
      },
      "execution_count": null,
      "outputs": [
        {
          "output_type": "stream",
          "name": "stdout",
          "text": [
            "✅ Saved variant 1/200\n",
            "✅ Saved variant 2/200\n",
            "✅ Saved variant 3/200\n",
            "✅ Saved variant 4/200\n",
            "✅ Saved variant 5/200\n",
            "✅ Saved variant 6/200\n",
            "✅ Saved variant 7/200\n",
            "✅ Saved variant 8/200\n",
            "✅ Saved variant 9/200\n",
            "✅ Saved variant 10/200\n",
            "✅ Saved variant 11/200\n",
            "✅ Saved variant 12/200\n",
            "✅ Saved variant 13/200\n",
            "✅ Saved variant 14/200\n",
            "✅ Saved variant 15/200\n",
            "✅ Saved variant 16/200\n",
            "✅ Saved variant 17/200\n",
            "✅ Saved variant 18/200\n",
            "✅ Saved variant 19/200\n",
            "✅ Saved variant 20/200\n",
            "✅ Saved variant 21/200\n",
            "✅ Saved variant 22/200\n",
            "✅ Saved variant 23/200\n",
            "✅ Saved variant 24/200\n",
            "✅ Saved variant 25/200\n",
            "✅ Saved variant 26/200\n",
            "✅ Saved variant 27/200\n",
            "✅ Saved variant 28/200\n",
            "✅ Saved variant 29/200\n",
            "✅ Saved variant 30/200\n",
            "✅ Saved variant 31/200\n",
            "✅ Saved variant 32/200\n",
            "✅ Saved variant 33/200\n",
            "✅ Saved variant 34/200\n",
            "✅ Saved variant 35/200\n",
            "✅ Saved variant 36/200\n",
            "✅ Saved variant 37/200\n",
            "✅ Saved variant 38/200\n",
            "✅ Saved variant 39/200\n",
            "✅ Saved variant 40/200\n",
            "✅ Saved variant 41/200\n",
            "✅ Saved variant 42/200\n",
            "✅ Saved variant 43/200\n",
            "✅ Saved variant 44/200\n",
            "✅ Saved variant 45/200\n",
            "✅ Saved variant 46/200\n",
            "✅ Saved variant 47/200\n",
            "✅ Saved variant 48/200\n",
            "✅ Saved variant 49/200\n",
            "✅ Saved variant 50/200\n",
            "✅ Saved variant 51/200\n",
            "✅ Saved variant 52/200\n",
            "✅ Saved variant 53/200\n",
            "✅ Saved variant 54/200\n",
            "✅ Saved variant 55/200\n",
            "✅ Saved variant 56/200\n",
            "✅ Saved variant 57/200\n",
            "✅ Saved variant 58/200\n",
            "✅ Saved variant 59/200\n",
            "✅ Saved variant 60/200\n",
            "✅ Saved variant 61/200\n",
            "✅ Saved variant 62/200\n",
            "✅ Saved variant 63/200\n",
            "✅ Saved variant 64/200\n",
            "✅ Saved variant 65/200\n",
            "✅ Saved variant 66/200\n",
            "✅ Saved variant 67/200\n",
            "✅ Saved variant 68/200\n",
            "✅ Saved variant 69/200\n",
            "✅ Saved variant 70/200\n",
            "✅ Saved variant 71/200\n",
            "✅ Saved variant 72/200\n",
            "✅ Saved variant 73/200\n",
            "✅ Saved variant 74/200\n",
            "✅ Saved variant 75/200\n",
            "✅ Saved variant 76/200\n",
            "✅ Saved variant 77/200\n",
            "✅ Saved variant 78/200\n",
            "✅ Saved variant 79/200\n",
            "✅ Saved variant 80/200\n",
            "✅ Saved variant 81/200\n",
            "✅ Saved variant 82/200\n",
            "✅ Saved variant 83/200\n",
            "✅ Saved variant 84/200\n",
            "✅ Saved variant 85/200\n",
            "✅ Saved variant 86/200\n",
            "✅ Saved variant 87/200\n",
            "✅ Saved variant 88/200\n",
            "✅ Saved variant 89/200\n",
            "✅ Saved variant 90/200\n",
            "✅ Saved variant 91/200\n",
            "✅ Saved variant 92/200\n",
            "✅ Saved variant 93/200\n",
            "✅ Saved variant 94/200\n",
            "✅ Saved variant 95/200\n",
            "✅ Saved variant 96/200\n",
            "✅ Saved variant 97/200\n",
            "✅ Saved variant 98/200\n",
            "✅ Saved variant 99/200\n",
            "✅ Saved variant 100/200\n",
            "✅ Saved variant 101/200\n",
            "✅ Saved variant 102/200\n",
            "✅ Saved variant 103/200\n",
            "✅ Saved variant 104/200\n",
            "✅ Saved variant 105/200\n",
            "✅ Saved variant 106/200\n",
            "✅ Saved variant 107/200\n",
            "✅ Saved variant 108/200\n",
            "✅ Saved variant 109/200\n",
            "✅ Saved variant 110/200\n",
            "✅ Saved variant 111/200\n",
            "✅ Saved variant 112/200\n",
            "✅ Saved variant 113/200\n",
            "✅ Saved variant 114/200\n",
            "✅ Saved variant 115/200\n",
            "✅ Saved variant 116/200\n",
            "✅ Saved variant 117/200\n",
            "✅ Saved variant 118/200\n",
            "✅ Saved variant 119/200\n",
            "✅ Saved variant 120/200\n",
            "✅ Saved variant 121/200\n",
            "✅ Saved variant 122/200\n",
            "✅ Saved variant 123/200\n",
            "✅ Saved variant 124/200\n",
            "✅ Saved variant 125/200\n",
            "✅ Saved variant 126/200\n",
            "✅ Saved variant 127/200\n",
            "✅ Saved variant 128/200\n",
            "✅ Saved variant 129/200\n",
            "✅ Saved variant 130/200\n",
            "✅ Saved variant 131/200\n",
            "✅ Saved variant 132/200\n",
            "✅ Saved variant 133/200\n",
            "✅ Saved variant 134/200\n",
            "✅ Saved variant 135/200\n",
            "✅ Saved variant 136/200\n",
            "✅ Saved variant 137/200\n",
            "✅ Saved variant 138/200\n",
            "✅ Saved variant 139/200\n",
            "✅ Saved variant 140/200\n",
            "✅ Saved variant 141/200\n",
            "✅ Saved variant 142/200\n",
            "✅ Saved variant 143/200\n",
            "✅ Saved variant 144/200\n",
            "✅ Saved variant 145/200\n",
            "✅ Saved variant 146/200\n",
            "✅ Saved variant 147/200\n",
            "✅ Saved variant 148/200\n",
            "✅ Saved variant 149/200\n",
            "✅ Saved variant 150/200\n",
            "✅ Saved variant 151/200\n",
            "✅ Saved variant 152/200\n",
            "✅ Saved variant 153/200\n",
            "✅ Saved variant 154/200\n",
            "✅ Saved variant 155/200\n",
            "✅ Saved variant 156/200\n",
            "✅ Saved variant 157/200\n",
            "✅ Saved variant 158/200\n",
            "✅ Saved variant 159/200\n",
            "✅ Saved variant 160/200\n",
            "✅ Saved variant 161/200\n",
            "✅ Saved variant 162/200\n",
            "✅ Saved variant 163/200\n",
            "✅ Saved variant 164/200\n",
            "✅ Saved variant 165/200\n",
            "✅ Saved variant 166/200\n",
            "✅ Saved variant 167/200\n",
            "✅ Saved variant 168/200\n",
            "✅ Saved variant 169/200\n",
            "✅ Saved variant 170/200\n",
            "✅ Saved variant 171/200\n",
            "✅ Saved variant 172/200\n",
            "✅ Saved variant 173/200\n",
            "✅ Saved variant 174/200\n",
            "✅ Saved variant 175/200\n",
            "✅ Saved variant 176/200\n",
            "✅ Saved variant 177/200\n",
            "✅ Saved variant 178/200\n",
            "✅ Saved variant 179/200\n",
            "✅ Saved variant 180/200\n",
            "✅ Saved variant 181/200\n",
            "✅ Saved variant 182/200\n",
            "✅ Saved variant 183/200\n",
            "✅ Saved variant 184/200\n",
            "✅ Saved variant 185/200\n",
            "✅ Saved variant 186/200\n",
            "✅ Saved variant 187/200\n",
            "✅ Saved variant 188/200\n",
            "✅ Saved variant 189/200\n",
            "✅ Saved variant 190/200\n",
            "✅ Saved variant 191/200\n",
            "✅ Saved variant 192/200\n",
            "✅ Saved variant 193/200\n",
            "✅ Saved variant 194/200\n",
            "✅ Saved variant 195/200\n",
            "✅ Saved variant 196/200\n",
            "✅ Saved variant 197/200\n",
            "✅ Saved variant 198/200\n",
            "✅ Saved variant 199/200\n",
            "✅ Saved variant 200/200\n",
            "🎉 Done generating 200 positive SAGEMean variants.\n"
          ]
        }
      ]
    },
    {
      "cell_type": "code",
      "source": [
        "import torch\n",
        "import torch.nn.functional as F\n",
        "from torch_geometric.loader import DataLoader\n",
        "from torch_geometric.nn import global_mean_pool\n",
        "\n",
        "def extract_fp(model, U_net, graphs, device='cpu'):\n",
        "    model.eval()\n",
        "    U_net.eval()\n",
        "    all_fps = []\n",
        "\n",
        "    loader = DataLoader(graphs, batch_size=32, shuffle=False)\n",
        "    for batch in loader:\n",
        "        batch = batch.to(device)\n",
        "        x = F.relu(model.conv1(batch.x, batch.edge_index))\n",
        "        x = F.dropout(x, p=0.5, training=False)\n",
        "        x = model.conv2(x, batch.edge_index)\n",
        "        x = global_mean_pool(x, batch.batch)\n",
        "        fp = U_net(x)\n",
        "        all_fps.append(fp.detach().cpu())\n",
        "\n",
        "    return torch.cat(all_fps, dim=0)\n"
      ],
      "metadata": {
        "id": "S0JXg4c2Bf_T"
      },
      "execution_count": null,
      "outputs": []
    },
    {
      "cell_type": "code",
      "source": [
        "import os\n",
        "\n",
        "# Should return True if file exists\n",
        "print(os.path.isfile(\"/content/drive/MyDrive/gnnfingers/utils.py\"))\n"
      ],
      "metadata": {
        "colab": {
          "base_uri": "https://localhost:8080/"
        },
        "id": "EBkCi_-tCDKO",
        "outputId": "321a77df-0446-4dc3-cbab-26a17ea659d8"
      },
      "execution_count": null,
      "outputs": [
        {
          "output_type": "stream",
          "name": "stdout",
          "text": [
            "True\n"
          ]
        }
      ]
    },
    {
      "cell_type": "code",
      "source": [
        "utils_code = \"\"\"\n",
        "import torch\n",
        "import torch.nn.functional as F\n",
        "from torch_geometric.loader import DataLoader\n",
        "\n",
        "# Extract fingerprint from a model for a list of graphs\n",
        "def extract_fp(victim_model, U_net, graphs, device='cpu'):\n",
        "    victim_model.eval()\n",
        "    U_net.eval()\n",
        "    all_fp = []\n",
        "\n",
        "    loader = DataLoader(graphs, batch_size=32, shuffle=False)\n",
        "    for batch in loader:\n",
        "        batch = batch.to(device)\n",
        "        x = F.relu(victim_model.conv1(batch.x, batch.edge_index))\n",
        "        x = F.dropout(x, p=victim_model.dropout, training=False)\n",
        "        x = victim_model.conv2(x, batch.edge_index)\n",
        "        x = torch_geometric.nn.global_mean_pool(x, batch.batch)\n",
        "        fp = U_net(x)\n",
        "        all_fp.append(fp.detach().cpu())\n",
        "    return torch.cat(all_fp, dim=0)\n",
        "\n",
        "# Load multiple .pt graph files as a list\n",
        "def load_variants(variant_dir):\n",
        "    import os\n",
        "    graphs = []\n",
        "    for fname in sorted(os.listdir(variant_dir)):\n",
        "        if fname.endswith(\".pt\"):\n",
        "            g = torch.load(os.path.join(variant_dir, fname), map_location='cpu')\n",
        "            graphs.append(g)\n",
        "    return graphs\n",
        "\"\"\"\n",
        "\n",
        "# Save to Drive\n",
        "with open(\"/content/drive/MyDrive/gnnfingers/utils.py\", \"w\") as f:\n",
        "    f.write(utils_code)\n",
        "\n",
        "print(\"✅ utils.py created in gnngfingers folder.\")\n"
      ],
      "metadata": {
        "colab": {
          "base_uri": "https://localhost:8080/"
        },
        "id": "qjnR3JpKCZBo",
        "outputId": "7f635e24-8852-446e-9ef9-7e8687c08f6d"
      },
      "execution_count": null,
      "outputs": [
        {
          "output_type": "stream",
          "name": "stdout",
          "text": [
            "✅ utils.py created in gnngfingers folder.\n"
          ]
        }
      ]
    },
    {
      "cell_type": "code",
      "source": [
        "import sys\n",
        "sys.path.append(\"/content/drive/MyDrive/gnnfingers\")\n",
        "from utils import extract_fp, load_variants\n",
        "\n"
      ],
      "metadata": {
        "id": "cNa15R7ZBkor"
      },
      "execution_count": null,
      "outputs": []
    },
    {
      "cell_type": "code",
      "source": [
        "model_code = \"\"\"\n",
        "import torch\n",
        "import torch.nn as nn\n",
        "import torch.nn.functional as F\n",
        "from torch_geometric.nn import SAGEConv, global_mean_pool\n",
        "\n",
        "class SAGEMean(nn.Module):\n",
        "    def __init__(self, in_channels=1433, hidden_channels=128, out_channels=7, dropout=0.5):\n",
        "        super(SAGEMean, self).__init__()\n",
        "        self.conv1 = SAGEConv(in_channels, hidden_channels)\n",
        "        self.conv2 = SAGEConv(hidden_channels, hidden_channels)\n",
        "        self.dropout = dropout\n",
        "        self.classifier = nn.Linear(hidden_channels, out_channels)\n",
        "\n",
        "    def forward(self, x, edge_index, batch=None):\n",
        "        x = self.conv1(x, edge_index)\n",
        "        x = F.relu(x)\n",
        "        x = F.dropout(x, p=self.dropout, training=self.training)\n",
        "        x = self.conv2(x, edge_index)\n",
        "        if batch is not None:\n",
        "            x = global_mean_pool(x, batch)\n",
        "        return self.classifier(x)\n",
        "\n",
        "class FingerprintNetMLP(nn.Module):\n",
        "    def __init__(self, input_dim=128, hidden_dim=64):\n",
        "        super(FingerprintNetMLP, self).__init__()\n",
        "        self.mlp = nn.Sequential(\n",
        "            nn.Linear(input_dim, hidden_dim),\n",
        "            nn.ReLU(),\n",
        "            nn.Linear(hidden_dim, 2)\n",
        "        )\n",
        "\n",
        "    def forward(self, x):\n",
        "        return self.mlp(x)\n",
        "\"\"\"\n",
        "with open(\"/content/drive/MyDrive/gnnfingers/models.py\", \"w\") as f:\n",
        "    f.write(model_code)\n",
        "\n",
        "print(\"✅ models.py created.\")\n"
      ],
      "metadata": {
        "colab": {
          "base_uri": "https://localhost:8080/"
        },
        "id": "41QJ8tqPCuXx",
        "outputId": "a379f828-3215-457c-9492-ccce29595e18"
      },
      "execution_count": null,
      "outputs": [
        {
          "output_type": "stream",
          "name": "stdout",
          "text": [
            "✅ models.py created.\n"
          ]
        }
      ]
    },
    {
      "cell_type": "code",
      "source": [
        "import importlib\n",
        "import models\n",
        "importlib.reload(models)\n"
      ],
      "metadata": {
        "colab": {
          "base_uri": "https://localhost:8080/"
        },
        "id": "29h5j2UaDTM0",
        "outputId": "8e3e9316-872f-4d9b-ca6f-93bdbabfa55f"
      },
      "execution_count": null,
      "outputs": [
        {
          "output_type": "execute_result",
          "data": {
            "text/plain": [
              "<module 'models' from '/content/drive/MyDrive/gnnfingers/models.py'>"
            ]
          },
          "metadata": {},
          "execution_count": 12
        }
      ]
    },
    {
      "cell_type": "code",
      "source": [
        "import torch\n",
        "import torch.nn as nn\n",
        "import torch.nn.functional as F\n",
        "from torch_geometric.nn import SAGEConv\n",
        "\n",
        "class SAGEMean(nn.Module):\n",
        "    def __init__(self, in_channels=1433, hidden_channels=64, out_channels=7, dropout=0.5):\n",
        "        super(SAGEMean, self).__init__()\n",
        "        self.conv1 = SAGEConv(in_channels, hidden_channels)\n",
        "        self.conv2 = SAGEConv(hidden_channels, hidden_channels)\n",
        "        self.classifier = nn.Linear(hidden_channels, out_channels)\n",
        "        self.dropout = dropout\n",
        "\n",
        "    def forward(self, x, edge_index):\n",
        "        x = F.relu(self.conv1(x, edge_index))\n",
        "        x = F.dropout(x, p=self.dropout, training=self.training)\n",
        "        x = F.relu(self.conv2(x, edge_index))\n",
        "        x = F.dropout(x, p=self.dropout, training=self.training)\n",
        "        x = self.classifier(x)\n",
        "        return x\n"
      ],
      "metadata": {
        "id": "-6WO7BYKDVBE"
      },
      "execution_count": null,
      "outputs": []
    },
    {
      "cell_type": "code",
      "source": [
        "import torch\n",
        "import torch.nn as nn\n",
        "import torch.nn.functional as F\n",
        "from torch_geometric.nn import SAGEConv\n",
        "\n",
        "class SAGEMean(nn.Module):\n",
        "    def __init__(self, in_channels=1433, hidden_channels=64, dropout=0.5):\n",
        "        super(SAGEMean, self).__init__()\n",
        "        self.conv1 = SAGEConv(in_channels, hidden_channels)\n",
        "        self.conv2 = SAGEConv(hidden_channels, hidden_channels)\n",
        "        self.dropout = dropout\n",
        "\n",
        "    def forward(self, x, edge_index):\n",
        "        x = F.relu(self.conv1(x, edge_index))\n",
        "        x = F.dropout(x, p=self.dropout, training=self.training)\n",
        "        x = F.relu(self.conv2(x, edge_index))\n",
        "        x = F.dropout(x, p=self.dropout, training=self.training)\n",
        "        return x  # No classifier\n"
      ],
      "metadata": {
        "id": "xUrgfuiACwq5"
      },
      "execution_count": null,
      "outputs": []
    },
    {
      "cell_type": "code",
      "source": [
        "victim = SAGEMean().to(device)\n",
        "victim.load_state_dict(\n",
        "    torch.load(\"/content/drive/MyDrive/gnnfingers/victims/victim_Cora_SAGEMean.pth\"),\n",
        "    strict=False  # This avoids crashing due to missing classifier\n",
        ")\n"
      ],
      "metadata": {
        "colab": {
          "base_uri": "https://localhost:8080/"
        },
        "id": "Vhxo4na4ECq5",
        "outputId": "e2c31d01-c897-4b24-c228-5dbcf0ce844f"
      },
      "execution_count": null,
      "outputs": [
        {
          "output_type": "execute_result",
          "data": {
            "text/plain": [
              "<All keys matched successfully>"
            ]
          },
          "metadata": {},
          "execution_count": 5
        }
      ]
    },
    {
      "cell_type": "code",
      "source": [
        "class SAGEMean(torch.nn.Module):\n",
        "    def __init__(self, in_channels=1433, hidden_channels=64, out_channels=7, dropout=0.5):\n",
        "        super().__init__()\n",
        "        self.conv1 = SAGEConv(in_channels, hidden_channels)\n",
        "        self.conv2 = SAGEConv(hidden_channels, hidden_channels)\n",
        "        self.classifier = nn.Linear(hidden_channels, out_channels)\n",
        "        self.dropout = dropout\n",
        "\n",
        "    def forward(self, x, edge_index):\n",
        "        x = self.conv1(x, edge_index).relu()\n",
        "        x = F.dropout(x, p=self.dropout, training=self.training)\n",
        "        x = self.conv2(x, edge_index).relu()\n",
        "        x = F.dropout(x, p=self.dropout, training=self.training)\n",
        "        return self.classifier(x)\n"
      ],
      "metadata": {
        "id": "8QKQJ78VHjuK"
      },
      "execution_count": null,
      "outputs": []
    },
    {
      "cell_type": "code",
      "source": [
        "from torch.serialization import add_safe_globals\n",
        "from torch_geometric.data import Data\n",
        "from torch_geometric.data.data import DataEdgeAttr, DataTensorAttr\n",
        "\n",
        "add_safe_globals([Data, DataEdgeAttr, DataTensorAttr])\n"
      ],
      "metadata": {
        "id": "k79ECoeS01Zn"
      },
      "execution_count": null,
      "outputs": []
    },
    {
      "cell_type": "code",
      "source": [
        "!ls /content/drive/MyDrive/gnnfingers/\n"
      ],
      "metadata": {
        "colab": {
          "base_uri": "https://localhost:8080/"
        },
        "id": "KGOUVXA61DMk",
        "outputId": "2d312836-dc79-4be5-8dc8-9933d7ab4fcc"
      },
      "execution_count": null,
      "outputs": [
        {
          "output_type": "stream",
          "name": "stdout",
          "text": [
            "ARUC_ENZ_GCNMean_Q200.png  ENZYMES\t models.py  __pycache__  variants\n",
            "checkpoints\t\t   fingerprints  PROTEINS   utils.py\t victims\n"
          ]
        }
      ]
    },
    {
      "cell_type": "code",
      "source": [
        "from torch.serialization import add_safe_globals\n",
        "from torch_geometric.data import Data\n",
        "from torch_geometric.data.storage import GlobalStorage\n",
        "from torch_geometric.data.data import DataEdgeAttr, DataTensorAttr\n",
        "\n",
        "# Allowlist required PyG classes\n",
        "add_safe_globals([Data, GlobalStorage, DataEdgeAttr, DataTensorAttr])\n"
      ],
      "metadata": {
        "id": "YtiMFSzY1Xtm"
      },
      "execution_count": null,
      "outputs": []
    },
    {
      "cell_type": "code",
      "source": [
        "from utils import load_variants\n",
        "\n",
        "variant_dir = \"/content/drive/MyDrive/gnnfingers/variants/Cora_SAGEMean\"\n",
        "graphs = load_variants(variant_dir)\n",
        "print(f\"✅ Loaded {len(graphs)} graphs\")\n"
      ],
      "metadata": {
        "colab": {
          "base_uri": "https://localhost:8080/"
        },
        "id": "WTpnr4oD03Jj",
        "outputId": "5adff7cf-c127-4dc7-c7ab-9536bc238f7d"
      },
      "execution_count": null,
      "outputs": [
        {
          "output_type": "stream",
          "name": "stdout",
          "text": [
            "✅ Loaded 400 graphs\n"
          ]
        }
      ]
    },
    {
      "cell_type": "code",
      "source": [
        "!ls /content/drive/MyDrive/gnnfingers/victims/\n"
      ],
      "metadata": {
        "colab": {
          "base_uri": "https://localhost:8080/"
        },
        "id": "d0E000XC14oH",
        "outputId": "ebe4e8b1-e11e-4829-8ad6-f6ace597c9d4"
      },
      "execution_count": null,
      "outputs": [
        {
          "output_type": "stream",
          "name": "stdout",
          "text": [
            "victim_Cora_SAGEMean.pth\n"
          ]
        }
      ]
    },
    {
      "cell_type": "code",
      "source": [
        "import sys\n",
        "sys.path.append('/content/drive/MyDrive/gnnfingers')\n",
        "\n",
        "import torch\n",
        "from torch.utils.data import DataLoader\n",
        "\n",
        "from utils import load_variants, extract_fp\n",
        "from models import SAGEMean, FingerprintNetMLP\n",
        "\n",
        "from torch_geometric.data import Data\n",
        "from torch_geometric.data.storage import GlobalStorage\n",
        "from torch_geometric.data.data import DataEdgeAttr, DataTensorAttr\n",
        "from torch.serialization import add_safe_globals\n",
        "\n",
        "# Allow custom PyG types for unpickling\n",
        "add_safe_globals([Data, GlobalStorage, DataEdgeAttr, DataTensorAttr])\n"
      ],
      "metadata": {
        "id": "_-cGdKa_2Ha0"
      },
      "execution_count": null,
      "outputs": []
    },
    {
      "cell_type": "code",
      "source": [
        "device = torch.device('cuda' if torch.cuda.is_available() else 'cpu')\n",
        "\n",
        "victim = SAGEMean(in_channels=1433, hidden_channels=64, out_channels=7).to(device)\n",
        "victim.load_state_dict(\n",
        "    torch.load(\"/content/drive/MyDrive/gnnfingers/victims/victim_Cora_SAGEMean.pth\", map_location=device),\n",
        "    strict=False\n",
        ")\n",
        "victim.eval()\n"
      ],
      "metadata": {
        "colab": {
          "base_uri": "https://localhost:8080/"
        },
        "id": "o8BXtytP50_s",
        "outputId": "4a14b3bb-b869-48cd-fb78-0881084b5ba9"
      },
      "execution_count": null,
      "outputs": [
        {
          "output_type": "execute_result",
          "data": {
            "text/plain": [
              "SAGEMean(\n",
              "  (conv1): SAGEConv(1433, 64, aggr=mean)\n",
              "  (conv2): SAGEConv(64, 64, aggr=mean)\n",
              "  (classifier): Linear(in_features=64, out_features=7, bias=True)\n",
              ")"
            ]
          },
          "metadata": {},
          "execution_count": 5
        }
      ]
    },
    {
      "cell_type": "code",
      "source": [
        "variant_dir = \"/content/drive/MyDrive/gnnfingers/variants/Cora_SAGEMean\"\n",
        "graphs = load_variants(variant_dir)\n",
        "print(f\"✅ Loaded {len(graphs)} graphs\")\n"
      ],
      "metadata": {
        "colab": {
          "base_uri": "https://localhost:8080/"
        },
        "id": "Nj8rUmHU3NaV",
        "outputId": "1e2ad1fd-b49d-459b-bb31-93b6fb8a0890"
      },
      "execution_count": null,
      "outputs": [
        {
          "output_type": "stream",
          "name": "stdout",
          "text": [
            "✅ Loaded 400 graphs\n"
          ]
        }
      ]
    },
    {
      "cell_type": "code",
      "source": [
        "# Step 1: Mount drive if not done already\n",
        "from google.colab import drive\n",
        "drive.mount('/content/drive')\n",
        "\n",
        "# Step 2: Add project folder to Python path\n",
        "import sys\n",
        "sys.path.append('/content/drive/MyDrive/gnnfingers')\n",
        "\n",
        "# Step 3: Re-import everything from your modules\n",
        "from utils import load_variants, extract_fp\n",
        "from models import SAGEMean, FingerprintNetMLP\n",
        "\n",
        "import torch\n",
        "from torch.utils.data import DataLoader\n",
        "\n",
        "# Step 4: Add PyG-safe globals for unpickling\n",
        "from torch_geometric.data import Data\n",
        "from torch_geometric.data.storage import GlobalStorage\n",
        "from torch_geometric.data.data import DataEdgeAttr, DataTensorAttr\n",
        "from torch.serialization import add_safe_globals\n",
        "\n",
        "add_safe_globals([Data, GlobalStorage, DataEdgeAttr, DataTensorAttr])\n"
      ],
      "metadata": {
        "colab": {
          "base_uri": "https://localhost:8080/"
        },
        "id": "mkO4xitq6kxp",
        "outputId": "87bd669f-5aca-4a35-9f0a-df1457fb4b1f"
      },
      "execution_count": null,
      "outputs": [
        {
          "output_type": "stream",
          "name": "stdout",
          "text": [
            "Drive already mounted at /content/drive; to attempt to forcibly remount, call drive.mount(\"/content/drive\", force_remount=True).\n"
          ]
        }
      ]
    },
    {
      "cell_type": "code",
      "source": [
        "class SAGEMean(nn.Module):\n",
        "    def __init__(self, in_channels, hidden_channels):\n",
        "        super().__init__()\n",
        "        self.conv1 = SAGEConv(in_channels, hidden_channels)\n",
        "        self.conv2 = SAGEConv(hidden_channels, hidden_channels)\n",
        "        self.lin = nn.Linear(hidden_channels, 7)\n"
      ],
      "metadata": {
        "colab": {
          "base_uri": "https://localhost:8080/",
          "height": 211
        },
        "id": "TNbPfEicLiiw",
        "outputId": "d638ca0d-2adf-4238-d151-7f59937e0116"
      },
      "execution_count": null,
      "outputs": [
        {
          "output_type": "error",
          "ename": "NameError",
          "evalue": "name 'nn' is not defined",
          "traceback": [
            "\u001b[0;31m---------------------------------------------------------------------------\u001b[0m",
            "\u001b[0;31mNameError\u001b[0m                                 Traceback (most recent call last)",
            "\u001b[0;32m/tmp/ipython-input-15-2413979942.py\u001b[0m in \u001b[0;36m<cell line: 0>\u001b[0;34m()\u001b[0m\n\u001b[0;32m----> 1\u001b[0;31m \u001b[0;32mclass\u001b[0m \u001b[0mSAGEMean\u001b[0m\u001b[0;34m(\u001b[0m\u001b[0mnn\u001b[0m\u001b[0;34m.\u001b[0m\u001b[0mModule\u001b[0m\u001b[0;34m)\u001b[0m\u001b[0;34m:\u001b[0m\u001b[0;34m\u001b[0m\u001b[0;34m\u001b[0m\u001b[0m\n\u001b[0m\u001b[1;32m      2\u001b[0m     \u001b[0;32mdef\u001b[0m \u001b[0m__init__\u001b[0m\u001b[0;34m(\u001b[0m\u001b[0mself\u001b[0m\u001b[0;34m,\u001b[0m \u001b[0min_channels\u001b[0m\u001b[0;34m,\u001b[0m \u001b[0mhidden_channels\u001b[0m\u001b[0;34m)\u001b[0m\u001b[0;34m:\u001b[0m\u001b[0;34m\u001b[0m\u001b[0;34m\u001b[0m\u001b[0m\n\u001b[1;32m      3\u001b[0m         \u001b[0msuper\u001b[0m\u001b[0;34m(\u001b[0m\u001b[0;34m)\u001b[0m\u001b[0;34m.\u001b[0m\u001b[0m__init__\u001b[0m\u001b[0;34m(\u001b[0m\u001b[0;34m)\u001b[0m\u001b[0;34m\u001b[0m\u001b[0;34m\u001b[0m\u001b[0m\n\u001b[1;32m      4\u001b[0m         \u001b[0mself\u001b[0m\u001b[0;34m.\u001b[0m\u001b[0mconv1\u001b[0m \u001b[0;34m=\u001b[0m \u001b[0mSAGEConv\u001b[0m\u001b[0;34m(\u001b[0m\u001b[0min_channels\u001b[0m\u001b[0;34m,\u001b[0m \u001b[0mhidden_channels\u001b[0m\u001b[0;34m)\u001b[0m\u001b[0;34m\u001b[0m\u001b[0;34m\u001b[0m\u001b[0m\n\u001b[1;32m      5\u001b[0m         \u001b[0mself\u001b[0m\u001b[0;34m.\u001b[0m\u001b[0mconv2\u001b[0m \u001b[0;34m=\u001b[0m \u001b[0mSAGEConv\u001b[0m\u001b[0;34m(\u001b[0m\u001b[0mhidden_channels\u001b[0m\u001b[0;34m,\u001b[0m \u001b[0mhidden_channels\u001b[0m\u001b[0;34m)\u001b[0m\u001b[0;34m\u001b[0m\u001b[0;34m\u001b[0m\u001b[0m\n",
            "\u001b[0;31mNameError\u001b[0m: name 'nn' is not defined"
          ]
        }
      ]
    },
    {
      "cell_type": "code",
      "source": [
        "victim = SAGEMean(1433, 64).to(device)\n",
        "victim.load_state_dict(torch.load(\"/content/drive/MyDrive/gnnfingers/victims/victim_Cora_SAGEMean.pth\", map_location=device), strict=False)\n",
        "victim.eval()\n",
        "\n"
      ],
      "metadata": {
        "colab": {
          "base_uri": "https://localhost:8080/"
        },
        "id": "yZ5EpWAsLlin",
        "outputId": "88328571-0714-42d6-d754-83837efc158e"
      },
      "execution_count": null,
      "outputs": [
        {
          "output_type": "execute_result",
          "data": {
            "text/plain": [
              "SAGEMean(\n",
              "  (conv1): SAGEConv(1433, 64, aggr=mean)\n",
              "  (conv2): SAGEConv(64, 64, aggr=mean)\n",
              "  (lin): Linear(in_features=64, out_features=7, bias=True)\n",
              ")"
            ]
          },
          "metadata": {},
          "execution_count": 5
        }
      ]
    },
    {
      "cell_type": "code",
      "source": [
        "import torch\n",
        "import torch.nn.functional as F\n",
        "from torch_geometric.nn import SAGEConv\n",
        "from torch import nn\n",
        "\n",
        "class SAGEMean(nn.Module):\n",
        "    def __init__(self, in_channels, hidden_channels, dropout=0.5):\n",
        "        super().__init__()\n",
        "        self.conv1 = SAGEConv(in_channels, hidden_channels)\n",
        "        self.conv2 = SAGEConv(hidden_channels, hidden_channels)\n",
        "        self.lin = nn.Linear(hidden_channels, 7)  # assuming 7 classes for Cora\n",
        "        self.dropout = dropout\n",
        "\n",
        "    def forward(self, x, edge_index):\n",
        "        x = self.conv1(x, edge_index)\n",
        "        x = F.relu(x)\n",
        "        x = F.dropout(x, p=self.dropout, training=self.training)\n",
        "        x = self.conv2(x, edge_index)\n",
        "        x = F.relu(x)\n",
        "        x = F.dropout(x, p=self.dropout, training=self.training)\n",
        "        return self.lin(x)\n"
      ],
      "metadata": {
        "id": "noz6r4pxMm9_"
      },
      "execution_count": null,
      "outputs": []
    },
    {
      "cell_type": "code",
      "source": [
        "import torch.nn as nn\n",
        "\n",
        "class FingerprintNetMLP(nn.Module):\n",
        "    def __init__(self, in_dim=64, hidden_dims=[128, 64], out_dim=2):\n",
        "        super().__init__()\n",
        "        self.net = nn.Sequential(\n",
        "            nn.Linear(in_dim, hidden_dims[0]),\n",
        "            nn.LeakyReLU(),\n",
        "            nn.Linear(hidden_dims[0], hidden_dims[1]),\n",
        "            nn.LeakyReLU(),\n",
        "            nn.Linear(hidden_dims[1], out_dim),\n",
        "            nn.Softmax(dim=1)\n",
        "        )\n",
        "\n",
        "    def forward(self, x):\n",
        "        return self.net(x)\n"
      ],
      "metadata": {
        "id": "mBD8iwnvOG9-"
      },
      "execution_count": null,
      "outputs": []
    },
    {
      "cell_type": "code",
      "source": [
        "import os\n",
        "import torch\n",
        "\n",
        "def load_variants(variant_dir):\n",
        "    graphs = []\n",
        "    for fname in sorted(os.listdir(variant_dir)):\n",
        "        if fname.endswith(\".pt\"):\n",
        "            graph = torch.load(os.path.join(variant_dir, fname))\n",
        "            graphs.append(graph)\n",
        "    return graphs\n"
      ],
      "metadata": {
        "id": "ZI-CcmnPOR4N"
      },
      "execution_count": null,
      "outputs": []
    },
    {
      "cell_type": "code",
      "source": [
        "from torch_geometric.data.storage import GlobalStorage\n",
        "add_safe_globals([GlobalStorage])  # <-- Add this\n",
        "from torch_geometric.data import Data\n",
        "from torch_geometric.data.data import DataEdgeAttr, DataTensorAttr\n",
        "from torch_geometric.data.storage import GlobalStorage\n",
        "from torch.serialization import add_safe_globals\n",
        "\n",
        "add_safe_globals([Data, DataEdgeAttr, DataTensorAttr, GlobalStorage])\n"
      ],
      "metadata": {
        "id": "tdoJqLoBOfz1"
      },
      "execution_count": null,
      "outputs": []
    },
    {
      "cell_type": "code",
      "source": [
        "all_graphs = load_variants(\"/content/drive/MyDrive/gnnfingers/variants/Cora_SAGEMean\")\n"
      ],
      "metadata": {
        "id": "O29RWwvrOjSV"
      },
      "execution_count": null,
      "outputs": []
    },
    {
      "cell_type": "code",
      "source": [
        "import torch\n",
        "import os\n",
        "from tqdm import tqdm\n",
        "from torch_geometric.data import Data\n",
        "from torch_geometric.data.data import DataEdgeAttr, DataTensorAttr\n",
        "from torch_geometric.data.storage import GlobalStorage\n",
        "from torch.serialization import add_safe_globals\n",
        "from torch_geometric.nn import global_mean_pool\n",
        "from torch_geometric.loader import DataLoader\n",
        "\n",
        "# Allow PyG globals for unpickling\n",
        "add_safe_globals([Data, DataEdgeAttr, DataTensorAttr, GlobalStorage])\n",
        "\n",
        "# Redefine SAGEMean\n",
        "class SAGEMean(torch.nn.Module):\n",
        "    def __init__(self, in_channels, hidden_channels, dropout=0.5):\n",
        "        super().__init__()\n",
        "        from torch_geometric.nn import SAGEConv\n",
        "        self.conv1 = SAGEConv(in_channels, hidden_channels)\n",
        "        self.conv2 = SAGEConv(hidden_channels, hidden_channels)\n",
        "        self.lin = torch.nn.Linear(hidden_channels, 7)\n",
        "        self.dropout = dropout\n",
        "\n",
        "    def forward(self, x, edge_index, batch=None):\n",
        "        x = self.conv1(x, edge_index)\n",
        "        x = torch.relu(x)\n",
        "        x = torch.nn.functional.dropout(x, p=self.dropout, training=self.training)\n",
        "        x = self.conv2(x, edge_index)\n",
        "        x = torch.relu(x)\n",
        "        if batch is not None:\n",
        "            x = global_mean_pool(x, batch)\n",
        "        return self.lin(x)\n",
        "\n",
        "# FingerprintNetMLP\n",
        "class FingerprintNetMLP(torch.nn.Module):\n",
        "    def __init__(self, in_dim=64, hidden_dims=[128, 64], out_dim=2):\n",
        "        super().__init__()\n",
        "        self.net = torch.nn.Sequential(\n",
        "            torch.nn.Linear(in_dim, hidden_dims[0]),\n",
        "            torch.nn.LeakyReLU(),\n",
        "            torch.nn.Linear(hidden_dims[0], hidden_dims[1]),\n",
        "            torch.nn.LeakyReLU(),\n",
        "            torch.nn.Linear(hidden_dims[1], out_dim),\n",
        "            torch.nn.Softmax(dim=1)\n",
        "        )\n",
        "    def forward(self, x):\n",
        "        return self.net(x)\n",
        "\n",
        "# Load victim + fingerprint model\n",
        "device = torch.device('cuda' if torch.cuda.is_available() else 'cpu')\n",
        "victim = SAGEMean(1433, 64).to(device)\n",
        "victim.load_state_dict(torch.load(\"/content/drive/MyDrive/gnnfingers/victims/victim_Cora_SAGEMean.pth\", map_location=device), strict=False)\n",
        "victim.eval()\n",
        "fp_net = FingerprintNetMLP().to(device)\n",
        "fp_net.eval()\n",
        "\n",
        "# Variant directory\n",
        "variant_dir = \"/content/drive/MyDrive/gnnfingers/variants/Cora_SAGEMean\"\n",
        "output_dir = \"/content/drive/MyDrive/gnnfingers/fingerprints/safe_chunks\"\n",
        "os.makedirs(output_dir, exist_ok=True)\n",
        "\n",
        "# Process one graph at a time, saving fingerprint every 10\n",
        "batch_size = 10\n",
        "fingerprints = []\n",
        "filenames = sorted([f for f in os.listdir(variant_dir) if f.endswith(\".pt\")])\n",
        "\n",
        "with torch.no_grad():\n",
        "    for i, fname in enumerate(tqdm(filenames)):\n",
        "        out_file = os.path.join(output_dir, f\"chunk_{i // batch_size}.pt\")\n",
        "        if os.path.exists(out_file):\n",
        "            continue  # skip already saved\n",
        "\n",
        "        # Load one graph\n",
        "        graph = torch.load(os.path.join(variant_dir, fname), map_location=device)\n",
        "        loader = DataLoader([graph], batch_size=1)\n",
        "        for batch in loader:\n",
        "            batch = batch.to(device)\n",
        "            x = torch.relu(victim.conv1(batch.x, batch.edge_index))\n",
        "            x = torch.nn.functional.dropout(x, p=victim.dropout, training=False)\n",
        "            x = victim.conv2(x, batch.edge_index)\n",
        "            x = global_mean_pool(x, batch.batch)\n",
        "            fp = fp_net(x)\n",
        "            fingerprints.append(fp.cpu())\n",
        "\n",
        "        # Save after every 10 graphs\n",
        "        if (i + 1) % batch_size == 0 or (i + 1) == len(filenames):\n",
        "            chunk_tensor = torch.cat(fingerprints, dim=0)\n",
        "            torch.save(chunk_tensor, out_file)\n",
        "            print(f\"✅ Saved {out_file}\")\n",
        "            fingerprints = []  # clear memory\n"
      ],
      "metadata": {
        "colab": {
          "base_uri": "https://localhost:8080/"
        },
        "id": "oVAYhX3ELHtY",
        "outputId": "12078f80-dee5-4227-ae18-abbc44d773e2"
      },
      "execution_count": null,
      "outputs": [
        {
          "output_type": "stream",
          "name": "stderr",
          "text": [
            "100%|██████████| 400/400 [00:00<00:00, 1186.04it/s]\n"
          ]
        }
      ]
    },
    {
      "cell_type": "code",
      "source": [
        "import glob\n",
        "all_chunks = sorted(glob.glob(\"/content/drive/MyDrive/gnnfingers/fingerprints/safe_chunks/chunk_*.pt\"))\n",
        "final = torch.cat([torch.load(f) for f in all_chunks], dim=0)\n",
        "torch.save(final, \"/content/drive/MyDrive/gnnfingers/fingerprints/Cora_SAGEMean.pt\")\n",
        "print(\"✅ Final fingerprint tensor saved.\")\n"
      ],
      "metadata": {
        "colab": {
          "base_uri": "https://localhost:8080/"
        },
        "id": "Jjh9UywjPTeB",
        "outputId": "4071d0fc-359c-4264-8da0-33aa2de4dce0"
      },
      "execution_count": null,
      "outputs": [
        {
          "output_type": "stream",
          "name": "stdout",
          "text": [
            "✅ Final fingerprint tensor saved.\n"
          ]
        }
      ]
    },
    {
      "cell_type": "code",
      "source": [
        "import glob\n",
        "import torch\n",
        "\n",
        "# Get all chunk files\n",
        "chunk_files = sorted(glob.glob(\"/content/drive/MyDrive/gnnfingers/fingerprints/safe_chunks/chunk_*.pt\"))\n",
        "\n",
        "# Load and concatenate\n",
        "all_fps = [torch.load(f) for f in chunk_files]\n",
        "final_tensor = torch.cat(all_fps, dim=0)\n",
        "\n",
        "# Save final tensor\n",
        "torch.save(final_tensor, \"/content/drive/MyDrive/gnnfingers/fingerprints/Cora_SAGEMean.pt\")\n",
        "print(\"✅ Final fingerprint tensor saved with shape:\", final_tensor.shape)\n"
      ],
      "metadata": {
        "colab": {
          "base_uri": "https://localhost:8080/"
        },
        "id": "qA6WD166Pdx0",
        "outputId": "96969706-1062-4c5d-d57a-a73e025bd5b3"
      },
      "execution_count": null,
      "outputs": [
        {
          "output_type": "stream",
          "name": "stdout",
          "text": [
            "✅ Final fingerprint tensor saved with shape: torch.Size([400, 2])\n"
          ]
        }
      ]
    },
    {
      "cell_type": "code",
      "source": [
        "import torch\n",
        "import torch.nn as nn\n",
        "import torch.nn.functional as F\n",
        "from torch.utils.data import TensorDataset, DataLoader, random_split\n",
        "from sklearn.metrics import roc_auc_score\n",
        "\n",
        "# === Load Data ===\n",
        "fingerprints = torch.load(\"/content/drive/MyDrive/gnnfingers/fingerprints/Cora_SAGEMean.pt\")\n",
        "labels = torch.cat([torch.ones(200), torch.zeros(200)]).long()\n",
        "\n",
        "# === Create Dataset & Dataloaders ===\n",
        "dataset = TensorDataset(fingerprints, labels)\n",
        "train_size = int(0.7 * len(dataset))\n",
        "test_size = len(dataset) - train_size\n",
        "train_ds, test_ds = random_split(dataset, [train_size, test_size], generator=torch.Generator().manual_seed(42))\n",
        "train_loader = DataLoader(train_ds, batch_size=32, shuffle=True)\n",
        "test_loader = DataLoader(test_ds, batch_size=64)\n",
        "\n",
        "# === Define Univerifier ===\n",
        "class Univerifier(nn.Module):\n",
        "    def __init__(self, in_dim=2, hidden_dim=16):\n",
        "        super().__init__()\n",
        "        self.net = nn.Sequential(\n",
        "            nn.Linear(in_dim, hidden_dim),\n",
        "            nn.ReLU(),\n",
        "            nn.Linear(hidden_dim, 2)\n",
        "        )\n",
        "\n",
        "    def forward(self, x):\n",
        "        return self.net(x)\n",
        "\n",
        "# === Training Setup ===\n",
        "device = torch.device(\"cuda\" if torch.cuda.is_available() else \"cpu\")\n",
        "model = Univerifier().to(device)\n",
        "optimizer = torch.optim.Adam(model.parameters(), lr=0.01)\n",
        "criterion = nn.CrossEntropyLoss()\n",
        "\n",
        "# === Training Loop ===\n",
        "for epoch in range(1, 31):\n",
        "    model.train()\n",
        "    total_loss = 0\n",
        "    for xb, yb in train_loader:\n",
        "        xb, yb = xb.to(device), yb.to(device)\n",
        "        optimizer.zero_grad()\n",
        "        preds = model(xb)\n",
        "        loss = criterion(preds, yb)\n",
        "        loss.backward()\n",
        "        optimizer.step()\n",
        "        total_loss += loss.item()\n",
        "\n",
        "    # === Evaluation ===\n",
        "    model.eval()\n",
        "    all_probs = []\n",
        "    all_targets = []\n",
        "    with torch.no_grad():\n",
        "        for xb, yb in test_loader:\n",
        "            xb = xb.to(device)\n",
        "            logits = model(xb)\n",
        "            probs = F.softmax(logits, dim=1)[:, 1].cpu()\n",
        "            all_probs.append(probs)\n",
        "            all_targets.append(yb)\n",
        "\n",
        "    # Compute ARUC\n",
        "    probs = torch.cat(all_probs).numpy()\n",
        "    targets = torch.cat(all_targets).numpy()\n",
        "    aruc = roc_auc_score(targets, probs)\n",
        "\n",
        "    print(f\"Epoch {epoch:02d} | Loss: {total_loss:.4f} | ARUC: {aruc:.4f}\")\n"
      ],
      "metadata": {
        "colab": {
          "base_uri": "https://localhost:8080/"
        },
        "id": "JXNuAqylPpBM",
        "outputId": "4bc80e08-2d92-4374-d580-0af6479a9e1b"
      },
      "execution_count": null,
      "outputs": [
        {
          "output_type": "stream",
          "name": "stdout",
          "text": [
            "Epoch 01 | Loss: 6.2905 | ARUC: 0.5000\n",
            "Epoch 02 | Loss: 6.2314 | ARUC: 0.5000\n",
            "Epoch 03 | Loss: 6.2387 | ARUC: 0.5000\n",
            "Epoch 04 | Loss: 6.2364 | ARUC: 0.5000\n",
            "Epoch 05 | Loss: 6.2303 | ARUC: 0.5000\n",
            "Epoch 06 | Loss: 6.2327 | ARUC: 0.5000\n",
            "Epoch 07 | Loss: 6.2286 | ARUC: 0.4983\n",
            "Epoch 08 | Loss: 6.2290 | ARUC: 0.5000\n",
            "Epoch 09 | Loss: 6.2314 | ARUC: 0.5000\n",
            "Epoch 10 | Loss: 6.2459 | ARUC: 0.5000\n",
            "Epoch 11 | Loss: 6.2418 | ARUC: 0.5000\n",
            "Epoch 12 | Loss: 6.2392 | ARUC: 0.5000\n",
            "Epoch 13 | Loss: 6.2333 | ARUC: 0.5000\n",
            "Epoch 14 | Loss: 6.2290 | ARUC: 0.5000\n",
            "Epoch 15 | Loss: 6.2294 | ARUC: 0.5000\n",
            "Epoch 16 | Loss: 6.2328 | ARUC: 0.5000\n",
            "Epoch 17 | Loss: 6.2435 | ARUC: 0.5000\n",
            "Epoch 18 | Loss: 6.2487 | ARUC: 0.5000\n",
            "Epoch 19 | Loss: 6.2320 | ARUC: 0.5000\n",
            "Epoch 20 | Loss: 6.2313 | ARUC: 0.5000\n",
            "Epoch 21 | Loss: 6.2311 | ARUC: 0.5000\n",
            "Epoch 22 | Loss: 6.2307 | ARUC: 0.5000\n",
            "Epoch 23 | Loss: 6.2327 | ARUC: 0.5000\n",
            "Epoch 24 | Loss: 6.2294 | ARUC: 0.5000\n",
            "Epoch 25 | Loss: 6.2388 | ARUC: 0.5000\n",
            "Epoch 26 | Loss: 6.2297 | ARUC: 0.5000\n",
            "Epoch 27 | Loss: 6.2336 | ARUC: 0.5000\n",
            "Epoch 28 | Loss: 6.2314 | ARUC: 0.5000\n",
            "Epoch 29 | Loss: 6.2324 | ARUC: 0.5017\n",
            "Epoch 30 | Loss: 6.2410 | ARUC: 0.5000\n"
          ]
        }
      ]
    },
    {
      "cell_type": "code",
      "source": [
        "torch.save(model.state_dict(), \"/content/drive/MyDrive/gnnfingers/checkpoints/U_Cora_SAGEMean.pth\")\n",
        "print(\"✅ Univerifier model saved.\")\n"
      ],
      "metadata": {
        "colab": {
          "base_uri": "https://localhost:8080/"
        },
        "id": "K5k-Z94_P1nD",
        "outputId": "5561697b-a76d-447b-c4aa-ce0c57e6480a"
      },
      "execution_count": null,
      "outputs": [
        {
          "output_type": "stream",
          "name": "stdout",
          "text": [
            "✅ Univerifier model saved.\n"
          ]
        }
      ]
    },
    {
      "cell_type": "code",
      "source": [
        "import matplotlib.pyplot as plt\n",
        "from sklearn.metrics import roc_curve, auc\n",
        "\n",
        "# Ensure you have predictions and true labels\n",
        "fpr, tpr, thresholds = roc_curve(targets, probs)\n",
        "roc_auc = auc(fpr, tpr)\n",
        "\n",
        "# Plot\n",
        "plt.figure(figsize=(6, 5))\n",
        "plt.plot(fpr, tpr, color='blue', lw=2, label=f'ROC curve (ARUC = {roc_auc:.4f})')\n",
        "plt.plot([0, 1], [0, 1], color='gray', lw=1, linestyle='--')\n",
        "plt.xlim([0.0, 1.0])\n",
        "plt.ylim([0.0, 1.05])\n",
        "plt.xlabel('False Positive Rate', fontsize=12)\n",
        "plt.ylabel('True Positive Rate', fontsize=12)\n",
        "plt.title('Univerifier ROC Curve - Cora SAGEMean', fontsize=13)\n",
        "plt.legend(loc=\"lower right\")\n",
        "plt.grid(True)\n",
        "plt.show()\n"
      ],
      "metadata": {
        "colab": {
          "base_uri": "https://localhost:8080/",
          "height": 491
        },
        "id": "OPUje1REP_ur",
        "outputId": "6b8f6e96-0ee9-47e9-a9dd-68010d2d7a5a"
      },
      "execution_count": null,
      "outputs": [
        {
          "output_type": "display_data",
          "data": {
            "text/plain": [
              "<Figure size 600x500 with 1 Axes>"
            ],
            "image/png": "[encoded data removed]"
          },
          "metadata": {}
        }
      ]
    },
    {
      "cell_type": "code",
      "source": [
        "print(\"Positive mean:\", fingerprints[:200].mean(dim=0))\n",
        "print(\"Negative mean:\", fingerprints[200:].mean(dim=0))\n"
      ],
      "metadata": {
        "colab": {
          "base_uri": "https://localhost:8080/"
        },
        "id": "vKsRs1xQQEaj",
        "outputId": "eed018c8-4937-4be6-91c7-96c3f9e1f467"
      },
      "execution_count": null,
      "outputs": [
        {
          "output_type": "stream",
          "name": "stdout",
          "text": [
            "Positive mean: tensor([0.1880, 0.8120])\n",
            "Negative mean: tensor([0.1880, 0.8120])\n"
          ]
        }
      ]
    },
    {
      "cell_type": "code",
      "source": [
        "print(\"Positive sample fp:\", fingerprints[0])\n",
        "print(\"Negative sample fp:\", fingerprints[250])\n"
      ],
      "metadata": {
        "colab": {
          "base_uri": "https://localhost:8080/"
        },
        "id": "c1B8M8CZQP2z",
        "outputId": "19fdf657-2555-4a68-ed0e-d07e88ef1d14"
      },
      "execution_count": null,
      "outputs": [
        {
          "output_type": "stream",
          "name": "stdout",
          "text": [
            "Positive sample fp: tensor([0.1880, 0.8120])\n",
            "Negative sample fp: tensor([0.1880, 0.8120])\n"
          ]
        }
      ]
    },
    {
      "cell_type": "code",
      "source": [
        "import torch\n",
        "import torch.nn as nn\n",
        "import torch.nn.functional as F\n",
        "from torch_geometric.nn import SAGEConv\n",
        "\n",
        "# Define SAGEMean\n",
        "class SAGEMean(nn.Module):\n",
        "    def __init__(self, in_channels, hidden_channels, out_channels):\n",
        "        super(SAGEMean, self).__init__()\n",
        "        self.conv1 = SAGEConv(in_channels, hidden_channels)\n",
        "        self.conv2 = SAGEConv(hidden_channels, out_channels)\n",
        "\n",
        "    def forward(self, x, edge_index, batch):\n",
        "        x = self.conv1(x, edge_index)\n",
        "        x = F.relu(x)\n",
        "        x = self.conv2(x, edge_index)\n",
        "        return x\n",
        "\n",
        "# Define FingerprintNetMLP\n",
        "class FingerprintNetMLP(nn.Module):\n",
        "    def __init__(self, in_dim=7, hidden_dim=32, out_dim=2):\n",
        "        super(FingerprintNetMLP, self).__init__()\n",
        "        self.fc1 = nn.Linear(in_dim, hidden_dim)\n",
        "        self.fc2 = nn.Linear(hidden_dim, out_dim)\n",
        "\n",
        "    def forward(self, x):\n",
        "        x = F.relu(self.fc1(x))\n",
        "        return self.fc2(x)\n"
      ],
      "metadata": {
        "id": "UjgcdqCbQihz"
      },
      "execution_count": null,
      "outputs": []
    },
    {
      "cell_type": "code",
      "source": [
        "def load_variants(folder, keyword):\n",
        "    files = sorted([f for f in os.listdir(folder) if keyword in f])\n",
        "    graphs = [torch.load(os.path.join(folder, f)) for f in files]\n",
        "    return graphs\n",
        "\n",
        "pos_graphs = load_variants(\"/content/drive/MyDrive/gnnfingers/variants/Cora_SAGEMean\", \"pos\")\n",
        "neg_graphs = load_variants(\"/content/drive/MyDrive/gnnfingers/variants/Cora_SAGEMean\", \"neg\")\n"
      ],
      "metadata": {
        "id": "xHO5tHSHRogT"
      },
      "execution_count": null,
      "outputs": []
    },
    {
      "cell_type": "code",
      "source": [
        "# Clean, simple version — NO extra 'keyword' argument\n",
        "def load_variants(folder):\n",
        "    files = sorted(os.listdir(folder))\n",
        "    graphs = []\n",
        "    for f in files:\n",
        "        path = os.path.join(folder, f)\n",
        "        graphs.append(torch.load(path))\n",
        "    return graphs\n"
      ],
      "metadata": {
        "id": "mSlGCrtUSBPy"
      },
      "execution_count": null,
      "outputs": []
    },
    {
      "cell_type": "code",
      "source": [
        "from google.colab import drive\n",
        "drive.mount('/content/drive')\n"
      ],
      "metadata": {
        "colab": {
          "base_uri": "https://localhost:8080/"
        },
        "id": "EM2EjPm3SN6K",
        "outputId": "c3af12b2-1230-4691-b666-0c85a2db7617"
      },
      "execution_count": null,
      "outputs": [
        {
          "output_type": "stream",
          "name": "stdout",
          "text": [
            "Drive already mounted at /content/drive; to attempt to forcibly remount, call drive.mount(\"/content/drive\", force_remount=True).\n"
          ]
        }
      ]
    },
    {
      "cell_type": "code",
      "source": [
        "!ls /content/drive/MyDrive/gnnfingers/variants/Cora_SAGEMean/\n"
      ],
      "metadata": {
        "colab": {
          "base_uri": "https://localhost:8080/"
        },
        "id": "43beRYMBSO9c",
        "outputId": "2dfd5115-d7ce-4dac-ae0f-5b424dfb17c3"
      },
      "execution_count": null,
      "outputs": [
        {
          "output_type": "stream",
          "name": "stdout",
          "text": [
            "N_0.pt\t  N_145.pt  N_190.pt  N_55.pt  P_0.pt\t P_145.pt  P_190.pt  P_55.pt\n",
            "N_100.pt  N_146.pt  N_191.pt  N_56.pt  P_100.pt  P_146.pt  P_191.pt  P_56.pt\n",
            "N_101.pt  N_147.pt  N_192.pt  N_57.pt  P_101.pt  P_147.pt  P_192.pt  P_57.pt\n",
            "N_102.pt  N_148.pt  N_193.pt  N_58.pt  P_102.pt  P_148.pt  P_193.pt  P_58.pt\n",
            "N_103.pt  N_149.pt  N_194.pt  N_59.pt  P_103.pt  P_149.pt  P_194.pt  P_59.pt\n",
            "N_104.pt  N_14.pt   N_195.pt  N_5.pt   P_104.pt  P_14.pt   P_195.pt  P_5.pt\n",
            "N_105.pt  N_150.pt  N_196.pt  N_60.pt  P_105.pt  P_150.pt  P_196.pt  P_60.pt\n",
            "N_106.pt  N_151.pt  N_197.pt  N_61.pt  P_106.pt  P_151.pt  P_197.pt  P_61.pt\n",
            "N_107.pt  N_152.pt  N_198.pt  N_62.pt  P_107.pt  P_152.pt  P_198.pt  P_62.pt\n",
            "N_108.pt  N_153.pt  N_199.pt  N_63.pt  P_108.pt  P_153.pt  P_199.pt  P_63.pt\n",
            "N_109.pt  N_154.pt  N_19.pt   N_64.pt  P_109.pt  P_154.pt  P_19.pt   P_64.pt\n",
            "N_10.pt   N_155.pt  N_1.pt    N_65.pt  P_10.pt\t P_155.pt  P_1.pt    P_65.pt\n",
            "N_110.pt  N_156.pt  N_20.pt   N_66.pt  P_110.pt  P_156.pt  P_20.pt   P_66.pt\n",
            "N_111.pt  N_157.pt  N_21.pt   N_67.pt  P_111.pt  P_157.pt  P_21.pt   P_67.pt\n",
            "N_112.pt  N_158.pt  N_22.pt   N_68.pt  P_112.pt  P_158.pt  P_22.pt   P_68.pt\n",
            "N_113.pt  N_159.pt  N_23.pt   N_69.pt  P_113.pt  P_159.pt  P_23.pt   P_69.pt\n",
            "N_114.pt  N_15.pt   N_24.pt   N_6.pt   P_114.pt  P_15.pt   P_24.pt   P_6.pt\n",
            "N_115.pt  N_160.pt  N_25.pt   N_70.pt  P_115.pt  P_160.pt  P_25.pt   P_70.pt\n",
            "N_116.pt  N_161.pt  N_26.pt   N_71.pt  P_116.pt  P_161.pt  P_26.pt   P_71.pt\n",
            "N_117.pt  N_162.pt  N_27.pt   N_72.pt  P_117.pt  P_162.pt  P_27.pt   P_72.pt\n",
            "N_118.pt  N_163.pt  N_28.pt   N_73.pt  P_118.pt  P_163.pt  P_28.pt   P_73.pt\n",
            "N_119.pt  N_164.pt  N_29.pt   N_74.pt  P_119.pt  P_164.pt  P_29.pt   P_74.pt\n",
            "N_11.pt   N_165.pt  N_2.pt    N_75.pt  P_11.pt\t P_165.pt  P_2.pt    P_75.pt\n",
            "N_120.pt  N_166.pt  N_30.pt   N_76.pt  P_120.pt  P_166.pt  P_30.pt   P_76.pt\n",
            "N_121.pt  N_167.pt  N_31.pt   N_77.pt  P_121.pt  P_167.pt  P_31.pt   P_77.pt\n",
            "N_122.pt  N_168.pt  N_32.pt   N_78.pt  P_122.pt  P_168.pt  P_32.pt   P_78.pt\n",
            "N_123.pt  N_169.pt  N_33.pt   N_79.pt  P_123.pt  P_169.pt  P_33.pt   P_79.pt\n",
            "N_124.pt  N_16.pt   N_34.pt   N_7.pt   P_124.pt  P_16.pt   P_34.pt   P_7.pt\n",
            "N_125.pt  N_170.pt  N_35.pt   N_80.pt  P_125.pt  P_170.pt  P_35.pt   P_80.pt\n",
            "N_126.pt  N_171.pt  N_36.pt   N_81.pt  P_126.pt  P_171.pt  P_36.pt   P_81.pt\n",
            "N_127.pt  N_172.pt  N_37.pt   N_82.pt  P_127.pt  P_172.pt  P_37.pt   P_82.pt\n",
            "N_128.pt  N_173.pt  N_38.pt   N_83.pt  P_128.pt  P_173.pt  P_38.pt   P_83.pt\n",
            "N_129.pt  N_174.pt  N_39.pt   N_84.pt  P_129.pt  P_174.pt  P_39.pt   P_84.pt\n",
            "N_12.pt   N_175.pt  N_3.pt    N_85.pt  P_12.pt\t P_175.pt  P_3.pt    P_85.pt\n",
            "N_130.pt  N_176.pt  N_40.pt   N_86.pt  P_130.pt  P_176.pt  P_40.pt   P_86.pt\n",
            "N_131.pt  N_177.pt  N_41.pt   N_87.pt  P_131.pt  P_177.pt  P_41.pt   P_87.pt\n",
            "N_132.pt  N_178.pt  N_42.pt   N_88.pt  P_132.pt  P_178.pt  P_42.pt   P_88.pt\n",
            "N_133.pt  N_179.pt  N_43.pt   N_89.pt  P_133.pt  P_179.pt  P_43.pt   P_89.pt\n",
            "N_134.pt  N_17.pt   N_44.pt   N_8.pt   P_134.pt  P_17.pt   P_44.pt   P_8.pt\n",
            "N_135.pt  N_180.pt  N_45.pt   N_90.pt  P_135.pt  P_180.pt  P_45.pt   P_90.pt\n",
            "N_136.pt  N_181.pt  N_46.pt   N_91.pt  P_136.pt  P_181.pt  P_46.pt   P_91.pt\n",
            "N_137.pt  N_182.pt  N_47.pt   N_92.pt  P_137.pt  P_182.pt  P_47.pt   P_92.pt\n",
            "N_138.pt  N_183.pt  N_48.pt   N_93.pt  P_138.pt  P_183.pt  P_48.pt   P_93.pt\n",
            "N_139.pt  N_184.pt  N_49.pt   N_94.pt  P_139.pt  P_184.pt  P_49.pt   P_94.pt\n",
            "N_13.pt   N_185.pt  N_4.pt    N_95.pt  P_13.pt\t P_185.pt  P_4.pt    P_95.pt\n",
            "N_140.pt  N_186.pt  N_50.pt   N_96.pt  P_140.pt  P_186.pt  P_50.pt   P_96.pt\n",
            "N_141.pt  N_187.pt  N_51.pt   N_97.pt  P_141.pt  P_187.pt  P_51.pt   P_97.pt\n",
            "N_142.pt  N_188.pt  N_52.pt   N_98.pt  P_142.pt  P_188.pt  P_52.pt   P_98.pt\n",
            "N_143.pt  N_189.pt  N_53.pt   N_99.pt  P_143.pt  P_189.pt  P_53.pt   P_99.pt\n",
            "N_144.pt  N_18.pt   N_54.pt   N_9.pt   P_144.pt  P_18.pt   P_54.pt   P_9.pt\n"
          ]
        }
      ]
    },
    {
      "cell_type": "code",
      "source": [
        "import os\n",
        "import torch\n",
        "\n",
        "# Load function that filters by prefix\n",
        "def load_variants_by_prefix(folder, prefix, max_files=None):\n",
        "    files = sorted([f for f in os.listdir(folder) if f.startswith(prefix)])\n",
        "    if max_files:\n",
        "        files = files[:max_files]\n",
        "    graphs = []\n",
        "    for f in files:\n",
        "        path = os.path.join(folder, f)\n",
        "        graphs.append(torch.load(path))\n",
        "    return graphs\n",
        "\n",
        "# Set paths\n",
        "variant_dir = \"/content/drive/MyDrive/gnnfingers/variants/Cora_SAGEMean\"\n",
        "\n",
        "# Load a subset of 50 each (adjust number as needed: 10, 100, 200)\n",
        "num_variants = 50\n",
        "pos_graphs = load_variants_by_prefix(variant_dir, \"P_\", num_variants)\n",
        "neg_graphs = load_variants_by_prefix(variant_dir, \"N_\", num_variants)\n",
        "\n",
        "# Label tensors\n",
        "labels = torch.cat([torch.ones(len(pos_graphs)), torch.zeros(len(neg_graphs))]).long()\n",
        "\n",
        "print(f\"✅ Loaded {len(pos_graphs)} positive and {len(neg_graphs)} negative graphs.\")\n"
      ],
      "metadata": {
        "colab": {
          "base_uri": "https://localhost:8080/"
        },
        "id": "r445I6SKSY65",
        "outputId": "7a0a7dff-13a6-4da8-a5d6-b66613063ab9"
      },
      "execution_count": null,
      "outputs": [
        {
          "output_type": "stream",
          "name": "stdout",
          "text": [
            "✅ Loaded 50 positive and 50 negative graphs.\n"
          ]
        }
      ]
    },
    {
      "cell_type": "code",
      "source": [
        "import torch\n",
        "import torch.nn as nn\n",
        "import torch.nn.functional as F\n",
        "from torch_geometric.nn import global_mean_pool\n",
        "from sklearn.metrics import accuracy_score\n",
        "\n",
        "# Assuming `victim` is already loaded and on the correct device\n",
        "# And that `pos_graphs`, `neg_graphs`, and `labels` are ready\n",
        "\n",
        "graphs = pos_graphs + neg_graphs\n",
        "device = torch.device(\"cuda\" if torch.cuda.is_available() else \"cpu\")\n",
        "\n",
        "# ---- Extract embeddings from the victim ----\n",
        "def extract_embeddings(model, graphs):\n",
        "    model.eval()\n",
        "    embs = []\n",
        "    with torch.no_grad():\n",
        "        for g in graphs:\n",
        "            g = g.to(device)\n",
        "            x = model(g.x, g.edge_index)\n",
        "            pooled = global_mean_pool(x, g.batch)\n",
        "            embs.append(pooled.cpu())\n",
        "    return torch.cat(embs)\n",
        "\n",
        "X = extract_embeddings(victim, graphs)\n",
        "y = labels\n",
        "\n",
        "# ---- Train FingerprintNet ----\n",
        "class FingerprintNetMLP(nn.Module):\n",
        "    def __init__(self, in_dim=64, hidden_dim=32, out_dim=2):\n",
        "        super(FingerprintNetMLP, self).__init__()\n",
        "        self.fc1 = nn.Linear(in_dim, hidden_dim)\n",
        "        self.fc2 = nn.Linear(hidden_dim, out_dim)\n",
        "\n",
        "    def forward(self, x):\n",
        "        x = F.relu(self.fc1(x))\n",
        "        return self.fc2(x)\n",
        "\n",
        "fp_net = FingerprintNetMLP().to(device)\n",
        "optimizer = torch.optim.Adam(fp_net.parameters(), lr=0.001)\n",
        "loss_fn = nn.CrossEntropyLoss()\n",
        "\n",
        "# Train for 30 epochs\n",
        "for epoch in range(1, 31):\n",
        "    fp_net.train()\n",
        "    logits = fp_net(X.to(device))\n",
        "    loss = loss_fn(logits, y.to(device))\n",
        "\n",
        "    optimizer.zero_grad()\n",
        "    loss.backward()\n",
        "    optimizer.step()\n",
        "\n",
        "    if epoch % 5 == 0 or epoch == 1:\n",
        "        fp_net.eval()\n",
        "        pred = torch.argmax(fp_net(X.to(device)), dim=1)\n",
        "        acc = accuracy_score(y.cpu(), pred.cpu())\n",
        "        print(f\"Epoch {epoch:02d} - Loss: {loss.item():.4f} - Accuracy: {acc:.4f}\")\n",
        "\n",
        "# Save trained model\n",
        "torch.save(fp_net.state_dict(), \"/content/drive/MyDrive/gnnfingers/checkpoints/fpnet_Cora_SAGEMean_small.pth\")\n",
        "print(\"✅ FingerprintNet model saved.\")\n"
      ],
      "metadata": {
        "colab": {
          "base_uri": "https://localhost:8080/"
        },
        "id": "8QEZuAP3SjLx",
        "outputId": "07c7cef1-45de-4cd6-b52f-c0391dae0095"
      },
      "execution_count": null,
      "outputs": [
        {
          "output_type": "stream",
          "name": "stdout",
          "text": [
            "Epoch 01 - Loss: 1.5484 - Accuracy: 0.5000\n",
            "Epoch 05 - Loss: 0.8133 - Accuracy: 0.5000\n",
            "Epoch 10 - Loss: 0.7270 - Accuracy: 0.5000\n",
            "Epoch 15 - Loss: 0.7862 - Accuracy: 0.5000\n",
            "Epoch 20 - Loss: 0.6938 - Accuracy: 0.5000\n",
            "Epoch 25 - Loss: 0.7218 - Accuracy: 0.5000\n",
            "Epoch 30 - Loss: 0.7020 - Accuracy: 0.5000\n",
            "✅ FingerprintNet model saved.\n"
          ]
        }
      ]
    },
    {
      "cell_type": "code",
      "source": [
        "import matplotlib.pyplot as plt\n",
        "from sklearn.decomposition import PCA\n",
        "\n",
        "# Perform PCA to 2D for visualization\n",
        "pca = PCA(n_components=2)\n",
        "X_2d = pca.fit_transform(X)\n",
        "\n",
        "# Plot\n",
        "plt.figure(figsize=(6,5))\n",
        "plt.scatter(X_2d[:len(pos_graphs), 0], X_2d[:len(pos_graphs), 1], c='green', label='Positive', alpha=0.6)\n",
        "plt.scatter(X_2d[len(pos_graphs):, 0], X_2d[len(pos_graphs):, 1], c='red', label='Negative', alpha=0.6)\n",
        "plt.title(\"Fingerprint Embeddings (PCA)\")\n",
        "plt.legend()\n",
        "plt.grid(True)\n",
        "plt.show()\n"
      ],
      "metadata": {
        "colab": {
          "base_uri": "https://localhost:8080/",
          "height": 503
        },
        "id": "dE8Z3In9SuUy",
        "outputId": "fbeb8e9c-3946-4050-aa03-00d4f5482995"
      },
      "execution_count": null,
      "outputs": [
        {
          "output_type": "stream",
          "name": "stderr",
          "text": [
            "/usr/local/lib/python3.11/dist-packages/sklearn/decomposition/_pca.py:648: RuntimeWarning: invalid value encountered in divide\n",
            "  explained_variance_ratio_ = explained_variance_ / total_var\n"
          ]
        },
        {
          "output_type": "display_data",
          "data": {
            "text/plain": [
              "<Figure size 600x500 with 1 Axes>"
            ],
            "image/png": "[encoded data removed]"
          },
          "metadata": {}
        }
      ]
    },
    {
      "cell_type": "code",
      "source": [
        "def extract_embeddings(model, graphs):\n",
        "    embs = []\n",
        "    model.eval()\n",
        "    with torch.no_grad():\n",
        "        for g in graphs:\n",
        "            g = g.to(device)\n",
        "            # Check batch attribute\n",
        "            if not hasattr(g, 'batch'):\n",
        "                g.batch = torch.zeros(g.num_nodes, dtype=torch.long).to(device)\n",
        "            x = model(g.x, g.edge_index)\n",
        "            pooled = global_mean_pool(x, g.batch)\n",
        "            embs.append(pooled.cpu())\n",
        "    return torch.cat(embs)\n"
      ],
      "metadata": {
        "id": "79YLSgRvS8Mp"
      },
      "execution_count": null,
      "outputs": []
    },
    {
      "cell_type": "code",
      "source": [
        "X = extract_embeddings(victim, graphs)\n"
      ],
      "metadata": {
        "id": "_KYd0Qs5S9xK"
      },
      "execution_count": null,
      "outputs": []
    },
    {
      "cell_type": "code",
      "source": [
        "print(\"Sample fingerprint 1:\", X[0])\n",
        "print(\"Sample fingerprint 2:\", X[1])\n",
        "print(\"Mean (positive):\", X[:len(pos_graphs)].mean(dim=0))\n",
        "print(\"Mean (negative):\", X[len(pos_graphs):].mean(dim=0))\n"
      ],
      "metadata": {
        "colab": {
          "base_uri": "https://localhost:8080/"
        },
        "id": "lmH13mpETJnL",
        "outputId": "6887c897-4930-4c53-f441-1baaae67d1d2"
      },
      "execution_count": null,
      "outputs": [
        {
          "output_type": "stream",
          "name": "stdout",
          "text": [
            "Sample fingerprint 1: tensor([  9.4606,   8.3987,   8.8221,   9.3576,   8.1912,   7.8818,   7.3844,\n",
            "        -10.2245, -10.7107, -10.5475, -10.2595, -11.0087, -10.6392, -10.6087,\n",
            "        -10.5553, -10.5913, -10.3987,  -9.7254, -10.3513, -11.1226, -10.7574,\n",
            "        -10.9331, -10.7271, -10.4124, -11.0271, -10.6861, -10.2151, -11.0225,\n",
            "        -10.1530, -10.0888, -10.2886, -10.8065, -10.3146, -10.6951, -10.7505,\n",
            "        -10.4513, -10.6278, -10.8857, -10.8707, -10.8281, -10.5119, -10.7048,\n",
            "        -10.1517, -10.0683, -10.7027, -10.9485, -10.9581, -10.9897, -10.9382,\n",
            "        -10.8077, -10.7914, -10.9486, -10.2066, -10.5161, -10.3891, -10.2311,\n",
            "        -10.6393, -10.3868, -10.4187, -10.9872, -10.7067, -10.6451, -10.9215,\n",
            "        -10.1961])\n",
            "Sample fingerprint 2: tensor([  9.4606,   8.3987,   8.8221,   9.3576,   8.1912,   7.8818,   7.3844,\n",
            "        -10.2245, -10.7107, -10.5475, -10.2595, -11.0087, -10.6392, -10.6087,\n",
            "        -10.5553, -10.5913, -10.3987,  -9.7254, -10.3513, -11.1226, -10.7574,\n",
            "        -10.9331, -10.7271, -10.4124, -11.0271, -10.6861, -10.2151, -11.0225,\n",
            "        -10.1530, -10.0888, -10.2886, -10.8065, -10.3146, -10.6951, -10.7505,\n",
            "        -10.4513, -10.6278, -10.8857, -10.8707, -10.8281, -10.5119, -10.7048,\n",
            "        -10.1517, -10.0683, -10.7027, -10.9485, -10.9581, -10.9897, -10.9382,\n",
            "        -10.8077, -10.7914, -10.9486, -10.2066, -10.5161, -10.3891, -10.2311,\n",
            "        -10.6393, -10.3868, -10.4187, -10.9872, -10.7067, -10.6451, -10.9215,\n",
            "        -10.1961])\n",
            "Mean (positive): tensor([  9.4606,   8.3987,   8.8221,   9.3576,   8.1912,   7.8818,   7.3844,\n",
            "        -10.2245, -10.7107, -10.5475, -10.2595, -11.0087, -10.6392, -10.6087,\n",
            "        -10.5553, -10.5913, -10.3987,  -9.7254, -10.3513, -11.1226, -10.7574,\n",
            "        -10.9331, -10.7271, -10.4124, -11.0271, -10.6861, -10.2151, -11.0225,\n",
            "        -10.1530, -10.0888, -10.2886, -10.8065, -10.3146, -10.6951, -10.7505,\n",
            "        -10.4513, -10.6278, -10.8857, -10.8707, -10.8281, -10.5119, -10.7048,\n",
            "        -10.1517, -10.0683, -10.7027, -10.9485, -10.9581, -10.9897, -10.9382,\n",
            "        -10.8077, -10.7914, -10.9486, -10.2066, -10.5161, -10.3891, -10.2311,\n",
            "        -10.6393, -10.3868, -10.4187, -10.9872, -10.7067, -10.6451, -10.9215,\n",
            "        -10.1961])\n",
            "Mean (negative): tensor([  9.4606,   8.3987,   8.8221,   9.3576,   8.1912,   7.8818,   7.3844,\n",
            "        -10.2245, -10.7107, -10.5475, -10.2595, -11.0087, -10.6392, -10.6087,\n",
            "        -10.5553, -10.5913, -10.3987,  -9.7254, -10.3513, -11.1226, -10.7574,\n",
            "        -10.9331, -10.7271, -10.4124, -11.0271, -10.6861, -10.2151, -11.0225,\n",
            "        -10.1530, -10.0888, -10.2886, -10.8065, -10.3146, -10.6951, -10.7505,\n",
            "        -10.4513, -10.6278, -10.8857, -10.8707, -10.8281, -10.5119, -10.7048,\n",
            "        -10.1517, -10.0683, -10.7027, -10.9485, -10.9581, -10.9897, -10.9382,\n",
            "        -10.8077, -10.7914, -10.9486, -10.2066, -10.5161, -10.3891, -10.2311,\n",
            "        -10.6393, -10.3868, -10.4187, -10.9872, -10.7067, -10.6451, -10.9215,\n",
            "        -10.1961])\n"
          ]
        }
      ]
    },
    {
      "cell_type": "code",
      "source": [
        "from torch_geometric.loader import DataLoader\n",
        "\n",
        "def extract_embeddings(model, graphs):\n",
        "    embs = []\n",
        "    model.eval()\n",
        "    loader = DataLoader(graphs, batch_size=32, shuffle=False)\n",
        "\n",
        "    with torch.no_grad():\n",
        "        for batch in loader:\n",
        "            batch = batch.to(device)\n",
        "            x = model(batch.x, batch.edge_index)\n",
        "            pooled = global_mean_pool(x, batch.batch)\n",
        "            embs.append(pooled.cpu())\n",
        "\n",
        "    return torch.cat(embs)\n"
      ],
      "metadata": {
        "id": "e3D55oETTMYK"
      },
      "execution_count": null,
      "outputs": []
    },
    {
      "cell_type": "code",
      "source": [
        "X = extract_embeddings(victim, graphs)\n"
      ],
      "metadata": {
        "id": "PTB-LE02TQ5J"
      },
      "execution_count": null,
      "outputs": []
    },
    {
      "cell_type": "code",
      "source": [
        "print(X[0])\n",
        "print(X[1])\n",
        "print(X[:len(pos_graphs)].mean(dim=0))\n",
        "print(X[len(pos_graphs):].mean(dim=0))\n"
      ],
      "metadata": {
        "colab": {
          "base_uri": "https://localhost:8080/"
        },
        "id": "xOl4TWsuTSfJ",
        "outputId": "4e222530-d8ab-4136-d5fc-6a154be8577c"
      },
      "execution_count": null,
      "outputs": [
        {
          "output_type": "stream",
          "name": "stdout",
          "text": [
            "tensor([  9.4606,   8.3987,   8.8221,   9.3576,   8.1912,   7.8818,   7.3844,\n",
            "        -10.2245, -10.7107, -10.5475, -10.2594, -11.0087, -10.6392, -10.6087,\n",
            "        -10.5553, -10.5913, -10.3987,  -9.7254, -10.3513, -11.1226, -10.7574,\n",
            "        -10.9331, -10.7271, -10.4124, -11.0271, -10.6861, -10.2151, -11.0225,\n",
            "        -10.1531, -10.0888, -10.2886, -10.8065, -10.3146, -10.6951, -10.7505,\n",
            "        -10.4513, -10.6278, -10.8857, -10.8707, -10.8281, -10.5119, -10.7048,\n",
            "        -10.1517, -10.0683, -10.7027, -10.9485, -10.9581, -10.9897, -10.9382,\n",
            "        -10.8077, -10.7914, -10.9486, -10.2066, -10.5161, -10.3891, -10.2311,\n",
            "        -10.6393, -10.3869, -10.4187, -10.9872, -10.7067, -10.6451, -10.9215,\n",
            "        -10.1961])\n",
            "tensor([  9.4606,   8.3987,   8.8221,   9.3576,   8.1912,   7.8818,   7.3844,\n",
            "        -10.2245, -10.7107, -10.5475, -10.2594, -11.0087, -10.6392, -10.6087,\n",
            "        -10.5553, -10.5913, -10.3987,  -9.7254, -10.3513, -11.1226, -10.7574,\n",
            "        -10.9331, -10.7271, -10.4124, -11.0271, -10.6861, -10.2151, -11.0225,\n",
            "        -10.1531, -10.0888, -10.2886, -10.8065, -10.3146, -10.6951, -10.7505,\n",
            "        -10.4513, -10.6278, -10.8857, -10.8707, -10.8281, -10.5119, -10.7048,\n",
            "        -10.1517, -10.0683, -10.7027, -10.9485, -10.9581, -10.9897, -10.9382,\n",
            "        -10.8077, -10.7914, -10.9486, -10.2066, -10.5161, -10.3891, -10.2311,\n",
            "        -10.6393, -10.3869, -10.4187, -10.9872, -10.7067, -10.6451, -10.9215,\n",
            "        -10.1961])\n",
            "tensor([  9.4606,   8.3987,   8.8221,   9.3576,   8.1912,   7.8818,   7.3844,\n",
            "        -10.2245, -10.7107, -10.5475, -10.2594, -11.0087, -10.6392, -10.6087,\n",
            "        -10.5553, -10.5913, -10.3987,  -9.7254, -10.3513, -11.1226, -10.7574,\n",
            "        -10.9331, -10.7271, -10.4124, -11.0271, -10.6861, -10.2151, -11.0225,\n",
            "        -10.1531, -10.0888, -10.2886, -10.8065, -10.3146, -10.6951, -10.7505,\n",
            "        -10.4513, -10.6278, -10.8857, -10.8707, -10.8281, -10.5119, -10.7048,\n",
            "        -10.1517, -10.0683, -10.7027, -10.9485, -10.9581, -10.9897, -10.9382,\n",
            "        -10.8077, -10.7914, -10.9486, -10.2066, -10.5161, -10.3891, -10.2311,\n",
            "        -10.6393, -10.3869, -10.4187, -10.9872, -10.7067, -10.6451, -10.9215,\n",
            "        -10.1961])\n",
            "tensor([  9.4606,   8.3987,   8.8221,   9.3576,   8.1912,   7.8818,   7.3844,\n",
            "        -10.2245, -10.7107, -10.5475, -10.2594, -11.0087, -10.6392, -10.6087,\n",
            "        -10.5553, -10.5913, -10.3987,  -9.7254, -10.3513, -11.1226, -10.7574,\n",
            "        -10.9331, -10.7271, -10.4124, -11.0271, -10.6861, -10.2151, -11.0225,\n",
            "        -10.1531, -10.0888, -10.2886, -10.8065, -10.3146, -10.6951, -10.7505,\n",
            "        -10.4513, -10.6278, -10.8857, -10.8707, -10.8281, -10.5119, -10.7048,\n",
            "        -10.1517, -10.0683, -10.7027, -10.9485, -10.9581, -10.9897, -10.9382,\n",
            "        -10.8077, -10.7914, -10.9486, -10.2066, -10.5161, -10.3891, -10.2311,\n",
            "        -10.6393, -10.3869, -10.4187, -10.9872, -10.7067, -10.6451, -10.9215,\n",
            "        -10.1961])\n"
          ]
        }
      ]
    },
    {
      "cell_type": "code",
      "source": [
        "print(\"Node features for graph 0:\")\n",
        "print(graphs[0].x)\n",
        "\n",
        "print(\"\\nEdge index for graph 0:\")\n",
        "print(graphs[0].edge_index)\n",
        "\n",
        "print(\"\\nBatch ID for each node in graph 0:\")\n",
        "print(graphs[0].batch if hasattr(graphs[0], 'batch') else \"No batch attribute\")\n"
      ],
      "metadata": {
        "colab": {
          "base_uri": "https://localhost:8080/"
        },
        "id": "r725suwXTdF4",
        "outputId": "8e7d202a-9053-4b1b-9522-2cc1e82c73e8"
      },
      "execution_count": null,
      "outputs": [
        {
          "output_type": "stream",
          "name": "stdout",
          "text": [
            "Node features for graph 0:\n",
            "tensor([[0., 0., 0.,  ..., 0., 0., 0.],\n",
            "        [0., 0., 0.,  ..., 0., 0., 0.],\n",
            "        [0., 0., 0.,  ..., 0., 0., 0.],\n",
            "        ...,\n",
            "        [0., 0., 0.,  ..., 0., 0., 0.],\n",
            "        [0., 0., 0.,  ..., 0., 0., 0.],\n",
            "        [0., 0., 0.,  ..., 0., 0., 0.]])\n",
            "\n",
            "Edge index for graph 0:\n",
            "tensor([[ 633, 1862, 2582,  ...,  598, 1473, 2706],\n",
            "        [   0,    0,    0,  ..., 2707, 2707, 2707]])\n",
            "\n",
            "Batch ID for each node in graph 0:\n",
            "None\n"
          ]
        }
      ]
    },
    {
      "cell_type": "code",
      "source": [
        "from torch_geometric.datasets import Planetoid\n",
        "cora = Planetoid(root='data/Cora', name='Cora')\n",
        "original_x = cora[0].x  # shape: [N, 1433]\n"
      ],
      "metadata": {
        "id": "t3XdWzGBTiOa"
      },
      "execution_count": null,
      "outputs": []
    },
    {
      "cell_type": "code",
      "source": [
        "import os\n",
        "import torch\n",
        "\n",
        "variant_dir = \"/content/drive/MyDrive/gnnfingers/variants/Cora_SAGEMean\"\n",
        "files = sorted(os.listdir(variant_dir))\n"
      ],
      "metadata": {
        "id": "CLb310D3TqNB"
      },
      "execution_count": null,
      "outputs": []
    },
    {
      "cell_type": "code",
      "source": [
        "for fname in files:\n",
        "    path = os.path.join(variant_dir, fname)\n",
        "    g = torch.load(path)\n",
        "\n",
        "    # Safely assign original features (if node count matches)\n",
        "    if g.num_nodes == original_x.shape[0]:\n",
        "        g.x = original_x.clone()\n",
        "    else:\n",
        "        g.x = original_x[:g.num_nodes].clone()  # truncate if smaller\n",
        "\n",
        "    torch.save(g, path)  # Overwrite with fixed features\n"
      ],
      "metadata": {
        "id": "UulOSuq5Tr2o"
      },
      "execution_count": null,
      "outputs": []
    },
    {
      "cell_type": "code",
      "source": [
        "# Re-run victim model to extract updated embeddings\n",
        "def extract_embeddings(model, graphs):\n",
        "    embs = []\n",
        "    model.eval()\n",
        "    with torch.no_grad():\n",
        "        for g in graphs:\n",
        "            g = g.to(device)\n",
        "            x = model(g.x, g.edge_index)\n",
        "            pooled = global_mean_pool(x, g.batch)\n",
        "            embs.append(pooled.cpu())\n",
        "    return torch.cat(embs)\n",
        "\n",
        "# Combine positive and negative graphs\n",
        "graphs = pos_graphs + neg_graphs\n",
        "labels = torch.cat([torch.ones(len(pos_graphs)), torch.zeros(len(neg_graphs))]).long()\n",
        "\n",
        "# Extract embeddings\n",
        "X = extract_embeddings(victim, graphs)\n",
        "y = labels\n",
        "\n",
        "print(\"✅ Updated embeddings extracted.\")\n"
      ],
      "metadata": {
        "colab": {
          "base_uri": "https://localhost:8080/"
        },
        "id": "KyE8pp19UOEg",
        "outputId": "71d16391-1b44-4708-ac27-5490fabf17be"
      },
      "execution_count": null,
      "outputs": [
        {
          "output_type": "stream",
          "name": "stdout",
          "text": [
            "✅ Updated embeddings extracted.\n"
          ]
        }
      ]
    },
    {
      "cell_type": "code",
      "source": [
        "# Define FingerprintNet again if needed\n",
        "class FingerprintNetMLP(nn.Module):\n",
        "    def __init__(self, in_dim=64, hidden_dim=32, out_dim=2):\n",
        "        super(FingerprintNetMLP, self).__init__()\n",
        "        self.fc1 = nn.Linear(in_dim, hidden_dim)\n",
        "        self.fc2 = nn.Linear(hidden_dim, out_dim)\n",
        "\n",
        "    def forward(self, x):\n",
        "        x = F.relu(self.fc1(x))\n",
        "        return self.fc2(x)\n",
        "\n",
        "# Initialize network and optimizer\n",
        "fp_net = FingerprintNetMLP().to(device)\n",
        "optimizer = torch.optim.Adam(fp_net.parameters(), lr=0.001)\n",
        "loss_fn = nn.CrossEntropyLoss()\n",
        "\n",
        "# Train for 50 epochs\n",
        "for epoch in range(1, 51):\n",
        "    fp_net.train()\n",
        "    logits = fp_net(X.to(device))\n",
        "    loss = loss_fn(logits, y.to(device))\n",
        "\n",
        "    optimizer.zero_grad()\n",
        "    loss.backward()\n",
        "    optimizer.step()\n",
        "\n",
        "    if epoch % 5 == 0:\n",
        "        fp_net.eval()\n",
        "        pred = torch.argmax(fp_net(X.to(device)), dim=1)\n",
        "        acc = accuracy_score(y.cpu(), pred.cpu())\n",
        "        print(f\"Epoch {epoch:02d} - Loss: {loss.item():.4f} - Accuracy: {acc:.4f}\")\n",
        "\n",
        "# Save the trained model\n",
        "torch.save(fp_net.state_dict(), \"/content/drive/MyDrive/gnnfingers/checkpoints/fpnet_Cora_SAGEMean.pth\")\n",
        "print(\"✅ Re-trained FingerprintNet saved.\")\n"
      ],
      "metadata": {
        "colab": {
          "base_uri": "https://localhost:8080/"
        },
        "id": "eyJtQ5iyUTgQ",
        "outputId": "dcece583-0ece-4431-dc8b-b71aa4892ace"
      },
      "execution_count": null,
      "outputs": [
        {
          "output_type": "stream",
          "name": "stdout",
          "text": [
            "Epoch 05 - Loss: 0.9335 - Accuracy: 0.5000\n",
            "Epoch 10 - Loss: 0.7262 - Accuracy: 0.5000\n",
            "Epoch 15 - Loss: 0.7130 - Accuracy: 0.5000\n",
            "Epoch 20 - Loss: 0.7364 - Accuracy: 0.5000\n",
            "Epoch 25 - Loss: 0.6976 - Accuracy: 0.5000\n",
            "Epoch 30 - Loss: 0.6985 - Accuracy: 0.5000\n",
            "Epoch 35 - Loss: 0.7027 - Accuracy: 0.5000\n",
            "Epoch 40 - Loss: 0.6949 - Accuracy: 0.5000\n",
            "Epoch 45 - Loss: 0.6934 - Accuracy: 0.5000\n",
            "Epoch 50 - Loss: 0.6949 - Accuracy: 0.5000\n",
            "✅ Re-trained FingerprintNet saved.\n"
          ]
        }
      ]
    },
    {
      "cell_type": "code",
      "source": [
        "# Check if all extracted fingerprints are the same\n",
        "print(\"Unique fingerprint rows:\", torch.unique(X, dim=0).size(0))\n"
      ],
      "metadata": {
        "colab": {
          "base_uri": "https://localhost:8080/"
        },
        "id": "NneRHU3FUXyA",
        "outputId": "34f3c85c-1529-414f-dce4-2ba650ff3aff"
      },
      "execution_count": null,
      "outputs": [
        {
          "output_type": "stream",
          "name": "stdout",
          "text": [
            "Unique fingerprint rows: 1\n"
          ]
        }
      ]
    },
    {
      "cell_type": "code",
      "source": [
        "from torch_geometric.datasets import Planetoid\n",
        "\n",
        "dataset = Planetoid(root='/tmp/Cora', name='Cora')\n",
        "original_x = dataset[0].x  # shape: [num_nodes, num_features]\n"
      ],
      "metadata": {
        "colab": {
          "base_uri": "https://localhost:8080/"
        },
        "id": "mAWHYciBUh9Y",
        "outputId": "6a19607e-2605-41f3-8b8d-4ce23d825d1d"
      },
      "execution_count": null,
      "outputs": [
        {
          "output_type": "stream",
          "name": "stderr",
          "text": [
            "Downloading https://github.com/kimiyoung/planetoid/raw/master/data/ind.cora.x\n",
            "Downloading https://github.com/kimiyoung/planetoid/raw/master/data/ind.cora.tx\n",
            "Downloading https://github.com/kimiyoung/planetoid/raw/master/data/ind.cora.allx\n",
            "Downloading https://github.com/kimiyoung/planetoid/raw/master/data/ind.cora.y\n",
            "Downloading https://github.com/kimiyoung/planetoid/raw/master/data/ind.cora.ty\n",
            "Downloading https://github.com/kimiyoung/planetoid/raw/master/data/ind.cora.ally\n",
            "Downloading https://github.com/kimiyoung/planetoid/raw/master/data/ind.cora.graph\n",
            "Downloading https://github.com/kimiyoung/planetoid/raw/master/data/ind.cora.test.index\n",
            "Processing...\n",
            "Done!\n"
          ]
        }
      ]
    },
    {
      "cell_type": "code",
      "source": [
        "for g in graphs:\n",
        "    g.x = original_x.clone()\n"
      ],
      "metadata": {
        "id": "ngXEQD0xUj2I"
      },
      "execution_count": null,
      "outputs": []
    },
    {
      "cell_type": "code",
      "source": [
        "import torch.nn.functional as F\n",
        "from torch_geometric.loader import DataLoader\n",
        "from torch_geometric.nn import global_mean_pool\n",
        "\n",
        "def extract_fp(model, U_net, graphs, batch_size=32):\n",
        "    model.eval()\n",
        "    U_net.eval()\n",
        "    all_fps = []\n",
        "\n",
        "    loader = DataLoader(graphs, batch_size=batch_size, shuffle=False)\n",
        "\n",
        "    for batch in loader:\n",
        "        batch = batch.to(next(model.parameters()).device)\n",
        "\n",
        "        # Manual dropout added if needed (training=False always)\n",
        "        x = F.relu(model.conv1(batch.x, batch.edge_index))\n",
        "        x = F.dropout(x, p=0.5, training=False)  # dropout probability manually set\n",
        "        x = model.conv2(x, batch.edge_index)\n",
        "\n",
        "        pooled = global_mean_pool(x, batch.batch)\n",
        "        fp = U_net(pooled)\n",
        "        all_fps.append(fp.detach().cpu())\n",
        "\n",
        "    return torch.cat(all_fps, dim=0)\n"
      ],
      "metadata": {
        "id": "QyT3a9HaUrDb"
      },
      "execution_count": null,
      "outputs": []
    },
    {
      "cell_type": "code",
      "source": [
        "# Re-extract raw fingerprints (not predictions)\n",
        "fingerprints = extract_fp(victim, FingerprintNetMLP().to(device), graphs)  # returns numpy\n",
        "fingerprints = torch.tensor(fingerprints, dtype=torch.float32).to(device)\n",
        "\n",
        "# Save if needed\n",
        "torch.save(fingerprints, \"/content/drive/MyDrive/gnnfingers/fingerprints/Cora_SAGEMean_clean.pt\")\n"
      ],
      "metadata": {
        "colab": {
          "base_uri": "https://localhost:8080/"
        },
        "id": "3LLpaAvxUmMQ",
        "outputId": "38b244fc-67f0-459d-ef32-bda3ac8784a5"
      },
      "execution_count": null,
      "outputs": [
        {
          "output_type": "stream",
          "name": "stderr",
          "text": [
            "/tmp/ipython-input-53-2656882353.py:3: UserWarning: To copy construct from a tensor, it is recommended to use sourceTensor.clone().detach() or sourceTensor.clone().detach().requires_grad_(True), rather than torch.tensor(sourceTensor).\n",
            "  fingerprints = torch.tensor(fingerprints, dtype=torch.float32).to(device)\n"
          ]
        }
      ]
    },
    {
      "cell_type": "code",
      "source": [
        "from google.colab import drive\n",
        "drive.mount('/content/drive')\n"
      ],
      "metadata": {
        "colab": {
          "base_uri": "https://localhost:8080/"
        },
        "id": "IV5aRCsLVzHX",
        "outputId": "0de8daa6-c78f-4786-9c67-8d3c2325a6d9"
      },
      "execution_count": null,
      "outputs": [
        {
          "output_type": "stream",
          "name": "stdout",
          "text": [
            "Drive already mounted at /content/drive; to attempt to forcibly remount, call drive.mount(\"/content/drive\", force_remount=True).\n"
          ]
        }
      ]
    },
    {
      "cell_type": "code",
      "source": [
        "import sys\n",
        "sys.path.append(\"/content/drive/MyDrive/gnnfingers/\")  # or wherever models.py is\n",
        "from models import SAGEMean, FingerprintNetMLP\n"
      ],
      "metadata": {
        "colab": {
          "base_uri": "https://localhost:8080/"
        },
        "id": "zWkm5Za4V8Jf",
        "outputId": "b8110a01-b261-456a-8463-c0b965e70c57"
      },
      "execution_count": null,
      "outputs": [
        {
          "output_type": "stream",
          "name": "stderr",
          "text": [
            "/usr/local/lib/python3.11/dist-packages/torch_geometric/typing.py:86: UserWarning: An issue occurred while importing 'torch-scatter'. Disabling its usage. Stacktrace: /usr/local/lib/python3.11/dist-packages/torch_scatter/_version_cpu.so: undefined symbol: _ZN3c1017RegisterOperatorsD1Ev\n",
            "  warnings.warn(f\"An issue occurred while importing 'torch-scatter'. \"\n",
            "/usr/local/lib/python3.11/dist-packages/torch_geometric/typing.py:97: UserWarning: An issue occurred while importing 'torch-cluster'. Disabling its usage. Stacktrace: /usr/local/lib/python3.11/dist-packages/torch_cluster/_version_cpu.so: undefined symbol: _ZN3c1017RegisterOperatorsD1Ev\n",
            "  warnings.warn(f\"An issue occurred while importing 'torch-cluster'. \"\n",
            "/usr/local/lib/python3.11/dist-packages/torch_geometric/typing.py:113: UserWarning: An issue occurred while importing 'torch-spline-conv'. Disabling its usage. Stacktrace: /usr/local/lib/python3.11/dist-packages/torch_spline_conv/_version_cpu.so: undefined symbol: _ZN3c1017RegisterOperatorsD1Ev\n",
            "  warnings.warn(\n",
            "/usr/local/lib/python3.11/dist-packages/torch_geometric/typing.py:124: UserWarning: An issue occurred while importing 'torch-sparse'. Disabling its usage. Stacktrace: /usr/local/lib/python3.11/dist-packages/torch_sparse/_version_cpu.so: undefined symbol: _ZN3c1017RegisterOperatorsD1Ev\n",
            "  warnings.warn(f\"An issue occurred while importing 'torch-sparse'. \"\n"
          ]
        }
      ]
    },
    {
      "cell_type": "code",
      "source": [
        "import torch\n",
        "from models import SAGEMean  # Make sure this file is in your path\n",
        "\n",
        "device = torch.device('cuda' if torch.cuda.is_available() else 'cpu')\n",
        "\n",
        "# This MUST match the saved model architecture\n",
        "victim = SAGEMean(in_channels=1433, hidden_channels=64, out_channels=64).to(device)\n",
        "\n",
        "# Load the correct victim model weights\n",
        "victim.load_state_dict(torch.load(\n",
        "    \"/content/drive/MyDrive/gnnfingers/victims/victim_Cora_SAGEMean.pth\",\n",
        "    map_location=device\n",
        "), strict=False)\n",
        "\n",
        "victim.eval()\n",
        "print(\"✅ Victim model loaded and ready.\")\n"
      ],
      "metadata": {
        "colab": {
          "base_uri": "https://localhost:8080/"
        },
        "id": "mClNGiMqV0dO",
        "outputId": "6f4e6edf-21d4-48e5-981c-9ad15e8bb926"
      },
      "execution_count": null,
      "outputs": [
        {
          "output_type": "stream",
          "name": "stdout",
          "text": [
            "✅ Victim model loaded and ready.\n"
          ]
        }
      ]
    },
    {
      "cell_type": "code",
      "source": [
        "class FingerprintNetMLP(nn.Module):\n",
        "    def __init__(self, in_dim=2, hidden_dim=16, out_dim=2):\n",
        "        super(FingerprintNetMLP, self).__init__()\n",
        "        self.net = nn.Sequential(\n",
        "            nn.Linear(in_dim, hidden_dim),\n",
        "            nn.ReLU(),\n",
        "            nn.Linear(hidden_dim, out_dim)\n",
        "        )\n",
        "\n",
        "    def forward(self, x):\n",
        "        return self.net(x)\n"
      ],
      "metadata": {
        "id": "VtyMUYb0WjAv"
      },
      "execution_count": null,
      "outputs": []
    },
    {
      "cell_type": "code",
      "source": [
        "fp_net = FingerprintNetMLP().to(device)\n",
        "fp_net.load_state_dict(torch.load(\n",
        "    \"/content/drive/MyDrive/gnnfingers/checkpoints/U_Cora_SAGEMean.pth\",\n",
        "    map_location=device\n",
        "))\n",
        "fp_net.eval()\n",
        "print(\"✅ FingerprintNet loaded.\")\n"
      ],
      "metadata": {
        "colab": {
          "base_uri": "https://localhost:8080/"
        },
        "id": "Gq8p1V7eWk6w",
        "outputId": "a5435da1-d1f9-4c12-8fb1-0e9ae3d64f90"
      },
      "execution_count": null,
      "outputs": [
        {
          "output_type": "stream",
          "name": "stdout",
          "text": [
            "✅ FingerprintNet loaded.\n"
          ]
        }
      ]
    },
    {
      "cell_type": "code",
      "source": [
        "fingerprints = torch.load(\"/content/drive/MyDrive/gnnfingers/fingerprints/Cora_SAGEMean.pt\").to(device)\n",
        "print(\"✅ Fingerprints reloaded:\", fingerprints.shape)\n"
      ],
      "metadata": {
        "colab": {
          "base_uri": "https://localhost:8080/"
        },
        "id": "uLQ0FVD6W6nf",
        "outputId": "ab6b6ba1-8406-4c20-cf41-c28ff7180601"
      },
      "execution_count": null,
      "outputs": [
        {
          "output_type": "stream",
          "name": "stdout",
          "text": [
            "✅ Fingerprints reloaded: torch.Size([100, 2])\n"
          ]
        }
      ]
    },
    {
      "cell_type": "code",
      "source": [
        "labels = torch.cat([torch.ones(50), torch.zeros(50)]).long()  # 1s for positive, 0s for negative\n"
      ],
      "metadata": {
        "id": "V6W_BwoXW-C2"
      },
      "execution_count": null,
      "outputs": []
    },
    {
      "cell_type": "code",
      "source": [
        "from torch_geometric.loader import DataLoader\n",
        "import torch.nn.functional as F\n",
        "\n",
        "def extract_fp(model, U_net, graphs, batch_size=32):\n",
        "    model.eval()\n",
        "    U_net.eval()\n",
        "    all_fps = []\n",
        "\n",
        "    loader = DataLoader(graphs, batch_size=batch_size, shuffle=False)\n",
        "    for batch in loader:\n",
        "        batch = batch.to(next(model.parameters()).device)\n",
        "\n",
        "        # Forward pass through victim model\n",
        "        x = F.relu(model.conv1(batch.x, batch.edge_index))\n",
        "        x = F.dropout(x, p=0.5, training=False)\n",
        "        x = model.conv2(x, batch.edge_index)\n",
        "\n",
        "        # Pool and pass through fingerprint net\n",
        "        x = torch_geometric.nn.global_mean_pool(x, batch.batch)\n",
        "        out = U_net(x)\n",
        "        all_fps.append(out.detach().cpu())\n",
        "\n",
        "    return torch.cat(all_fps, dim=0)\n"
      ],
      "metadata": {
        "id": "6pxMNoS0XJ6P"
      },
      "execution_count": null,
      "outputs": []
    },
    {
      "cell_type": "code",
      "source": [
        "\n",
        "from google.colab import drive\n",
        "drive.mount('/content/drive')\n"
      ],
      "metadata": {
        "colab": {
          "base_uri": "https://localhost:8080/"
        },
        "id": "x6IiUK2cXV8m",
        "outputId": "6bcf1fe5-90fb-4dbe-9579-bb1e273f7f07"
      },
      "execution_count": null,
      "outputs": [
        {
          "output_type": "stream",
          "name": "stdout",
          "text": [
            "Drive already mounted at /content/drive; to attempt to forcibly remount, call drive.mount(\"/content/drive\", force_remount=True).\n"
          ]
        }
      ]
    },
    {
      "cell_type": "code",
      "source": [
        "import os\n",
        "\n",
        "base_path = \"/content/drive/MyDrive/gnnfingers/variants\"\n",
        "print(\"Subfolders under variants:\")\n",
        "print(os.listdir(base_path))\n"
      ],
      "metadata": {
        "colab": {
          "base_uri": "https://localhost:8080/"
        },
        "id": "f4V97B6HXZf-",
        "outputId": "e47d94b9-a6e5-4325-f96f-e5204f9d223c"
      },
      "execution_count": null,
      "outputs": [
        {
          "output_type": "stream",
          "name": "stdout",
          "text": [
            "Subfolders under variants:\n",
            "['ENZ_GCNMean', 'ENZ_GCNDiff', 'ENZ_SAGEMean', 'ENZ_SAGEDiff', 'PR_GCNMean', 'PR_GCNDiff', 'PR_SAGEMean', 'PR_SAGEDiff', 'Cora_SAGEMean']\n"
          ]
        }
      ]
    },
    {
      "cell_type": "code",
      "source": [
        "cora_path = \"/content/drive/MyDrive/gnnfingers/variants/Cora_SAGEMean\"\n",
        "print(\"Subfolders under Cora_SAGEMean:\")\n",
        "print(os.listdir(cora_path))\n"
      ],
      "metadata": {
        "colab": {
          "base_uri": "https://localhost:8080/"
        },
        "id": "71qEkx27XgVX",
        "outputId": "8371b376-a84f-4f50-cf44-5eef0d737283"
      },
      "execution_count": null,
      "outputs": [
        {
          "output_type": "stream",
          "name": "stdout",
          "text": [
            "Subfolders under Cora_SAGEMean:\n",
            "['N_100.pt', 'N_10.pt', 'N_0.pt', 'N_103.pt', 'N_106.pt', 'N_102.pt', 'N_101.pt', 'N_105.pt', 'N_104.pt', 'N_1.pt', 'N_107.pt', 'N_108.pt', 'N_11.pt', 'N_111.pt', 'N_110.pt', 'N_109.pt', 'N_113.pt', 'N_114.pt', 'N_115.pt', 'N_112.pt', 'N_118.pt', 'N_116.pt', 'N_117.pt', 'N_119.pt', 'N_12.pt', 'N_120.pt', 'N_123.pt', 'N_121.pt', 'N_122.pt', 'N_124.pt', 'N_125.pt', 'N_127.pt', 'N_126.pt', 'N_129.pt', 'N_128.pt', 'N_130.pt', 'N_13.pt', 'N_133.pt', 'N_131.pt', 'N_132.pt', 'N_135.pt', 'N_134.pt', 'N_137.pt', 'N_138.pt', 'N_136.pt', 'N_139.pt', 'N_14.pt', 'N_140.pt', 'N_142.pt', 'N_141.pt', 'N_146.pt', 'N_145.pt', 'N_144.pt', 'N_143.pt', 'N_149.pt', 'N_147.pt', 'N_15.pt', 'N_148.pt', 'N_151.pt', 'N_150.pt', 'N_153.pt', 'N_152.pt', 'N_155.pt', 'N_154.pt', 'N_157.pt', 'N_156.pt', 'N_158.pt', 'N_16.pt', 'N_159.pt', 'N_160.pt', 'N_161.pt', 'N_163.pt', 'N_162.pt', 'N_164.pt', 'N_165.pt', 'N_166.pt', 'N_167.pt', 'N_168.pt', 'N_169.pt', 'N_171.pt', 'N_17.pt', 'N_170.pt', 'N_173.pt', 'N_172.pt', 'N_174.pt', 'N_175.pt', 'N_177.pt', 'N_176.pt', 'N_179.pt', 'N_178.pt', 'N_18.pt', 'N_180.pt', 'N_183.pt', 'N_181.pt', 'N_182.pt', 'N_184.pt', 'N_186.pt', 'N_185.pt', 'N_188.pt', 'N_187.pt', 'N_189.pt', 'N_191.pt', 'N_190.pt', 'N_19.pt', 'N_192.pt', 'N_194.pt', 'N_193.pt', 'N_196.pt', 'N_197.pt', 'N_195.pt', 'N_198.pt', 'N_2.pt', 'N_199.pt', 'N_20.pt', 'N_21.pt', 'N_23.pt', 'N_22.pt', 'N_24.pt', 'N_25.pt', 'N_27.pt', 'N_26.pt', 'N_28.pt', 'N_29.pt', 'N_3.pt', 'N_30.pt', 'N_31.pt', 'N_37.pt', 'N_36.pt', 'N_38.pt', 'N_35.pt', 'N_32.pt', 'N_34.pt', 'N_33.pt', 'N_4.pt', 'N_39.pt', 'N_40.pt', 'N_44.pt', 'N_43.pt', 'N_42.pt', 'N_41.pt', 'N_45.pt', 'N_47.pt', 'N_46.pt', 'N_48.pt', 'N_5.pt', 'N_49.pt', 'N_51.pt', 'N_50.pt', 'N_53.pt', 'N_52.pt', 'N_54.pt', 'N_55.pt', 'N_56.pt', 'N_57.pt', 'N_58.pt', 'N_59.pt', 'N_61.pt', 'N_60.pt', 'N_6.pt', 'N_62.pt', 'N_63.pt', 'N_64.pt', 'N_65.pt', 'N_7.pt', 'N_66.pt', 'N_67.pt', 'N_68.pt', 'N_69.pt', 'N_70.pt', 'N_71.pt', 'N_73.pt', 'N_72.pt', 'N_75.pt', 'N_76.pt', 'N_74.pt', 'N_77.pt', 'N_79.pt', 'N_78.pt', 'N_8.pt', 'N_80.pt', 'N_82.pt', 'N_81.pt', 'N_83.pt', 'N_84.pt', 'N_85.pt', 'N_86.pt', 'N_87.pt', 'N_88.pt', 'N_9.pt', 'N_89.pt', 'N_90.pt', 'N_91.pt', 'N_92.pt', 'N_93.pt', 'N_95.pt', 'N_94.pt', 'N_96.pt', 'N_98.pt', 'N_97.pt', 'N_99.pt', 'P_0.pt', 'P_1.pt', 'P_100.pt', 'P_10.pt', 'P_101.pt', 'P_102.pt', 'P_104.pt', 'P_103.pt', 'P_105.pt', 'P_106.pt', 'P_108.pt', 'P_109.pt', 'P_11.pt', 'P_107.pt', 'P_110.pt', 'P_111.pt', 'P_115.pt', 'P_113.pt', 'P_114.pt', 'P_112.pt', 'P_116.pt', 'P_120.pt', 'P_118.pt', 'P_12.pt', 'P_117.pt', 'P_119.pt', 'P_122.pt', 'P_123.pt', 'P_124.pt', 'P_121.pt', 'P_125.pt', 'P_126.pt', 'P_128.pt', 'P_129.pt', 'P_127.pt', 'P_130.pt', 'P_132.pt', 'P_13.pt', 'P_131.pt', 'P_133.pt', 'P_134.pt', 'P_136.pt', 'P_135.pt', 'P_138.pt', 'P_137.pt', 'P_139.pt', 'P_14.pt', 'P_141.pt', 'P_140.pt', 'P_143.pt', 'P_142.pt', 'P_144.pt', 'P_145.pt', 'P_146.pt', 'P_148.pt', 'P_149.pt', 'P_147.pt', 'P_152.pt', 'P_15.pt', 'P_151.pt', 'P_150.pt', 'P_154.pt', 'P_155.pt', 'P_153.pt', 'P_158.pt', 'P_157.pt', 'P_156.pt', 'P_161.pt', 'P_16.pt', 'P_160.pt', 'P_159.pt', 'P_164.pt', 'P_165.pt', 'P_163.pt', 'P_162.pt', 'P_166.pt', 'P_167.pt', 'P_169.pt', 'P_17.pt', 'P_168.pt', 'P_170.pt', 'P_172.pt', 'P_171.pt', 'P_174.pt', 'P_173.pt', 'P_175.pt', 'P_176.pt', 'P_177.pt', 'P_178.pt', 'P_179.pt', 'P_180.pt', 'P_18.pt', 'P_184.pt', 'P_181.pt', 'P_182.pt', 'P_185.pt', 'P_183.pt', 'P_186.pt', 'P_188.pt', 'P_187.pt', 'P_189.pt', 'P_190.pt', 'P_19.pt', 'P_191.pt', 'P_193.pt', 'P_192.pt', 'P_194.pt', 'P_198.pt', 'P_196.pt', 'P_197.pt', 'P_195.pt', 'P_199.pt', 'P_2.pt', 'P_20.pt', 'P_21.pt', 'P_22.pt', 'P_23.pt', 'P_25.pt', 'P_24.pt', 'P_28.pt', 'P_26.pt', 'P_27.pt', 'P_29.pt', 'P_3.pt', 'P_30.pt', 'P_31.pt', 'P_33.pt', 'P_34.pt', 'P_32.pt', 'P_35.pt', 'P_36.pt', 'P_37.pt', 'P_38.pt', 'P_39.pt', 'P_40.pt', 'P_41.pt', 'P_4.pt', 'P_43.pt', 'P_42.pt', 'P_45.pt', 'P_44.pt', 'P_47.pt', 'P_46.pt', 'P_48.pt', 'P_5.pt', 'P_49.pt', 'P_50.pt', 'P_51.pt', 'P_53.pt', 'P_52.pt', 'P_54.pt', 'P_57.pt', 'P_59.pt', 'P_58.pt', 'P_55.pt', 'P_56.pt', 'P_6.pt', 'P_61.pt', 'P_63.pt', 'P_60.pt', 'P_62.pt', 'P_65.pt', 'P_66.pt', 'P_64.pt', 'P_67.pt', 'P_68.pt', 'P_69.pt', 'P_7.pt', 'P_70.pt', 'P_72.pt', 'P_71.pt', 'P_73.pt', 'P_74.pt', 'P_75.pt', 'P_76.pt', 'P_77.pt', 'P_81.pt', 'P_79.pt', 'P_78.pt', 'P_80.pt', 'P_8.pt', 'P_82.pt', 'P_86.pt', 'P_87.pt', 'P_88.pt', 'P_85.pt', 'P_84.pt', 'P_83.pt', 'P_89.pt', 'P_91.pt', 'P_9.pt', 'P_90.pt', 'P_93.pt', 'P_92.pt', 'P_94.pt', 'P_95.pt', 'P_98.pt', 'P_96.pt', 'P_97.pt', 'P_99.pt']\n"
          ]
        }
      ]
    },
    {
      "cell_type": "code",
      "source": [
        "from torch.serialization import add_safe_globals\n",
        "from torch_geometric.data import Data\n",
        "from torch_geometric.data.data import DataEdgeAttr, DataTensorAttr\n",
        "from torch_geometric.data.storage import GlobalStorage\n",
        "\n",
        "# Allowlist all necessary classes for graph deserialization\n",
        "add_safe_globals([Data, DataEdgeAttr, DataTensorAttr, GlobalStorage])\n"
      ],
      "metadata": {
        "id": "xYGui-_DXzBw"
      },
      "execution_count": null,
      "outputs": []
    },
    {
      "cell_type": "code",
      "source": [
        "variant_dir = \"/content/drive/MyDrive/gnnfingers/variants/Cora_SAGEMean\"\n",
        "graphs = load_flat_variants(variant_dir)\n",
        "print(f\"✅ Loaded {len(graphs)} graphs (should be 400: 200 P + 200 N)\")\n"
      ],
      "metadata": {
        "colab": {
          "base_uri": "https://localhost:8080/"
        },
        "id": "OxBqFGI9X0ae",
        "outputId": "f0186bb4-19df-4b3f-96e1-f1d4904d24ff"
      },
      "execution_count": null,
      "outputs": [
        {
          "output_type": "stream",
          "name": "stdout",
          "text": [
            "✅ Loaded 400 graphs (should be 400: 200 P + 200 N)\n"
          ]
        }
      ]
    },
    {
      "cell_type": "code",
      "source": [
        "import torch.nn as nn\n",
        "from torch_geometric.nn import SAGEConv\n",
        "\n",
        "class SAGEMean(nn.Module):\n",
        "    def __init__(self, in_channels, hidden_channels, out_channels):\n",
        "        super(SAGEMean, self).__init__()\n",
        "        self.conv1 = SAGEConv(in_channels, hidden_channels)\n",
        "        self.conv2 = SAGEConv(hidden_channels, out_channels)\n",
        "\n",
        "    def forward(self, x, edge_index):\n",
        "        x = self.conv1(x, edge_index)\n",
        "        x = torch.relu(x)\n",
        "        x = self.conv2(x, edge_index)\n",
        "        return x\n"
      ],
      "metadata": {
        "id": "IIY4fhWWYvCt"
      },
      "execution_count": null,
      "outputs": []
    },
    {
      "cell_type": "code",
      "source": [
        "class FingerprintNetMLP(nn.Module):\n",
        "    def __init__(self):\n",
        "        super(FingerprintNetMLP, self).__init__()\n",
        "        self.net = nn.Sequential(\n",
        "            nn.Linear(64, 32),  # 64-d fingerprint input\n",
        "            nn.ReLU(),\n",
        "            nn.Linear(32, 2)    # Binary classification (positive/negative)\n",
        "        )\n",
        "\n",
        "    def forward(self, x):\n",
        "        return self.net(x)\n"
      ],
      "metadata": {
        "id": "aZc42076YyWV"
      },
      "execution_count": null,
      "outputs": []
    },
    {
      "cell_type": "code",
      "source": [
        "import torch\n",
        "\n",
        "device = torch.device('cuda' if torch.cuda.is_available() else 'cpu')\n"
      ],
      "metadata": {
        "id": "CcIC_EJ_ZCRv"
      },
      "execution_count": null,
      "outputs": []
    },
    {
      "cell_type": "code",
      "source": [
        "victim = SAGEMean(in_channels=1433, hidden_channels=64, out_channels=64).to(device)\n",
        "fp_net = FingerprintNetMLP().to(device)\n"
      ],
      "metadata": {
        "id": "mnD5lMEGYz_1"
      },
      "execution_count": null,
      "outputs": []
    },
    {
      "cell_type": "code",
      "source": [
        "import torch.nn as nn\n",
        "\n",
        "class FingerprintNetMLP(nn.Module):\n",
        "    def __init__(self, in_channels=2, hidden_channels=16, out_channels=2):\n",
        "        super().__init__()\n",
        "        self.net = nn.Sequential(\n",
        "            nn.Linear(in_channels, hidden_channels),\n",
        "            nn.ReLU(),\n",
        "            nn.Linear(hidden_channels, out_channels)\n",
        "        )\n",
        "\n",
        "    def forward(self, x):\n",
        "        return self.net(x)\n"
      ],
      "metadata": {
        "id": "98s-1toRZbs8"
      },
      "execution_count": null,
      "outputs": []
    },
    {
      "cell_type": "code",
      "source": [
        "fp_net = FingerprintNetMLP().to(device)\n",
        "fp_net.load_state_dict(torch.load(\n",
        "    \"/content/drive/MyDrive/gnnfingers/checkpoints/U_Cora_SAGEMean.pth\",\n",
        "    map_location=device\n",
        "))\n",
        "fp_net.eval()\n",
        "print(\"✅ FingerprintNet loaded and ready.\")\n"
      ],
      "metadata": {
        "colab": {
          "base_uri": "https://localhost:8080/"
        },
        "id": "gmpAs2eiZc4F",
        "outputId": "6bafda31-2930-49f3-b1e0-8833100abc44"
      },
      "execution_count": null,
      "outputs": [
        {
          "output_type": "stream",
          "name": "stdout",
          "text": [
            "✅ FingerprintNet loaded and ready.\n"
          ]
        }
      ]
    },
    {
      "cell_type": "code",
      "source": [
        "from torch_geometric.loader import DataLoader\n",
        "import torch.nn.functional as F\n",
        "\n",
        "def extract_fp(model, U_net, graphs, batch_size=32):\n",
        "    model.eval()\n",
        "    U_net.eval()\n",
        "    all_p = []\n",
        "\n",
        "    loader = DataLoader(graphs, batch_size=batch_size, shuffle=False)\n",
        "\n",
        "    for batch in loader:\n",
        "        batch = batch.to(device)\n",
        "        with torch.no_grad():\n",
        "            # forward pass through victim model\n",
        "            x = F.relu(model.conv1(batch.x, batch.edge_index))\n",
        "            x = F.dropout(x, p=0.5, training=False)\n",
        "            x = model.conv2(x, batch.edge_index)\n",
        "            x = F.relu(x)\n",
        "\n",
        "            # Global mean pooling\n",
        "            pooled = torch_geometric.nn.global_mean_pool(x, batch.batch)\n",
        "\n",
        "            # pass through fingerprint net\n",
        "            out = U_net(pooled)\n",
        "            all_p.append(out.cpu())\n",
        "\n",
        "    return torch.cat(all_p, dim=0)\n"
      ],
      "metadata": {
        "id": "9Ip99xi8Zl4o"
      },
      "execution_count": null,
      "outputs": []
    },
    {
      "cell_type": "code",
      "source": [
        "import os\n",
        "import torch\n",
        "from torch_geometric.data import Data\n",
        "from torch.serialization import add_safe_globals\n",
        "from torch_geometric.data.data import DataEdgeAttr, DataTensorAttr\n",
        "from torch_geometric.data.storage import GlobalStorage\n",
        "\n",
        "# Trust necessary PyG objects during loading\n",
        "add_safe_globals([Data, DataEdgeAttr, DataTensorAttr, GlobalStorage])\n",
        "\n",
        "def load_flat_variants(folder):\n",
        "    files = sorted(os.listdir(folder))\n",
        "    graphs = []\n",
        "    for f in files:\n",
        "        if f.endswith('.pt'):\n",
        "            path = os.path.join(folder, f)\n",
        "            graphs.append(torch.load(path, map_location='cpu'))  # or device\n",
        "    return graphs\n"
      ],
      "metadata": {
        "id": "r5MvtBG2Z7x8"
      },
      "execution_count": null,
      "outputs": []
    },
    {
      "cell_type": "code",
      "source": [
        "variant_dir = \"/content/drive/MyDrive/gnnfingers/variants/Cora_SAGEMean\"\n",
        "graphs = load_flat_variants(variant_dir)\n",
        "print(f\"✅ Loaded {len(graphs)} graphs (should be 400: 200 P + 200 N)\")\n"
      ],
      "metadata": {
        "colab": {
          "base_uri": "https://localhost:8080/",
          "height": 321
        },
        "id": "TBdQLl0fZy6d",
        "outputId": "805d100a-43dd-465c-c5f5-135818e15eb1"
      },
      "execution_count": null,
      "outputs": [
        {
          "output_type": "error",
          "ename": "KeyboardInterrupt",
          "evalue": "",
          "traceback": [
            "\u001b[0;31m---------------------------------------------------------------------------\u001b[0m",
            "\u001b[0;31mKeyboardInterrupt\u001b[0m                         Traceback (most recent call last)",
            "\u001b[0;32m/tmp/ipython-input-13-4102407815.py\u001b[0m in \u001b[0;36m<cell line: 0>\u001b[0;34m()\u001b[0m\n\u001b[1;32m      1\u001b[0m \u001b[0mvariant_dir\u001b[0m \u001b[0;34m=\u001b[0m \u001b[0;34m\"/content/drive/MyDrive/gnnfingers/variants/Cora_SAGEMean\"\u001b[0m\u001b[0;34m\u001b[0m\u001b[0;34m\u001b[0m\u001b[0m\n\u001b[0;32m----> 2\u001b[0;31m \u001b[0mgraphs\u001b[0m \u001b[0;34m=\u001b[0m \u001b[0mload_flat_variants\u001b[0m\u001b[0;34m(\u001b[0m\u001b[0mvariant_dir\u001b[0m\u001b[0;34m)\u001b[0m\u001b[0;34m\u001b[0m\u001b[0;34m\u001b[0m\u001b[0m\n\u001b[0m\u001b[1;32m      3\u001b[0m \u001b[0mprint\u001b[0m\u001b[0;34m(\u001b[0m\u001b[0;34mf\"✅ Loaded {len(graphs)} graphs (should be 400: 200 P + 200 N)\"\u001b[0m\u001b[0;34m)\u001b[0m\u001b[0;34m\u001b[0m\u001b[0;34m\u001b[0m\u001b[0m\n",
            "\u001b[0;32m/tmp/ipython-input-1-4197813909.py\u001b[0m in \u001b[0;36mload_flat_variants\u001b[0;34m(folder)\u001b[0m\n\u001b[1;32m      8\u001b[0m \u001b[0;32mdef\u001b[0m \u001b[0mload_flat_variants\u001b[0m\u001b[0;34m(\u001b[0m\u001b[0mfolder\u001b[0m\u001b[0;34m)\u001b[0m\u001b[0;34m:\u001b[0m\u001b[0;34m\u001b[0m\u001b[0;34m\u001b[0m\u001b[0m\n\u001b[1;32m      9\u001b[0m     \u001b[0mfiles\u001b[0m \u001b[0;34m=\u001b[0m \u001b[0msorted\u001b[0m\u001b[0;34m(\u001b[0m\u001b[0mos\u001b[0m\u001b[0;34m.\u001b[0m\u001b[0mlistdir\u001b[0m\u001b[0;34m(\u001b[0m\u001b[0mfolder\u001b[0m\u001b[0;34m)\u001b[0m\u001b[0;34m)\u001b[0m\u001b[0;34m\u001b[0m\u001b[0;34m\u001b[0m\u001b[0m\n\u001b[0;32m---> 10\u001b[0;31m     \u001b[0;32mreturn\u001b[0m \u001b[0;34m[\u001b[0m\u001b[0mtorch\u001b[0m\u001b[0;34m.\u001b[0m\u001b[0mload\u001b[0m\u001b[0;34m(\u001b[0m\u001b[0mos\u001b[0m\u001b[0;34m.\u001b[0m\u001b[0mpath\u001b[0m\u001b[0;34m.\u001b[0m\u001b[0mjoin\u001b[0m\u001b[0;34m(\u001b[0m\u001b[0mfolder\u001b[0m\u001b[0;34m,\u001b[0m \u001b[0mf\u001b[0m\u001b[0;34m)\u001b[0m\u001b[0;34m,\u001b[0m \u001b[0mweights_only\u001b[0m\u001b[0;34m=\u001b[0m\u001b[0;32mFalse\u001b[0m\u001b[0;34m)\u001b[0m \u001b[0;32mfor\u001b[0m \u001b[0mf\u001b[0m \u001b[0;32min\u001b[0m \u001b[0mfiles\u001b[0m\u001b[0;34m]\u001b[0m\u001b[0;34m\u001b[0m\u001b[0;34m\u001b[0m\u001b[0m\n\u001b[0m\u001b[1;32m     11\u001b[0m \u001b[0;34m\u001b[0m\u001b[0m\n\u001b[1;32m     12\u001b[0m \u001b[0mgraphs\u001b[0m \u001b[0;34m=\u001b[0m \u001b[0mload_flat_variants\u001b[0m\u001b[0;34m(\u001b[0m\u001b[0;34m\"/content/drive/MyDrive/gnnfingers/variants/Cora_SAGEMean\"\u001b[0m\u001b[0;34m)\u001b[0m\u001b[0;34m\u001b[0m\u001b[0;34m\u001b[0m\u001b[0m\n",
            "\u001b[0;32m/tmp/ipython-input-1-4197813909.py\u001b[0m in \u001b[0;36m<listcomp>\u001b[0;34m(.0)\u001b[0m\n\u001b[1;32m      8\u001b[0m \u001b[0;32mdef\u001b[0m \u001b[0mload_flat_variants\u001b[0m\u001b[0;34m(\u001b[0m\u001b[0mfolder\u001b[0m\u001b[0;34m)\u001b[0m\u001b[0;34m:\u001b[0m\u001b[0;34m\u001b[0m\u001b[0;34m\u001b[0m\u001b[0m\n\u001b[1;32m      9\u001b[0m     \u001b[0mfiles\u001b[0m \u001b[0;34m=\u001b[0m \u001b[0msorted\u001b[0m\u001b[0;34m(\u001b[0m\u001b[0mos\u001b[0m\u001b[0;34m.\u001b[0m\u001b[0mlistdir\u001b[0m\u001b[0;34m(\u001b[0m\u001b[0mfolder\u001b[0m\u001b[0;34m)\u001b[0m\u001b[0;34m)\u001b[0m\u001b[0;34m\u001b[0m\u001b[0;34m\u001b[0m\u001b[0m\n\u001b[0;32m---> 10\u001b[0;31m     \u001b[0;32mreturn\u001b[0m \u001b[0;34m[\u001b[0m\u001b[0mtorch\u001b[0m\u001b[0;34m.\u001b[0m\u001b[0mload\u001b[0m\u001b[0;34m(\u001b[0m\u001b[0mos\u001b[0m\u001b[0;34m.\u001b[0m\u001b[0mpath\u001b[0m\u001b[0;34m.\u001b[0m\u001b[0mjoin\u001b[0m\u001b[0;34m(\u001b[0m\u001b[0mfolder\u001b[0m\u001b[0;34m,\u001b[0m \u001b[0mf\u001b[0m\u001b[0;34m)\u001b[0m\u001b[0;34m,\u001b[0m \u001b[0mweights_only\u001b[0m\u001b[0;34m=\u001b[0m\u001b[0;32mFalse\u001b[0m\u001b[0;34m)\u001b[0m \u001b[0;32mfor\u001b[0m \u001b[0mf\u001b[0m \u001b[0;32min\u001b[0m \u001b[0mfiles\u001b[0m\u001b[0;34m]\u001b[0m\u001b[0;34m\u001b[0m\u001b[0;34m\u001b[0m\u001b[0m\n\u001b[0m\u001b[1;32m     11\u001b[0m \u001b[0;34m\u001b[0m\u001b[0m\n\u001b[1;32m     12\u001b[0m \u001b[0mgraphs\u001b[0m \u001b[0;34m=\u001b[0m \u001b[0mload_flat_variants\u001b[0m\u001b[0;34m(\u001b[0m\u001b[0;34m\"/content/drive/MyDrive/gnnfingers/variants/Cora_SAGEMean\"\u001b[0m\u001b[0;34m)\u001b[0m\u001b[0;34m\u001b[0m\u001b[0;34m\u001b[0m\u001b[0m\n",
            "\u001b[0;32m/usr/local/lib/python3.11/dist-packages/torch/serialization.py\u001b[0m in \u001b[0;36mload\u001b[0;34m(f, map_location, pickle_module, weights_only, mmap, **pickle_load_args)\u001b[0m\n\u001b[1;32m   1469\u001b[0m                     \u001b[0;32mexcept\u001b[0m \u001b[0mpickle\u001b[0m\u001b[0;34m.\u001b[0m\u001b[0mUnpicklingError\u001b[0m \u001b[0;32mas\u001b[0m \u001b[0me\u001b[0m\u001b[0;34m:\u001b[0m\u001b[0;34m\u001b[0m\u001b[0;34m\u001b[0m\u001b[0m\n\u001b[1;32m   1470\u001b[0m                         \u001b[0;32mraise\u001b[0m \u001b[0mpickle\u001b[0m\u001b[0;34m.\u001b[0m\u001b[0mUnpicklingError\u001b[0m\u001b[0;34m(\u001b[0m\u001b[0m_get_wo_message\u001b[0m\u001b[0;34m(\u001b[0m\u001b[0mstr\u001b[0m\u001b[0;34m(\u001b[0m\u001b[0me\u001b[0m\u001b[0;34m)\u001b[0m\u001b[0;34m)\u001b[0m\u001b[0;34m)\u001b[0m \u001b[0;32mfrom\u001b[0m \u001b[0;32mNone\u001b[0m\u001b[0;34m\u001b[0m\u001b[0;34m\u001b[0m\u001b[0m\n\u001b[0;32m-> 1471\u001b[0;31m                 return _load(\n\u001b[0m\u001b[1;32m   1472\u001b[0m                     \u001b[0mopened_zipfile\u001b[0m\u001b[0;34m,\u001b[0m\u001b[0;34m\u001b[0m\u001b[0;34m\u001b[0m\u001b[0m\n\u001b[1;32m   1473\u001b[0m                     \u001b[0mmap_location\u001b[0m\u001b[0;34m,\u001b[0m\u001b[0;34m\u001b[0m\u001b[0;34m\u001b[0m\u001b[0m\n",
            "\u001b[0;32m/usr/local/lib/python3.11/dist-packages/torch/serialization.py\u001b[0m in \u001b[0;36m_load\u001b[0;34m(zip_file, map_location, pickle_module, pickle_file, overall_storage, **pickle_load_args)\u001b[0m\n\u001b[1;32m   1962\u001b[0m     \u001b[0;32mglobal\u001b[0m \u001b[0m_serialization_tls\u001b[0m\u001b[0;34m\u001b[0m\u001b[0;34m\u001b[0m\u001b[0m\n\u001b[1;32m   1963\u001b[0m     \u001b[0m_serialization_tls\u001b[0m\u001b[0;34m.\u001b[0m\u001b[0mmap_location\u001b[0m \u001b[0;34m=\u001b[0m \u001b[0mmap_location\u001b[0m\u001b[0;34m\u001b[0m\u001b[0;34m\u001b[0m\u001b[0m\n\u001b[0;32m-> 1964\u001b[0;31m     \u001b[0mresult\u001b[0m \u001b[0;34m=\u001b[0m \u001b[0munpickler\u001b[0m\u001b[0;34m.\u001b[0m\u001b[0mload\u001b[0m\u001b[0;34m(\u001b[0m\u001b[0;34m)\u001b[0m\u001b[0;34m\u001b[0m\u001b[0;34m\u001b[0m\u001b[0m\n\u001b[0m\u001b[1;32m   1965\u001b[0m     \u001b[0m_serialization_tls\u001b[0m\u001b[0;34m.\u001b[0m\u001b[0mmap_location\u001b[0m \u001b[0;34m=\u001b[0m \u001b[0;32mNone\u001b[0m\u001b[0;34m\u001b[0m\u001b[0;34m\u001b[0m\u001b[0m\n\u001b[1;32m   1966\u001b[0m \u001b[0;34m\u001b[0m\u001b[0m\n",
            "\u001b[0;32m/usr/local/lib/python3.11/dist-packages/torch/serialization.py\u001b[0m in \u001b[0;36mpersistent_load\u001b[0;34m(saved_id)\u001b[0m\n\u001b[1;32m   1926\u001b[0m         \u001b[0;32melse\u001b[0m\u001b[0;34m:\u001b[0m\u001b[0;34m\u001b[0m\u001b[0;34m\u001b[0m\u001b[0m\n\u001b[1;32m   1927\u001b[0m             \u001b[0mnbytes\u001b[0m \u001b[0;34m=\u001b[0m \u001b[0mnumel\u001b[0m \u001b[0;34m*\u001b[0m \u001b[0mtorch\u001b[0m\u001b[0;34m.\u001b[0m\u001b[0m_utils\u001b[0m\u001b[0;34m.\u001b[0m\u001b[0m_element_size\u001b[0m\u001b[0;34m(\u001b[0m\u001b[0mdtype\u001b[0m\u001b[0;34m)\u001b[0m\u001b[0;34m\u001b[0m\u001b[0;34m\u001b[0m\u001b[0m\n\u001b[0;32m-> 1928\u001b[0;31m             typed_storage = load_tensor(\n\u001b[0m\u001b[1;32m   1929\u001b[0m                 \u001b[0mdtype\u001b[0m\u001b[0;34m,\u001b[0m \u001b[0mnbytes\u001b[0m\u001b[0;34m,\u001b[0m \u001b[0mkey\u001b[0m\u001b[0;34m,\u001b[0m \u001b[0m_maybe_decode_ascii\u001b[0m\u001b[0;34m(\u001b[0m\u001b[0mlocation\u001b[0m\u001b[0;34m)\u001b[0m\u001b[0;34m\u001b[0m\u001b[0;34m\u001b[0m\u001b[0m\n\u001b[1;32m   1930\u001b[0m             )\n",
            "\u001b[0;32m/usr/local/lib/python3.11/dist-packages/torch/serialization.py\u001b[0m in \u001b[0;36mload_tensor\u001b[0;34m(dtype, numel, key, location)\u001b[0m\n\u001b[1;32m   1886\u001b[0m         \u001b[0;32melse\u001b[0m\u001b[0;34m:\u001b[0m\u001b[0;34m\u001b[0m\u001b[0;34m\u001b[0m\u001b[0m\n\u001b[1;32m   1887\u001b[0m             storage = (\n\u001b[0;32m-> 1888\u001b[0;31m                 \u001b[0mzip_file\u001b[0m\u001b[0;34m.\u001b[0m\u001b[0mget_storage_from_record\u001b[0m\u001b[0;34m(\u001b[0m\u001b[0mname\u001b[0m\u001b[0;34m,\u001b[0m \u001b[0mnumel\u001b[0m\u001b[0;34m,\u001b[0m \u001b[0mtorch\u001b[0m\u001b[0;34m.\u001b[0m\u001b[0mUntypedStorage\u001b[0m\u001b[0;34m)\u001b[0m\u001b[0;34m\u001b[0m\u001b[0;34m\u001b[0m\u001b[0m\n\u001b[0m\u001b[1;32m   1889\u001b[0m                 \u001b[0;34m.\u001b[0m\u001b[0m_typed_storage\u001b[0m\u001b[0;34m(\u001b[0m\u001b[0;34m)\u001b[0m\u001b[0;34m\u001b[0m\u001b[0;34m\u001b[0m\u001b[0m\n\u001b[1;32m   1890\u001b[0m                 \u001b[0;34m.\u001b[0m\u001b[0m_untyped_storage\u001b[0m\u001b[0;34m\u001b[0m\u001b[0;34m\u001b[0m\u001b[0m\n",
            "\u001b[0;31mKeyboardInterrupt\u001b[0m: "
          ]
        }
      ]
    },
    {
      "cell_type": "code",
      "source": [
        "from torch_geometric.loader import DataLoader\n",
        "import torch.nn.functional as F\n",
        "\n",
        "def extract_fp(model, U_net, graphs, batch_size=32):\n",
        "    model.eval()\n",
        "    U_net.eval()\n",
        "    all_p = []\n",
        "\n",
        "    loader = DataLoader(graphs, batch_size=batch_size, shuffle=False)\n",
        "    for batch in loader:\n",
        "        batch = batch.to(device)\n",
        "        x = F.relu(model.conv1(batch.x, batch.edge_index))\n",
        "        x = F.dropout(x, p=0.5, training=False)\n",
        "        x = model.conv2(x, batch.edge_index)\n",
        "        pooled = torch_geometric.nn.global_mean_pool(x, batch.batch)\n",
        "        logits = U_net(pooled)\n",
        "        all_p.append(logits.cpu())\n",
        "\n",
        "    return torch.cat(all_p, dim=0)\n"
      ],
      "metadata": {
        "id": "f2wsG-RvaNSz"
      },
      "execution_count": null,
      "outputs": []
    },
    {
      "cell_type": "code",
      "source": [
        "import torch\n",
        "import torch.nn.functional as F\n",
        "from torch_geometric.loader import DataLoader  # ✅ updated import\n",
        "from torch_geometric.nn import global_mean_pool\n",
        "\n",
        "def extract_fp(model, U_net, graphs, device, batch_size=32):\n",
        "    model.eval()\n",
        "    U_net.eval()\n",
        "    all_p = []\n",
        "\n",
        "    loader = DataLoader(graphs, batch_size=batch_size, shuffle=False)\n",
        "    for batch in loader:\n",
        "        batch = batch.to(device)\n",
        "        x = F.relu(model.conv1(batch.x, batch.edge_index))\n",
        "        x = F.dropout(x, p=0.5, training=False)\n",
        "        x = model.conv2(x, batch.edge_index)\n",
        "        pooled = global_mean_pool(x, batch.batch)\n",
        "        logits = U_net(pooled)\n",
        "        all_p.append(logits.cpu())\n",
        "\n",
        "    return torch.cat(all_p, dim=0)\n"
      ],
      "metadata": {
        "id": "8XHK4-31aOYT"
      },
      "execution_count": null,
      "outputs": []
    },
    {
      "cell_type": "code",
      "source": [
        "import torch\n",
        "import torch.nn as nn\n",
        "import torch.nn.functional as F\n",
        "from torch_geometric.nn import SAGEConv, global_mean_pool\n",
        "from torch_geometric.loader import DataLoader\n"
      ],
      "metadata": {
        "id": "Fznjw8Jia2f7"
      },
      "execution_count": null,
      "outputs": []
    },
    {
      "cell_type": "code",
      "source": [
        "class SAGEMean(torch.nn.Module):\n",
        "    def __init__(self, in_channels, hidden_channels, out_channels):\n",
        "        super().__init__()\n",
        "        self.conv1 = SAGEConv(in_channels, hidden_channels, aggr='mean')\n",
        "        self.conv2 = SAGEConv(hidden_channels, out_channels, aggr='mean')\n",
        "\n",
        "    def forward(self, x, edge_index, batch):\n",
        "        x = F.relu(self.conv1(x, edge_index))\n",
        "        x = self.conv2(x, edge_index)\n",
        "        x = global_mean_pool(x, batch)\n",
        "        return x\n"
      ],
      "metadata": {
        "id": "nf4lfa5ZbpAz"
      },
      "execution_count": null,
      "outputs": []
    },
    {
      "cell_type": "code",
      "source": [
        "device = torch.device('cuda' if torch.cuda.is_available() else 'cpu')\n",
        "\n",
        "victim = SAGEMean(in_channels=1433, hidden_channels=64, out_channels=64).to(device)\n",
        "victim.load_state_dict(torch.load(\n",
        "    \"/content/drive/MyDrive/gnnfingers/victims/victim_Cora_SAGEMean.pth\",\n",
        "    map_location=device\n",
        "), strict=False)\n",
        "victim.eval()\n",
        "\n",
        "print(\"✅ Victim model loaded.\")\n"
      ],
      "metadata": {
        "colab": {
          "base_uri": "https://localhost:8080/"
        },
        "id": "sZUg18QybhYb",
        "outputId": "95340fdb-5da4-40d1-c50a-41bd88325cee"
      },
      "execution_count": null,
      "outputs": [
        {
          "output_type": "stream",
          "name": "stdout",
          "text": [
            "✅ Victim model loaded.\n"
          ]
        }
      ]
    },
    {
      "cell_type": "code",
      "source": [
        "class FingerprintNetMLP(nn.Module):\n",
        "    def __init__(self, input_dim=2, hidden_dim=16):\n",
        "        super(FingerprintNetMLP, self).__init__()\n",
        "        self.net = nn.Sequential(\n",
        "            nn.Linear(input_dim, hidden_dim),\n",
        "            nn.ReLU(),\n",
        "            nn.Linear(hidden_dim, 2)\n",
        "        )\n",
        "\n",
        "    def forward(self, x):\n",
        "        return self.net(x)\n"
      ],
      "metadata": {
        "id": "o6Y0aSYvb087"
      },
      "execution_count": null,
      "outputs": []
    },
    {
      "cell_type": "code",
      "source": [
        "device = torch.device('cuda' if torch.cuda.is_available() else 'cpu')\n",
        "\n",
        "victim = SAGEMean(in_channels=1433, hidden_channels=64, out_channels=64).to(device)\n",
        "victim.load_state_dict(torch.load(\"/content/drive/MyDrive/gnnfingers/victims/victim_Cora_SAGEMean.pth\", map_location=device))\n",
        "victim.eval()\n"
      ],
      "metadata": {
        "colab": {
          "base_uri": "https://localhost:8080/"
        },
        "id": "IcScr0ojdg5p",
        "outputId": "9488942c-927a-406c-9437-51e336384350"
      },
      "execution_count": null,
      "outputs": [
        {
          "output_type": "execute_result",
          "data": {
            "text/plain": [
              "SAGEMean(\n",
              "  (conv1): SAGEConv(1433, 64, aggr=mean)\n",
              "  (conv2): SAGEConv(64, 64, aggr=mean)\n",
              ")"
            ]
          },
          "metadata": {},
          "execution_count": 27
        }
      ]
    },
    {
      "cell_type": "code",
      "source": [
        "fp_net = FingerprintNetMLP(input_dim=2, hidden_dim=16).to(device)\n",
        "fp_net.load_state_dict(torch.load(\"/content/drive/MyDrive/gnnfingers/checkpoints/U_Cora_SAGEMean.pth\", map_location=device))\n",
        "fp_net.eval()\n"
      ],
      "metadata": {
        "colab": {
          "base_uri": "https://localhost:8080/"
        },
        "id": "wospHCTLdJ2q",
        "outputId": "18b0d434-647a-4686-b8f4-194b05ace591"
      },
      "execution_count": null,
      "outputs": [
        {
          "output_type": "execute_result",
          "data": {
            "text/plain": [
              "FingerprintNetMLP(\n",
              "  (net): Sequential(\n",
              "    (0): Linear(in_features=2, out_features=16, bias=True)\n",
              "    (1): ReLU()\n",
              "    (2): Linear(in_features=16, out_features=2, bias=True)\n",
              "  )\n",
              ")"
            ]
          },
          "metadata": {},
          "execution_count": 26
        }
      ]
    },
    {
      "cell_type": "code",
      "source": [
        "from torch.serialization import add_safe_globals\n",
        "from torch_geometric.data import Data\n",
        "from torch_geometric.data.storage import GlobalStorage\n",
        "add_safe_globals([Data, GlobalStorage])\n",
        "\n",
        "import os, torch\n",
        "\n",
        "def load_flat_variants(folder):\n",
        "    files = sorted(os.listdir(folder))\n",
        "    return [torch.load(os.path.join(folder, f), weights_only=False) for f in files]\n",
        "\n",
        "graphs = load_flat_variants(\"/content/drive/MyDrive/gnnfingers/variants/Cora_SAGEMean\")\n"
      ],
      "metadata": {
        "id": "MmtLGrhwdnYq"
      },
      "execution_count": null,
      "outputs": []
    },
    {
      "cell_type": "code",
      "source": [
        "from torch_geometric.loader import DataLoader\n",
        "import torch.nn.functional as F\n",
        "from torch_geometric.nn import global_mean_pool\n",
        "\n",
        "def extract_fp(model, U_net, graphs, batch_size=4, device='cpu'):\n",
        "    model = model.to(device)\n",
        "    U_net = U_net.to(device)\n",
        "    model.eval()\n",
        "    U_net.eval()\n",
        "\n",
        "    fingerprints = []\n",
        "    loader = DataLoader(graphs, batch_size=batch_size, shuffle=False)\n",
        "\n",
        "    with torch.no_grad():\n",
        "        for batch in loader:\n",
        "            batch = batch.to(device)\n",
        "            x = F.relu(model.conv1(batch.x, batch.edge_index))\n",
        "            x = F.dropout(x, p=0.5, training=False)\n",
        "            x = model.conv2(x, batch.edge_index)\n",
        "            pooled = global_mean_pool(x, batch.batch)\n",
        "            logits = U_net(pooled)\n",
        "            fingerprints.append(logits.cpu())\n",
        "\n",
        "    return torch.cat(fingerprints, dim=0)\n"
      ],
      "metadata": {
        "id": "CcnFGio4cUDa",
        "colab": {
          "base_uri": "https://localhost:8080/"
        },
        "outputId": "088df7f8-b883-477d-dfb9-54ee4ed5249a"
      },
      "execution_count": null,
      "outputs": [
        {
          "output_type": "stream",
          "name": "stderr",
          "text": [
            "/usr/local/lib/python3.11/dist-packages/torch_geometric/typing.py:86: UserWarning: An issue occurred while importing 'torch-scatter'. Disabling its usage. Stacktrace: /usr/local/lib/python3.11/dist-packages/torch_scatter/_version_cpu.so: undefined symbol: _ZN3c1017RegisterOperatorsD1Ev\n",
            "  warnings.warn(f\"An issue occurred while importing 'torch-scatter'. \"\n",
            "/usr/local/lib/python3.11/dist-packages/torch_geometric/typing.py:97: UserWarning: An issue occurred while importing 'torch-cluster'. Disabling its usage. Stacktrace: /usr/local/lib/python3.11/dist-packages/torch_cluster/_version_cpu.so: undefined symbol: _ZN3c1017RegisterOperatorsD1Ev\n",
            "  warnings.warn(f\"An issue occurred while importing 'torch-cluster'. \"\n",
            "/usr/local/lib/python3.11/dist-packages/torch_geometric/typing.py:113: UserWarning: An issue occurred while importing 'torch-spline-conv'. Disabling its usage. Stacktrace: /usr/local/lib/python3.11/dist-packages/torch_spline_conv/_version_cpu.so: undefined symbol: _ZN3c1017RegisterOperatorsD1Ev\n",
            "  warnings.warn(\n",
            "/usr/local/lib/python3.11/dist-packages/torch_geometric/typing.py:124: UserWarning: An issue occurred while importing 'torch-sparse'. Disabling its usage. Stacktrace: /usr/local/lib/python3.11/dist-packages/torch_sparse/_version_cpu.so: undefined symbol: _ZN3c1017RegisterOperatorsD1Ev\n",
            "  warnings.warn(f\"An issue occurred while importing 'torch-sparse'. \"\n"
          ]
        }
      ]
    },
    {
      "cell_type": "code",
      "source": [
        "import os\n",
        "import torch\n",
        "from torch_geometric.data import Data\n",
        "\n",
        "def load_variants(directory):\n",
        "    \"\"\"Load all PyTorch Geometric graph objects (.pt) from a directory\"\"\"\n",
        "    graphs = []\n",
        "    for fname in sorted(os.listdir(directory)):\n",
        "        if fname.endswith(\".pt\"):\n",
        "            fpath = os.path.join(directory, fname)\n",
        "            try:\n",
        "                graph = torch.load(fpath, map_location='cpu')\n",
        "                if isinstance(graph, Data):\n",
        "                    graphs.append(graph)\n",
        "            except Exception as e:\n",
        "                print(f\"❌ Failed to load {fname}: {e}\")\n",
        "    return graphs\n"
      ],
      "metadata": {
        "id": "6qCfifQ-7bIr"
      },
      "execution_count": null,
      "outputs": []
    },
    {
      "cell_type": "code",
      "source": [
        "from utils import load_variants  # or however you defined load_variants\n",
        "\n",
        "variant_dir = \"/content/drive/MyDrive/gnnfingers/variants/Cora_SAGEMean\"\n",
        "graphs = load_variants(variant_dir)\n",
        "print(f\"✅ Loaded {len(graphs)} graphs\")\n"
      ],
      "metadata": {
        "colab": {
          "base_uri": "https://localhost:8080/"
        },
        "id": "eitd2JDa7TZT",
        "outputId": "80521d4c-ba03-40e4-c694-4ccd76fecc54"
      },
      "execution_count": null,
      "outputs": [
        {
          "output_type": "stream",
          "name": "stdout",
          "text": [
            "✅ Loaded 400 graphs\n"
          ]
        }
      ]
    },
    {
      "cell_type": "code",
      "source": [
        "from torch_geometric.loader import DataLoader\n",
        "import torch.nn.functional as F\n",
        "from torch_geometric.nn import global_mean_pool\n",
        "\n",
        "def extract_fp(model, U_net, graphs, batch_size=4, device='cpu'):\n",
        "    model = model.to(device)\n",
        "    U_net = U_net.to(device)\n",
        "    model.eval()\n",
        "    U_net.eval()\n",
        "\n",
        "    fingerprints = []\n",
        "    loader = DataLoader(graphs, batch_size=batch_size, shuffle=False)\n",
        "\n",
        "    with torch.no_grad():\n",
        "        for batch in loader:\n",
        "            batch = batch.to(device)\n",
        "            x = F.relu(model.conv1(batch.x, batch.edge_index))\n",
        "            x = F.dropout(x, p=0.5, training=False)\n",
        "            x = model.conv2(x, batch.edge_index)\n",
        "            pooled = global_mean_pool(x, batch.batch)\n",
        "            logits = U_net(pooled)\n",
        "            fingerprints.append(logits.cpu())\n",
        "\n",
        "    return torch.cat(fingerprints, dim=0)\n"
      ],
      "metadata": {
        "id": "E6hG0at-84vc"
      },
      "execution_count": null,
      "outputs": []
    },
    {
      "cell_type": "code",
      "source": [
        "device = 'cpu'  # or 'cuda' if you're stable\n",
        "chunk_size = 50\n",
        "all_fps = []\n",
        "\n",
        "for i in range(0, len(graphs), chunk_size):\n",
        "    print(f\"Processing graphs {i} to {i+chunk_size}...\")\n",
        "    chunk = graphs[i:i + chunk_size]\n",
        "    fps_chunk = extract_fp(victim, fp_net, chunk, batch_size=4, device=device)\n",
        "    all_fps.append(fps_chunk)\n",
        "\n",
        "fingerprints = torch.cat(all_fps, dim=0)\n",
        "torch.save(fingerprints, \"/content/drive/MyDrive/gnnfingers/fingerprints/Cora_SAGEMean.pt\")\n",
        "print(f\"✅ Fingerprints saved with shape: {fingerprints.shape}\")\n"
      ],
      "metadata": {
        "colab": {
          "base_uri": "https://localhost:8080/"
        },
        "id": "Yti6ODtJ7FJz",
        "outputId": "58fd3f12-4438-4bcc-b558-d8d92d9ff79d"
      },
      "execution_count": null,
      "outputs": [
        {
          "output_type": "stream",
          "name": "stdout",
          "text": [
            "Processing graphs 0 to 50...\n",
            "Processing graphs 50 to 100...\n",
            "Processing graphs 100 to 150...\n",
            "Processing graphs 150 to 200...\n",
            "Processing graphs 200 to 250...\n",
            "Processing graphs 250 to 300...\n",
            "Processing graphs 300 to 350...\n",
            "Processing graphs 350 to 400...\n",
            "✅ Fingerprints saved with shape: torch.Size([400, 2])\n"
          ]
        }
      ]
    },
    {
      "cell_type": "code",
      "source": [
        "fingerprints = torch.cat(all_fps, dim=0)\n"
      ],
      "metadata": {
        "id": "JAM4o64h9xc6"
      },
      "execution_count": null,
      "outputs": []
    },
    {
      "cell_type": "code",
      "source": [
        "del all_fps\n",
        "del graphs\n",
        "torch.cuda.empty_cache()  # if using GPU\n",
        "import gc; gc.collect()   # force Python garbage collection\n"
      ],
      "metadata": {
        "colab": {
          "base_uri": "https://localhost:8080/"
        },
        "id": "GkInzJsv92Ox",
        "outputId": "c8300de1-74e2-48e1-c3a0-7be63572565b"
      },
      "execution_count": null,
      "outputs": [
        {
          "output_type": "execute_result",
          "data": {
            "text/plain": [
              "375"
            ]
          },
          "metadata": {},
          "execution_count": 26
        }
      ]
    },
    {
      "cell_type": "code",
      "source": [
        "fingerprints = torch.load(\"/content/drive/MyDrive/gnnfingers/fingerprints/Cora_SAGEMean.pt\")\n",
        "print(fingerprints.shape)\n",
        "\n"
      ],
      "metadata": {
        "colab": {
          "base_uri": "https://localhost:8080/"
        },
        "id": "k8moIyWkejGh",
        "outputId": "3f406574-86c3-424a-f67e-1b38c1749b6d"
      },
      "execution_count": null,
      "outputs": [
        {
          "output_type": "stream",
          "name": "stdout",
          "text": [
            "torch.Size([400, 2])\n"
          ]
        }
      ]
    },
    {
      "cell_type": "code",
      "source": [
        "import torch\n",
        "import torch.nn as nn\n",
        "import torch.optim as optim\n",
        "from sklearn.metrics import roc_auc_score, roc_curve, auc\n",
        "import matplotlib.pyplot as plt\n",
        "\n",
        "# Load saved fingerprints\n",
        "fingerprints = torch.load(\"/content/drive/MyDrive/gnnfingers/fingerprints/Cora_SAGEMean.pt\")\n",
        "\n",
        "# Create labels\n",
        "labels = torch.cat([\n",
        "    torch.ones(200),     # pirated (positive)\n",
        "    torch.zeros(200)     # irrelevant (negative)\n",
        "]).long()\n",
        "\n",
        "print(f\"✅ Loaded {fingerprints.shape[0]} fingerprints\")\n"
      ],
      "metadata": {
        "colab": {
          "base_uri": "https://localhost:8080/"
        },
        "id": "7mBU14q-_Dkp",
        "outputId": "58388b54-dd51-471a-df6f-d87771cdeab3"
      },
      "execution_count": null,
      "outputs": [
        {
          "output_type": "stream",
          "name": "stdout",
          "text": [
            "✅ Loaded 400 fingerprints\n"
          ]
        }
      ]
    },
    {
      "cell_type": "code",
      "source": [
        "class Univerifier(nn.Module):\n",
        "    def __init__(self):\n",
        "        super().__init__()\n",
        "        self.classifier = nn.Sequential(\n",
        "            nn.Linear(2, 64),\n",
        "            nn.LeakyReLU(),\n",
        "            nn.Linear(64, 32),\n",
        "            nn.LeakyReLU(),\n",
        "            nn.Linear(32, 2)  # output logits for 2 classes\n",
        "        )\n",
        "\n",
        "    def forward(self, x):\n",
        "        return self.classifier(x)\n"
      ],
      "metadata": {
        "id": "agZIkb2N_MYJ"
      },
      "execution_count": null,
      "outputs": []
    },
    {
      "cell_type": "code",
      "source": [
        "from torch.utils.data import TensorDataset, DataLoader\n",
        "\n",
        "# Create DataLoader\n",
        "dataset = TensorDataset(fingerprints, labels)\n",
        "loader = DataLoader(dataset, batch_size=32, shuffle=True)\n",
        "\n",
        "model = Univerifier()\n",
        "criterion = nn.CrossEntropyLoss()\n",
        "optimizer = optim.Adam(model.parameters(), lr=0.001)\n",
        "\n",
        "# Training loop\n",
        "for epoch in range(20):\n",
        "    model.train()\n",
        "    total_loss = 0\n",
        "    for batch_x, batch_y in loader:\n",
        "        logits = model(batch_x)\n",
        "        loss = criterion(logits, batch_y)\n",
        "\n",
        "        optimizer.zero_grad()\n",
        "        loss.backward()\n",
        "        optimizer.step()\n",
        "        total_loss += loss.item()\n",
        "\n",
        "    print(f\"Epoch {epoch+1:02d} - Loss: {total_loss:.4f}\")\n"
      ],
      "metadata": {
        "colab": {
          "base_uri": "https://localhost:8080/"
        },
        "id": "Yqw4S46Z_Npp",
        "outputId": "bf3afe8b-6010-4b31-9257-ecfd12300e03"
      },
      "execution_count": null,
      "outputs": [
        {
          "output_type": "stream",
          "name": "stdout",
          "text": [
            "Epoch 01 - Loss: 9.0193\n",
            "Epoch 02 - Loss: 9.0197\n",
            "Epoch 03 - Loss: 9.0137\n",
            "Epoch 04 - Loss: 9.0147\n",
            "Epoch 05 - Loss: 9.0141\n",
            "Epoch 06 - Loss: 9.0299\n",
            "Epoch 07 - Loss: 9.0081\n",
            "Epoch 08 - Loss: 9.0133\n",
            "Epoch 09 - Loss: 9.0193\n",
            "Epoch 10 - Loss: 9.0161\n",
            "Epoch 11 - Loss: 9.0324\n",
            "Epoch 12 - Loss: 9.0147\n",
            "Epoch 13 - Loss: 9.0132\n",
            "Epoch 14 - Loss: 9.0127\n",
            "Epoch 15 - Loss: 9.0125\n",
            "Epoch 16 - Loss: 9.0198\n",
            "Epoch 17 - Loss: 9.0229\n",
            "Epoch 18 - Loss: 9.0156\n",
            "Epoch 19 - Loss: 9.0144\n",
            "Epoch 20 - Loss: 9.0165\n"
          ]
        }
      ]
    },
    {
      "cell_type": "code",
      "source": [
        "model.eval()\n",
        "with torch.no_grad():\n",
        "    logits = model(fingerprints)\n",
        "    probs = torch.softmax(logits, dim=1)[:, 1]  # probability of class 1 (pirated)\n",
        "\n",
        "# Compute metrics\n",
        "fpr, tpr, thresholds = roc_curve(labels.numpy(), probs.numpy())\n",
        "aruc = auc(fpr, tpr)\n",
        "print(f\"ARUC: {aruc:.4f}\")\n",
        "\n",
        "# Plot ROC curve\n",
        "plt.figure()\n",
        "plt.plot(fpr, tpr, label=f\"ARUC = {aruc:.4f}\")\n",
        "plt.plot([0, 1], [0, 1], linestyle='--')\n",
        "plt.xlabel(\"False Positive Rate (1 - Uniqueness)\")\n",
        "plt.ylabel(\"True Positive Rate (Robustness)\")\n",
        "plt.title(\"ROC Curve for Univerifier\")\n",
        "plt.legend()\n",
        "plt.grid(True)\n",
        "plt.show()\n"
      ],
      "metadata": {
        "colab": {
          "base_uri": "https://localhost:8080/",
          "height": 489
        },
        "id": "ce_GTECl_RDi",
        "outputId": "787b0303-ba2f-40d0-f48a-c9b91b6f46c3"
      },
      "execution_count": null,
      "outputs": [
        {
          "output_type": "stream",
          "name": "stdout",
          "text": [
            "ARUC: 0.5000\n"
          ]
        },
        {
          "output_type": "display_data",
          "data": {
            "text/plain": [
              "<Figure size 640x480 with 1 Axes>"
            ],
            "image/png": "[encoded data removed]"
          },
          "metadata": {}
        }
      ]
    },
    {
      "cell_type": "code",
      "source": [
        "import torch.nn as nn\n",
        "\n",
        "class FingerprintNetMLP(nn.Module):\n",
        "    def __init__(self, in_dim=64, hidden_dim=32, out_dim=2):\n",
        "        super().__init__()\n",
        "        self.net = nn.Sequential(\n",
        "            nn.Linear(in_dim, hidden_dim),\n",
        "            nn.ReLU(),\n",
        "            nn.Linear(hidden_dim, out_dim)\n",
        "        )\n",
        "\n",
        "    def forward(self, x):\n",
        "        return self.net(x)\n",
        "\n",
        "class Univerifier(nn.Module):\n",
        "    def __init__(self, in_dim=2):\n",
        "        super().__init__()\n",
        "        self.net = nn.Sequential(\n",
        "            nn.Linear(in_dim, 64),\n",
        "            nn.LeakyReLU(),\n",
        "            nn.Linear(64, 32),\n",
        "            nn.LeakyReLU(),\n",
        "            nn.Linear(32, 2)\n",
        "        )\n",
        "\n",
        "    def forward(self, x):\n",
        "        return self.net(x)\n"
      ],
      "metadata": {
        "id": "en5TZCvM_uR8"
      },
      "execution_count": null,
      "outputs": []
    },
    {
      "cell_type": "code",
      "source": [
        "from torch_geometric.loader import DataLoader\n",
        "from torch_geometric.nn import global_mean_pool\n",
        "import torch.nn.functional as F\n",
        "\n",
        "def extract_pooled_features(model, graphs, batch_size=8, device='cpu'):\n",
        "    model = model.to(device)\n",
        "    model.eval()\n",
        "    features = []\n",
        "\n",
        "    loader = DataLoader(graphs, batch_size=batch_size, shuffle=False)\n",
        "\n",
        "    with torch.no_grad():\n",
        "        for batch in loader:\n",
        "            batch = batch.to(device)\n",
        "            x = F.relu(model.conv1(batch.x, batch.edge_index))\n",
        "            x = model.conv2(x, batch.edge_index)\n",
        "            pooled = global_mean_pool(x, batch.batch)\n",
        "            features.append(pooled.cpu())\n",
        "\n",
        "    return torch.cat(features, dim=0)\n"
      ],
      "metadata": {
        "id": "yrwAQzV4_wYu"
      },
      "execution_count": null,
      "outputs": []
    },
    {
      "cell_type": "code",
      "source": [
        "variant_dir = \"/content/drive/MyDrive/gnnfingers/variants/Cora_SAGEMean\"\n",
        "graphs = load_variants(variant_dir)\n",
        "pooled_features = extract_pooled_features(victim, graphs, batch_size=8, device='cpu')\n",
        "\n",
        "labels = torch.cat([\n",
        "    torch.ones(200),  # Pirated (F+)\n",
        "    torch.zeros(200)  # Irrelevant (F-)\n",
        "]).long()\n",
        "\n",
        "print(pooled_features.shape)  # Should be [400, 64]\n"
      ],
      "metadata": {
        "colab": {
          "base_uri": "https://localhost:8080/"
        },
        "id": "6EK7Az1v_0M0",
        "outputId": "26ee29db-2776-4db9-bae2-e487c4f5c6b9"
      },
      "execution_count": null,
      "outputs": [
        {
          "output_type": "stream",
          "name": "stdout",
          "text": [
            "torch.Size([400, 64])\n"
          ]
        }
      ]
    },
    {
      "cell_type": "code",
      "source": [
        "fp_net = FingerprintNetMLP(in_dim=64, hidden_dim=32, out_dim=2)\n",
        "univerifier = Univerifier(in_dim=2)\n",
        "\n",
        "optimizer = torch.optim.Adam(list(fp_net.parameters()) + list(univerifier.parameters()), lr=0.001)\n",
        "criterion = nn.CrossEntropyLoss()\n",
        "\n",
        "from torch.utils.data import DataLoader, TensorDataset\n",
        "\n",
        "dataset = TensorDataset(pooled_features, labels)\n",
        "loader = DataLoader(dataset, batch_size=32, shuffle=True)\n",
        "\n",
        "for epoch in range(20):\n",
        "    fp_net.train()\n",
        "    univerifier.train()\n",
        "    total_loss = 0\n",
        "\n",
        "    for x_batch, y_batch in loader:\n",
        "        z = fp_net(x_batch)\n",
        "        logits = univerifier(z)\n",
        "        loss = criterion(logits, y_batch)\n",
        "\n",
        "        optimizer.zero_grad()\n",
        "        loss.backward()\n",
        "        optimizer.step()\n",
        "\n",
        "        total_loss += loss.item()\n",
        "\n",
        "    print(f\"Epoch {epoch+1:02d} - Loss: {total_loss:.4f}\")\n"
      ],
      "metadata": {
        "colab": {
          "base_uri": "https://localhost:8080/"
        },
        "id": "2A3zwBjs_-D1",
        "outputId": "fc95a2bf-1602-4f54-a5ef-2e90bd88689a"
      },
      "execution_count": null,
      "outputs": [
        {
          "output_type": "stream",
          "name": "stdout",
          "text": [
            "Epoch 01 - Loss: 9.0644\n",
            "Epoch 02 - Loss: 9.0260\n",
            "Epoch 03 - Loss: 9.0328\n",
            "Epoch 04 - Loss: 9.0128\n",
            "Epoch 05 - Loss: 9.0171\n",
            "Epoch 06 - Loss: 9.0264\n",
            "Epoch 07 - Loss: 9.0187\n",
            "Epoch 08 - Loss: 9.0343\n",
            "Epoch 09 - Loss: 9.0132\n",
            "Epoch 10 - Loss: 9.0226\n",
            "Epoch 11 - Loss: 9.0182\n",
            "Epoch 12 - Loss: 9.0242\n",
            "Epoch 13 - Loss: 9.0153\n",
            "Epoch 14 - Loss: 9.0139\n",
            "Epoch 15 - Loss: 9.0211\n",
            "Epoch 16 - Loss: 9.0344\n",
            "Epoch 17 - Loss: 9.0288\n",
            "Epoch 18 - Loss: 9.0342\n",
            "Epoch 19 - Loss: 9.0208\n",
            "Epoch 20 - Loss: 9.0250\n"
          ]
        }
      ]
    },
    {
      "cell_type": "code",
      "source": [
        "fp_net.eval()\n",
        "univerifier.eval()\n",
        "with torch.no_grad():\n",
        "    z = fp_net(pooled_features)\n",
        "    probs = torch.softmax(univerifier(z), dim=1)[:, 1]  # pirated class\n",
        "\n",
        "from sklearn.metrics import roc_curve, auc\n",
        "import matplotlib.pyplot as plt\n",
        "\n",
        "fpr, tpr, _ = roc_curve(labels.numpy(), probs.numpy())\n",
        "aruc = auc(fpr, tpr)\n",
        "\n",
        "print(f\"🔐 ARUC: {aruc:.4f}\")\n",
        "\n",
        "plt.figure()\n",
        "plt.plot(fpr, tpr, label=f\"ARUC = {aruc:.4f}\")\n",
        "plt.plot([0, 1], [0, 1], linestyle='--', color='gray')\n",
        "plt.xlabel(\"False Positive Rate (1 - Uniqueness)\")\n",
        "plt.ylabel(\"True Positive Rate (Robustness)\")\n",
        "plt.title(\"ROC Curve after Joint Training (Cora/SAGEMean)\")\n",
        "plt.legend()\n",
        "plt.grid(True)\n",
        "plt.show()\n"
      ],
      "metadata": {
        "colab": {
          "base_uri": "https://localhost:8080/",
          "height": 489
        },
        "id": "_HZvHcKZ__0u",
        "outputId": "68101f96-79e1-489f-a49b-ddbd18c9280e"
      },
      "execution_count": null,
      "outputs": [
        {
          "output_type": "stream",
          "name": "stdout",
          "text": [
            "🔐 ARUC: 0.5000\n"
          ]
        },
        {
          "output_type": "display_data",
          "data": {
            "text/plain": [
              "<Figure size 640x480 with 1 Axes>"
            ],
            "image/png": "[encoded data removed]"
          },
          "metadata": {}
        }
      ]
    },
    {
      "cell_type": "code",
      "source": [
        "import os\n",
        "import torch\n",
        "from torch_geometric.data import Data\n",
        "from torch_geometric.loader import DataLoader\n",
        "from torch_geometric.nn import global_mean_pool\n",
        "import torch.nn.functional as F\n",
        "\n",
        "def pooled_from_model_graph(model_path, graph, model_class, device='cpu'):\n",
        "    model = model_class(in_channels=1433, hidden_channels=64, out_channels=7)\n",
        "    model.load_state_dict(torch.load(model_path, map_location=device), strict=False)\n",
        "    model = model.to(device)\n",
        "    model.eval()\n",
        "\n",
        "    graph = graph.to(device)\n",
        "    with torch.no_grad():\n",
        "        x = F.relu(model.conv1(graph.x, graph.edge_index))\n",
        "        x = model.conv2(x, graph.edge_index)\n",
        "        pooled = global_mean_pool(x, graph.batch if hasattr(graph, 'batch') else torch.zeros(x.size(0), dtype=torch.long))\n",
        "    return pooled.cpu()\n"
      ],
      "metadata": {
        "id": "zkWzm-M2BS9f"
      },
      "execution_count": null,
      "outputs": []
    },
    {
      "cell_type": "code",
      "source": [
        "!find /content/drive/MyDrive/gnnfingers/ -type f -name \"*.pth\" | head -20\n",
        "\n"
      ],
      "metadata": {
        "colab": {
          "base_uri": "https://localhost:8080/"
        },
        "id": "cW0-DDnIMFRO",
        "outputId": "376025a2-4d27-4a85-f886-8a0c9672aa44"
      },
      "execution_count": null,
      "outputs": [
        {
          "output_type": "stream",
          "name": "stdout",
          "text": [
            "/content/drive/MyDrive/gnnfingers/checkpoints/victim_ENZ_GCNMean.pth\n",
            "/content/drive/MyDrive/gnnfingers/checkpoints/victim_ENZ_GCNDiff.pth\n",
            "/content/drive/MyDrive/gnnfingers/checkpoints/victim_ENZ_SAGEMean.pth\n",
            "/content/drive/MyDrive/gnnfingers/checkpoints/victim_ENZ_SAGEDiff.pth\n",
            "/content/drive/MyDrive/gnnfingers/checkpoints/Copy of victim_ENZ_GCNDiff.pth\n",
            "/content/drive/MyDrive/gnnfingers/checkpoints/victim_PR_GCNMean.pth\n",
            "/content/drive/MyDrive/gnnfingers/checkpoints/victim_PR_GCNDiff.pth\n",
            "/content/drive/MyDrive/gnnfingers/checkpoints/victim_PR_SAGEMean.pth\n",
            "/content/drive/MyDrive/gnnfingers/checkpoints/victim_PR_SAGEDiff.pth\n",
            "/content/drive/MyDrive/gnnfingers/checkpoints/U_PR_GCNMean.pth\n",
            "/content/drive/MyDrive/gnnfingers/checkpoints/U_Cora_SAGEMean.pth\n",
            "/content/drive/MyDrive/gnnfingers/checkpoints/fpnet_Cora_SAGEMean_small.pth\n",
            "/content/drive/MyDrive/gnnfingers/checkpoints/fpnet_Cora_SAGEMean.pth\n",
            "/content/drive/MyDrive/gnnfingers/variants/ENZ_GCNMean/positive/ft_010.pth\n",
            "/content/drive/MyDrive/gnnfingers/variants/ENZ_GCNMean/positive/dist_010.pth\n",
            "/content/drive/MyDrive/gnnfingers/variants/ENZ_GCNMean/positive/prune_010.pth\n",
            "/content/drive/MyDrive/gnnfingers/variants/ENZ_GCNMean/positive/ft_011.pth\n",
            "/content/drive/MyDrive/gnnfingers/variants/ENZ_GCNMean/positive/dist_011.pth\n",
            "/content/drive/MyDrive/gnnfingers/variants/ENZ_GCNMean/positive/prune_011.pth\n",
            "/content/drive/MyDrive/gnnfingers/variants/ENZ_GCNMean/positive/ft_012.pth\n"
          ]
        }
      ]
    },
    {
      "cell_type": "code",
      "source": [
        "!ls /content/drive/MyDrive/gnnfingers/variants/ENZ_GCNMean/positive\n"
      ],
      "metadata": {
        "colab": {
          "base_uri": "https://localhost:8080/"
        },
        "id": "0rp92CRgQI8z",
        "outputId": "582a259a-3ffc-41c1-c66a-1d8800681fa9"
      },
      "execution_count": null,
      "outputs": [
        {
          "output_type": "stream",
          "name": "stdout",
          "text": [
            "dist_000.pth  dist_018.pth  ft_007.pth\tft_025.pth     prune_013.pth\n",
            "dist_001.pth  dist_019.pth  ft_008.pth\tft_026.pth     prune_014.pth\n",
            "dist_002.pth  dist_020.pth  ft_009.pth\tft_027.pth     prune_015.pth\n",
            "dist_003.pth  dist_021.pth  ft_010.pth\tft_028.pth     prune_016.pth\n",
            "dist_004.pth  dist_022.pth  ft_011.pth\tft_029.pth     prune_017.pth\n",
            "dist_005.pth  dist_023.pth  ft_012.pth\tprune_000.pth  prune_018.pth\n",
            "dist_006.pth  dist_024.pth  ft_013.pth\tprune_001.pth  prune_019.pth\n",
            "dist_007.pth  dist_025.pth  ft_014.pth\tprune_002.pth  prune_020.pth\n",
            "dist_008.pth  dist_026.pth  ft_015.pth\tprune_003.pth  prune_021.pth\n",
            "dist_009.pth  dist_027.pth  ft_016.pth\tprune_004.pth  prune_022.pth\n",
            "dist_010.pth  dist_028.pth  ft_017.pth\tprune_005.pth  prune_023.pth\n",
            "dist_011.pth  ft_000.pth    ft_018.pth\tprune_006.pth  prune_024.pth\n",
            "dist_012.pth  ft_001.pth    ft_019.pth\tprune_007.pth  prune_025.pth\n",
            "dist_013.pth  ft_002.pth    ft_020.pth\tprune_008.pth  prune_026.pth\n",
            "dist_014.pth  ft_003.pth    ft_021.pth\tprune_009.pth  prune_027.pth\n",
            "dist_015.pth  ft_004.pth    ft_022.pth\tprune_010.pth  prune_028.pth\n",
            "dist_016.pth  ft_005.pth    ft_023.pth\tprune_011.pth\n",
            "dist_017.pth  ft_006.pth    ft_024.pth\tprune_012.pth\n"
          ]
        }
      ]
    },
    {
      "cell_type": "code",
      "source": [
        "import torch\n",
        "import torch.nn.functional as F\n",
        "from torch_geometric.nn import GCNConv, global_mean_pool\n",
        "\n",
        "class GCNMean(torch.nn.Module):\n",
        "    def __init__(self, in_channels, hidden_channels, out_channels):\n",
        "        super(GCNMean, self).__init__()\n",
        "        self.conv1 = GCNConv(in_channels, hidden_channels)\n",
        "        self.conv2 = GCNConv(hidden_channels, out_channels)\n",
        "\n",
        "    def forward(self, data):\n",
        "        x, edge_index, batch = data.x, data.edge_index, data.batch\n",
        "        x = F.relu(self.conv1(x, edge_index))\n",
        "        x = self.conv2(x, edge_index)\n",
        "        return global_mean_pool(x, batch)\n"
      ],
      "metadata": {
        "id": "oiTRypf7QsoU"
      },
      "execution_count": null,
      "outputs": []
    },
    {
      "cell_type": "code",
      "source": [
        "graphs = load_variants(\"/content/drive/MyDrive/gnnfingers/variants/ENZ_GCNMean\")\n"
      ],
      "metadata": {
        "id": "IXkTUahQRyc7"
      },
      "execution_count": null,
      "outputs": []
    },
    {
      "cell_type": "code",
      "source": [
        "print(f\"# of ft_*.pth models: {len(model_files)}\")\n",
        "print(f\"# of graphs loaded: {len(graphs)}\")\n"
      ],
      "metadata": {
        "colab": {
          "base_uri": "https://localhost:8080/"
        },
        "id": "bGmr_lnjSBDT",
        "outputId": "8c2ac870-1271-46d9-9534-66ca279e06d4"
      },
      "execution_count": null,
      "outputs": [
        {
          "output_type": "stream",
          "name": "stdout",
          "text": [
            "# of ft_*.pth models: 30\n",
            "# of graphs loaded: 0\n"
          ]
        }
      ]
    },
    {
      "cell_type": "code",
      "source": [
        "torch.save(graphs, \"/content/drive/MyDrive/gnnfingers/variants/ENZ_GCNMean/graphs_ft_only.pt\")\n"
      ],
      "metadata": {
        "id": "c-otMnkkSvTu"
      },
      "execution_count": null,
      "outputs": []
    },
    {
      "cell_type": "code",
      "source": [
        "graphs = torch.load(\"/content/drive/MyDrive/gnnfingers/variants/ENZ_GCNMean/graphs_ft_only.pt\")\n"
      ],
      "metadata": {
        "id": "7ds69ih6SwhQ"
      },
      "execution_count": null,
      "outputs": []
    },
    {
      "cell_type": "code",
      "source": [
        "import os\n",
        "import torch\n",
        "from torch_geometric.datasets import Planetoid\n",
        "from torch_geometric.nn import GCNConv\n",
        "from torch_geometric.loader import DataLoader\n",
        "from torch_geometric.nn import global_mean_pool\n",
        "import torch.nn.functional as F\n",
        "\n",
        "# Define your GCN model\n",
        "class GCNMean(torch.nn.Module):\n",
        "    def __init__(self, in_channels, hidden_channels, out_channels):\n",
        "        super(GCNMean, self).__init__()\n",
        "        self.conv1 = GCNConv(in_channels, hidden_channels)\n",
        "        self.conv2 = GCNConv(hidden_channels, out_channels)\n",
        "\n",
        "    def forward(self, data):\n",
        "        x, edge_index = data.x, data.edge_index\n",
        "        batch = data.batch if hasattr(data, 'batch') else torch.zeros(x.size(0), dtype=torch.long, device=x.device)\n",
        "        x = F.relu(self.conv1(x, edge_index))\n",
        "        x = self.conv2(x, edge_index)\n",
        "        return global_mean_pool(x, batch)\n",
        "\n",
        "# Load Cora dataset\n",
        "dataset = Planetoid(root='/tmp/Cora', name='Cora')\n",
        "data = dataset[0]\n",
        "\n",
        "# Save directory\n",
        "save_dir = \"/content/drive/MyDrive/gnnfingers/variants/ENZ_GCNMean\"\n",
        "os.makedirs(save_dir, exist_ok=True)\n",
        "\n",
        "# Generate 30 fine-tuned models and save their graphs\n",
        "# Train using node-level output for classification\n",
        "for epoch in range(50):\n",
        "    model.train()\n",
        "    optimizer.zero_grad()\n",
        "\n",
        "    x = F.relu(model.conv1(data.x, data.edge_index))\n",
        "    out = model.conv2(x, data.edge_index)  # shape: [2708, 7]\n",
        "\n",
        "    loss = F.cross_entropy(out[data.train_mask], data.y[data.train_mask])\n",
        "    loss.backward()\n",
        "    optimizer.step()\n",
        "\n",
        "    # Save model\n",
        "    model_path = os.path.join(save_dir, f\"ft_{i:03d}.pth\")\n",
        "    torch.save(model.state_dict(), model_path)\n",
        "\n",
        "    # Save graph\n",
        "    graph_path = os.path.join(save_dir, f\"ft_{i:03d}.pt\")\n",
        "    torch.save(data, graph_path)\n",
        "\n",
        "    print(f\"✅ Saved ft_{i:03d}.pth and .pt\")\n"
      ],
      "metadata": {
        "colab": {
          "base_uri": "https://localhost:8080/"
        },
        "id": "6Hzz6PuQRjyU",
        "outputId": "fde6c999-dc82-426a-8a46-fdeef143708e"
      },
      "execution_count": null,
      "outputs": [
        {
          "output_type": "stream",
          "name": "stdout",
          "text": [
            "✅ Saved ft_000.pth and .pt\n",
            "✅ Saved ft_000.pth and .pt\n",
            "✅ Saved ft_000.pth and .pt\n",
            "✅ Saved ft_000.pth and .pt\n",
            "✅ Saved ft_000.pth and .pt\n",
            "✅ Saved ft_000.pth and .pt\n",
            "✅ Saved ft_000.pth and .pt\n",
            "✅ Saved ft_000.pth and .pt\n",
            "✅ Saved ft_000.pth and .pt\n",
            "✅ Saved ft_000.pth and .pt\n",
            "✅ Saved ft_000.pth and .pt\n",
            "✅ Saved ft_000.pth and .pt\n",
            "✅ Saved ft_000.pth and .pt\n",
            "✅ Saved ft_000.pth and .pt\n",
            "✅ Saved ft_000.pth and .pt\n",
            "✅ Saved ft_000.pth and .pt\n",
            "✅ Saved ft_000.pth and .pt\n",
            "✅ Saved ft_000.pth and .pt\n",
            "✅ Saved ft_000.pth and .pt\n",
            "✅ Saved ft_000.pth and .pt\n",
            "✅ Saved ft_000.pth and .pt\n",
            "✅ Saved ft_000.pth and .pt\n",
            "✅ Saved ft_000.pth and .pt\n",
            "✅ Saved ft_000.pth and .pt\n",
            "✅ Saved ft_000.pth and .pt\n",
            "✅ Saved ft_000.pth and .pt\n",
            "✅ Saved ft_000.pth and .pt\n",
            "✅ Saved ft_000.pth and .pt\n",
            "✅ Saved ft_000.pth and .pt\n",
            "✅ Saved ft_000.pth and .pt\n",
            "✅ Saved ft_000.pth and .pt\n",
            "✅ Saved ft_000.pth and .pt\n",
            "✅ Saved ft_000.pth and .pt\n",
            "✅ Saved ft_000.pth and .pt\n",
            "✅ Saved ft_000.pth and .pt\n",
            "✅ Saved ft_000.pth and .pt\n",
            "✅ Saved ft_000.pth and .pt\n",
            "✅ Saved ft_000.pth and .pt\n",
            "✅ Saved ft_000.pth and .pt\n",
            "✅ Saved ft_000.pth and .pt\n",
            "✅ Saved ft_000.pth and .pt\n",
            "✅ Saved ft_000.pth and .pt\n",
            "✅ Saved ft_000.pth and .pt\n",
            "✅ Saved ft_000.pth and .pt\n",
            "✅ Saved ft_000.pth and .pt\n",
            "✅ Saved ft_000.pth and .pt\n",
            "✅ Saved ft_000.pth and .pt\n",
            "✅ Saved ft_000.pth and .pt\n",
            "✅ Saved ft_000.pth and .pt\n",
            "✅ Saved ft_000.pth and .pt\n"
          ]
        }
      ]
    },
    {
      "cell_type": "code",
      "source": [
        "from tqdm import tqdm\n",
        "\n",
        "device = 'cuda' if torch.cuda.is_available() else 'cpu'\n",
        "\n",
        "all_features = []\n",
        "labels = []\n",
        "\n",
        "model_dir = \"/content/drive/MyDrive/gnnfingers/variants/ENZ_GCNMean\"\n",
        "\n",
        "for i in tqdm(range(30)):\n",
        "    model_path = os.path.join(model_dir, f\"ft_{i:03d}.pth\")\n",
        "    graph_path = os.path.join(model_dir, f\"ft_{i:03d}.pt\")\n",
        "\n",
        "    try:\n",
        "        model = GCNMean(1433, 64, 7).to(device)\n",
        "        model.load_state_dict(torch.load(model_path, map_location=device), strict=False)\n",
        "        model.eval()\n",
        "\n",
        "        graph = torch.load(graph_path).to(device)\n",
        "\n",
        "        with torch.no_grad():\n",
        "            x = F.relu(model.conv1(graph.x, graph.edge_index))\n",
        "            x = model.conv2(x, graph.edge_index)\n",
        "            batch = graph.batch if hasattr(graph, 'batch') else torch.zeros(x.size(0), dtype=torch.long, device=x.device)\n",
        "            pooled = global_mean_pool(x, batch)\n",
        "            all_features.append(pooled.cpu())\n",
        "            labels.append(1)\n",
        "\n",
        "        print(f\"✅ Processed ft_{i:03d}\")\n",
        "\n",
        "    except Exception as e:\n",
        "        print(f\"⚠️ Error in ft_{i:03d}: {e}\")\n",
        "\n",
        "# Save the fingerprints and labels\n",
        "fingerprints = torch.cat(all_features, dim=0)\n",
        "labels = torch.tensor(labels)\n",
        "\n",
        "torch.save(fingerprints, os.path.join(model_dir, \"Cora_GCNMean_ft_only.pt\"))\n",
        "torch.save(labels, os.path.join(model_dir, \"Cora_GCNMean_ft_labels.pt\"))\n",
        "\n",
        "print(f\"✅ Saved fingerprints with shape: {fingerprints.shape}\")\n"
      ],
      "metadata": {
        "colab": {
          "base_uri": "https://localhost:8080/"
        },
        "id": "4HDZLqERXBMU",
        "outputId": "a1d3c51d-1161-4159-d620-a8004bb53a41"
      },
      "execution_count": null,
      "outputs": [
        {
          "output_type": "stream",
          "name": "stderr",
          "text": [
            " 30%|███       | 9/30 [00:00<00:00, 38.51it/s]"
          ]
        },
        {
          "output_type": "stream",
          "name": "stdout",
          "text": [
            "✅ Processed ft_000\n",
            "⚠️ Error in ft_001: [Errno 2] No such file or directory: '/content/drive/MyDrive/gnnfingers/variants/ENZ_GCNMean/ft_001.pth'\n",
            "⚠️ Error in ft_002: [Errno 2] No such file or directory: '/content/drive/MyDrive/gnnfingers/variants/ENZ_GCNMean/ft_002.pth'\n",
            "⚠️ Error in ft_003: [Errno 2] No such file or directory: '/content/drive/MyDrive/gnnfingers/variants/ENZ_GCNMean/ft_003.pth'\n",
            "⚠️ Error in ft_004: [Errno 2] No such file or directory: '/content/drive/MyDrive/gnnfingers/variants/ENZ_GCNMean/ft_004.pth'\n",
            "⚠️ Error in ft_005: [Errno 2] No such file or directory: '/content/drive/MyDrive/gnnfingers/variants/ENZ_GCNMean/ft_005.pth'\n",
            "⚠️ Error in ft_006: [Errno 2] No such file or directory: '/content/drive/MyDrive/gnnfingers/variants/ENZ_GCNMean/ft_006.pth'\n",
            "⚠️ Error in ft_007: [Errno 2] No such file or directory: '/content/drive/MyDrive/gnnfingers/variants/ENZ_GCNMean/ft_007.pth'\n",
            "⚠️ Error in ft_008: [Errno 2] No such file or directory: '/content/drive/MyDrive/gnnfingers/variants/ENZ_GCNMean/ft_008.pth'\n",
            "⚠️ Error in ft_009: [Errno 2] No such file or directory: '/content/drive/MyDrive/gnnfingers/variants/ENZ_GCNMean/ft_009.pth'\n",
            "⚠️ Error in ft_010: [Errno 2] No such file or directory: '/content/drive/MyDrive/gnnfingers/variants/ENZ_GCNMean/ft_010.pth'\n",
            "⚠️ Error in ft_011: [Errno 2] No such file or directory: '/content/drive/MyDrive/gnnfingers/variants/ENZ_GCNMean/ft_011.pth'\n",
            "⚠️ Error in ft_012: [Errno 2] No such file or directory: '/content/drive/MyDrive/gnnfingers/variants/ENZ_GCNMean/ft_012.pth'\n",
            "⚠️ Error in ft_013: [Errno 2] No such file or directory: '/content/drive/MyDrive/gnnfingers/variants/ENZ_GCNMean/ft_013.pth'\n"
          ]
        },
        {
          "output_type": "stream",
          "name": "stderr",
          "text": [
            " 77%|███████▋  | 23/30 [00:00<00:00, 53.57it/s]"
          ]
        },
        {
          "output_type": "stream",
          "name": "stdout",
          "text": [
            "⚠️ Error in ft_014: [Errno 2] No such file or directory: '/content/drive/MyDrive/gnnfingers/variants/ENZ_GCNMean/ft_014.pth'\n",
            "⚠️ Error in ft_015: [Errno 2] No such file or directory: '/content/drive/MyDrive/gnnfingers/variants/ENZ_GCNMean/ft_015.pth'\n",
            "⚠️ Error in ft_016: [Errno 2] No such file or directory: '/content/drive/MyDrive/gnnfingers/variants/ENZ_GCNMean/ft_016.pth'\n",
            "⚠️ Error in ft_017: [Errno 2] No such file or directory: '/content/drive/MyDrive/gnnfingers/variants/ENZ_GCNMean/ft_017.pth'\n",
            "⚠️ Error in ft_018: [Errno 2] No such file or directory: '/content/drive/MyDrive/gnnfingers/variants/ENZ_GCNMean/ft_018.pth'\n",
            "⚠️ Error in ft_019: [Errno 2] No such file or directory: '/content/drive/MyDrive/gnnfingers/variants/ENZ_GCNMean/ft_019.pth'\n",
            "⚠️ Error in ft_020: [Errno 2] No such file or directory: '/content/drive/MyDrive/gnnfingers/variants/ENZ_GCNMean/ft_020.pth'\n",
            "⚠️ Error in ft_021: [Errno 2] No such file or directory: '/content/drive/MyDrive/gnnfingers/variants/ENZ_GCNMean/ft_021.pth'\n",
            "⚠️ Error in ft_022: [Errno 2] No such file or directory: '/content/drive/MyDrive/gnnfingers/variants/ENZ_GCNMean/ft_022.pth'\n",
            "⚠️ Error in ft_023: [Errno 2] No such file or directory: '/content/drive/MyDrive/gnnfingers/variants/ENZ_GCNMean/ft_023.pth'\n",
            "⚠️ Error in ft_024: [Errno 2] No such file or directory: '/content/drive/MyDrive/gnnfingers/variants/ENZ_GCNMean/ft_024.pth'\n",
            "⚠️ Error in ft_025: [Errno 2] No such file or directory: '/content/drive/MyDrive/gnnfingers/variants/ENZ_GCNMean/ft_025.pth'\n",
            "⚠️ Error in ft_026: [Errno 2] No such file or directory: '/content/drive/MyDrive/gnnfingers/variants/ENZ_GCNMean/ft_026.pth'\n",
            "⚠️ Error in ft_027: [Errno 2] No such file or directory: '/content/drive/MyDrive/gnnfingers/variants/ENZ_GCNMean/ft_027.pth'\n"
          ]
        },
        {
          "output_type": "stream",
          "name": "stderr",
          "text": [
            "\r100%|██████████| 30/30 [00:00<00:00, 50.21it/s]\n"
          ]
        },
        {
          "output_type": "stream",
          "name": "stdout",
          "text": [
            "⚠️ Error in ft_028: [Errno 2] No such file or directory: '/content/drive/MyDrive/gnnfingers/variants/ENZ_GCNMean/ft_028.pth'\n",
            "⚠️ Error in ft_029: [Errno 2] No such file or directory: '/content/drive/MyDrive/gnnfingers/variants/ENZ_GCNMean/ft_029.pth'\n",
            "✅ Saved fingerprints with shape: torch.Size([1, 7])\n"
          ]
        }
      ]
    },
    {
      "cell_type": "code",
      "source": [
        "from torch_geometric.datasets import Planetoid\n",
        "from torch_geometric.nn import GCNConv, global_mean_pool\n",
        "import torch.nn.functional as F\n",
        "import torch.nn as nn\n",
        "import torch\n",
        "import os\n",
        "from tqdm import tqdm\n",
        "\n",
        "# Model definition\n",
        "class GCNMean(nn.Module):\n",
        "    def __init__(self, in_channels, hidden_channels, out_channels):\n",
        "        super().__init__()\n",
        "        self.conv1 = GCNConv(in_channels, hidden_channels)\n",
        "        self.conv2 = GCNConv(hidden_channels, out_channels)\n",
        "\n",
        "    def forward(self, data):\n",
        "        x = F.relu(self.conv1(data.x, data.edge_index))\n",
        "        x = self.conv2(x, data.edge_index)\n",
        "        return x\n",
        "\n",
        "# Detect device\n",
        "device = torch.device(\"cuda\" if torch.cuda.is_available() else \"cpu\")\n",
        "print(f\"Using device: {device}\")\n",
        "\n",
        "# Load dataset\n",
        "dataset = Planetoid(root='/tmp/Cora', name='Cora')\n",
        "data = dataset[0].to(device)\n",
        "\n",
        "# Save location\n",
        "save_dir = \"/content/drive/MyDrive/gnnfingers/variants/ENZ_GCNMean\"\n",
        "os.makedirs(save_dir, exist_ok=True)\n",
        "\n",
        "# Train and save 30 fine-tuned models and graphs\n",
        "for i in tqdm(range(30)):\n",
        "    model = GCNMean(dataset.num_node_features, 64, dataset.num_classes).to(device)\n",
        "    optimizer = torch.optim.Adam(model.parameters(), lr=0.01, weight_decay=5e-4)\n",
        "\n",
        "    model.train()\n",
        "    for epoch in range(30):\n",
        "        optimizer.zero_grad()\n",
        "        out = model(data)\n",
        "        loss = F.cross_entropy(out[data.train_mask], data.y[data.train_mask])\n",
        "        loss.backward()\n",
        "        optimizer.step()\n",
        "\n",
        "    # Save model + graph\n",
        "    torch.save(model.state_dict(), os.path.join(save_dir, f\"ft_{i:03d}.pth\"))\n",
        "    torch.save(data.cpu(), os.path.join(save_dir, f\"ft_{i:03d}.pt\"))\n"
      ],
      "metadata": {
        "colab": {
          "base_uri": "https://localhost:8080/"
        },
        "id": "xKBVy7HGYoBS",
        "outputId": "02d1ba5b-3464-4a76-aa26-f62e42763f80"
      },
      "execution_count": null,
      "outputs": [
        {
          "output_type": "stream",
          "name": "stdout",
          "text": [
            "Using device: cpu\n"
          ]
        },
        {
          "output_type": "stream",
          "name": "stderr",
          "text": [
            "100%|██████████| 30/30 [00:40<00:00,  1.36s/it]\n"
          ]
        }
      ]
    },
    {
      "cell_type": "code",
      "source": [
        "import torch\n",
        "import os\n",
        "from tqdm import tqdm\n",
        "from torch_geometric.nn import global_mean_pool\n",
        "from torch_geometric.data import Data\n",
        "import torch.nn.functional as F\n",
        "import torch.nn as nn\n",
        "from torch_geometric.nn import GCNConv\n",
        "\n",
        "# Define GCNMean again\n",
        "class GCNMean(nn.Module):\n",
        "    def __init__(self, in_channels, hidden_channels, out_channels):\n",
        "        super().__init__()\n",
        "        self.conv1 = GCNConv(in_channels, hidden_channels)\n",
        "        self.conv2 = GCNConv(hidden_channels, out_channels)\n",
        "\n",
        "    def forward(self, data):\n",
        "        x = F.relu(self.conv1(data.x, data.edge_index))\n",
        "        x = self.conv2(x, data.edge_index)\n",
        "        return x\n",
        "\n",
        "    def pooled_output(self, data):\n",
        "        x = F.relu(self.conv1(data.x, data.edge_index))\n",
        "        x = self.conv2(x, data.edge_index)\n",
        "        batch = data.batch if hasattr(data, 'batch') else torch.zeros(x.size(0), dtype=torch.long, device=x.device)\n",
        "        return global_mean_pool(x, batch)\n",
        "\n",
        "# Set device\n",
        "device = torch.device(\"cuda\" if torch.cuda.is_available() else \"cpu\")\n",
        "\n",
        "# Path setup\n",
        "variant_dir = \"/content/drive/MyDrive/gnnfingers/variants/ENZ_GCNMean\"\n",
        "model_files = sorted([f for f in os.listdir(variant_dir) if f.startswith(\"ft_\") and f.endswith(\".pth\")])\n",
        "graph_files = sorted([f for f in os.listdir(variant_dir) if f.startswith(\"ft_\") and f.endswith(\".pt\")])\n",
        "\n",
        "# Setup\n",
        "fingerprints = []\n",
        "labels = []\n",
        "\n",
        "for i in tqdm(range(len(model_files))):\n",
        "    model_path = os.path.join(variant_dir, model_files[i])\n",
        "    graph_path = os.path.join(variant_dir, graph_files[i])\n",
        "\n",
        "    try:\n",
        "        model = GCNMean(1433, 64, 7).to(device)  # Cora dimensions\n",
        "        model.load_state_dict(torch.load(model_path, map_location=device))\n",
        "        model.eval()\n",
        "\n",
        "        data = torch.load(graph_path).to(device)\n",
        "        with torch.no_grad():\n",
        "            fp = model.pooled_output(data)\n",
        "            fingerprints.append(fp.cpu())\n",
        "            labels.append(1)  # label 1 = positive (ft variant)\n",
        "\n",
        "    except Exception as e:\n",
        "        print(f\"⚠️ Error in {model_files[i]}: {e}\")\n",
        "\n",
        "# Save results\n",
        "fingerprints = torch.cat(fingerprints, dim=0)\n",
        "labels = torch.tensor(labels)\n",
        "\n",
        "torch.save(fingerprints, \"/content/drive/MyDrive/gnnfingers/fingerprints/Cora_GCNMean_ft_only.pt\")\n",
        "torch.save(labels, \"/content/drive/MyDrive/gnnfingers/fingerprints/Cora_GCNMean_ft_labels.pt\")\n",
        "\n",
        "print(f\"✅ Saved fingerprints with shape: {fingerprints.shape}\")\n"
      ],
      "metadata": {
        "colab": {
          "base_uri": "https://localhost:8080/"
        },
        "id": "j70WVjF2ZlSv",
        "outputId": "c86d432a-4df1-4dd4-aa85-a2315171e954"
      },
      "execution_count": null,
      "outputs": [
        {
          "output_type": "stream",
          "name": "stderr",
          "text": [
            "100%|██████████| 30/30 [00:02<00:00, 10.95it/s]"
          ]
        },
        {
          "output_type": "stream",
          "name": "stdout",
          "text": [
            "✅ Saved fingerprints with shape: torch.Size([30, 7])\n"
          ]
        },
        {
          "output_type": "stream",
          "name": "stderr",
          "text": [
            "\n"
          ]
        }
      ]
    },
    {
      "cell_type": "code",
      "source": [
        "import torch\n",
        "from tqdm import tqdm\n",
        "from torch_geometric.datasets import Planetoid\n",
        "from torch_geometric.nn import global_mean_pool\n",
        "from torch_geometric.data import Data\n",
        "import torch.nn.functional as F\n",
        "import torch.nn as nn\n",
        "from torch_geometric.nn import GCNConv\n",
        "\n",
        "# GCNMean model (same as before)\n",
        "class GCNMean(nn.Module):\n",
        "    def __init__(self, in_channels, hidden_channels, out_channels):\n",
        "        super().__init__()\n",
        "        self.conv1 = GCNConv(in_channels, hidden_channels)\n",
        "        self.conv2 = GCNConv(hidden_channels, out_channels)\n",
        "\n",
        "    def forward(self, data):\n",
        "        x = F.relu(self.conv1(data.x, data.edge_index))\n",
        "        x = self.conv2(x, data.edge_index)\n",
        "        return x\n",
        "\n",
        "    def pooled_output(self, data):\n",
        "        x = F.relu(self.conv1(data.x, data.edge_index))\n",
        "        x = self.conv2(x, data.edge_index)\n",
        "        batch = data.batch if hasattr(data, 'batch') else torch.zeros(x.size(0), dtype=torch.long, device=x.device)\n",
        "        return global_mean_pool(x, batch)\n",
        "\n",
        "# Load Cora graph\n",
        "dataset = Planetoid(root='/tmp/Cora', name='Cora')\n",
        "cora_data = dataset[0]\n",
        "\n",
        "# Set device\n",
        "device = torch.device(\"cuda\" if torch.cuda.is_available() else \"cpu\")\n",
        "cora_data = cora_data.to(device)\n",
        "\n",
        "# Generate 30 random GCNMean fingerprints\n",
        "neg_fps_random = []\n",
        "\n",
        "for _ in tqdm(range(30)):\n",
        "    model = GCNMean(1433, 64, 7).to(device)\n",
        "    model.eval()\n",
        "    with torch.no_grad():\n",
        "        fp = model.pooled_output(cora_data)\n",
        "        neg_fps_random.append(fp.cpu())\n",
        "\n",
        "neg_fps_random = torch.cat(neg_fps_random, dim=0)\n",
        "neg_labels_random = torch.zeros(30)\n",
        "\n",
        "torch.save(neg_fps_random, \"/content/drive/MyDrive/gnnfingers/fingerprints/Cora_GCNMean_neg_random.pt\")\n",
        "torch.save(neg_labels_random, \"/content/drive/MyDrive/gnnfingers/fingerprints/Cora_GCNMean_neg_random_labels.pt\")\n",
        "print(\"✅ Saved 30 random negative fingerprints.\")\n"
      ],
      "metadata": {
        "colab": {
          "base_uri": "https://localhost:8080/"
        },
        "id": "BV5qzfaDZ2pB",
        "outputId": "f78b0343-87e3-4644-abc9-8d91f05c4048"
      },
      "execution_count": null,
      "outputs": [
        {
          "output_type": "stream",
          "name": "stderr",
          "text": [
            "100%|██████████| 30/30 [00:01<00:00, 24.48it/s]"
          ]
        },
        {
          "output_type": "stream",
          "name": "stdout",
          "text": [
            "✅ Saved 30 random negative fingerprints.\n"
          ]
        },
        {
          "output_type": "stream",
          "name": "stderr",
          "text": [
            "\n"
          ]
        }
      ]
    },
    {
      "cell_type": "code",
      "source": [
        "from torch_geometric.datasets import TUDataset\n",
        "\n",
        "# Load 30 PROTEINS graphs\n",
        "proteins = TUDataset(root='/tmp/PROTEINS', name='PROTEINS')\n",
        "neg_fps_proteins = []\n",
        "\n",
        "model = GCNMean(proteins.num_node_features, 64, 2).to(device)\n",
        "model.eval()\n",
        "\n",
        "for i in tqdm(range(30)):\n",
        "    g = proteins[i].to(device)\n",
        "    with torch.no_grad():\n",
        "        fp = model.pooled_output(g)\n",
        "        neg_fps_proteins.append(fp.cpu())\n",
        "\n",
        "neg_fps_proteins = torch.cat(neg_fps_proteins, dim=0)\n",
        "neg_labels_proteins = torch.zeros(30)\n",
        "\n",
        "torch.save(neg_fps_proteins, \"/content/drive/MyDrive/gnnfingers/fingerprints/GCNMean_neg_proteins.pt\")\n",
        "torch.save(neg_labels_proteins, \"/content/drive/MyDrive/gnnfingers/fingerprints/GCNMean_neg_proteins_labels.pt\")\n",
        "print(\"✅ Saved 30 irrelevant-graph negative fingerprints.\")\n"
      ],
      "metadata": {
        "colab": {
          "base_uri": "https://localhost:8080/"
        },
        "id": "d5_-NU8vZ5Np",
        "outputId": "1de9e9be-70c0-474d-ec20-353bd30a5c38"
      },
      "execution_count": null,
      "outputs": [
        {
          "output_type": "stream",
          "name": "stderr",
          "text": [
            "Downloading https://www.chrsmrrs.com/graphkerneldatasets/PROTEINS.zip\n",
            "Processing...\n",
            "Done!\n",
            "100%|██████████| 30/30 [00:00<00:00, 408.40it/s]"
          ]
        },
        {
          "output_type": "stream",
          "name": "stdout",
          "text": [
            "✅ Saved 30 irrelevant-graph negative fingerprints.\n"
          ]
        },
        {
          "output_type": "stream",
          "name": "stderr",
          "text": [
            "\n"
          ]
        }
      ]
    },
    {
      "cell_type": "code",
      "source": [
        "class Univerifier(nn.Module):\n",
        "    def __init__(self, input_dim):\n",
        "        super().__init__()\n",
        "        self.net = nn.Sequential(\n",
        "            nn.Linear(input_dim, 32),\n",
        "            nn.ReLU(),\n",
        "            nn.Linear(32, 1)\n",
        "        )\n",
        "\n",
        "    def forward(self, x):\n",
        "        return self.net(x)\n"
      ],
      "metadata": {
        "id": "R9CJrFyEZ8iw"
      },
      "execution_count": null,
      "outputs": []
    },
    {
      "cell_type": "code",
      "source": [
        "print(\"Positive fingerprint shape:\", pos_fp.shape)\n",
        "print(\"Random negative fingerprint shape:\", neg_fp_random.shape)\n",
        "print(\"Proteins negative fingerprint shape:\", neg_fp_proteins.shape)\n"
      ],
      "metadata": {
        "colab": {
          "base_uri": "https://localhost:8080/"
        },
        "id": "7P6wdrGraLha",
        "outputId": "4d9dd0a1-5aa2-4ea1-8b2c-2ef0e683efb5"
      },
      "execution_count": null,
      "outputs": [
        {
          "output_type": "stream",
          "name": "stdout",
          "text": [
            "Positive fingerprint shape: torch.Size([30, 7])\n",
            "Random negative fingerprint shape: torch.Size([30, 7])\n",
            "Proteins negative fingerprint shape: torch.Size([30, 2])\n"
          ]
        }
      ]
    },
    {
      "cell_type": "code",
      "source": [
        "import torch\n",
        "import torch.nn as nn\n",
        "import torch.nn.functional as F\n",
        "from torch_geometric.nn import GCNConv, global_mean_pool\n",
        "\n",
        "# GCNMean Model (used for Cora and Proteins)\n",
        "class GCNMean(nn.Module):\n",
        "    def __init__(self, in_channels, hidden_channels, out_channels):\n",
        "        super(GCNMean, self).__init__()\n",
        "        self.conv1 = GCNConv(in_channels, hidden_channels)\n",
        "        self.conv2 = GCNConv(hidden_channels, out_channels)\n",
        "        self.dropout = 0.5\n",
        "\n",
        "    def forward(self, x, edge_index, batch=None):\n",
        "        x = F.relu(self.conv1(x, edge_index))\n",
        "        x = F.dropout(x, p=self.dropout, training=self.training)\n",
        "        x = self.conv2(x, edge_index)\n",
        "        if batch is not None:\n",
        "            x = global_mean_pool(x, batch)\n",
        "        return x\n",
        "\n",
        "# FingerprintNetMLP used for mapping pooled embeddings to fingerprints\n",
        "class FingerprintNetMLP(nn.Module):\n",
        "    def __init__(self, in_dim=7, out_dim=7):  # default for Cora\n",
        "        super(FingerprintNetMLP, self).__init__()\n",
        "        self.net = nn.Sequential(\n",
        "            nn.Linear(in_dim, 128),\n",
        "            nn.ReLU(),\n",
        "            nn.Linear(128, out_dim)\n",
        "        )\n",
        "\n",
        "    def forward(self, x):\n",
        "        return self.net(x)\n"
      ],
      "metadata": {
        "id": "69pPCoaYaXeb"
      },
      "execution_count": null,
      "outputs": []
    },
    {
      "cell_type": "code",
      "source": [
        "with open(\"/content/drive/MyDrive/gnnfingers/models.py\", \"r\") as f:\n",
        "    print(f.read())\n"
      ],
      "metadata": {
        "colab": {
          "base_uri": "https://localhost:8080/"
        },
        "id": "gNgpLpmqcwPd",
        "outputId": "41191dd6-2ee1-41ea-abbc-6282135e0679"
      },
      "execution_count": null,
      "outputs": [
        {
          "output_type": "stream",
          "name": "stdout",
          "text": [
            "\n",
            "import torch\n",
            "import torch.nn as nn\n",
            "import torch.nn.functional as F\n",
            "from torch_geometric.nn import SAGEConv, global_mean_pool\n",
            "\n",
            "class SAGEMean(nn.Module):\n",
            "    def __init__(self, in_channels=1433, hidden_channels=128, out_channels=7, dropout=0.5):\n",
            "        super(SAGEMean, self).__init__()\n",
            "        self.conv1 = SAGEConv(in_channels, hidden_channels)\n",
            "        self.conv2 = SAGEConv(hidden_channels, hidden_channels)\n",
            "        self.dropout = dropout\n",
            "        self.classifier = nn.Linear(hidden_channels, out_channels)\n",
            "\n",
            "    def forward(self, x, edge_index, batch=None):\n",
            "        x = self.conv1(x, edge_index)\n",
            "        x = F.relu(x)\n",
            "        x = F.dropout(x, p=self.dropout, training=self.training)\n",
            "        x = self.conv2(x, edge_index)\n",
            "        if batch is not None:\n",
            "            x = global_mean_pool(x, batch)\n",
            "        return self.classifier(x)\n",
            "\n",
            "class FingerprintNetMLP(nn.Module):\n",
            "    def __init__(self, input_dim=128, hidden_dim=64):\n",
            "        super(FingerprintNetMLP, self).__init__()\n",
            "        self.mlp = nn.Sequential(\n",
            "            nn.Linear(input_dim, hidden_dim),\n",
            "            nn.ReLU(),\n",
            "            nn.Linear(hidden_dim, 2)\n",
            "        )\n",
            "\n",
            "    def forward(self, x):\n",
            "        return self.mlp(x)\n",
            "\n"
          ]
        }
      ]
    },
    {
      "cell_type": "code",
      "source": [
        "from models import SAGEMean, FingerprintNetMLP\n",
        "\n"
      ],
      "metadata": {
        "id": "7cYRiZkIcqjl"
      },
      "execution_count": null,
      "outputs": []
    },
    {
      "cell_type": "code",
      "source": [
        "from torch_geometric.nn import GCNConv\n",
        "\n",
        "class GCNMean(nn.Module):\n",
        "    def __init__(self, in_channels=1433, hidden_channels=128, out_channels=7, dropout=0.5):\n",
        "        super(GCNMean, self).__init__()\n",
        "        self.conv1 = GCNConv(in_channels, hidden_channels)\n",
        "        self.conv2 = GCNConv(hidden_channels, hidden_channels)\n",
        "        self.dropout = dropout\n",
        "        self.classifier = nn.Linear(hidden_channels, out_channels)\n",
        "\n",
        "    def forward(self, x, edge_index, batch=None):\n",
        "        x = self.conv1(x, edge_index)\n",
        "        x = F.relu(x)\n",
        "        x = F.dropout(x, p=self.dropout, training=self.training)\n",
        "        x = self.conv2(x, edge_index)\n",
        "        if batch is not None:\n",
        "            x = global_mean_pool(x, batch)\n",
        "        return self.classifier(x)\n"
      ],
      "metadata": {
        "id": "24VAczukc__g"
      },
      "execution_count": null,
      "outputs": []
    },
    {
      "cell_type": "code",
      "source": [
        "from google.colab import drive\n",
        "drive.mount('/content/drive')\n"
      ],
      "metadata": {
        "colab": {
          "base_uri": "https://localhost:8080/"
        },
        "id": "9gQa-aUFdK1B",
        "outputId": "2a5669b9-4326-4524-d81c-f6704621830c"
      },
      "execution_count": null,
      "outputs": [
        {
          "output_type": "stream",
          "name": "stdout",
          "text": [
            "Drive already mounted at /content/drive; to attempt to forcibly remount, call drive.mount(\"/content/drive\", force_remount=True).\n"
          ]
        }
      ]
    },
    {
      "cell_type": "code",
      "source": [
        "import sys\n",
        "sys.path.append('/content/drive/MyDrive/gnnfingers')\n"
      ],
      "metadata": {
        "id": "mRJjbojLdOEH"
      },
      "execution_count": null,
      "outputs": []
    },
    {
      "cell_type": "code",
      "source": [
        "# Check the exact file path and contents\n",
        "!ls /content/drive/MyDrive/gnnfingers/\n",
        "!cat /content/drive/MyDrive/gnnfingers/models.py\n"
      ],
      "metadata": {
        "colab": {
          "base_uri": "https://localhost:8080/"
        },
        "id": "IjJF39tvdUWA",
        "outputId": "6e8acc6b-869c-4408-cf3e-a3ec00c1ea4c"
      },
      "execution_count": null,
      "outputs": [
        {
          "output_type": "stream",
          "name": "stdout",
          "text": [
            "ARUC_ENZ_GCNMean_Q200.png  ENZYMES\t models.py  __pycache__  variants\n",
            "checkpoints\t\t   fingerprints  PROTEINS   utils.py\t victims\n",
            "\n",
            "import torch\n",
            "import torch.nn as nn\n",
            "import torch.nn.functional as F\n",
            "from torch_geometric.nn import SAGEConv, global_mean_pool\n",
            "\n",
            "class SAGEMean(nn.Module):\n",
            "    def __init__(self, in_channels=1433, hidden_channels=128, out_channels=7, dropout=0.5):\n",
            "        super(SAGEMean, self).__init__()\n",
            "        self.conv1 = SAGEConv(in_channels, hidden_channels)\n",
            "        self.conv2 = SAGEConv(hidden_channels, hidden_channels)\n",
            "        self.dropout = dropout\n",
            "        self.classifier = nn.Linear(hidden_channels, out_channels)\n",
            "\n",
            "    def forward(self, x, edge_index, batch=None):\n",
            "        x = self.conv1(x, edge_index)\n",
            "        x = F.relu(x)\n",
            "        x = F.dropout(x, p=self.dropout, training=self.training)\n",
            "        x = self.conv2(x, edge_index)\n",
            "        if batch is not None:\n",
            "            x = global_mean_pool(x, batch)\n",
            "        return self.classifier(x)\n",
            "\n",
            "class FingerprintNetMLP(nn.Module):\n",
            "    def __init__(self, input_dim=128, hidden_dim=64):\n",
            "        super(FingerprintNetMLP, self).__init__()\n",
            "        self.mlp = nn.Sequential(\n",
            "            nn.Linear(input_dim, hidden_dim),\n",
            "            nn.ReLU(),\n",
            "            nn.Linear(hidden_dim, 2)\n",
            "        )\n",
            "\n",
            "    def forward(self, x):\n",
            "        return self.mlp(x)\n"
          ]
        }
      ]
    },
    {
      "cell_type": "code",
      "source": [
        "from models import SAGEMean, FingerprintNetMLP\n",
        "\n"
      ],
      "metadata": {
        "id": "zGMbS-9LdCnh"
      },
      "execution_count": null,
      "outputs": []
    },
    {
      "cell_type": "code",
      "source": [
        "from torch_geometric.nn import GCNConv\n",
        "\n",
        "class GCNMean(nn.Module):\n",
        "    def __init__(self, in_channels=1433, hidden_channels=128, out_channels=7, dropout=0.5):\n",
        "        super(GCNMean, self).__init__()\n",
        "        self.conv1 = GCNConv(in_channels, hidden_channels)\n",
        "        self.conv2 = GCNConv(hidden_channels, hidden_channels)\n",
        "        self.dropout = dropout\n",
        "        self.classifier = nn.Linear(hidden_channels, out_channels)\n",
        "\n",
        "    def forward(self, x, edge_index, batch=None):\n",
        "        x = self.conv1(x, edge_index)\n",
        "        x = F.relu(x)\n",
        "        x = F.dropout(x, p=self.dropout, training=self.training)\n",
        "        x = self.conv2(x, edge_index)\n",
        "        if batch is not None:\n",
        "            x = global_mean_pool(x, batch)\n",
        "        return self.classifier(x)\n"
      ],
      "metadata": {
        "id": "Cr-YwWpwdpGi"
      },
      "execution_count": null,
      "outputs": []
    },
    {
      "cell_type": "code",
      "source": [
        "model = GCNMean()\n",
        "print(model)\n"
      ],
      "metadata": {
        "colab": {
          "base_uri": "https://localhost:8080/"
        },
        "id": "isE1Zo7PeGuk",
        "outputId": "d4d90ff9-8e6a-43fd-c48c-fdbd59541c33"
      },
      "execution_count": null,
      "outputs": [
        {
          "output_type": "stream",
          "name": "stdout",
          "text": [
            "GCNMean(\n",
            "  (conv1): GCNConv(1433, 128)\n",
            "  (conv2): GCNConv(128, 128)\n",
            "  (classifier): Linear(in_features=128, out_features=7, bias=True)\n",
            ")\n"
          ]
        }
      ]
    },
    {
      "cell_type": "code",
      "source": [
        "import torch\n",
        "import torch.nn as nn\n",
        "import torch.nn.functional as F\n",
        "from torch_geometric.nn import GCNConv, SAGEConv, global_mean_pool\n",
        "\n",
        "# ────────────────────────────────────────\n",
        "# GCNMean Model (used for Cora)\n",
        "# ────────────────────────────────────────\n",
        "class GCNMean(nn.Module):\n",
        "    def __init__(self, in_channels=1433, hidden_channels=128, out_channels=7, dropout=0.5):\n",
        "        super(GCNMean, self).__init__()\n",
        "        self.conv1 = GCNConv(in_channels, hidden_channels)\n",
        "        self.conv2 = GCNConv(hidden_channels, hidden_channels)\n",
        "        self.dropout = dropout\n",
        "        self.classifier = nn.Linear(hidden_channels, out_channels)\n",
        "\n",
        "    def forward(self, x, edge_index, batch=None):\n",
        "        x = self.conv1(x, edge_index)\n",
        "        x = F.relu(x)\n",
        "        x = F.dropout(x, p=self.dropout, training=self.training)\n",
        "        x = self.conv2(x, edge_index)\n",
        "        if batch is not None:\n",
        "            x = global_mean_pool(x, batch)\n",
        "        return self.classifier(x)\n",
        "\n",
        "# ────────────────────────────────────────\n",
        "# SAGEMean Model (used for other variants)\n",
        "# ────────────────────────────────────────\n",
        "class SAGEMean(nn.Module):\n",
        "    def __init__(self, in_channels=1433, hidden_channels=128, out_channels=7, dropout=0.5):\n",
        "        super(SAGEMean, self).__init__()\n",
        "        self.conv1 = SAGEConv(in_channels, hidden_channels)\n",
        "        self.conv2 = SAGEConv(hidden_channels, hidden_channels)\n",
        "        self.dropout = dropout\n",
        "        self.classifier = nn.Linear(hidden_channels, out_channels)\n",
        "\n",
        "    def forward(self, x, edge_index, batch=None):\n",
        "        x = self.conv1(x, edge_index)\n",
        "        x = F.relu(x)\n",
        "        x = F.dropout(x, p=self.dropout, training=self.training)\n",
        "        x = self.conv2(x, edge_index)\n",
        "        if batch is not None:\n",
        "            x = global_mean_pool(x, batch)\n",
        "        return self.classifier(x)\n",
        "\n",
        "# ────────────────────────────────────────\n",
        "# FingerprintNet MLP\n",
        "# ────────────────────────────────────────\n",
        "class FingerprintNetMLP(nn.Module):\n",
        "    def __init__(self, input_dim=128, hidden_dim=64, output_dim=2):\n",
        "        super(FingerprintNetMLP, self).__init__()\n",
        "        self.mlp = nn.Sequential(\n",
        "            nn.Linear(input_dim, hidden_dim),\n",
        "            nn.ReLU(),\n",
        "            nn.Linear(hidden_dim, output_dim)\n",
        "        )\n",
        "\n",
        "    def forward(self, x):\n",
        "        return self.mlp(x)\n"
      ],
      "metadata": {
        "id": "JYJqk8Baeqd2"
      },
      "execution_count": null,
      "outputs": []
    },
    {
      "cell_type": "code",
      "source": [
        "from google.colab import drive\n",
        "drive.mount('/content/drive')\n"
      ],
      "metadata": {
        "colab": {
          "base_uri": "https://localhost:8080/"
        },
        "id": "HZdgr97qfMvx",
        "outputId": "b2d2f025-bcd4-481f-c379-e108146172ca"
      },
      "execution_count": null,
      "outputs": [
        {
          "output_type": "stream",
          "name": "stdout",
          "text": [
            "Drive already mounted at /content/drive; to attempt to forcibly remount, call drive.mount(\"/content/drive\", force_remount=True).\n"
          ]
        }
      ]
    },
    {
      "cell_type": "code",
      "source": [
        "!ls /content/drive/MyDrive/gnnfingers\n"
      ],
      "metadata": {
        "colab": {
          "base_uri": "https://localhost:8080/"
        },
        "id": "bsonWEZEfP8x",
        "outputId": "1bb47a63-c012-4db6-ec63-d457725c33e4"
      },
      "execution_count": null,
      "outputs": [
        {
          "output_type": "stream",
          "name": "stdout",
          "text": [
            "ARUC_ENZ_GCNMean_Q200.png  ENZYMES\t models.py  __pycache__  variants\n",
            "checkpoints\t\t   fingerprints  PROTEINS   utils.py\t victims\n"
          ]
        }
      ]
    },
    {
      "cell_type": "code",
      "source": [
        "import sys\n",
        "import importlib\n",
        "\n",
        "# Add the directory containing models.py to the system path\n",
        "sys.path.append('/content/drive/MyDrive/gnnfingers')\n",
        "\n",
        "# Clear previous import if any\n",
        "if 'models' in sys.modules:\n",
        "    del sys.modules['models']\n",
        "\n",
        "# Now import the modules freshly\n",
        "from models import SAGEMean, FingerprintNetMLP  # Use GCNMean if defined instead\n"
      ],
      "metadata": {
        "colab": {
          "base_uri": "https://localhost:8080/"
        },
        "id": "ejjLDjK8fCg4",
        "outputId": "80e81dbc-f9df-419f-8452-bd0ebde35f57"
      },
      "execution_count": null,
      "outputs": [
        {
          "output_type": "stream",
          "name": "stderr",
          "text": [
            "/usr/local/lib/python3.11/dist-packages/torch_geometric/typing.py:86: UserWarning: An issue occurred while importing 'torch-scatter'. Disabling its usage. Stacktrace: /usr/local/lib/python3.11/dist-packages/torch_scatter/_version_cpu.so: undefined symbol: _ZN3c1017RegisterOperatorsD1Ev\n",
            "  warnings.warn(f\"An issue occurred while importing 'torch-scatter'. \"\n",
            "/usr/local/lib/python3.11/dist-packages/torch_geometric/typing.py:97: UserWarning: An issue occurred while importing 'torch-cluster'. Disabling its usage. Stacktrace: /usr/local/lib/python3.11/dist-packages/torch_cluster/_version_cpu.so: undefined symbol: _ZN3c1017RegisterOperatorsD1Ev\n",
            "  warnings.warn(f\"An issue occurred while importing 'torch-cluster'. \"\n",
            "/usr/local/lib/python3.11/dist-packages/torch_geometric/typing.py:113: UserWarning: An issue occurred while importing 'torch-spline-conv'. Disabling its usage. Stacktrace: /usr/local/lib/python3.11/dist-packages/torch_spline_conv/_version_cpu.so: undefined symbol: _ZN3c1017RegisterOperatorsD1Ev\n",
            "  warnings.warn(\n",
            "/usr/local/lib/python3.11/dist-packages/torch_geometric/typing.py:124: UserWarning: An issue occurred while importing 'torch-sparse'. Disabling its usage. Stacktrace: /usr/local/lib/python3.11/dist-packages/torch_sparse/_version_cpu.so: undefined symbol: _ZN3c1017RegisterOperatorsD1Ev\n",
            "  warnings.warn(f\"An issue occurred while importing 'torch-sparse'. \"\n"
          ]
        }
      ]
    },
    {
      "cell_type": "code",
      "source": [
        "import torch\n",
        "from torch_geometric.datasets import TUDataset\n",
        "from torch_geometric.loader import DataLoader\n",
        "from torch_geometric.nn import global_mean_pool\n",
        "from tqdm import tqdm\n",
        "\n",
        "from models import SAGEMean, FingerprintNetMLP\n",
        "\n",
        "# Load PROTEINS dataset\n",
        "dataset = TUDataset(root='/content/drive/MyDrive/gnnfingers/PROTEINS', name='PROTEINS')\n",
        "loader = DataLoader(dataset, batch_size=1)\n",
        "\n",
        "# Set device\n",
        "device = torch.device('cuda' if torch.cuda.is_available() else 'cpu')\n",
        "\n",
        "# Initialize victim and fingerprint model\n",
        "victim = SAGEMean(in_channels=dataset.num_features, hidden_channels=128, out_channels=7).to(device)\n",
        "fp_net = FingerprintNetMLP(input_dim=128, hidden_dim=64).to(device)\n"
      ],
      "metadata": {
        "id": "o3wIbOHqfnRy"
      },
      "execution_count": null,
      "outputs": []
    },
    {
      "cell_type": "code",
      "source": [
        "fingerprints = []\n",
        "\n",
        "for batch in tqdm(loader):\n",
        "    batch = batch.to(device)\n",
        "\n",
        "    with torch.no_grad():\n",
        "        # Get pooled representation from SAGEMean\n",
        "        x = victim.conv1(batch.x, batch.edge_index)\n",
        "        x = torch.relu(x)\n",
        "        x = victim.conv2(x, batch.edge_index)\n",
        "        pooled = global_mean_pool(x, batch.batch)\n",
        "\n",
        "        # Get fingerprint\n",
        "        fp = fp_net(pooled)\n",
        "        fingerprints.append(fp.cpu())\n",
        "\n",
        "# Stack and save\n",
        "fingerprints = torch.cat(fingerprints, dim=0)\n",
        "torch.save(fingerprints, '/content/drive/MyDrive/gnnfingers/fingerprints/neg_fp_proteins.pt')\n",
        "\n",
        "print(\"✅ Saved fingerprints with shape:\", fingerprints.shape)\n"
      ],
      "metadata": {
        "colab": {
          "base_uri": "https://localhost:8080/"
        },
        "id": "fS1eO90KfsJT",
        "outputId": "43bb5ff2-adc7-46e7-ae7a-4444935a9703"
      },
      "execution_count": null,
      "outputs": [
        {
          "output_type": "stream",
          "name": "stderr",
          "text": [
            "100%|██████████| 1113/1113 [00:03<00:00, 311.94it/s]"
          ]
        },
        {
          "output_type": "stream",
          "name": "stdout",
          "text": [
            "✅ Saved fingerprints with shape: torch.Size([1113, 2])\n"
          ]
        },
        {
          "output_type": "stream",
          "name": "stderr",
          "text": [
            "\n"
          ]
        }
      ]
    },
    {
      "cell_type": "code",
      "source": [
        "import os\n",
        "\n",
        "fp_dir = \"/content/drive/MyDrive/gnnfingers/fingerprints\"\n",
        "print(\"Files in fingerprints directory:\")\n",
        "print(os.listdir(fp_dir))\n"
      ],
      "metadata": {
        "colab": {
          "base_uri": "https://localhost:8080/"
        },
        "id": "oK3cffOxgE3t",
        "outputId": "3e374043-a82f-4a7b-c391-6ae838a53cfe"
      },
      "execution_count": null,
      "outputs": [
        {
          "output_type": "stream",
          "name": "stdout",
          "text": [
            "Files in fingerprints directory:\n",
            "['I_32.pt', 'I_33.pt', 'I_34.pt', 'I_35.pt', 'I_36.pt', 'I_37.pt', 'I_38.pt', 'I_39.pt', 'I_40.pt', 'I_41.pt', 'I_42.pt', 'I_43.pt', 'I_44.pt', 'I_45.pt', 'I_46.pt', 'I_47.pt', 'I_48.pt', 'I_49.pt', 'I_50.pt', 'I_51.pt', 'I_52.pt', 'I_53.pt', 'I_54.pt', 'I_55.pt', 'I_56.pt', 'I_57.pt', 'I_58.pt', 'I_59.pt', 'I_60.pt', 'I_61.pt', 'I_62.pt', 'I_63.pt', 'I_0.pt', 'I_6.pt', 'I_10.pt', 'I_2.pt', 'I_9.pt', 'I_8.pt', 'I_3.pt', 'I_7.pt', 'I_4.pt', 'I_5.pt', 'I_1.pt', 'I_12.pt', 'I_14.pt', 'I_11.pt', 'I_13.pt', 'I_15.pt', 'I_17.pt', 'I_16.pt', 'I_18.pt', 'I_19.pt', 'I_20.pt', 'I_22.pt', 'I_21.pt', 'I_23.pt', 'I_24.pt', 'I_25.pt', 'I_29.pt', 'I_28.pt', 'I_27.pt', 'I_26.pt', 'I_30.pt', 'I_31.pt', 'fps_Cora_SAGEMean_batch0.pt', 'fps_Cora_SAGEMean_batch100.pt', 'fps_Cora_SAGEMean_batch200.pt', 'fps_Cora_SAGEMean_batch300.pt', 'fps_Cora_SAGEMean.pt', 'safe_chunks', 'Cora_SAGEMean.pt', 'Cora_SAGEMean_clean.pt', 'Cora_GCNMean_ft_only.pt', 'Cora_GCNMean_ft_labels.pt', 'Cora_GCNMean_neg_random.pt', 'Cora_GCNMean_neg_random_labels.pt', 'GCNMean_neg_proteins.pt', 'GCNMean_neg_proteins_labels.pt', 'neg_fp_proteins.pt']\n"
          ]
        }
      ]
    },
    {
      "cell_type": "code",
      "source": [
        "import torch\n",
        "\n",
        "# Load fingerprints\n",
        "pos_fp = torch.load('/content/drive/MyDrive/gnnfingers/fingerprints/fps_Cora_SAGEMean.pt')\n",
        "neg_fp_random = torch.load('/content/drive/MyDrive/gnnfingers/fingerprints/Cora_GCNMean_neg_random.pt')\n",
        "neg_fp_proteins = torch.load('/content/drive/MyDrive/gnnfingers/fingerprints/neg_fp_proteins.pt')\n",
        "\n",
        "print(f\"✅ Positive fingerprint shape: {pos_fp.shape}\")\n",
        "print(f\"✅ Random negative fingerprint shape: {neg_fp_random.shape}\")\n",
        "print(f\"✅ Proteins negative fingerprint shape: {neg_fp_proteins.shape}\")\n"
      ],
      "metadata": {
        "colab": {
          "base_uri": "https://localhost:8080/"
        },
        "id": "vWdAyXicgMew",
        "outputId": "04d4e787-c08e-4be4-d677-f1f82dd3fb82"
      },
      "execution_count": null,
      "outputs": [
        {
          "output_type": "stream",
          "name": "stdout",
          "text": [
            "✅ Positive fingerprint shape: torch.Size([400, 64])\n",
            "✅ Random negative fingerprint shape: torch.Size([30, 7])\n",
            "✅ Proteins negative fingerprint shape: torch.Size([1113, 2])\n"
          ]
        }
      ]
    },
    {
      "cell_type": "code",
      "source": [
        "import torch\n",
        "import numpy as np\n",
        "from sklearn.manifold import TSNE\n",
        "import matplotlib.pyplot as plt\n",
        "\n",
        "# Load your original fingerprints\n",
        "pos_fp = torch.load('/content/drive/MyDrive/gnnfingers/fingerprints/fps_Cora_SAGEMean.pt')            # (400, 64)\n",
        "neg_fp_random = torch.load('/content/drive/MyDrive/gnnfingers/fingerprints/Cora_GCNMean_neg_random.pt')  # (30, 7)\n",
        "neg_fp_proteins = torch.load('/content/drive/MyDrive/gnnfingers/fingerprints/neg_fp_proteins.pt')        # (1113, 2)\n",
        "\n",
        "# Pad to 64 dimensions\n",
        "def pad_tensor(t, target_dim=64):\n",
        "    return F.pad(t, (0, target_dim - t.shape[1]), \"constant\", 0)\n",
        "\n",
        "neg_fp_random_padded = pad_tensor(neg_fp_random, 64)\n",
        "neg_fp_proteins_padded = pad_tensor(neg_fp_proteins, 64)\n",
        "\n",
        "# Combine all\n",
        "X_all = torch.cat([pos_fp, neg_fp_random_padded, neg_fp_proteins_padded], dim=0).numpy()\n",
        "y_all = np.array([1]*len(pos_fp) + [0]*len(neg_fp_random_padded) + [0]*len(neg_fp_proteins_padded))\n",
        "\n",
        "# Run t-SNE with low perplexity\n",
        "tsne = TSNE(n_components=2, perplexity=20, n_iter=1000, init='random', learning_rate='auto', random_state=42)\n",
        "X_tsne = tsne.fit_transform(X_all)\n",
        "\n",
        "# Plot\n",
        "plt.figure(figsize=(8,6))\n",
        "plt.scatter(X_tsne[y_all == 1, 0], X_tsne[y_all == 1, 1], c='blue', label='Positive (Cora)', alpha=0.6)\n",
        "plt.scatter(X_tsne[:len(pos_fp), 0], X_tsne[:len(pos_fp), 1], c='blue', label='Positive (Cora)', alpha=0.6)\n",
        "plt.scatter(X_tsne[len(pos_fp):len(pos_fp)+len(neg_fp_random_padded), 0],\n",
        "            X_tsne[len(pos_fp):len(pos_fp)+len(neg_fp_random_padded), 1],\n",
        "            c='red', label='Negatives (Random)', alpha=0.6)\n",
        "plt.scatter(X_tsne[-len(neg_fp_proteins_padded):, 0],\n",
        "            X_tsne[-len(neg_fp_proteins_padded):, 1],\n",
        "            c='green', label='Negatives (Proteins)', alpha=0.6)\n",
        "plt.legend()\n",
        "plt.title('t-SNE of Fingerprints')\n",
        "plt.grid(True)\n",
        "plt.show()\n"
      ],
      "metadata": {
        "colab": {
          "base_uri": "https://localhost:8080/",
          "height": 600
        },
        "id": "Vjr7jNJlgZmu",
        "outputId": "06c7d0d2-7bf5-4fb5-cbfe-a44d3c7a48a5"
      },
      "execution_count": null,
      "outputs": [
        {
          "output_type": "stream",
          "name": "stderr",
          "text": [
            "/usr/local/lib/python3.11/dist-packages/sklearn/manifold/_t_sne.py:1164: FutureWarning: 'n_iter' was renamed to 'max_iter' in version 1.5 and will be removed in 1.7.\n",
            "  warnings.warn(\n"
          ]
        },
        {
          "output_type": "display_data",
          "data": {
            "text/plain": [
              "<Figure size 800x600 with 1 Axes>"
            ],
            "image/png": "[encoded data removed]"
          },
          "metadata": {}
        }
      ]
    },
    {
      "cell_type": "code",
      "source": [
        "import torch\n",
        "from sklearn.metrics import roc_auc_score, confusion_matrix\n",
        "\n",
        "# Simulate small dataset\n",
        "torch.manual_seed(42)\n",
        "pos_fp = torch.randn(10, 64)\n",
        "neg_fp_random = torch.randn(5, 64)\n",
        "neg_fp_proteins = torch.randn(5, 64)\n",
        "\n",
        "# Concatenate\n",
        "X = torch.cat([pos_fp, neg_fp_random, neg_fp_proteins], dim=0)\n",
        "y = torch.cat([torch.ones(len(pos_fp)), torch.zeros(len(neg_fp_random) + len(neg_fp_proteins))])\n",
        "\n",
        "# Mock classifier: dot product with random weights\n",
        "weights = torch.randn(64)\n",
        "logits = X @ weights\n",
        "probs = torch.sigmoid(logits)\n",
        "\n",
        "# AUROC\n",
        "auroc = roc_auc_score(y.numpy(), probs.detach().numpy())\n",
        "\n",
        "# Confusion matrix at 0.5 threshold\n",
        "y_pred = (probs >= 0.5).long()\n",
        "conf_mat = confusion_matrix(y.numpy(), y_pred.numpy())\n",
        "\n",
        "print(\" AUROC:\", round(auroc, 4))\n",
        "print(\" Confusion Matrix:\\n\", conf_mat)\n"
      ],
      "metadata": {
        "colab": {
          "base_uri": "https://localhost:8080/"
        },
        "id": "B256EYzkiieg",
        "outputId": "46484c34-a9b8-438c-d608-a5a100d8ebd9"
      },
      "execution_count": null,
      "outputs": [
        {
          "output_type": "stream",
          "name": "stdout",
          "text": [
            " AUROC: 0.52\n",
            " Confusion Matrix:\n",
            " [[6 4]\n",
            " [6 4]]\n"
          ]
        }
      ]
    }
  ]
}